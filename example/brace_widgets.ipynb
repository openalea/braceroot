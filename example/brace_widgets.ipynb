{
 "cells": [
  {
   "cell_type": "markdown",
   "metadata": {},
   "source": [
    "# A Notebook to model maize brace root and its mechanics"
   ]
  },
  {
   "cell_type": "markdown",
   "metadata": {},
   "source": [
    "## Import libraries"
   ]
  },
  {
   "cell_type": "code",
   "execution_count": 1,
   "metadata": {},
   "outputs": [],
   "source": [
    "from importlib import reload\n",
    "\n",
    "import k3d\n",
    "from openalea.plantgl.all import *\n",
    "from oawidgets.plantgl import PlantGL\n",
    "\n",
    "from braceroot import brace_model, mechanic, brace_root\n",
    "\n",
    "\n",
    "from ipywidgets import interact, interactive, fixed, interact_manual\n",
    "import ipywidgets as widgets"
   ]
  },
  {
   "cell_type": "markdown",
   "metadata": {},
   "source": [
    "## Reloads modules rather than restarting the kernel"
   ]
  },
  {
   "cell_type": "code",
   "execution_count": 2,
   "metadata": {},
   "outputs": [
    {
     "data": {
      "text/plain": [
       "<module 'braceroot.mechanic' from '/Users/pradal/devlp/git/braceroot/src/braceroot/mechanic.py'>"
      ]
     },
     "execution_count": 2,
     "metadata": {},
     "output_type": "execute_result"
    }
   ],
   "source": [
    "reload(brace_model)\n",
    "reload(brace_root)\n",
    "reload(mechanic)"
   ]
  },
  {
   "cell_type": "code",
   "execution_count": 3,
   "metadata": {},
   "outputs": [],
   "source": [
    "def plot_brace(**kwds):\n",
    "    scene = brace_model.brace(**kwds)\n",
    "    return PlantGL(scene)"
   ]
  },
  {
   "cell_type": "code",
   "execution_count": 6,
   "metadata": {},
   "outputs": [
    {
     "data": {
      "application/vnd.jupyter.widget-view+json": {
       "model_id": "57cc0c5d44ec47529427f4e8f63b1d4c",
       "version_major": 2,
       "version_minor": 0
      },
      "text/plain": [
       "interactive(children=(FloatSlider(value=200.0, description='Wind Force (N)', max=400.0, step=10.0, style=Slide…"
      ]
     },
     "metadata": {},
     "output_type": "display_data"
    }
   ],
   "source": [
    "style = {'description_width': 'initial'}\n",
    "\n",
    "sc=interact(plot_brace, \n",
    "         wind_force = widgets.FloatSlider(min=0., max=400., value=200., step=10., description=\"Wind Force (N)\", style=style),\n",
    "         stem_height = widgets.FloatSlider(min=30., max=200., value=100., step=10., description=\"Stem Height (cm)\", style=style),\n",
    "         stem_mass = widgets.FloatSlider(min=100., max=2000., value=1000., step=100., description=\"Stem Mass (g)\", style=style),\n",
    "         stem_diameter = widgets.FloatSlider(min=1., max=10., value=1., step=2., description=\"Stem Diameter (cm)\", style=style),\n",
    "         stalk_stiffness = widgets.FloatSlider(min=0., max=1., value=0.5, description=\"Stalk Stiffness (?)\", style=style),\n",
    "         height_whorl_1 = widgets.FloatSlider(min=1., max=3., value=2., step=0.1, description=\"Height - Whorl 1 (cm)\", style=style),\n",
    "         nb_root_whorl_1 = widgets.IntSlider(min=2, max=20, value=16, description=\"Number of roots - Whorl 1\", style=style),\n",
    "         root_angle_whorl_1 = widgets.FloatSlider(min=90., max=130., value=110., step=5., description=\"Angle - Whorl 1\", style=style),\n",
    "         root_diameter_whorl_1 = widgets.FloatSlider(min=1., max=5., value=3., step=1., description=\"Diameter - Whorl 1 (cm)\", style=style),\n",
    "         root_stiffness_whorl_1 = widgets.FloatSlider(min=100., max=1000., value=600., step=100., description=\"Stiffness - Whorl 1 (N/m)\", style=style),\n",
    "         height_whorl_2 = widgets.FloatSlider(min=6., max=9., value=8., step=1., description=\"Height - Whorl 2 (cm)\", style=style),\n",
    "         nb_root_whorl_2 = widgets.IntSlider(min=2, max=20, value=14, description=\"Number of roots - Whorl 2\", style=style),\n",
    "         root_angle_whorl_2 = widgets.FloatSlider(min=100., max=140., value=125., step=5., description=\"Angle - Whorl 2\", style=style),\n",
    "         root_diameter_whorl_2 = widgets.FloatSlider(min=1., max=5., value=1., step=1., description=\"Diameter - Whorl 2 (cm)\", style=style),\n",
    "         root_stiffness_whorl_2 = widgets.FloatSlider(min=100., max=1000., value=600., step=100., description=\"Stiffness - Whorl 2 (N/m)\", style=style)\n",
    "        );"
   ]
  },
  {
   "cell_type": "code",
   "execution_count": null,
   "metadata": {},
   "outputs": [],
   "source": []
  }
 ],
 "metadata": {
  "kernelspec": {
   "display_name": "Python 3 (ipykernel)",
   "language": "python",
   "name": "python3"
  },
  "language_info": {
   "codemirror_mode": {
    "name": "ipython",
    "version": 3
   },
   "file_extension": ".py",
   "mimetype": "text/x-python",
   "name": "python",
   "nbconvert_exporter": "python",
   "pygments_lexer": "ipython3",
   "version": "3.9.12"
  },
  "widgets": {
   "application/vnd.jupyter.widget-state+json": {
    "state": {
     "007714a838204039925f4deb5b615c12": {
      "buffers": [
       {
        "data": "",
        "encoding": "base64",
        "path": [
         "attribute",
         "data"
        ]
       },
       {
        "data": "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",
        "encoding": "base64",
        "path": [
         "color_map",
         "data"
        ]
       },
       {
        "data": "",
        "encoding": "base64",
        "path": [
         "colors",
         "data"
        ]
       },
       {
        "data": "AAAAAAIAAAABAAAAAQAAAAIAAAADAAAAAQAAAAMAAAARAAAAAAAAABAAAAACAAAAAgAAAAQAAAADAAAAAwAAAAQAAAAFAAAAAwAAAAUAAAARAAAAAgAAABAAAAAEAAAABAAAAAYAAAAFAAAABQAAAAYAAAAHAAAABQAAAAcAAAARAAAABAAAABAAAAAGAAAABgAAAAgAAAAHAAAABwAAAAgAAAAJAAAABwAAAAkAAAARAAAABgAAABAAAAAIAAAACAAAAAoAAAAJAAAACQAAAAoAAAALAAAACQAAAAsAAAARAAAACAAAABAAAAAKAAAACgAAAAwAAAALAAAACwAAAAwAAAANAAAACwAAAA0AAAARAAAACgAAABAAAAAMAAAADAAAAA4AAAANAAAADQAAAA4AAAAPAAAADQAAAA8AAAARAAAADAAAABAAAAAOAAAADgAAAAAAAAAPAAAADwAAAAAAAAABAAAADwAAAAEAAAARAAAADgAAABAAAAAAAAAA",
        "encoding": "base64",
        "path": [
         "indices",
         "data"
        ]
       },
       {
        "data": "AACAPwAAAAAAAAAAAAAAAAAAAAAAAIA/AAAAAAAAAAAAAAAAAAAAAAAAgD8AAAAAAAAAAAAAAAAAAAAAAACAPw==",
        "encoding": "base64",
        "path": [
         "model_matrix",
         "data"
        ]
       },
       {
        "data": "",
        "encoding": "base64",
        "path": [
         "opacity_function",
         "data"
        ]
       },
       {
        "data": "",
        "encoding": "base64",
        "path": [
         "triangles_attribute",
         "data"
        ]
       },
       {
        "data": "AADAfw==",
        "encoding": "base64",
        "path": [
         "uvs",
         "data"
        ]
       },
       {
        "data": "AACAPwAAAAAAAAAAAACAPwAAAAAAAMhC8wQ1P/MENT8AAAAA8wQ1P/MENT8AAMhCc4+zrAAAgD8AAAAAc4+zrAAAgD8AAMhC8wQ1v/MENT8AAAAA8wQ1v/MENT8AAMhCAACAv3OPM60AAAAAAACAv3OPM60AAMhC8wQ1v/MENb8AAAAA8wQ1v/MENb8AAMhClquGLQAAgL8AAAAAlquGLQAAgL8AAMhC8wQ1P/MENb8AAAAA8wQ1P/MENb8AAMhCAAAAAAAAAAAAAAAAAAAAAAAAAAAAAMhC",
        "encoding": "base64",
        "path": [
         "vertices",
         "data"
        ]
       },
       {
        "data": "",
        "encoding": "base64",
        "path": [
         "volume",
         "data"
        ]
       },
       {
        "data": "",
        "encoding": "base64",
        "path": [
         "volume_bounds",
         "data"
        ]
       }
      ],
      "model_module": "k3d",
      "model_module_version": "2.12.0",
      "model_name": "ObjectModel",
      "state": {
       "_view_count": null,
       "_view_module": null,
       "_view_module_version": "",
       "_view_name": null,
       "attribute": {
        "dtype": "float32",
        "shape": [
         0
        ]
       },
       "click_callback": false,
       "color": 706570,
       "colorLegend": false,
       "color_map": {
        "dtype": "float32",
        "shape": [
         1024
        ]
       },
       "color_range": [],
       "colors": {
        "dtype": "uint32",
        "shape": [
         0
        ]
       },
       "compression_level": 0,
       "flat_shading": true,
       "group": null,
       "hover_callback": false,
       "id": 7164304736,
       "indices": {
        "dtype": "uint32",
        "shape": [
         32,
         3
        ]
       },
       "model_matrix": {
        "dtype": "float32",
        "shape": [
         4,
         4
        ]
       },
       "name": "Mesh #1",
       "opacity": 1,
       "opacity_function": {
        "dtype": "float32",
        "shape": [
         0
        ]
       },
       "side": "front",
       "texture": null,
       "texture_file_format": null,
       "triangles_attribute": {
        "dtype": "float32",
        "shape": [
         0
        ]
       },
       "type": "Mesh",
       "uvs": {
        "dtype": "float32",
        "shape": []
       },
       "vertices": {
        "dtype": "float32",
        "shape": [
         18,
         3
        ]
       },
       "visible": true,
       "volume": {
        "dtype": "float32",
        "shape": [
         0
        ]
       },
       "volume_bounds": {
        "dtype": "float32",
        "shape": [
         0
        ]
       },
       "wireframe": false
      }
     },
     "02c80d69116446069041da9c709414aa": {
      "model_module": "@jupyter-widgets/controls",
      "model_module_version": "1.5.0",
      "model_name": "IntSliderModel",
      "state": {
       "description": "Number of roots - Whorl 1",
       "layout": "IPY_MODEL_557d785fbc8740a38bfdfe6cf94e1cca",
       "max": 20,
       "min": 2,
       "style": "IPY_MODEL_15b9c3848ae74741a854fe559138c3d0",
       "value": 16
      }
     },
     "05e2fa7cbf404f18a3e7fa1f68483f3f": {
      "buffers": [
       {
        "data": "",
        "encoding": "base64",
        "path": [
         "attribute",
         "data"
        ]
       },
       {
        "data": "AAAAAKabxDpvEgM607xjPCSXfzuZuxY7w2SqOgdfmDwkl/870ERYO+AtEDsUP8Y8ylRBPLx0kzuJ0l47/yH9PEmdgDymm8Q7dQKaOwkbHj0ukKA8SFD8O4LixztbsT89EoPAPFJJHTxIUPw7irBhPa5H4TxbsT88dQIaPEoMgj1JnQA9QmBlPDSANzxPQJM9vJYQPbn8hzxioVY8VHSkPS6QID3A7J48/mV3PMbctT2giTA9NIC3PATnjDw5Rcc97utAPYZa0zwJG548GeLYPWDlUD1F2PA8xSCwPGiz6j3T3mA9cM4IPYEmwjwkufw9RdhwPVFrGj09LNQ8cF8HPtxogD3EQi09+THmPIV8ED4Cmog9NxpAPbU3+DwHzhk+vJaQPYZaUz24HgU9ih8jPnWTmD2wA2c9u7gNPQ1xLD4ukKA9tRV7PeLpFT3G3DU+VcGoPUvIhz0tsh097nw/Pg6+sD0qOpI9nRElPRUdST7Hurg9duCcPVafKz08vVI+gLfAPZ7vpz1XWzE9mndcPjm0yD3F/rI9fa42PfkxZj5g5dA9yXa+PRHHOj2OBnA+GeLYPTojyj3tDT497MB5PtPe4D2GONY9EoNAPaW9gT6M2+g9003iPYEmQj3UmoY+RdjwPWkA7z04+EI96GqLPmwJ+T3/svs9XI9CPeAtkD4SgwA+OGcEPqW9QT2945Q+b4EEPigPCz43GkA9Y3+ZPsx/CD5O0RE+Njw9PdIAnj5fmAw+rK0YPjVeOj3uWqI+vJYQPgmKHz59rjY9uY2mPhiVFD7UmiY+6pUyPUymqj51kxg+n6stPnsULj1yiq4+0ZEcPmq8ND4Mkyk9KjqyPmWqID42zTs+nRElPY/CtT7BqCQ+OPhCPgn5ID1sCbk+HqcoPgMJSj5SSR099ii8PnqlLD7OGVE+dQIaPRIUvz7XozA+mSpYPlCNFz3c18E+arw0Pi0hXz7i6RU9HVrEPse6OD75MWY+KxgVPQu1xj4kuTw+Vg5tPisYFT2n6Mg+gLdAPuoEdD7i6RU98fTKPhTQRD5I4Xo+K/YXPc3MzD5wzkg+t9GAPlFrGj1yis4+zcxMPsoyhD4JGx49xSDQPinLUD7ek4c+nDMiPcWP0T6GyVQ+1eeKPsKGJz2q8dI+GeJYPs07jj6fqy09PSzUPnbgXD7Fj5E+fdAzPZhM1T7T3mA+veOUPhHHOj29UtY+L91kPpkqmD5cj0I9x0vXPsP1aD52cZs+qFdKPZkq2D4f9Gw+NquePs6IUj0179g+fPJwPhPyoT7RIls9tabZPtjwdD7UK6U+07xjPRpR2j4173g+lWWoPrG/bD1I4do+yAd9Plafqz5rK3Y9WmTbPhKDgD4X2a4+SS5/PVHa2z5BgoI+1xKyPgFNhD0tQ9w+b4GEPn0/tT7eAok97Z7cPp2Ahj4+ebg+u7iNPZHt3D7njIg+46W7PgWjkj0bL90+FYyKPqTfvj7iWJc9iGPdPkSLjD5KDMI+LUOcPduK3T5yio4+7zjFPgn5oD0tst0+vJaQPrByyD7mrqU9SL/dPuqVkj5Wn8s+MZmqPWTM3T4YlZQ++8vOPg5Prz1kzN0+RpSWPqH40T7qBLQ9SL/dPnWTmD5GJdU+x7q4PRKl3T6+n5o+7FHYPqRwvT3bit0+7Z6cPqyL2z6BJsI9iGPdPhuenj5SuN4+XdzGPRsv3T5JnaA+9+ThPsxdyz2t+tw+eJyiPp0R5T6pE9A9JLncPsGopD5eS+g+GJXUPX9q3D7wp6Y+A3jrPvVK2T2/Dtw+HqeoPqmk7j5kzN09/7LbPkymqj5O0fE+003iPSNK2z6Wsqw+Dwv1PrAD5z1I4do+xLGuPrU3+D4fhes9NV7aPvKwsD5aZPs+jgbwPT7o2T4hsLI+G57+Pv2H9D0QWNk+T6+0PmDlAD9sCfk948fYPpm7tj6zewI/24r9PZkq2D7Hurg+kxgEPyUGAT40gNc+9bm6PuauBT+lLAM+tMjWPiS5vD45RQc/XW0FPjQR1j5SuL4+GeIIPxSuBz60WdU+nMTAPmx4Cj/M7gk+/YfUPsrDwj5NFQw/gy8MPka20z74wsQ+n6sNPztwDj5z19I+J8LGPvJBDz/ysBA+ofjRPnDOyD7T3hA/4QsTPrMM0T6fzco+JXUSP5hMFT6pE9A+zczMPngLFD9QjRc+hA3PPvvLzj7LoRU/PugZPl8Hzj4py9A+HTgXPy1DHD4f9Mw+c9fSPnDOGD/kgx4+w9PLPqHW1D7DZBo/CfkgPmizyj7Q1dY+FvsbP/hTIz7whck+/tTYPmiRHT/mriU+XkvIPkjh2j67Jx8/CyQoPssQxz524Nw+gLcgPzGZKj4dycU+pN/ePtNNIj9WDi0+VHTEPtPe4D6Y3SM/e4MvPoofwz4B3uI+63MlP9cSMj6lvcE+S+rkPrADJz80ojQ+pU7APnnp5j51kyg/x0s3PonSvj6n6Og+rBwqPyPbOT5tVr0+1efqPnGsKz/tnjw+Udq7PgTn7D6oNS0/gEg/Pv5Duj5N8+4+bcUuP0oMQj7Hurg+fPLwPqVOMD8U0EQ+WRe3Pqrx8j5O0TE/FK5HPutztT7Y8PQ+hlozP0ymSj5hw7M+Iv32Pi/dND9NhE0+1xKyPlD8+D7ZXzY/vJZQPjJVsD5/+/o+guI3P/OOUz5yiq4+rfr8Pp5eOT+Zu1Y+sb+sPtv5/j662jo/PuhZPvH0qj4SgwA/1lY8P+QUXT75D6k+qoIBP2TMPT/AW2A+HTinPkGCAj/yQT8/07xjPiZTpT7YgQM/gLdAP+cdZz4TYaM+b4EEP4EmQj8xmWo+AG+hPpSHBT+BlUM/si5uPtJvnz4rhwY/gQRFPzPEcT6kcJ0+woYHP/RsRj/rc3U+WmSbPlmGCD/Zzkc/oyN5PhBYmT5+jAk/vjBJP8gHfT7HS5c+FYwKP6OSSj/3dYA+YTKVPqyLCz/67Us/CmiCPvwYkz5Eiww/UklNP1R0hD588pA+24oNPxueTj+dgIY++8uOPgCRDj9X7E8/ApqIPnqljD6XkA8/kzpRP4PAij7ecYo+LpAQP86IUj8E54w+Qj6IPsWPET990FM/oBqPPov9hT5cjxI/nRFVP1dbkT7vyYM+gZUTP71SVj8qqZM+N4mBPhiVFD9QjVc//faVPgCRfj6vlBU/VcFYPwdfmD5a9Xk+RpQWP1r1WT8Rx5o+tFl1PmuaFz/RIls/Gy+dPg6+cD4Cmhg/uklcP1uxnz5oImw+mpkZP6RwXT+cM6I+woZnPjGZGj8AkV4/+MKkPuXQYj7ImBs/zqpfP3Bfpz4JG14+7Z4cP5zEYD8DCao+LGVZPoSeHT/c12E/lrKsPhiVVD4bnh4/j+RiP0Rprz47308+sp0fP7PqYz8OLbI+KA9LPtejID/Y8GQ/2PC0PhQ/Rj5uoyE/b/BlP77Btz4Ab0E+BaMiP3npZj++n7o+toQ8PpyiIz/122c/v329PqK0Nz40oiQ/cM5oP/d1wD5YyjI+WKglP166aT8TYcM+DeAtPvCnJj++n2o/ZmbGPozbKD6Hpyc/kX5rP7pryT5B8SM+HqcoP9ZWbD8ofsw+wOwePrWmKT8bL20/l5DPPj7oGT7arCo/RPptPyGw0j694xQ+cawrP23Fbj+rz9U+BcUPPgisLD8Jim8/UPzYPkymCj6fqy0/pU5wPxE23D6UhwU+xLEuPyUGcT/Sb98+3GgAPluxLz+lvXE/rrbiPkaU9j3ysDA/mG5yP4v95T5oIuw9irAxP/wYcz+DUek+irDhPSGwMj/TvHM/eqXsPj0K1z1GtjM/HVp0P3L57z5fmMw93bU0P2b3dD+hZ/M+E/LBPXS1NT+Uh3U/tMj2PsdLtz0LtTY/whd2P+M2+j56paw9orQ3P2Khdj8tsv0+Lv+hPce6OD90JHc/LpAAP+JYlz1eujk/+aB3P2FUAj+Wsow99bk6P34deD8GEgQ/SgyCPYy5Oz/njHg/xtwFP9c0bz2xvzw/UPx4P/mgBz8aUVo9SL89PyxleT+6awk/FD9GPeC+Pj96x3k/ejYLP+qVMj13vj8/OiN6PzsBDT9SJyA9Dr5AP2x4ej+J0g4/TfMOPTPEQT+fzXo/ZaoQP0mdAD3Kw0I/tRV7P7N7Ej/VeOk8YcNDP8xdez+PUxQ/YqHWPPjCRD9Wn3s/aysWP6hXyjyPwkU/Udp7P0cDGD84+MI8tMhGP78OfD+x4Rk/ylTBPEvIRz+fPHw/GsAbPxQ/xjzjx0g/f2p8PxKlHT8Xt9E8esdJP0SLfD97gx8/07zjPJ/NSj8IrHw/c2ghP/8h/Tw2zUs/sb98P2pNIz9N8w49zcxMP1vTfD9hMiU/L24jPWTMTT924Hw/5x0nPxHHOj37y04/BOd8P2wJKT9hw1M9INJPPwTnfD9j7io/+8tuPbfRUD8E53w/duAsPwK8hT1O0VE/6Nl8P/vLLj/hepQ95dBSP83MfD8OvjA/CtejPQrXUz+Wsnw/k6kyPw+csz2h1lQ/X5h8P6abND9d/sM9OdZVP5p3fD9GlDY/hsnUPdDVVj9IUHw/WYY4Px3J5T1n1Vc/aCJ8P2x4Oj/+Zfc9jNtYP/rtez8NcTw/ppsEPiPbWT//sns/rWk+P/LSDT662lo/dnF7P8BbQD90JBc+UdpbP+wvez9hVEI/ZaogPujZXD9I4Xo/AU1EP8NkKj4N4F0/o5J6P6JFRj9YOTQ+pN9eP3E9ej/QREg/klw+PjvfXz+x4Xk/cT1KPzm0SD7T3mA/Y395PxE2TD9PQFM+9+RhPxUdeT+yLk4/CRtePo/kYj85tHg/UidQPzAqaT4m5GM/0ER4P/MfUj/GbXQ+veNkP9nOdz+TGFQ/AACAPlTjZT/iWHc/NBFWP1TjhT556WY/6+J2P0cDWD8W+4s+EOlnP2Zmdj/n+1k/Di2SPqfoaD/i6XU/+u1bP3WTmD4+6Gk/XW11P3/ZXT8tIZ8+1edqP9jwdD8FxV8/VOOlPvrtaz/henQ/irBhP83MrD6R7Ww/6gR0P/OOYz+z6rM+Ke1tP4GVcz9dbWU/7C+7PsDsbj8zM3M/OUVnP662wj7l8m8/Ad5yP4cWaT/DZMo+fPJwP+qVcj+62mo/RUfSPhPycT98YXI/X5hsPxpR2j6q8XI/RUdyP+lIbj9BguI+QfFzP0VHcj9X7G8/n83qPmb3dD8KaHI/HHxxPzMz8z799nU/k6lyP1MFcz/ImPs+lPZ2P28Scz9vgXQ/vAUCPyv2dz+conM/4ul1P/kxBj/D9Xg/HVp0PzlFdz+oVwo/5/t5P+84dT91k3g/rWkOP3/7ej+GOHY/ldR5PwpoEj8W+3s/4lh3PygPez+9UhY/rfp8P5CgeD+fPHw/xykaP9IAfj/n+3k/iGN9P5vmHT9pAH8/A3h7P1Z9fj83iSE/AACAP8gHfT8kl38/KxglPw==",
        "encoding": "base64",
        "path": [
         "color_map",
         "data"
        ]
       },
       {
        "data": "",
        "encoding": "base64",
        "path": [
         "colors",
         "data"
        ]
       },
       {
        "data": "AAAAAAIAAAABAAAAAQAAAAIAAAADAAAAAQAAAAMAAAARAAAAAAAAABAAAAACAAAAAgAAAAQAAAADAAAAAwAAAAQAAAAFAAAAAwAAAAUAAAARAAAAAgAAABAAAAAEAAAABAAAAAYAAAAFAAAABQAAAAYAAAAHAAAABQAAAAcAAAARAAAABAAAABAAAAAGAAAABgAAAAgAAAAHAAAABwAAAAgAAAAJAAAABwAAAAkAAAARAAAABgAAABAAAAAIAAAACAAAAAoAAAAJAAAACQAAAAoAAAALAAAACQAAAAsAAAARAAAACAAAABAAAAAKAAAACgAAAAwAAAALAAAACwAAAAwAAAANAAAACwAAAA0AAAARAAAACgAAABAAAAAMAAAADAAAAA4AAAANAAAADQAAAA4AAAAPAAAADQAAAA8AAAARAAAADAAAABAAAAAOAAAADgAAAAAAAAAPAAAADwAAAAAAAAABAAAADwAAAAEAAAARAAAADgAAABAAAAAAAAAA",
        "encoding": "base64",
        "path": [
         "indices",
         "data"
        ]
       },
       {
        "data": "AACAPwAAAAAAAAAAAAAAAAAAAAAAAIA/AAAAAAAAAAAAAAAAAAAAAAAAgD8AAAAAAAAAAAAAAAAAAAAAAACAPw==",
        "encoding": "base64",
        "path": [
         "model_matrix",
         "data"
        ]
       },
       {
        "data": "",
        "encoding": "base64",
        "path": [
         "opacity_function",
         "data"
        ]
       },
       {
        "data": "",
        "encoding": "base64",
        "path": [
         "triangles_attribute",
         "data"
        ]
       },
       {
        "data": "AADAfw==",
        "encoding": "base64",
        "path": [
         "uvs",
         "data"
        ]
       },
       {
        "data": "AACAPwAAAAAAAAAAAACAPwAAAAAAAMhC8wQ1P/MENT8AAAAA8wQ1P/MENT8AAMhCc4+zrAAAgD8AAAAAc4+zrAAAgD8AAMhC8wQ1v/MENT8AAAAA8wQ1v/MENT8AAMhCAACAv3OPM60AAAAAAACAv3OPM60AAMhC8wQ1v/MENb8AAAAA8wQ1v/MENb8AAMhClquGLQAAgL8AAAAAlquGLQAAgL8AAMhC8wQ1P/MENb8AAAAA8wQ1P/MENb8AAMhCAAAAAAAAAAAAAAAAAAAAAAAAAAAAAMhC",
        "encoding": "base64",
        "path": [
         "vertices",
         "data"
        ]
       },
       {
        "data": "",
        "encoding": "base64",
        "path": [
         "volume",
         "data"
        ]
       },
       {
        "data": "",
        "encoding": "base64",
        "path": [
         "volume_bounds",
         "data"
        ]
       }
      ],
      "model_module": "k3d",
      "model_module_version": "2.12.0",
      "model_name": "ObjectModel",
      "state": {
       "_view_count": null,
       "_view_module": null,
       "_view_module_version": "",
       "_view_name": null,
       "attribute": {
        "dtype": "float32",
        "shape": [
         0
        ]
       },
       "click_callback": false,
       "color": 706570,
       "colorLegend": false,
       "color_map": {
        "dtype": "float32",
        "shape": [
         1024
        ]
       },
       "color_range": [],
       "colors": {
        "dtype": "uint32",
        "shape": [
         0
        ]
       },
       "compression_level": 0,
       "flat_shading": true,
       "group": null,
       "hover_callback": false,
       "id": 7164310240,
       "indices": {
        "dtype": "uint32",
        "shape": [
         32,
         3
        ]
       },
       "model_matrix": {
        "dtype": "float32",
        "shape": [
         4,
         4
        ]
       },
       "name": "Mesh #1",
       "opacity": 1,
       "opacity_function": {
        "dtype": "float32",
        "shape": [
         0
        ]
       },
       "side": "front",
       "texture": null,
       "texture_file_format": null,
       "triangles_attribute": {
        "dtype": "float32",
        "shape": [
         0
        ]
       },
       "type": "Mesh",
       "uvs": {
        "dtype": "float32",
        "shape": []
       },
       "vertices": {
        "dtype": "float32",
        "shape": [
         18,
         3
        ]
       },
       "visible": true,
       "volume": {
        "dtype": "float32",
        "shape": [
         0
        ]
       },
       "volume_bounds": {
        "dtype": "float32",
        "shape": [
         0
        ]
       },
       "wireframe": false
      }
     },
     "0647083a9aac4643b36faeca12803722": {
      "model_module": "@jupyter-widgets/base",
      "model_module_version": "1.2.0",
      "model_name": "LayoutModel",
      "state": {}
     },
     "08c1c1a00abb45289d3c335f8bcd146e": {
      "buffers": [
       {
        "data": "",
        "encoding": "base64",
        "path": [
         "attribute",
         "data"
        ]
       },
       {
        "data": "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",
        "encoding": "base64",
        "path": [
         "color_map",
         "data"
        ]
       },
       {
        "data": "",
        "encoding": "base64",
        "path": [
         "colors",
         "data"
        ]
       },
       {
        "data": "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",
        "encoding": "base64",
        "path": [
         "indices",
         "data"
        ]
       },
       {
        "data": "AACAPwAAAAAAAAAAAAAAAAAAAAAAAIA/AAAAAAAAAAAAAAAAAAAAAAAAgD8AAAAAAAAAAAAAAAAAAAAAAACAPw==",
        "encoding": "base64",
        "path": [
         "model_matrix",
         "data"
        ]
       },
       {
        "data": "",
        "encoding": "base64",
        "path": [
         "opacity_function",
         "data"
        ]
       },
       {
        "data": "",
        "encoding": "base64",
        "path": [
         "triangles_attribute",
         "data"
        ]
       },
       {
        "data": "AADAfw==",
        "encoding": "base64",
        "path": [
         "uvs",
         "data"
        ]
       },
       {
        "data": "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",
        "encoding": "base64",
        "path": [
         "vertices",
         "data"
        ]
       },
       {
        "data": "",
        "encoding": "base64",
        "path": [
         "volume",
         "data"
        ]
       },
       {
        "data": "",
        "encoding": "base64",
        "path": [
         "volume_bounds",
         "data"
        ]
       }
      ],
      "model_module": "k3d",
      "model_module_version": "2.12.0",
      "model_name": "ObjectModel",
      "state": {
       "_view_count": null,
       "_view_module": null,
       "_view_module_version": "",
       "_view_name": null,
       "attribute": {
        "dtype": "float32",
        "shape": [
         0
        ]
       },
       "click_callback": false,
       "color": 13132810,
       "colorLegend": false,
       "color_map": {
        "dtype": "float32",
        "shape": [
         1024
        ]
       },
       "color_range": [],
       "colors": {
        "dtype": "uint32",
        "shape": [
         0
        ]
       },
       "compression_level": 0,
       "flat_shading": true,
       "group": null,
       "hover_callback": false,
       "id": 7164343584,
       "indices": {
        "dtype": "uint32",
        "shape": [
         480,
         3
        ]
       },
       "model_matrix": {
        "dtype": "float32",
        "shape": [
         4,
         4
        ]
       },
       "name": "Mesh #2",
       "opacity": 1,
       "opacity_function": {
        "dtype": "float32",
        "shape": [
         0
        ]
       },
       "side": "front",
       "texture": null,
       "texture_file_format": null,
       "triangles_attribute": {
        "dtype": "float32",
        "shape": [
         0
        ]
       },
       "type": "Mesh",
       "uvs": {
        "dtype": "float32",
        "shape": []
       },
       "vertices": {
        "dtype": "float32",
        "shape": [
         360,
         3
        ]
       },
       "visible": true,
       "volume": {
        "dtype": "float32",
        "shape": [
         0
        ]
       },
       "volume_bounds": {
        "dtype": "float32",
        "shape": [
         0
        ]
       },
       "wireframe": false
      }
     },
     "09926e5d64ac42518a72957c533f58d7": {
      "model_module": "k3d",
      "model_module_version": "2.12.0",
      "model_name": "PlotModel",
      "state": {
       "_backend_version": "2.12.0",
       "_dom_classes": [],
       "_view_count": null,
       "antialias": 3,
       "auto_rendering": true,
       "axes": [
        "x",
        "y",
        "z"
       ],
       "axes_helper": 1,
       "background_color": 16777215,
       "camera": [
        71.83158950053222,
        -19.395179601684784,
        13.195428294656843,
        0.4871639272503598,
        -1.8000047412894853,
        19.33929370598362,
        0.15671507244209648,
        0.05908825668275791,
        0.9858747202315561
       ],
       "camera_animation": [],
       "camera_auto_fit": true,
       "camera_damping_factor": 0,
       "camera_fov": 60,
       "camera_mode": "trackball",
       "camera_no_pan": false,
       "camera_no_rotate": false,
       "camera_no_zoom": false,
       "camera_pan_speed": 0.3,
       "camera_rotate_speed": 1,
       "camera_zoom_speed": 1.2,
       "clipping_planes": [],
       "colorbar_object_id": -1,
       "colorbar_scientific": false,
       "fps": 25,
       "fps_meter": false,
       "grid": [
        -1,
        -1,
        -1,
        1,
        1,
        1
       ],
       "grid_auto_fit": true,
       "grid_color": 15132390,
       "grid_visible": true,
       "height": 512,
       "label_color": 4473924,
       "layout": "IPY_MODEL_a0ccbb36614b4ac782635ddbee57720c",
       "lighting": 3,
       "logarithmic_depth_buffer": true,
       "manipulate_mode": "translate",
       "menu_visibility": true,
       "mode": "view",
       "name": null,
       "object_ids": [
        7164354368,
        7164311776
       ],
       "rendering_steps": 1,
       "screenshot": "",
       "screenshot_scale": 2,
       "snapshot": "",
       "snapshot_type": "full",
       "time": 0,
       "voxel_paint_color": 0
      }
     },
     "0ac7a9d5c5f040299963d81779803070": {
      "model_module": "@jupyter-widgets/base",
      "model_module_version": "1.2.0",
      "model_name": "LayoutModel",
      "state": {}
     },
     "0b7bcb1a65384ff7aab99ba718073afd": {
      "model_module": "@jupyter-widgets/base",
      "model_module_version": "1.2.0",
      "model_name": "LayoutModel",
      "state": {}
     },
     "0d56382fb3224dd38dc43d52553a9c25": {
      "model_module": "k3d",
      "model_module_version": "2.12.0",
      "model_name": "PlotModel",
      "state": {
       "_backend_version": "2.12.0",
       "_dom_classes": [],
       "_view_count": null,
       "antialias": 3,
       "auto_rendering": true,
       "axes": [
        "x",
        "y",
        "z"
       ],
       "axes_helper": 1,
       "background_color": 16777215,
       "camera": [
        1.1144231374912454,
        -1.6716347062368684,
        0.11144231374912636,
        0,
        0,
        0,
        0,
        0,
        1
       ],
       "camera_animation": [],
       "camera_auto_fit": true,
       "camera_damping_factor": 0,
       "camera_fov": 60,
       "camera_mode": "trackball",
       "camera_no_pan": false,
       "camera_no_rotate": false,
       "camera_no_zoom": false,
       "camera_pan_speed": 0.3,
       "camera_rotate_speed": 1,
       "camera_zoom_speed": 1.2,
       "clipping_planes": [],
       "colorbar_object_id": -1,
       "colorbar_scientific": false,
       "fps": 25,
       "fps_meter": false,
       "grid": [
        -1,
        -1,
        -1,
        1,
        1,
        1
       ],
       "grid_auto_fit": true,
       "grid_color": 15132390,
       "grid_visible": true,
       "height": 512,
       "label_color": 4473924,
       "layout": "IPY_MODEL_8e612fcea62043468e4fa094992c5a9e",
       "lighting": 3,
       "logarithmic_depth_buffer": true,
       "manipulate_mode": "translate",
       "menu_visibility": true,
       "mode": "view",
       "name": null,
       "object_ids": [
        7164343008
       ],
       "rendering_steps": 1,
       "screenshot": "",
       "screenshot_scale": 2,
       "snapshot": "",
       "snapshot_type": "full",
       "time": 0,
       "voxel_paint_color": 0
      }
     },
     "0f4185764bfb477cb2b153ff530aee28": {
      "buffers": [
       {
        "data": "",
        "encoding": "base64",
        "path": [
         "attribute",
         "data"
        ]
       },
       {
        "data": "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",
        "encoding": "base64",
        "path": [
         "color_map",
         "data"
        ]
       },
       {
        "data": "",
        "encoding": "base64",
        "path": [
         "colors",
         "data"
        ]
       },
       {
        "data": "AAAAAAEAAAAFAAAAAAAAAAUAAAAEAAAAAQAAAAIAAAAGAAAAAQAAAAYAAAAFAAAAAgAAAAMAAAAHAAAAAgAAAAcAAAAGAAAAAwAAAAAAAAAEAAAAAwAAAAQAAAAHAAAABAAAAAUAAAAJAAAABAAAAAkAAAAIAAAABQAAAAYAAAAKAAAABQAAAAoAAAAJAAAABgAAAAcAAAALAAAABgAAAAsAAAAKAAAABwAAAAQAAAAIAAAABwAAAAgAAAALAAAADAAAAA0AAAARAAAADAAAABEAAAAQAAAADQAAAA4AAAASAAAADQAAABIAAAARAAAADgAAAA8AAAATAAAADgAAABMAAAASAAAADwAAAAwAAAAQAAAADwAAABAAAAATAAAAEAAAABEAAAAVAAAAEAAAABUAAAAUAAAAEQAAABIAAAAWAAAAEQAAABYAAAAVAAAAEgAAABMAAAAXAAAAEgAAABcAAAAWAAAAEwAAABAAAAAUAAAAEwAAABQAAAAXAAAAGAAAABkAAAAdAAAAGAAAAB0AAAAcAAAAGQAAABoAAAAeAAAAGQAAAB4AAAAdAAAAGgAAABsAAAAfAAAAGgAAAB8AAAAeAAAAGwAAABgAAAAcAAAAGwAAABwAAAAfAAAAHAAAAB0AAAAhAAAAHAAAACEAAAAgAAAAHQAAAB4AAAAiAAAAHQAAACIAAAAhAAAAHgAAAB8AAAAjAAAAHgAAACMAAAAiAAAAHwAAABwAAAAgAAAAHwAAACAAAAAjAAAAJAAAACUAAAApAAAAJAAAACkAAAAoAAAAJQAAACYAAAAqAAAAJQAAACoAAAApAAAAJgAAACcAAAArAAAAJgAAACsAAAAqAAAAJwAAACQAAAAoAAAAJwAAACgAAAArAAAAKAAAACkAAAAtAAAAKAAAAC0AAAAsAAAAKQAAACoAAAAuAAAAKQAAAC4AAAAtAAAAKgAAACsAAAAvAAAAKgAAAC8AAAAuAAAAKwAAACgAAAAsAAAAKwAAACwAAAAvAAAAMAAAADEAAAA1AAAAMAAAADUAAAA0AAAAMQAAADIAAAA2AAAAMQAAADYAAAA1AAAAMgAAADMAAAA3AAAAMgAAADcAAAA2AAAAMwAAADAAAAA0AAAAMwAAADQAAAA3AAAANAAAADUAAAA5AAAANAAAADkAAAA4AAAANQAAADYAAAA6AAAANQAAADoAAAA5AAAANgAAADcAAAA7AAAANgAAADsAAAA6AAAANwAAADQAAAA4AAAANwAAADgAAAA7AAAAPAAAAD0AAABBAAAAPAAAAEEAAABAAAAAPQAAAD4AAABCAAAAPQAAAEIAAABBAAAAPgAAAD8AAABDAAAAPgAAAEMAAABCAAAAPwAAADwAAABAAAAAPwAAAEAAAABDAAAAQAAAAEEAAABFAAAAQAAAAEUAAABEAAAAQQAAAEIAAABGAAAAQQAAAEYAAABFAAAAQgAAAEMAAABHAAAAQgAAAEcAAABGAAAAQwAAAEAAAABEAAAAQwAAAEQAAABHAAAASAAAAEkAAABNAAAASAAAAE0AAABMAAAASQAAAEoAAABOAAAASQAAAE4AAABNAAAASgAAAEsAAABPAAAASgAAAE8AAABOAAAASwAAAEgAAABMAAAASwAAAEwAAABPAAAATAAAAE0AAABRAAAATAAAAFEAAABQAAAATQAAAE4AAABSAAAATQAAAFIAAABRAAAATgAAAE8AAABTAAAATgAAAFMAAABSAAAATwAAAEwAAABQAAAATwAAAFAAAABTAAAAVAAAAFUAAABZAAAAVAAAAFkAAABYAAAAVQAAAFYAAABaAAAAVQAAAFoAAABZAAAAVgAAAFcAAABbAAAAVgAAAFsAAABaAAAAVwAAAFQAAABYAAAAVwAAAFgAAABbAAAAWAAAAFkAAABdAAAAWAAAAF0AAABcAAAAWQAAAFoAAABeAAAAWQAAAF4AAABdAAAAWgAAAFsAAABfAAAAWgAAAF8AAABeAAAAWwAAAFgAAABcAAAAWwAAAFwAAABfAAAAYAAAAGEAAABlAAAAYAAAAGUAAABkAAAAYQAAAGIAAABmAAAAYQAAAGYAAABlAAAAYgAAAGMAAABnAAAAYgAAAGcAAABmAAAAYwAAAGAAAABkAAAAYwAAAGQAAABnAAAAZAAAAGUAAABpAAAAZAAAAGkAAABoAAAAZQAAAGYAAABqAAAAZQAAAGoAAABpAAAAZgAAAGcAAABrAAAAZgAAAGsAAABqAAAAZwAAAGQAAABoAAAAZwAAAGgAAABrAAAAbAAAAG0AAABxAAAAbAAAAHEAAABwAAAAbQAAAG4AAAByAAAAbQAAAHIAAABxAAAAbgAAAG8AAABzAAAAbgAAAHMAAAByAAAAbwAAAGwAAABwAAAAbwAAAHAAAABzAAAAcAAAAHEAAAB1AAAAcAAAAHUAAAB0AAAAcQAAAHIAAAB2AAAAcQAAAHYAAAB1AAAAcgAAAHMAAAB3AAAAcgAAAHcAAAB2AAAAcwAAAHAAAAB0AAAAcwAAAHQAAAB3AAAAeAAAAHkAAAB9AAAAeAAAAH0AAAB8AAAAeQAAAHoAAAB+AAAAeQAAAH4AAAB9AAAAegAAAHsAAAB/AAAAegAAAH8AAAB+AAAAewAAAHgAAAB8AAAAewAAAHwAAAB/AAAAfAAAAH0AAACBAAAAfAAAAIEAAACAAAAAfQAAAH4AAACCAAAAfQAAAIIAAACBAAAAfgAAAH8AAACDAAAAfgAAAIMAAACCAAAAfwAAAHwAAACAAAAAfwAAAIAAAACDAAAAhAAAAIUAAACJAAAAhAAAAIkAAACIAAAAhQAAAIYAAACKAAAAhQAAAIoAAACJAAAAhgAAAIcAAACLAAAAhgAAAIsAAACKAAAAhwAAAIQAAACIAAAAhwAAAIgAAACLAAAAiAAAAIkAAACNAAAAiAAAAI0AAACMAAAAiQAAAIoAAACOAAAAiQAAAI4AAACNAAAAigAAAIsAAACPAAAAigAAAI8AAACOAAAAiwAAAIgAAACMAAAAiwAAAIwAAACPAAAAkAAAAJEAAACVAAAAkAAAAJUAAACUAAAAkQAAAJIAAACWAAAAkQAAAJYAAACVAAAAkgAAAJMAAACXAAAAkgAAAJcAAACWAAAAkwAAAJAAAACUAAAAkwAAAJQAAACXAAAAlAAAAJUAAACZAAAAlAAAAJkAAACYAAAAlQAAAJYAAACaAAAAlQAAAJoAAACZAAAAlgAAAJcAAACbAAAAlgAAAJsAAACaAAAAlwAAAJQAAACYAAAAlwAAAJgAAACbAAAAnAAAAJ0AAAChAAAAnAAAAKEAAACgAAAAnQAAAJ4AAACiAAAAnQAAAKIAAAChAAAAngAAAJ8AAACjAAAAngAAAKMAAACiAAAAnwAAAJwAAACgAAAAnwAAAKAAAACjAAAAoAAAAKEAAAClAAAAoAAAAKUAAACkAAAAoQAAAKIAAACmAAAAoQAAAKYAAAClAAAAogAAAKMAAACnAAAAogAAAKcAAACmAAAAowAAAKAAAACkAAAAowAAAKQAAACnAAAAqAAAAKkAAACtAAAAqAAAAK0AAACsAAAAqQAAAKoAAACuAAAAqQAAAK4AAACtAAAAqgAAAKsAAACvAAAAqgAAAK8AAACuAAAAqwAAAKgAAACsAAAAqwAAAKwAAACvAAAArAAAAK0AAACxAAAArAAAALEAAACwAAAArQAAAK4AAACyAAAArQAAALIAAACxAAAArgAAAK8AAACzAAAArgAAALMAAACyAAAArwAAAKwAAACwAAAArwAAALAAAACzAAAAtAAAALUAAAC5AAAAtAAAALkAAAC4AAAAtQAAALYAAAC6AAAAtQAAALoAAAC5AAAAtgAAALcAAAC7AAAAtgAAALsAAAC6AAAAtwAAALQAAAC4AAAAtwAAALgAAAC7AAAAuAAAALkAAAC9AAAAuAAAAL0AAAC8AAAAuQAAALoAAAC+AAAAuQAAAL4AAAC9AAAAugAAALsAAAC/AAAAugAAAL8AAAC+AAAAuwAAALgAAAC8AAAAuwAAALwAAAC/AAAAwAAAAMEAAADFAAAAwAAAAMUAAADEAAAAwQAAAMIAAADGAAAAwQAAAMYAAADFAAAAwgAAAMMAAADHAAAAwgAAAMcAAADGAAAAwwAAAMAAAADEAAAAwwAAAMQAAADHAAAAxAAAAMUAAADJAAAAxAAAAMkAAADIAAAAxQAAAMYAAADKAAAAxQAAAMoAAADJAAAAxgAAAMcAAADLAAAAxgAAAMsAAADKAAAAxwAAAMQAAADIAAAAxwAAAMgAAADLAAAAzAAAAM0AAADRAAAAzAAAANEAAADQAAAAzQAAAM4AAADSAAAAzQAAANIAAADRAAAAzgAAAM8AAADTAAAAzgAAANMAAADSAAAAzwAAAMwAAADQAAAAzwAAANAAAADTAAAA0AAAANEAAADVAAAA0AAAANUAAADUAAAA0QAAANIAAADWAAAA0QAAANYAAADVAAAA0gAAANMAAADXAAAA0gAAANcAAADWAAAA0wAAANAAAADUAAAA0wAAANQAAADXAAAA2AAAANkAAADdAAAA2AAAAN0AAADcAAAA2QAAANoAAADeAAAA2QAAAN4AAADdAAAA2gAAANsAAADfAAAA2gAAAN8AAADeAAAA2wAAANgAAADcAAAA2wAAANwAAADfAAAA3AAAAN0AAADhAAAA3AAAAOEAAADgAAAA3QAAAN4AAADiAAAA3QAAAOIAAADhAAAA3gAAAN8AAADjAAAA3gAAAOMAAADiAAAA3wAAANwAAADgAAAA3wAAAOAAAADjAAAA5AAAAOUAAADpAAAA5AAAAOkAAADoAAAA5QAAAOYAAADqAAAA5QAAAOoAAADpAAAA5gAAAOcAAADrAAAA5gAAAOsAAADqAAAA5wAAAOQAAADoAAAA5wAAAOgAAADrAAAA6AAAAOkAAADtAAAA6AAAAO0AAADsAAAA6QAAAOoAAADuAAAA6QAAAO4AAADtAAAA6gAAAOsAAADvAAAA6gAAAO8AAADuAAAA6wAAAOgAAADsAAAA6wAAAOwAAADvAAAA8AAAAPEAAAD1AAAA8AAAAPUAAAD0AAAA8QAAAPIAAAD2AAAA8QAAAPYAAAD1AAAA8gAAAPMAAAD3AAAA8gAAAPcAAAD2AAAA8wAAAPAAAAD0AAAA8wAAAPQAAAD3AAAA9AAAAPUAAAD5AAAA9AAAAPkAAAD4AAAA9QAAAPYAAAD6AAAA9QAAAPoAAAD5AAAA9gAAAPcAAAD7AAAA9gAAAPsAAAD6AAAA9wAAAPQAAAD4AAAA9wAAAPgAAAD7AAAA/AAAAP0AAAABAQAA/AAAAAEBAAAAAQAA/QAAAP4AAAACAQAA/QAAAAIBAAABAQAA/gAAAP8AAAADAQAA/gAAAAMBAAACAQAA/wAAAPwAAAAAAQAA/wAAAAABAAADAQAAAAEAAAEBAAAFAQAAAAEAAAUBAAAEAQAAAQEAAAIBAAAGAQAAAQEAAAYBAAAFAQAAAgEAAAMBAAAHAQAAAgEAAAcBAAAGAQAAAwEAAAABAAAEAQAAAwEAAAQBAAAHAQAACAEAAAkBAAANAQAACAEAAA0BAAAMAQAACQEAAAoBAAAOAQAACQEAAA4BAAANAQAACgEAAAsBAAAPAQAACgEAAA8BAAAOAQAACwEAAAgBAAAMAQAACwEAAAwBAAAPAQAADAEAAA0BAAARAQAADAEAABEBAAAQAQAADQEAAA4BAAASAQAADQEAABIBAAARAQAADgEAAA8BAAATAQAADgEAABMBAAASAQAADwEAAAwBAAAQAQAADwEAABABAAATAQAAFAEAABUBAAAZAQAAFAEAABkBAAAYAQAAFQEAABYBAAAaAQAAFQEAABoBAAAZAQAAFgEAABcBAAAbAQAAFgEAABsBAAAaAQAAFwEAABQBAAAYAQAAFwEAABgBAAAbAQAAGAEAABkBAAAdAQAAGAEAAB0BAAAcAQAAGQEAABoBAAAeAQAAGQEAAB4BAAAdAQAAGgEAABsBAAAfAQAAGgEAAB8BAAAeAQAAGwEAABgBAAAcAQAAGwEAABwBAAAfAQAAIAEAACEBAAAlAQAAIAEAACUBAAAkAQAAIQEAACIBAAAmAQAAIQEAACYBAAAlAQAAIgEAACMBAAAnAQAAIgEAACcBAAAmAQAAIwEAACABAAAkAQAAIwEAACQBAAAnAQAAJAEAACUBAAApAQAAJAEAACkBAAAoAQAAJQEAACYBAAAqAQAAJQEAACoBAAApAQAAJgEAACcBAAArAQAAJgEAACsBAAAqAQAAJwEAACQBAAAoAQAAJwEAACgBAAArAQAALAEAAC0BAAAxAQAALAEAADEBAAAwAQAALQEAAC4BAAAyAQAALQEAADIBAAAxAQAALgEAAC8BAAAzAQAALgEAADMBAAAyAQAALwEAACwBAAAwAQAALwEAADABAAAzAQAAMAEAADEBAAA1AQAAMAEAADUBAAA0AQAAMQEAADIBAAA2AQAAMQEAADYBAAA1AQAAMgEAADMBAAA3AQAAMgEAADcBAAA2AQAAMwEAADABAAA0AQAAMwEAADQBAAA3AQAAOAEAADkBAAA9AQAAOAEAAD0BAAA8AQAAOQEAADoBAAA+AQAAOQEAAD4BAAA9AQAAOgEAADsBAAA/AQAAOgEAAD8BAAA+AQAAOwEAADgBAAA8AQAAOwEAADwBAAA/AQAAPAEAAD0BAABBAQAAPAEAAEEBAABAAQAAPQEAAD4BAABCAQAAPQEAAEIBAABBAQAAPgEAAD8BAABDAQAAPgEAAEMBAABCAQAAPwEAADwBAABAAQAAPwEAAEABAABDAQAARAEAAEUBAABJAQAARAEAAEkBAABIAQAARQEAAEYBAABKAQAARQEAAEoBAABJAQAARgEAAEcBAABLAQAARgEAAEsBAABKAQAARwEAAEQBAABIAQAARwEAAEgBAABLAQAASAEAAEkBAABNAQAASAEAAE0BAABMAQAASQEAAEoBAABOAQAASQEAAE4BAABNAQAASgEAAEsBAABPAQAASgEAAE8BAABOAQAASwEAAEgBAABMAQAASwEAAEwBAABPAQAAUAEAAFEBAABVAQAAUAEAAFUBAABUAQAAUQEAAFIBAABWAQAAUQEAAFYBAABVAQAAUgEAAFMBAABXAQAAUgEAAFcBAABWAQAAUwEAAFABAABUAQAAUwEAAFQBAABXAQAAVAEAAFUBAABZAQAAVAEAAFkBAABYAQAAVQEAAFYBAABaAQAAVQEAAFoBAABZAQAAVgEAAFcBAABbAQAAVgEAAFsBAABaAQAAVwEAAFQBAABYAQAAVwEAAFgBAABbAQAAXAEAAF0BAABhAQAAXAEAAGEBAABgAQAAXQEAAF4BAABiAQAAXQEAAGIBAABhAQAAXgEAAF8BAABjAQAAXgEAAGMBAABiAQAAXwEAAFwBAABgAQAAXwEAAGABAABjAQAAYAEAAGEBAABlAQAAYAEAAGUBAABkAQAAYQEAAGIBAABmAQAAYQEAAGYBAABlAQAAYgEAAGMBAABnAQAAYgEAAGcBAABmAQAAYwEAAGABAABkAQAAYwEAAGQBAABnAQAA",
        "encoding": "base64",
        "path": [
         "indices",
         "data"
        ]
       },
       {
        "data": "AACAPwAAAAAAAAAAAAAAAAAAAAAAAIA/AAAAAAAAAAAAAAAAAAAAAAAAgD8AAAAAAAAAAAAAAAAAAAAAAACAPw==",
        "encoding": "base64",
        "path": [
         "model_matrix",
         "data"
        ]
       },
       {
        "data": "",
        "encoding": "base64",
        "path": [
         "opacity_function",
         "data"
        ]
       },
       {
        "data": "",
        "encoding": "base64",
        "path": [
         "triangles_attribute",
         "data"
        ]
       },
       {
        "data": "AADAfw==",
        "encoding": "base64",
        "path": [
         "uvs",
         "data"
        ]
       },
       {
        "data": "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",
        "encoding": "base64",
        "path": [
         "vertices",
         "data"
        ]
       },
       {
        "data": "",
        "encoding": "base64",
        "path": [
         "volume",
         "data"
        ]
       },
       {
        "data": "",
        "encoding": "base64",
        "path": [
         "volume_bounds",
         "data"
        ]
       }
      ],
      "model_module": "k3d",
      "model_module_version": "2.12.0",
      "model_name": "ObjectModel",
      "state": {
       "_view_count": null,
       "_view_module": null,
       "_view_module_version": "",
       "_view_name": null,
       "attribute": {
        "dtype": "float32",
        "shape": [
         0
        ]
       },
       "click_callback": false,
       "color": 13132810,
       "colorLegend": false,
       "color_map": {
        "dtype": "float32",
        "shape": [
         1024
        ]
       },
       "color_range": [],
       "colors": {
        "dtype": "uint32",
        "shape": [
         0
        ]
       },
       "compression_level": 0,
       "flat_shading": true,
       "group": null,
       "hover_callback": false,
       "id": 7164318000,
       "indices": {
        "dtype": "uint32",
        "shape": [
         480,
         3
        ]
       },
       "model_matrix": {
        "dtype": "float32",
        "shape": [
         4,
         4
        ]
       },
       "name": "Mesh #2",
       "opacity": 1,
       "opacity_function": {
        "dtype": "float32",
        "shape": [
         0
        ]
       },
       "side": "front",
       "texture": null,
       "texture_file_format": null,
       "triangles_attribute": {
        "dtype": "float32",
        "shape": [
         0
        ]
       },
       "type": "Mesh",
       "uvs": {
        "dtype": "float32",
        "shape": []
       },
       "vertices": {
        "dtype": "float32",
        "shape": [
         360,
         3
        ]
       },
       "visible": true,
       "volume": {
        "dtype": "float32",
        "shape": [
         0
        ]
       },
       "volume_bounds": {
        "dtype": "float32",
        "shape": [
         0
        ]
       },
       "wireframe": false
      }
     },
     "0f797a6a5f2842d38d44aee4863b0b05": {
      "buffers": [
       {
        "data": "",
        "encoding": "base64",
        "path": [
         "attribute",
         "data"
        ]
       },
       {
        "data": "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",
        "encoding": "base64",
        "path": [
         "color_map",
         "data"
        ]
       },
       {
        "data": "",
        "encoding": "base64",
        "path": [
         "colors",
         "data"
        ]
       },
       {
        "data": "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",
        "encoding": "base64",
        "path": [
         "indices",
         "data"
        ]
       },
       {
        "data": "AACAPwAAAAAAAAAAAAAAAAAAAAAAAIA/AAAAAAAAAAAAAAAAAAAAAAAAgD8AAAAAAAAAAAAAAAAAAAAAAACAPw==",
        "encoding": "base64",
        "path": [
         "model_matrix",
         "data"
        ]
       },
       {
        "data": "",
        "encoding": "base64",
        "path": [
         "opacity_function",
         "data"
        ]
       },
       {
        "data": "",
        "encoding": "base64",
        "path": [
         "triangles_attribute",
         "data"
        ]
       },
       {
        "data": "AADAfw==",
        "encoding": "base64",
        "path": [
         "uvs",
         "data"
        ]
       },
       {
        "data": "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",
        "encoding": "base64",
        "path": [
         "vertices",
         "data"
        ]
       },
       {
        "data": "",
        "encoding": "base64",
        "path": [
         "volume",
         "data"
        ]
       },
       {
        "data": "",
        "encoding": "base64",
        "path": [
         "volume_bounds",
         "data"
        ]
       }
      ],
      "model_module": "k3d",
      "model_module_version": "2.12.0",
      "model_name": "ObjectModel",
      "state": {
       "_view_count": null,
       "_view_module": null,
       "_view_module_version": "",
       "_view_name": null,
       "attribute": {
        "dtype": "float32",
        "shape": [
         0
        ]
       },
       "click_callback": false,
       "color": 13132810,
       "colorLegend": false,
       "color_map": {
        "dtype": "float32",
        "shape": [
         1024
        ]
       },
       "color_range": [],
       "colors": {
        "dtype": "uint32",
        "shape": [
         0
        ]
       },
       "compression_level": 0,
       "flat_shading": true,
       "group": null,
       "hover_callback": false,
       "id": 7164311440,
       "indices": {
        "dtype": "uint32",
        "shape": [
         480,
         3
        ]
       },
       "model_matrix": {
        "dtype": "float32",
        "shape": [
         4,
         4
        ]
       },
       "name": "Mesh #2",
       "opacity": 1,
       "opacity_function": {
        "dtype": "float32",
        "shape": [
         0
        ]
       },
       "side": "front",
       "texture": null,
       "texture_file_format": null,
       "triangles_attribute": {
        "dtype": "float32",
        "shape": [
         0
        ]
       },
       "type": "Mesh",
       "uvs": {
        "dtype": "float32",
        "shape": []
       },
       "vertices": {
        "dtype": "float32",
        "shape": [
         360,
         3
        ]
       },
       "visible": true,
       "volume": {
        "dtype": "float32",
        "shape": [
         0
        ]
       },
       "volume_bounds": {
        "dtype": "float32",
        "shape": [
         0
        ]
       },
       "wireframe": false
      }
     },
     "0fff5475e5614991bbd7d71ad7f49456": {
      "buffers": [
       {
        "data": "",
        "encoding": "base64",
        "path": [
         "attribute",
         "data"
        ]
       },
       {
        "data": "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",
        "encoding": "base64",
        "path": [
         "color_map",
         "data"
        ]
       },
       {
        "data": "",
        "encoding": "base64",
        "path": [
         "colors",
         "data"
        ]
       },
       {
        "data": "AAAAAAIAAAABAAAAAQAAAAIAAAADAAAAAQAAAAMAAAARAAAAAAAAABAAAAACAAAAAgAAAAQAAAADAAAAAwAAAAQAAAAFAAAAAwAAAAUAAAARAAAAAgAAABAAAAAEAAAABAAAAAYAAAAFAAAABQAAAAYAAAAHAAAABQAAAAcAAAARAAAABAAAABAAAAAGAAAABgAAAAgAAAAHAAAABwAAAAgAAAAJAAAABwAAAAkAAAARAAAABgAAABAAAAAIAAAACAAAAAoAAAAJAAAACQAAAAoAAAALAAAACQAAAAsAAAARAAAACAAAABAAAAAKAAAACgAAAAwAAAALAAAACwAAAAwAAAANAAAACwAAAA0AAAARAAAACgAAABAAAAAMAAAADAAAAA4AAAANAAAADQAAAA4AAAAPAAAADQAAAA8AAAARAAAADAAAABAAAAAOAAAADgAAAAAAAAAPAAAADwAAAAAAAAABAAAADwAAAAEAAAARAAAADgAAABAAAAAAAAAA",
        "encoding": "base64",
        "path": [
         "indices",
         "data"
        ]
       },
       {
        "data": "AACAPwAAAAAAAAAAAAAAAAAAAAAAAIA/AAAAAAAAAAAAAAAAAAAAAAAAgD8AAAAAAAAAAAAAAAAAAAAAAACAPw==",
        "encoding": "base64",
        "path": [
         "model_matrix",
         "data"
        ]
       },
       {
        "data": "",
        "encoding": "base64",
        "path": [
         "opacity_function",
         "data"
        ]
       },
       {
        "data": "",
        "encoding": "base64",
        "path": [
         "triangles_attribute",
         "data"
        ]
       },
       {
        "data": "AADAfw==",
        "encoding": "base64",
        "path": [
         "uvs",
         "data"
        ]
       },
       {
        "data": "AACAPwAAAAAAAAAAAACAPwAAAAAAAMhC8wQ1P/MENT8AAAAA8wQ1P/MENT8AAMhCc4+zrAAAgD8AAAAAc4+zrAAAgD8AAMhC8wQ1v/MENT8AAAAA8wQ1v/MENT8AAMhCAACAv3OPM60AAAAAAACAv3OPM60AAMhC8wQ1v/MENb8AAAAA8wQ1v/MENb8AAMhClquGLQAAgL8AAAAAlquGLQAAgL8AAMhC8wQ1P/MENb8AAAAA8wQ1P/MENb8AAMhCAAAAAAAAAAAAAAAAAAAAAAAAAAAAAMhC",
        "encoding": "base64",
        "path": [
         "vertices",
         "data"
        ]
       },
       {
        "data": "",
        "encoding": "base64",
        "path": [
         "volume",
         "data"
        ]
       },
       {
        "data": "",
        "encoding": "base64",
        "path": [
         "volume_bounds",
         "data"
        ]
       }
      ],
      "model_module": "k3d",
      "model_module_version": "2.12.0",
      "model_name": "ObjectModel",
      "state": {
       "_view_count": null,
       "_view_module": null,
       "_view_module_version": "",
       "_view_name": null,
       "attribute": {
        "dtype": "float32",
        "shape": [
         0
        ]
       },
       "click_callback": false,
       "color": 706570,
       "colorLegend": false,
       "color_map": {
        "dtype": "float32",
        "shape": [
         1024
        ]
       },
       "color_range": [],
       "colors": {
        "dtype": "uint32",
        "shape": [
         0
        ]
       },
       "compression_level": 0,
       "flat_shading": true,
       "group": null,
       "hover_callback": false,
       "id": 7164354272,
       "indices": {
        "dtype": "uint32",
        "shape": [
         32,
         3
        ]
       },
       "model_matrix": {
        "dtype": "float32",
        "shape": [
         4,
         4
        ]
       },
       "name": "Mesh #1",
       "opacity": 1,
       "opacity_function": {
        "dtype": "float32",
        "shape": [
         0
        ]
       },
       "side": "front",
       "texture": null,
       "texture_file_format": null,
       "triangles_attribute": {
        "dtype": "float32",
        "shape": [
         0
        ]
       },
       "type": "Mesh",
       "uvs": {
        "dtype": "float32",
        "shape": []
       },
       "vertices": {
        "dtype": "float32",
        "shape": [
         18,
         3
        ]
       },
       "visible": true,
       "volume": {
        "dtype": "float32",
        "shape": [
         0
        ]
       },
       "volume_bounds": {
        "dtype": "float32",
        "shape": [
         0
        ]
       },
       "wireframe": false
      }
     },
     "110681e3198140d48596ad826fb765c9": {
      "model_module": "@jupyter-widgets/controls",
      "model_module_version": "1.5.0",
      "model_name": "SliderStyleModel",
      "state": {
       "description_width": "initial"
      }
     },
     "134650d099374dcebb05c37d2c82ea98": {
      "buffers": [
       {
        "data": "",
        "encoding": "base64",
        "path": [
         "attribute",
         "data"
        ]
       },
       {
        "data": "AAAAAKabxDpvEgM607xjPCSXfzuZuxY7w2SqOgdfmDwkl/870ERYO+AtEDsUP8Y8ylRBPLx0kzuJ0l47/yH9PEmdgDymm8Q7dQKaOwkbHj0ukKA8SFD8O4LixztbsT89EoPAPFJJHTxIUPw7irBhPa5H4TxbsT88dQIaPEoMgj1JnQA9QmBlPDSANzxPQJM9vJYQPbn8hzxioVY8VHSkPS6QID3A7J48/mV3PMbctT2giTA9NIC3PATnjDw5Rcc97utAPYZa0zwJG548GeLYPWDlUD1F2PA8xSCwPGiz6j3T3mA9cM4IPYEmwjwkufw9RdhwPVFrGj09LNQ8cF8HPtxogD3EQi09+THmPIV8ED4Cmog9NxpAPbU3+DwHzhk+vJaQPYZaUz24HgU9ih8jPnWTmD2wA2c9u7gNPQ1xLD4ukKA9tRV7PeLpFT3G3DU+VcGoPUvIhz0tsh097nw/Pg6+sD0qOpI9nRElPRUdST7Hurg9duCcPVafKz08vVI+gLfAPZ7vpz1XWzE9mndcPjm0yD3F/rI9fa42PfkxZj5g5dA9yXa+PRHHOj2OBnA+GeLYPTojyj3tDT497MB5PtPe4D2GONY9EoNAPaW9gT6M2+g9003iPYEmQj3UmoY+RdjwPWkA7z04+EI96GqLPmwJ+T3/svs9XI9CPeAtkD4SgwA+OGcEPqW9QT2945Q+b4EEPigPCz43GkA9Y3+ZPsx/CD5O0RE+Njw9PdIAnj5fmAw+rK0YPjVeOj3uWqI+vJYQPgmKHz59rjY9uY2mPhiVFD7UmiY+6pUyPUymqj51kxg+n6stPnsULj1yiq4+0ZEcPmq8ND4Mkyk9KjqyPmWqID42zTs+nRElPY/CtT7BqCQ+OPhCPgn5ID1sCbk+HqcoPgMJSj5SSR099ii8PnqlLD7OGVE+dQIaPRIUvz7XozA+mSpYPlCNFz3c18E+arw0Pi0hXz7i6RU9HVrEPse6OD75MWY+KxgVPQu1xj4kuTw+Vg5tPisYFT2n6Mg+gLdAPuoEdD7i6RU98fTKPhTQRD5I4Xo+K/YXPc3MzD5wzkg+t9GAPlFrGj1yis4+zcxMPsoyhD4JGx49xSDQPinLUD7ek4c+nDMiPcWP0T6GyVQ+1eeKPsKGJz2q8dI+GeJYPs07jj6fqy09PSzUPnbgXD7Fj5E+fdAzPZhM1T7T3mA+veOUPhHHOj29UtY+L91kPpkqmD5cj0I9x0vXPsP1aD52cZs+qFdKPZkq2D4f9Gw+NquePs6IUj0179g+fPJwPhPyoT7RIls9tabZPtjwdD7UK6U+07xjPRpR2j4173g+lWWoPrG/bD1I4do+yAd9Plafqz5rK3Y9WmTbPhKDgD4X2a4+SS5/PVHa2z5BgoI+1xKyPgFNhD0tQ9w+b4GEPn0/tT7eAok97Z7cPp2Ahj4+ebg+u7iNPZHt3D7njIg+46W7PgWjkj0bL90+FYyKPqTfvj7iWJc9iGPdPkSLjD5KDMI+LUOcPduK3T5yio4+7zjFPgn5oD0tst0+vJaQPrByyD7mrqU9SL/dPuqVkj5Wn8s+MZmqPWTM3T4YlZQ++8vOPg5Prz1kzN0+RpSWPqH40T7qBLQ9SL/dPnWTmD5GJdU+x7q4PRKl3T6+n5o+7FHYPqRwvT3bit0+7Z6cPqyL2z6BJsI9iGPdPhuenj5SuN4+XdzGPRsv3T5JnaA+9+ThPsxdyz2t+tw+eJyiPp0R5T6pE9A9JLncPsGopD5eS+g+GJXUPX9q3D7wp6Y+A3jrPvVK2T2/Dtw+HqeoPqmk7j5kzN09/7LbPkymqj5O0fE+003iPSNK2z6Wsqw+Dwv1PrAD5z1I4do+xLGuPrU3+D4fhes9NV7aPvKwsD5aZPs+jgbwPT7o2T4hsLI+G57+Pv2H9D0QWNk+T6+0PmDlAD9sCfk948fYPpm7tj6zewI/24r9PZkq2D7Hurg+kxgEPyUGAT40gNc+9bm6PuauBT+lLAM+tMjWPiS5vD45RQc/XW0FPjQR1j5SuL4+GeIIPxSuBz60WdU+nMTAPmx4Cj/M7gk+/YfUPsrDwj5NFQw/gy8MPka20z74wsQ+n6sNPztwDj5z19I+J8LGPvJBDz/ysBA+ofjRPnDOyD7T3hA/4QsTPrMM0T6fzco+JXUSP5hMFT6pE9A+zczMPngLFD9QjRc+hA3PPvvLzj7LoRU/PugZPl8Hzj4py9A+HTgXPy1DHD4f9Mw+c9fSPnDOGD/kgx4+w9PLPqHW1D7DZBo/CfkgPmizyj7Q1dY+FvsbP/hTIz7whck+/tTYPmiRHT/mriU+XkvIPkjh2j67Jx8/CyQoPssQxz524Nw+gLcgPzGZKj4dycU+pN/ePtNNIj9WDi0+VHTEPtPe4D6Y3SM/e4MvPoofwz4B3uI+63MlP9cSMj6lvcE+S+rkPrADJz80ojQ+pU7APnnp5j51kyg/x0s3PonSvj6n6Og+rBwqPyPbOT5tVr0+1efqPnGsKz/tnjw+Udq7PgTn7D6oNS0/gEg/Pv5Duj5N8+4+bcUuP0oMQj7Hurg+fPLwPqVOMD8U0EQ+WRe3Pqrx8j5O0TE/FK5HPutztT7Y8PQ+hlozP0ymSj5hw7M+Iv32Pi/dND9NhE0+1xKyPlD8+D7ZXzY/vJZQPjJVsD5/+/o+guI3P/OOUz5yiq4+rfr8Pp5eOT+Zu1Y+sb+sPtv5/j662jo/PuhZPvH0qj4SgwA/1lY8P+QUXT75D6k+qoIBP2TMPT/AW2A+HTinPkGCAj/yQT8/07xjPiZTpT7YgQM/gLdAP+cdZz4TYaM+b4EEP4EmQj8xmWo+AG+hPpSHBT+BlUM/si5uPtJvnz4rhwY/gQRFPzPEcT6kcJ0+woYHP/RsRj/rc3U+WmSbPlmGCD/Zzkc/oyN5PhBYmT5+jAk/vjBJP8gHfT7HS5c+FYwKP6OSSj/3dYA+YTKVPqyLCz/67Us/CmiCPvwYkz5Eiww/UklNP1R0hD588pA+24oNPxueTj+dgIY++8uOPgCRDj9X7E8/ApqIPnqljD6XkA8/kzpRP4PAij7ecYo+LpAQP86IUj8E54w+Qj6IPsWPET990FM/oBqPPov9hT5cjxI/nRFVP1dbkT7vyYM+gZUTP71SVj8qqZM+N4mBPhiVFD9QjVc//faVPgCRfj6vlBU/VcFYPwdfmD5a9Xk+RpQWP1r1WT8Rx5o+tFl1PmuaFz/RIls/Gy+dPg6+cD4Cmhg/uklcP1uxnz5oImw+mpkZP6RwXT+cM6I+woZnPjGZGj8AkV4/+MKkPuXQYj7ImBs/zqpfP3Bfpz4JG14+7Z4cP5zEYD8DCao+LGVZPoSeHT/c12E/lrKsPhiVVD4bnh4/j+RiP0Rprz47308+sp0fP7PqYz8OLbI+KA9LPtejID/Y8GQ/2PC0PhQ/Rj5uoyE/b/BlP77Btz4Ab0E+BaMiP3npZj++n7o+toQ8PpyiIz/122c/v329PqK0Nz40oiQ/cM5oP/d1wD5YyjI+WKglP166aT8TYcM+DeAtPvCnJj++n2o/ZmbGPozbKD6Hpyc/kX5rP7pryT5B8SM+HqcoP9ZWbD8ofsw+wOwePrWmKT8bL20/l5DPPj7oGT7arCo/RPptPyGw0j694xQ+cawrP23Fbj+rz9U+BcUPPgisLD8Jim8/UPzYPkymCj6fqy0/pU5wPxE23D6UhwU+xLEuPyUGcT/Sb98+3GgAPluxLz+lvXE/rrbiPkaU9j3ysDA/mG5yP4v95T5oIuw9irAxP/wYcz+DUek+irDhPSGwMj/TvHM/eqXsPj0K1z1GtjM/HVp0P3L57z5fmMw93bU0P2b3dD+hZ/M+E/LBPXS1NT+Uh3U/tMj2PsdLtz0LtTY/whd2P+M2+j56paw9orQ3P2Khdj8tsv0+Lv+hPce6OD90JHc/LpAAP+JYlz1eujk/+aB3P2FUAj+Wsow99bk6P34deD8GEgQ/SgyCPYy5Oz/njHg/xtwFP9c0bz2xvzw/UPx4P/mgBz8aUVo9SL89PyxleT+6awk/FD9GPeC+Pj96x3k/ejYLP+qVMj13vj8/OiN6PzsBDT9SJyA9Dr5AP2x4ej+J0g4/TfMOPTPEQT+fzXo/ZaoQP0mdAD3Kw0I/tRV7P7N7Ej/VeOk8YcNDP8xdez+PUxQ/YqHWPPjCRD9Wn3s/aysWP6hXyjyPwkU/Udp7P0cDGD84+MI8tMhGP78OfD+x4Rk/ylTBPEvIRz+fPHw/GsAbPxQ/xjzjx0g/f2p8PxKlHT8Xt9E8esdJP0SLfD97gx8/07zjPJ/NSj8IrHw/c2ghP/8h/Tw2zUs/sb98P2pNIz9N8w49zcxMP1vTfD9hMiU/L24jPWTMTT924Hw/5x0nPxHHOj37y04/BOd8P2wJKT9hw1M9INJPPwTnfD9j7io/+8tuPbfRUD8E53w/duAsPwK8hT1O0VE/6Nl8P/vLLj/hepQ95dBSP83MfD8OvjA/CtejPQrXUz+Wsnw/k6kyPw+csz2h1lQ/X5h8P6abND9d/sM9OdZVP5p3fD9GlDY/hsnUPdDVVj9IUHw/WYY4Px3J5T1n1Vc/aCJ8P2x4Oj/+Zfc9jNtYP/rtez8NcTw/ppsEPiPbWT//sns/rWk+P/LSDT662lo/dnF7P8BbQD90JBc+UdpbP+wvez9hVEI/ZaogPujZXD9I4Xo/AU1EP8NkKj4N4F0/o5J6P6JFRj9YOTQ+pN9eP3E9ej/QREg/klw+PjvfXz+x4Xk/cT1KPzm0SD7T3mA/Y395PxE2TD9PQFM+9+RhPxUdeT+yLk4/CRtePo/kYj85tHg/UidQPzAqaT4m5GM/0ER4P/MfUj/GbXQ+veNkP9nOdz+TGFQ/AACAPlTjZT/iWHc/NBFWP1TjhT556WY/6+J2P0cDWD8W+4s+EOlnP2Zmdj/n+1k/Di2SPqfoaD/i6XU/+u1bP3WTmD4+6Gk/XW11P3/ZXT8tIZ8+1edqP9jwdD8FxV8/VOOlPvrtaz/henQ/irBhP83MrD6R7Ww/6gR0P/OOYz+z6rM+Ke1tP4GVcz9dbWU/7C+7PsDsbj8zM3M/OUVnP662wj7l8m8/Ad5yP4cWaT/DZMo+fPJwP+qVcj+62mo/RUfSPhPycT98YXI/X5hsPxpR2j6q8XI/RUdyP+lIbj9BguI+QfFzP0VHcj9X7G8/n83qPmb3dD8KaHI/HHxxPzMz8z799nU/k6lyP1MFcz/ImPs+lPZ2P28Scz9vgXQ/vAUCPyv2dz+conM/4ul1P/kxBj/D9Xg/HVp0PzlFdz+oVwo/5/t5P+84dT91k3g/rWkOP3/7ej+GOHY/ldR5PwpoEj8W+3s/4lh3PygPez+9UhY/rfp8P5CgeD+fPHw/xykaP9IAfj/n+3k/iGN9P5vmHT9pAH8/A3h7P1Z9fj83iSE/AACAP8gHfT8kl38/KxglPw==",
        "encoding": "base64",
        "path": [
         "color_map",
         "data"
        ]
       },
       {
        "data": "",
        "encoding": "base64",
        "path": [
         "colors",
         "data"
        ]
       },
       {
        "data": "AAAAAAIAAAABAAAAAQAAAAIAAAADAAAAAQAAAAMAAAARAAAAAAAAABAAAAACAAAAAgAAAAQAAAADAAAAAwAAAAQAAAAFAAAAAwAAAAUAAAARAAAAAgAAABAAAAAEAAAABAAAAAYAAAAFAAAABQAAAAYAAAAHAAAABQAAAAcAAAARAAAABAAAABAAAAAGAAAABgAAAAgAAAAHAAAABwAAAAgAAAAJAAAABwAAAAkAAAARAAAABgAAABAAAAAIAAAACAAAAAoAAAAJAAAACQAAAAoAAAALAAAACQAAAAsAAAARAAAACAAAABAAAAAKAAAACgAAAAwAAAALAAAACwAAAAwAAAANAAAACwAAAA0AAAARAAAACgAAABAAAAAMAAAADAAAAA4AAAANAAAADQAAAA4AAAAPAAAADQAAAA8AAAARAAAADAAAABAAAAAOAAAADgAAAAAAAAAPAAAADwAAAAAAAAABAAAADwAAAAEAAAARAAAADgAAABAAAAAAAAAA",
        "encoding": "base64",
        "path": [
         "indices",
         "data"
        ]
       },
       {
        "data": "AACAPwAAAAAAAAAAAAAAAAAAAAAAAIA/AAAAAAAAAAAAAAAAAAAAAAAAgD8AAAAAAAAAAAAAAAAAAAAAAACAPw==",
        "encoding": "base64",
        "path": [
         "model_matrix",
         "data"
        ]
       },
       {
        "data": "",
        "encoding": "base64",
        "path": [
         "opacity_function",
         "data"
        ]
       },
       {
        "data": "",
        "encoding": "base64",
        "path": [
         "triangles_attribute",
         "data"
        ]
       },
       {
        "data": "AADAfw==",
        "encoding": "base64",
        "path": [
         "uvs",
         "data"
        ]
       },
       {
        "data": "AACAPwAAAAAAAAAAAACAPwAAAAAAAMhC8wQ1P/MENT8AAAAA8wQ1P/MENT8AAMhCc4+zrAAAgD8AAAAAc4+zrAAAgD8AAMhC8wQ1v/MENT8AAAAA8wQ1v/MENT8AAMhCAACAv3OPM60AAAAAAACAv3OPM60AAMhC8wQ1v/MENb8AAAAA8wQ1v/MENb8AAMhClquGLQAAgL8AAAAAlquGLQAAgL8AAMhC8wQ1P/MENb8AAAAA8wQ1P/MENb8AAMhCAAAAAAAAAAAAAAAAAAAAAAAAAAAAAMhC",
        "encoding": "base64",
        "path": [
         "vertices",
         "data"
        ]
       },
       {
        "data": "",
        "encoding": "base64",
        "path": [
         "volume",
         "data"
        ]
       },
       {
        "data": "",
        "encoding": "base64",
        "path": [
         "volume_bounds",
         "data"
        ]
       }
      ],
      "model_module": "k3d",
      "model_module_version": "2.12.0",
      "model_name": "ObjectModel",
      "state": {
       "_view_count": null,
       "_view_module": null,
       "_view_module_version": "",
       "_view_name": null,
       "attribute": {
        "dtype": "float32",
        "shape": [
         0
        ]
       },
       "click_callback": false,
       "color": 706570,
       "colorLegend": false,
       "color_map": {
        "dtype": "float32",
        "shape": [
         1024
        ]
       },
       "color_range": [],
       "colors": {
        "dtype": "uint32",
        "shape": [
         0
        ]
       },
       "compression_level": 0,
       "flat_shading": true,
       "group": null,
       "hover_callback": false,
       "id": 7164319056,
       "indices": {
        "dtype": "uint32",
        "shape": [
         32,
         3
        ]
       },
       "model_matrix": {
        "dtype": "float32",
        "shape": [
         4,
         4
        ]
       },
       "name": "Mesh #1",
       "opacity": 1,
       "opacity_function": {
        "dtype": "float32",
        "shape": [
         0
        ]
       },
       "side": "front",
       "texture": null,
       "texture_file_format": null,
       "triangles_attribute": {
        "dtype": "float32",
        "shape": [
         0
        ]
       },
       "type": "Mesh",
       "uvs": {
        "dtype": "float32",
        "shape": []
       },
       "vertices": {
        "dtype": "float32",
        "shape": [
         18,
         3
        ]
       },
       "visible": true,
       "volume": {
        "dtype": "float32",
        "shape": [
         0
        ]
       },
       "volume_bounds": {
        "dtype": "float32",
        "shape": [
         0
        ]
       },
       "wireframe": false
      }
     },
     "135ad3aa6c62437a8cf8ba50af26270a": {
      "model_module": "@jupyter-widgets/base",
      "model_module_version": "1.2.0",
      "model_name": "LayoutModel",
      "state": {}
     },
     "13f1e765614147ab85bf21e352281084": {
      "buffers": [
       {
        "data": "",
        "encoding": "base64",
        "path": [
         "attribute",
         "data"
        ]
       },
       {
        "data": "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",
        "encoding": "base64",
        "path": [
         "color_map",
         "data"
        ]
       },
       {
        "data": "",
        "encoding": "base64",
        "path": [
         "colors",
         "data"
        ]
       },
       {
        "data": "AAAAAAEAAAAFAAAAAAAAAAUAAAAEAAAAAQAAAAIAAAAGAAAAAQAAAAYAAAAFAAAAAgAAAAMAAAAHAAAAAgAAAAcAAAAGAAAAAwAAAAAAAAAEAAAAAwAAAAQAAAAHAAAABAAAAAUAAAAJAAAABAAAAAkAAAAIAAAABQAAAAYAAAAKAAAABQAAAAoAAAAJAAAABgAAAAcAAAALAAAABgAAAAsAAAAKAAAABwAAAAQAAAAIAAAABwAAAAgAAAALAAAADAAAAA0AAAARAAAADAAAABEAAAAQAAAADQAAAA4AAAASAAAADQAAABIAAAARAAAADgAAAA8AAAATAAAADgAAABMAAAASAAAADwAAAAwAAAAQAAAADwAAABAAAAATAAAAEAAAABEAAAAVAAAAEAAAABUAAAAUAAAAEQAAABIAAAAWAAAAEQAAABYAAAAVAAAAEgAAABMAAAAXAAAAEgAAABcAAAAWAAAAEwAAABAAAAAUAAAAEwAAABQAAAAXAAAAGAAAABkAAAAdAAAAGAAAAB0AAAAcAAAAGQAAABoAAAAeAAAAGQAAAB4AAAAdAAAAGgAAABsAAAAfAAAAGgAAAB8AAAAeAAAAGwAAABgAAAAcAAAAGwAAABwAAAAfAAAAHAAAAB0AAAAhAAAAHAAAACEAAAAgAAAAHQAAAB4AAAAiAAAAHQAAACIAAAAhAAAAHgAAAB8AAAAjAAAAHgAAACMAAAAiAAAAHwAAABwAAAAgAAAAHwAAACAAAAAjAAAAJAAAACUAAAApAAAAJAAAACkAAAAoAAAAJQAAACYAAAAqAAAAJQAAACoAAAApAAAAJgAAACcAAAArAAAAJgAAACsAAAAqAAAAJwAAACQAAAAoAAAAJwAAACgAAAArAAAAKAAAACkAAAAtAAAAKAAAAC0AAAAsAAAAKQAAACoAAAAuAAAAKQAAAC4AAAAtAAAAKgAAACsAAAAvAAAAKgAAAC8AAAAuAAAAKwAAACgAAAAsAAAAKwAAACwAAAAvAAAAMAAAADEAAAA1AAAAMAAAADUAAAA0AAAAMQAAADIAAAA2AAAAMQAAADYAAAA1AAAAMgAAADMAAAA3AAAAMgAAADcAAAA2AAAAMwAAADAAAAA0AAAAMwAAADQAAAA3AAAANAAAADUAAAA5AAAANAAAADkAAAA4AAAANQAAADYAAAA6AAAANQAAADoAAAA5AAAANgAAADcAAAA7AAAANgAAADsAAAA6AAAANwAAADQAAAA4AAAANwAAADgAAAA7AAAAPAAAAD0AAABBAAAAPAAAAEEAAABAAAAAPQAAAD4AAABCAAAAPQAAAEIAAABBAAAAPgAAAD8AAABDAAAAPgAAAEMAAABCAAAAPwAAADwAAABAAAAAPwAAAEAAAABDAAAAQAAAAEEAAABFAAAAQAAAAEUAAABEAAAAQQAAAEIAAABGAAAAQQAAAEYAAABFAAAAQgAAAEMAAABHAAAAQgAAAEcAAABGAAAAQwAAAEAAAABEAAAAQwAAAEQAAABHAAAASAAAAEkAAABNAAAASAAAAE0AAABMAAAASQAAAEoAAABOAAAASQAAAE4AAABNAAAASgAAAEsAAABPAAAASgAAAE8AAABOAAAASwAAAEgAAABMAAAASwAAAEwAAABPAAAATAAAAE0AAABRAAAATAAAAFEAAABQAAAATQAAAE4AAABSAAAATQAAAFIAAABRAAAATgAAAE8AAABTAAAATgAAAFMAAABSAAAATwAAAEwAAABQAAAATwAAAFAAAABTAAAAVAAAAFUAAABZAAAAVAAAAFkAAABYAAAAVQAAAFYAAABaAAAAVQAAAFoAAABZAAAAVgAAAFcAAABbAAAAVgAAAFsAAABaAAAAVwAAAFQAAABYAAAAVwAAAFgAAABbAAAAWAAAAFkAAABdAAAAWAAAAF0AAABcAAAAWQAAAFoAAABeAAAAWQAAAF4AAABdAAAAWgAAAFsAAABfAAAAWgAAAF8AAABeAAAAWwAAAFgAAABcAAAAWwAAAFwAAABfAAAAYAAAAGEAAABlAAAAYAAAAGUAAABkAAAAYQAAAGIAAABmAAAAYQAAAGYAAABlAAAAYgAAAGMAAABnAAAAYgAAAGcAAABmAAAAYwAAAGAAAABkAAAAYwAAAGQAAABnAAAAZAAAAGUAAABpAAAAZAAAAGkAAABoAAAAZQAAAGYAAABqAAAAZQAAAGoAAABpAAAAZgAAAGcAAABrAAAAZgAAAGsAAABqAAAAZwAAAGQAAABoAAAAZwAAAGgAAABrAAAAbAAAAG0AAABxAAAAbAAAAHEAAABwAAAAbQAAAG4AAAByAAAAbQAAAHIAAABxAAAAbgAAAG8AAABzAAAAbgAAAHMAAAByAAAAbwAAAGwAAABwAAAAbwAAAHAAAABzAAAAcAAAAHEAAAB1AAAAcAAAAHUAAAB0AAAAcQAAAHIAAAB2AAAAcQAAAHYAAAB1AAAAcgAAAHMAAAB3AAAAcgAAAHcAAAB2AAAAcwAAAHAAAAB0AAAAcwAAAHQAAAB3AAAAeAAAAHkAAAB9AAAAeAAAAH0AAAB8AAAAeQAAAHoAAAB+AAAAeQAAAH4AAAB9AAAAegAAAHsAAAB/AAAAegAAAH8AAAB+AAAAewAAAHgAAAB8AAAAewAAAHwAAAB/AAAAfAAAAH0AAACBAAAAfAAAAIEAAACAAAAAfQAAAH4AAACCAAAAfQAAAIIAAACBAAAAfgAAAH8AAACDAAAAfgAAAIMAAACCAAAAfwAAAHwAAACAAAAAfwAAAIAAAACDAAAAhAAAAIUAAACJAAAAhAAAAIkAAACIAAAAhQAAAIYAAACKAAAAhQAAAIoAAACJAAAAhgAAAIcAAACLAAAAhgAAAIsAAACKAAAAhwAAAIQAAACIAAAAhwAAAIgAAACLAAAAiAAAAIkAAACNAAAAiAAAAI0AAACMAAAAiQAAAIoAAACOAAAAiQAAAI4AAACNAAAAigAAAIsAAACPAAAAigAAAI8AAACOAAAAiwAAAIgAAACMAAAAiwAAAIwAAACPAAAAkAAAAJEAAACVAAAAkAAAAJUAAACUAAAAkQAAAJIAAACWAAAAkQAAAJYAAACVAAAAkgAAAJMAAACXAAAAkgAAAJcAAACWAAAAkwAAAJAAAACUAAAAkwAAAJQAAACXAAAAlAAAAJUAAACZAAAAlAAAAJkAAACYAAAAlQAAAJYAAACaAAAAlQAAAJoAAACZAAAAlgAAAJcAAACbAAAAlgAAAJsAAACaAAAAlwAAAJQAAACYAAAAlwAAAJgAAACbAAAAnAAAAJ0AAAChAAAAnAAAAKEAAACgAAAAnQAAAJ4AAACiAAAAnQAAAKIAAAChAAAAngAAAJ8AAACjAAAAngAAAKMAAACiAAAAnwAAAJwAAACgAAAAnwAAAKAAAACjAAAAoAAAAKEAAAClAAAAoAAAAKUAAACkAAAAoQAAAKIAAACmAAAAoQAAAKYAAAClAAAAogAAAKMAAACnAAAAogAAAKcAAACmAAAAowAAAKAAAACkAAAAowAAAKQAAACnAAAAqAAAAKkAAACtAAAAqAAAAK0AAACsAAAAqQAAAKoAAACuAAAAqQAAAK4AAACtAAAAqgAAAKsAAACvAAAAqgAAAK8AAACuAAAAqwAAAKgAAACsAAAAqwAAAKwAAACvAAAArAAAAK0AAACxAAAArAAAALEAAACwAAAArQAAAK4AAACyAAAArQAAALIAAACxAAAArgAAAK8AAACzAAAArgAAALMAAACyAAAArwAAAKwAAACwAAAArwAAALAAAACzAAAAtAAAALUAAAC5AAAAtAAAALkAAAC4AAAAtQAAALYAAAC6AAAAtQAAALoAAAC5AAAAtgAAALcAAAC7AAAAtgAAALsAAAC6AAAAtwAAALQAAAC4AAAAtwAAALgAAAC7AAAAuAAAALkAAAC9AAAAuAAAAL0AAAC8AAAAuQAAALoAAAC+AAAAuQAAAL4AAAC9AAAAugAAALsAAAC/AAAAugAAAL8AAAC+AAAAuwAAALgAAAC8AAAAuwAAALwAAAC/AAAAwAAAAMEAAADFAAAAwAAAAMUAAADEAAAAwQAAAMIAAADGAAAAwQAAAMYAAADFAAAAwgAAAMMAAADHAAAAwgAAAMcAAADGAAAAwwAAAMAAAADEAAAAwwAAAMQAAADHAAAAxAAAAMUAAADJAAAAxAAAAMkAAADIAAAAxQAAAMYAAADKAAAAxQAAAMoAAADJAAAAxgAAAMcAAADLAAAAxgAAAMsAAADKAAAAxwAAAMQAAADIAAAAxwAAAMgAAADLAAAAzAAAAM0AAADRAAAAzAAAANEAAADQAAAAzQAAAM4AAADSAAAAzQAAANIAAADRAAAAzgAAAM8AAADTAAAAzgAAANMAAADSAAAAzwAAAMwAAADQAAAAzwAAANAAAADTAAAA0AAAANEAAADVAAAA0AAAANUAAADUAAAA0QAAANIAAADWAAAA0QAAANYAAADVAAAA0gAAANMAAADXAAAA0gAAANcAAADWAAAA0wAAANAAAADUAAAA0wAAANQAAADXAAAA2AAAANkAAADdAAAA2AAAAN0AAADcAAAA2QAAANoAAADeAAAA2QAAAN4AAADdAAAA2gAAANsAAADfAAAA2gAAAN8AAADeAAAA2wAAANgAAADcAAAA2wAAANwAAADfAAAA3AAAAN0AAADhAAAA3AAAAOEAAADgAAAA3QAAAN4AAADiAAAA3QAAAOIAAADhAAAA3gAAAN8AAADjAAAA3gAAAOMAAADiAAAA3wAAANwAAADgAAAA3wAAAOAAAADjAAAA5AAAAOUAAADpAAAA5AAAAOkAAADoAAAA5QAAAOYAAADqAAAA5QAAAOoAAADpAAAA5gAAAOcAAADrAAAA5gAAAOsAAADqAAAA5wAAAOQAAADoAAAA5wAAAOgAAADrAAAA6AAAAOkAAADtAAAA6AAAAO0AAADsAAAA6QAAAOoAAADuAAAA6QAAAO4AAADtAAAA6gAAAOsAAADvAAAA6gAAAO8AAADuAAAA6wAAAOgAAADsAAAA6wAAAOwAAADvAAAA8AAAAPEAAAD1AAAA8AAAAPUAAAD0AAAA8QAAAPIAAAD2AAAA8QAAAPYAAAD1AAAA8gAAAPMAAAD3AAAA8gAAAPcAAAD2AAAA8wAAAPAAAAD0AAAA8wAAAPQAAAD3AAAA9AAAAPUAAAD5AAAA9AAAAPkAAAD4AAAA9QAAAPYAAAD6AAAA9QAAAPoAAAD5AAAA9gAAAPcAAAD7AAAA9gAAAPsAAAD6AAAA9wAAAPQAAAD4AAAA9wAAAPgAAAD7AAAA/AAAAP0AAAABAQAA/AAAAAEBAAAAAQAA/QAAAP4AAAACAQAA/QAAAAIBAAABAQAA/gAAAP8AAAADAQAA/gAAAAMBAAACAQAA/wAAAPwAAAAAAQAA/wAAAAABAAADAQAAAAEAAAEBAAAFAQAAAAEAAAUBAAAEAQAAAQEAAAIBAAAGAQAAAQEAAAYBAAAFAQAAAgEAAAMBAAAHAQAAAgEAAAcBAAAGAQAAAwEAAAABAAAEAQAAAwEAAAQBAAAHAQAACAEAAAkBAAANAQAACAEAAA0BAAAMAQAACQEAAAoBAAAOAQAACQEAAA4BAAANAQAACgEAAAsBAAAPAQAACgEAAA8BAAAOAQAACwEAAAgBAAAMAQAACwEAAAwBAAAPAQAADAEAAA0BAAARAQAADAEAABEBAAAQAQAADQEAAA4BAAASAQAADQEAABIBAAARAQAADgEAAA8BAAATAQAADgEAABMBAAASAQAADwEAAAwBAAAQAQAADwEAABABAAATAQAAFAEAABUBAAAZAQAAFAEAABkBAAAYAQAAFQEAABYBAAAaAQAAFQEAABoBAAAZAQAAFgEAABcBAAAbAQAAFgEAABsBAAAaAQAAFwEAABQBAAAYAQAAFwEAABgBAAAbAQAAGAEAABkBAAAdAQAAGAEAAB0BAAAcAQAAGQEAABoBAAAeAQAAGQEAAB4BAAAdAQAAGgEAABsBAAAfAQAAGgEAAB8BAAAeAQAAGwEAABgBAAAcAQAAGwEAABwBAAAfAQAAIAEAACEBAAAlAQAAIAEAACUBAAAkAQAAIQEAACIBAAAmAQAAIQEAACYBAAAlAQAAIgEAACMBAAAnAQAAIgEAACcBAAAmAQAAIwEAACABAAAkAQAAIwEAACQBAAAnAQAAJAEAACUBAAApAQAAJAEAACkBAAAoAQAAJQEAACYBAAAqAQAAJQEAACoBAAApAQAAJgEAACcBAAArAQAAJgEAACsBAAAqAQAAJwEAACQBAAAoAQAAJwEAACgBAAArAQAALAEAAC0BAAAxAQAALAEAADEBAAAwAQAALQEAAC4BAAAyAQAALQEAADIBAAAxAQAALgEAAC8BAAAzAQAALgEAADMBAAAyAQAALwEAACwBAAAwAQAALwEAADABAAAzAQAAMAEAADEBAAA1AQAAMAEAADUBAAA0AQAAMQEAADIBAAA2AQAAMQEAADYBAAA1AQAAMgEAADMBAAA3AQAAMgEAADcBAAA2AQAAMwEAADABAAA0AQAAMwEAADQBAAA3AQAAOAEAADkBAAA9AQAAOAEAAD0BAAA8AQAAOQEAADoBAAA+AQAAOQEAAD4BAAA9AQAAOgEAADsBAAA/AQAAOgEAAD8BAAA+AQAAOwEAADgBAAA8AQAAOwEAADwBAAA/AQAAPAEAAD0BAABBAQAAPAEAAEEBAABAAQAAPQEAAD4BAABCAQAAPQEAAEIBAABBAQAAPgEAAD8BAABDAQAAPgEAAEMBAABCAQAAPwEAADwBAABAAQAAPwEAAEABAABDAQAARAEAAEUBAABJAQAARAEAAEkBAABIAQAARQEAAEYBAABKAQAARQEAAEoBAABJAQAARgEAAEcBAABLAQAARgEAAEsBAABKAQAARwEAAEQBAABIAQAARwEAAEgBAABLAQAASAEAAEkBAABNAQAASAEAAE0BAABMAQAASQEAAEoBAABOAQAASQEAAE4BAABNAQAASgEAAEsBAABPAQAASgEAAE8BAABOAQAASwEAAEgBAABMAQAASwEAAEwBAABPAQAAUAEAAFEBAABVAQAAUAEAAFUBAABUAQAAUQEAAFIBAABWAQAAUQEAAFYBAABVAQAAUgEAAFMBAABXAQAAUgEAAFcBAABWAQAAUwEAAFABAABUAQAAUwEAAFQBAABXAQAAVAEAAFUBAABZAQAAVAEAAFkBAABYAQAAVQEAAFYBAABaAQAAVQEAAFoBAABZAQAAVgEAAFcBAABbAQAAVgEAAFsBAABaAQAAVwEAAFQBAABYAQAAVwEAAFgBAABbAQAAXAEAAF0BAABhAQAAXAEAAGEBAABgAQAAXQEAAF4BAABiAQAAXQEAAGIBAABhAQAAXgEAAF8BAABjAQAAXgEAAGMBAABiAQAAXwEAAFwBAABgAQAAXwEAAGABAABjAQAAYAEAAGEBAABlAQAAYAEAAGUBAABkAQAAYQEAAGIBAABmAQAAYQEAAGYBAABlAQAAYgEAAGMBAABnAQAAYgEAAGcBAABmAQAAYwEAAGABAABkAQAAYwEAAGQBAABnAQAA",
        "encoding": "base64",
        "path": [
         "indices",
         "data"
        ]
       },
       {
        "data": "AACAPwAAAAAAAAAAAAAAAAAAAAAAAIA/AAAAAAAAAAAAAAAAAAAAAAAAgD8AAAAAAAAAAAAAAAAAAAAAAACAPw==",
        "encoding": "base64",
        "path": [
         "model_matrix",
         "data"
        ]
       },
       {
        "data": "",
        "encoding": "base64",
        "path": [
         "opacity_function",
         "data"
        ]
       },
       {
        "data": "",
        "encoding": "base64",
        "path": [
         "triangles_attribute",
         "data"
        ]
       },
       {
        "data": "AADAfw==",
        "encoding": "base64",
        "path": [
         "uvs",
         "data"
        ]
       },
       {
        "data": "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",
        "encoding": "base64",
        "path": [
         "vertices",
         "data"
        ]
       },
       {
        "data": "",
        "encoding": "base64",
        "path": [
         "volume",
         "data"
        ]
       },
       {
        "data": "",
        "encoding": "base64",
        "path": [
         "volume_bounds",
         "data"
        ]
       }
      ],
      "model_module": "k3d",
      "model_module_version": "2.12.0",
      "model_name": "ObjectModel",
      "state": {
       "_view_count": null,
       "_view_module": null,
       "_view_module_version": "",
       "_view_name": null,
       "attribute": {
        "dtype": "float32",
        "shape": [
         0
        ]
       },
       "click_callback": false,
       "color": 13132810,
       "colorLegend": false,
       "color_map": {
        "dtype": "float32",
        "shape": [
         1024
        ]
       },
       "color_range": [],
       "colors": {
        "dtype": "uint32",
        "shape": [
         0
        ]
       },
       "compression_level": 0,
       "flat_shading": true,
       "group": null,
       "hover_callback": false,
       "id": 7172881040,
       "indices": {
        "dtype": "uint32",
        "shape": [
         480,
         3
        ]
       },
       "model_matrix": {
        "dtype": "float32",
        "shape": [
         4,
         4
        ]
       },
       "name": "Mesh #2",
       "opacity": 1,
       "opacity_function": {
        "dtype": "float32",
        "shape": [
         0
        ]
       },
       "side": "front",
       "texture": null,
       "texture_file_format": null,
       "triangles_attribute": {
        "dtype": "float32",
        "shape": [
         0
        ]
       },
       "type": "Mesh",
       "uvs": {
        "dtype": "float32",
        "shape": []
       },
       "vertices": {
        "dtype": "float32",
        "shape": [
         360,
         3
        ]
       },
       "visible": true,
       "volume": {
        "dtype": "float32",
        "shape": [
         0
        ]
       },
       "volume_bounds": {
        "dtype": "float32",
        "shape": [
         0
        ]
       },
       "wireframe": false
      }
     },
     "15b9c3848ae74741a854fe559138c3d0": {
      "model_module": "@jupyter-widgets/controls",
      "model_module_version": "1.5.0",
      "model_name": "SliderStyleModel",
      "state": {
       "description_width": "initial"
      }
     },
     "16ca9703b5f740a59263522f72d7cb3f": {
      "model_module": "@jupyter-widgets/controls",
      "model_module_version": "1.5.0",
      "model_name": "FloatSliderModel",
      "state": {
       "description": "Height - Whorl 2 (cm)",
       "layout": "IPY_MODEL_38e22ac4845f4bfaacfda4ce1334752c",
       "max": 9,
       "min": 6,
       "style": "IPY_MODEL_3475ad739df84076943b317909d549f6",
       "value": 8
      }
     },
     "17c4580bc797446fa400e197b2a0c1ec": {
      "model_module": "@jupyter-widgets/base",
      "model_module_version": "1.2.0",
      "model_name": "LayoutModel",
      "state": {}
     },
     "17dd64525b3d48b6878f26cee591ff16": {
      "buffers": [
       {
        "data": "",
        "encoding": "base64",
        "path": [
         "attribute",
         "data"
        ]
       },
       {
        "data": "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",
        "encoding": "base64",
        "path": [
         "color_map",
         "data"
        ]
       },
       {
        "data": "",
        "encoding": "base64",
        "path": [
         "colors",
         "data"
        ]
       },
       {
        "data": "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",
        "encoding": "base64",
        "path": [
         "indices",
         "data"
        ]
       },
       {
        "data": "AACAPwAAAAAAAAAAAAAAAAAAAAAAAIA/AAAAAAAAAAAAAAAAAAAAAAAAgD8AAAAAAAAAAAAAAAAAAAAAAACAPw==",
        "encoding": "base64",
        "path": [
         "model_matrix",
         "data"
        ]
       },
       {
        "data": "",
        "encoding": "base64",
        "path": [
         "opacity_function",
         "data"
        ]
       },
       {
        "data": "",
        "encoding": "base64",
        "path": [
         "triangles_attribute",
         "data"
        ]
       },
       {
        "data": "AADAfw==",
        "encoding": "base64",
        "path": [
         "uvs",
         "data"
        ]
       },
       {
        "data": "AACAPwAAQL8AAABAAAAgPwAAAACP3Kw/AACAPwAAQD8AAABAAACwPwAAAAC4kSlA7NmOQAAAQL8AAAAA7NmCQAAAAADhRia/7NmOQAAAQD8AAAAA7NmaQAAAAADhRiY/Z5CqQAAAQL8AAAC/Z5CeQAAAAABxI5O/Z5CqQAAAQD8AAAC/Z5C2QAAAAACGGxk+g/6aP/nVnr4AAABAG9ITP9vqdD6P3Kw/twkjPwmtiT8AAABAUZqiP1+0Bj+4kSlAaCmNQIz5gT+amZmkFshxQGZMyD/hRia//ZV1QAmuGUCamZkkXBCPQDoJ7T/hRiY/2sOmQE9lrD8AAAC/fX6SQCi48j9xI5O/cGWUQOvjLkAAAAC/zqqoQH66C0CGGxk+VWSeP/MENT4AAABAMEbiPjBG4j6P3Kw/8wQ1PlVknj8AAABAzuZ4P87meD+4kSlAm/ZrQMAUKECamRmkNw05QDcNOUDhRia/wBQoQJv2a0CamRkkJP5aQCT+WkDhRiY/3JOJQNxFT0AAAAC/Uz5gQFM+YEBxI5O/3EVPQNyTiUAAAAC/oBeBQKAXgUCGGxk+Ca2JP7cJIz8AAABA2+p0PhvSEz+P3Kw/+dWevoP+mj8AAABAX7QGP1Gaoj+4kSlACa4ZQP2VdUCamZkjZkzIPxbIcUDhRia/jPmBP2gpjUCamZmjOgntP1wQj0DhRiY/6+MuQHBllEAAAAC/KLjyP31+kkBxI5O/T2WsP9rDpkAAAAC/froLQM6qqECGGxk+AABAPwAAgD8AAABAfn0wJAAAID+P3Kw/AABAvwAAgD8AAABApCPCJAAAsD+4kSlAAABAP+zZjkCamZkJWFaQJezZgkDhRia/AABAv+zZjkCamZmJkc+qJezZmkDhRiY/AABAP2eQqkAAAAC/AuiuJWeQnkBxI5O/AABAv2eQqkAAAAC/O2HJJWeQtkCGGxk++dWePoP+mj8AAABA2+p0vhvSEz+P3Kw/Ca2Jv7cJIz8AAABAX7QGv1Gaoj+4kSlAjPmBv2gpjUCamRmkZkzIvxbIcUDhRia/Ca4ZwP2VdUCamRkkOgntv1wQj0DhRiY/T2Wsv9rDpkAAAAC/KLjyv31+kkBxI5O/6+MuwHBllEAAAAC/froLwM6qqECGGxk+8wQ1vlVknj8AAABAMEbivjBG4j6P3Kw/VWSev/MENT4AAABAzuZ4v87meD+4kSlAwBQowJv2a0CamRmkNw05wDcNOUDhRia/m/ZrwMAUKECamRkkJP5awCT+WkDhRiY/3EVPwNyTiUAAAAC/Uz5gwFM+YEBxI5O/3JOJwNxFT0AAAAC/oBeBwKAXgUCGGxk+twkjvwmtiT8AAABAG9ITv9vqdD6P3Kw/g/6av/nVnr4AAABAUZqiv1+0Bj+4kSlA/ZV1wAmuGUCamZkjFshxwGZMyD/hRia/aCmNwIz5gT+amZmjXBCPwDoJ7T/hRiY/cGWUwOvjLkAAAAC/fX6SwCi48j9xI5O/2sOmwE9lrD8AAAC/zqqowH66C0CGGxk+AACAvwAAQD8AAABAAAAgv359sCSP3Kw/AACAvwAAQL8AAABAAACwv6QjQiW4kSlA7NmOwAAAQD+amRkK7NmCwFhWECbhRia/7NmOwAAAQL+amRmK7NmawJHPKibhRiY/Z5CqwAAAQD8AAAC/Z5CewALoLiZxI5O/Z5CqwAAAQL8AAAC/Z5C2wDthSSaGGxk+g/6av/nVnj4AAABAG9ITv9vqdL6P3Kw/twkjvwmtib8AAABAUZqiv1+0Br+4kSlAaCmNwIz5gb9mZmakFshxwGZMyL/hRia//ZV1wAmuGcBmZmYkXBCPwDoJ7b/hRiY/2sOmwE9lrL8AAAC/fX6SwCi48r9xI5O/cGWUwOvjLsAAAAC/zqqowH66C8CGGxk+VWSev/MENb4AAABAMEbivjBG4r6P3Kw/8wQ1vlVknr8AAABAzuZ4v87meL+4kSlAm/ZrwMAUKMCamRmkNw05wDcNOcDhRia/wBQowJv2a8CamRkkJP5awCT+WsDhRiY/3JOJwNxFT8AAAAC/Uz5gwFM+YMBxI5O/3EVPwNyTicAAAAC/oBeBwKAXgcCGGxk+Ca2Jv7cJI78AAABA2+p0vhvSE7+P3Kw/+dWePoP+mr8AAABAX7QGv1Gaor+4kSlACa4ZwP2VdcCamRkkZkzIvxbIccDhRia/jPmBv2gpjcCamRmkOgntv1wQj8DhRiY/6+MuwHBllMAAAAC/KLjyv31+ksBxI5O/T2Wsv9rDpsAAAAC/froLwM6qqMCGGxk+AABAvwAAgL8AAABAHl4EpQAAIL+P3Kw/AABAPwAAgL8AAABAu5qRpQAAsL+4kSlAAABAv+zZjsCamRmKhIFYpuzZgsDhRia/AABAP+zZjsCamRkKrRuApuzZmsDhRiY/AABAv2eQqsAAAAC/AS6DpmeQnsBxI5O/AABAP2eQqsAAAAC/7AiXpmeQtsCGGxk++dWevoP+mr8AAABA2+p0PhvSE7+P3Kw/Ca2JP7cJI78AAABAX7QGP1Gaor+4kSlAjPmBP2gpjcBmZmakZkzIPxbIccDhRia/Ca4ZQP2VdcBmZmYkOgntP1wQj8DhRiY/T2WsP9rDpsAAAAC/KLjyP31+ksBxI5O/6+MuQHBllMAAAAC/froLQM6qqMCGGxk+8wQ1PlVknr8AAABAMEbiPjBG4r6P3Kw/VWSeP/MENb4AAABAzuZ4P87meL+4kSlAwBQoQJv2a8CamRmkNw05QDcNOcDhRia/m/ZrQMAUKMCamRkkJP5aQCT+WsDhRiY/3EVPQNyTicAAAAC/Uz5gQFM+YMBxI5O/3JOJQNxFT8AAAAC/oBeBQKAXgcCGGxk+twkjPwmtib8AAABAG9ITP9vqdL6P3Kw/g/6aP/nVnj4AAABAUZqiP1+0Br+4kSlA/ZV1QAmuGcAAAAAAFshxQGZMyL/hRia/aCmNQIz5gb8AAAAAXBCPQDoJ7b/hRiY/cGWUQOvjLsAAAAC/fX6SQCi48r9xI5O/2sOmQE9lrL8AAAC/zqqoQH66C8CGGxk+AACAPwAAgL4AAABB8xpKPwAAAAB9r/tAAACAPwAAgD4AAABBh/KaPwAAAABCKAJBg/PDQAAAgL4AAAAA4Ta9QAAAAABuEAq+g/PDQAAAgD4AAAAAJLDKQAAAAABuEAo+g/MzQQAAgL4AAADBMpUwQQAAAABCKALBg/MzQQAAgD4AAADB01E3QQAAAAB9r/vAUzWBPyCmVT4AAABBLhc2P2Bhrz59r/tAJeFKP3u8KD8AAABBTpqLP1J1Bj9CKAJBWwS0QOWfG0AAAAAA7HmqQK8xJEBuEAq+KxOtQKJ0OEAAAAAAmp22QNjiL0BuEAo+sd0jQbTylEAAAADBeRgfQZk7mUBCKALBGGUgQRJdo0AAAADBUColQS0Un0B9r/vAjqZRP9o+ID8AAABBaQX8PiMDHj99r/tAACfbPl0NcD8AAABBWTdBPxRJcj9CKAJBoW2AQIE2lEAAAAAAS/JrQArvk0BuEAq+ftZnQFIwnkAAAAAAdL98QMh3nkBuEAo+cKbmQJQyCkEAAADB9THcQNgOCkFCKALBDiTaQHwvD0EAAADBiZjkQDdTD0F9r/vAtLjuPhhXaz8AAABB/+MzPr4JRT99r/tAycKtvFTpgz8AAABBiOqJPgEQlz9CKAJBVpzNPxVCvUA2lFciqGqoP2p4uEBuEAq+HTePP4fRwEA2lFeiy2i0PzObxUBuEAo+P8UvQKSMLkEAAADBaSwdQM4nLEFCKALBo5IQQF1UMEEAAADBeisjQDO5MkF9r/vAycKtPFTpgz8AAABB/+Mzvr4JRT99r/tAtLjuvhhXaz8AAABBiOqJvgEQlz9CKAJBHTePv4fRwEAAAAAAqGqov2p4uEBuEAq+VpzNvxVCvUAAAAAAy2i0vzObxUBuEAo+o5IQwF1UMEEAAADBaSwdwM4nLEFCKALBP8UvwKSMLkEAAADBeisjwDO5MkF9r/vAACfbvl0NcD8AAABBaQX8viMDHj99r/tAjqZRv9o+ID8AAABBWTdBvxRJcj9CKAJBftZnwFIwnkA2lFejS/JrwArvk0BuEAq+oW2AwIE2lEA2lFcjdL98wMh3nkBuEAo+DiTawHwvD0EAAADB9THcwNgOCkFCKALBcKbmwJQyCkEAAADBiZjkwDdTD0F9r/vAJeFKv3u8KD8AAABBLhc2v2Bhrz59r/tAUzWBvyCmVT4AAABBTpqLv1J1Bj9CKAJBKxOtwKJ0OEA2lNei7HmqwK8xJEBuEAq+WwS0wOWfG0A2lNcimp22wNjiL0BuEAo+GGUgwRJdo0AAAADBeRgfwZk7mUBCKALBsd0jwbTylEAAAADBUColwS0Un0B9r/vAAACAvwAAgD4AAABB8xpKvxxfkqV9r/tAAACAvwAAgL4AAABBh/Kav7Nv4KVCKAJBg/PDwAAAgD42lNeJ4Ta9wBYJCaduEAq+g/PDwAAAgL42lNcJJLDKwCnLEqduEAo+g/MzwQAAgD4AAADBMpUwwUjGf6dCKALBg/MzwQAAgL4AAADB01E3wS7EhKd9r/vAUzWBvyCmVb4AAABBLhc2v2Bhr759r/tAJeFKv3u8KL8AAABBTpqLv1J1Br9CKAJBWwS0wOWfG8A2lNei7HmqwK8xJMBuEAq+KxOtwKJ0OMA2lNcimp22wNjiL8BuEAo+sd0jwbTylMAAAADBeRgfwZk7mcBCKALBGGUgwRJdo8AAAADBUColwS0Un8B9r/vAjqZRv9o+IL8AAABBaQX8viMDHr99r/tAACfbvl0NcL8AAABBWTdBvxRJcr9CKAJBoW2AwIE2lMA2lFejS/JrwArvk8BuEAq+ftZnwFIwnsA2lFcjdL98wMh3nsBuEAo+cKbmwJQyCsEAAADB9THcwNgOCsFCKALBDiTawHwvD8EAAADBiZjkwDdTD8F9r/vAtLjuvhhXa78AAABB/+Mzvr4JRb99r/tAycKtPFTpg78AAABBiOqJvgEQl79CKAJBVpzNvxVCvcAAAAAAqGqov2p4uMBuEAq+HTePv4fRwMAAAAAAy2i0vzObxcBuEAo+P8UvwKSMLsEAAADBaSwdwM4nLMFCKALBo5IQwF1UMMEAAADBeisjwDO5MsF9r/vAycKtvFTpg78AAABB/+MzPr4JRb99r/tAtLjuPhhXa78AAABBiOqJPgEQl79CKAJBHTePP4fRwMA2lNeiqGqoP2p4uMBuEAq+VpzNPxVCvcA2lNciy2i0PzObxcBuEAo+o5IQQF1UMMEAAADBaSwdQM4nLMFCKALBP8UvQKSMLsEAAADBeisjQDO5MsF9r/vAACfbPl0NcL8AAABBaQX8PiMDHr99r/tAjqZRP9o+IL8AAABBWTdBPxRJcr9CKAJBftZnQFIwnsA2lFcjS/JrQArvk8BuEAq+oW2AQIE2lMA2lFejdL98QMh3nsBuEAo+DiTaQHwvD8EAAADB9THcQNgOCsFCKALBcKbmQJQyCsEAAADBiZjkQDdTD8F9r/vAJeFKP3u8KL8AAABBLhc2P2Bhr759r/tAUzWBPyCmVb4AAABBTpqLP1J1Br9CKAJBKxOtQKJ0OMAor6Gj7HmqQK8xJMBuEAq+WwS0QOWfG8Aor6Ejmp22QNjiL8BuEAo+GGUgQRJdo8AAAADBeRgfQZk7mcBCKALBsd0jQbTylMAAAADBUColQS0Un8B9r/vA",
        "encoding": "base64",
        "path": [
         "vertices",
         "data"
        ]
       },
       {
        "data": "",
        "encoding": "base64",
        "path": [
         "volume",
         "data"
        ]
       },
       {
        "data": "",
        "encoding": "base64",
        "path": [
         "volume_bounds",
         "data"
        ]
       }
      ],
      "model_module": "k3d",
      "model_module_version": "2.12.0",
      "model_name": "ObjectModel",
      "state": {
       "_view_count": null,
       "_view_module": null,
       "_view_module_version": "",
       "_view_name": null,
       "attribute": {
        "dtype": "float32",
        "shape": [
         0
        ]
       },
       "click_callback": false,
       "color": 13132810,
       "colorLegend": false,
       "color_map": {
        "dtype": "float32",
        "shape": [
         1024
        ]
       },
       "color_range": [],
       "colors": {
        "dtype": "uint32",
        "shape": [
         0
        ]
       },
       "compression_level": 0,
       "flat_shading": true,
       "group": null,
       "hover_callback": false,
       "id": 7164318144,
       "indices": {
        "dtype": "uint32",
        "shape": [
         480,
         3
        ]
       },
       "model_matrix": {
        "dtype": "float32",
        "shape": [
         4,
         4
        ]
       },
       "name": "Mesh #2",
       "opacity": 1,
       "opacity_function": {
        "dtype": "float32",
        "shape": [
         0
        ]
       },
       "side": "front",
       "texture": null,
       "texture_file_format": null,
       "triangles_attribute": {
        "dtype": "float32",
        "shape": [
         0
        ]
       },
       "type": "Mesh",
       "uvs": {
        "dtype": "float32",
        "shape": []
       },
       "vertices": {
        "dtype": "float32",
        "shape": [
         360,
         3
        ]
       },
       "visible": true,
       "volume": {
        "dtype": "float32",
        "shape": [
         0
        ]
       },
       "volume_bounds": {
        "dtype": "float32",
        "shape": [
         0
        ]
       },
       "wireframe": false
      }
     },
     "17f4ff362e0444419d89daeafb5cc722": {
      "model_module": "@jupyter-widgets/base",
      "model_module_version": "1.2.0",
      "model_name": "LayoutModel",
      "state": {}
     },
     "1badaebdfed943778bfd314bd5a92326": {
      "model_module": "@jupyter-widgets/base",
      "model_module_version": "1.2.0",
      "model_name": "LayoutModel",
      "state": {}
     },
     "1e3954bc81d54fea8e83d337fdd8c6b9": {
      "model_module": "@jupyter-widgets/base",
      "model_module_version": "1.2.0",
      "model_name": "LayoutModel",
      "state": {}
     },
     "20e208be86aa4688a64a6186d5ed7ce2": {
      "model_module": "@jupyter-widgets/base",
      "model_module_version": "1.2.0",
      "model_name": "LayoutModel",
      "state": {}
     },
     "233e8e4aca2644b1bf276154200e5103": {
      "model_module": "@jupyter-widgets/controls",
      "model_module_version": "1.5.0",
      "model_name": "FloatSliderModel",
      "state": {
       "description": "Diameter - Whorl 2 (cm)",
       "layout": "IPY_MODEL_275cb7af5ff944ae90a7471a8bb4ba92",
       "max": 5,
       "min": 1,
       "style": "IPY_MODEL_293df86e1f6b45e3bb1cc6958c065623",
       "value": 1
      }
     },
     "23d295381f644c95bfcbcb96530bcbd9": {
      "buffers": [
       {
        "data": "",
        "encoding": "base64",
        "path": [
         "attribute",
         "data"
        ]
       },
       {
        "data": "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",
        "encoding": "base64",
        "path": [
         "color_map",
         "data"
        ]
       },
       {
        "data": "",
        "encoding": "base64",
        "path": [
         "colors",
         "data"
        ]
       },
       {
        "data": "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",
        "encoding": "base64",
        "path": [
         "indices",
         "data"
        ]
       },
       {
        "data": "AACAPwAAAAAAAAAAAAAAAAAAAAAAAIA/AAAAAAAAAAAAAAAAAAAAAAAAgD8AAAAAAAAAAAAAAAAAAAAAAACAPw==",
        "encoding": "base64",
        "path": [
         "model_matrix",
         "data"
        ]
       },
       {
        "data": "",
        "encoding": "base64",
        "path": [
         "opacity_function",
         "data"
        ]
       },
       {
        "data": "",
        "encoding": "base64",
        "path": [
         "triangles_attribute",
         "data"
        ]
       },
       {
        "data": "AADAfw==",
        "encoding": "base64",
        "path": [
         "uvs",
         "data"
        ]
       },
       {
        "data": "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",
        "encoding": "base64",
        "path": [
         "vertices",
         "data"
        ]
       },
       {
        "data": "",
        "encoding": "base64",
        "path": [
         "volume",
         "data"
        ]
       },
       {
        "data": "",
        "encoding": "base64",
        "path": [
         "volume_bounds",
         "data"
        ]
       }
      ],
      "model_module": "k3d",
      "model_module_version": "2.12.0",
      "model_name": "ObjectModel",
      "state": {
       "_view_count": null,
       "_view_module": null,
       "_view_module_version": "",
       "_view_name": null,
       "attribute": {
        "dtype": "float32",
        "shape": [
         0
        ]
       },
       "click_callback": false,
       "color": 13132810,
       "colorLegend": false,
       "color_map": {
        "dtype": "float32",
        "shape": [
         1024
        ]
       },
       "color_range": [],
       "colors": {
        "dtype": "uint32",
        "shape": [
         0
        ]
       },
       "compression_level": 0,
       "flat_shading": true,
       "group": null,
       "hover_callback": false,
       "id": 7164303488,
       "indices": {
        "dtype": "uint32",
        "shape": [
         480,
         3
        ]
       },
       "model_matrix": {
        "dtype": "float32",
        "shape": [
         4,
         4
        ]
       },
       "name": "Mesh #2",
       "opacity": 1,
       "opacity_function": {
        "dtype": "float32",
        "shape": [
         0
        ]
       },
       "side": "front",
       "texture": null,
       "texture_file_format": null,
       "triangles_attribute": {
        "dtype": "float32",
        "shape": [
         0
        ]
       },
       "type": "Mesh",
       "uvs": {
        "dtype": "float32",
        "shape": []
       },
       "vertices": {
        "dtype": "float32",
        "shape": [
         360,
         3
        ]
       },
       "visible": true,
       "volume": {
        "dtype": "float32",
        "shape": [
         0
        ]
       },
       "volume_bounds": {
        "dtype": "float32",
        "shape": [
         0
        ]
       },
       "wireframe": false
      }
     },
     "252fd2498c674b3094a94f2be278ff80": {
      "model_module": "@jupyter-widgets/controls",
      "model_module_version": "1.5.0",
      "model_name": "SliderStyleModel",
      "state": {
       "description_width": "initial"
      }
     },
     "275cb7af5ff944ae90a7471a8bb4ba92": {
      "model_module": "@jupyter-widgets/base",
      "model_module_version": "1.2.0",
      "model_name": "LayoutModel",
      "state": {}
     },
     "275ed93268da4a3d8207bc7515e08fc9": {
      "model_module": "@jupyter-widgets/base",
      "model_module_version": "1.2.0",
      "model_name": "LayoutModel",
      "state": {}
     },
     "293df86e1f6b45e3bb1cc6958c065623": {
      "model_module": "@jupyter-widgets/controls",
      "model_module_version": "1.5.0",
      "model_name": "SliderStyleModel",
      "state": {
       "description_width": "initial"
      }
     },
     "296fd693b30a42939986c2c2feec3918": {
      "model_module": "@jupyter-widgets/base",
      "model_module_version": "1.2.0",
      "model_name": "LayoutModel",
      "state": {}
     },
     "2a1752fb8cf942ab88d61f5da6b2f02b": {
      "model_module": "@jupyter-widgets/base",
      "model_module_version": "1.2.0",
      "model_name": "LayoutModel",
      "state": {}
     },
     "2a6020c397ca46de90a1b1948927d259": {
      "buffers": [
       {
        "data": "",
        "encoding": "base64",
        "path": [
         "attribute",
         "data"
        ]
       },
       {
        "data": "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",
        "encoding": "base64",
        "path": [
         "color_map",
         "data"
        ]
       },
       {
        "data": "",
        "encoding": "base64",
        "path": [
         "colors",
         "data"
        ]
       },
       {
        "data": "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",
        "encoding": "base64",
        "path": [
         "indices",
         "data"
        ]
       },
       {
        "data": "AACAPwAAAAAAAAAAAAAAAAAAAAAAAIA/AAAAAAAAAAAAAAAAAAAAAAAAgD8AAAAAAAAAAAAAAAAAAAAAAACAPw==",
        "encoding": "base64",
        "path": [
         "model_matrix",
         "data"
        ]
       },
       {
        "data": "",
        "encoding": "base64",
        "path": [
         "opacity_function",
         "data"
        ]
       },
       {
        "data": "",
        "encoding": "base64",
        "path": [
         "triangles_attribute",
         "data"
        ]
       },
       {
        "data": "AADAfw==",
        "encoding": "base64",
        "path": [
         "uvs",
         "data"
        ]
       },
       {
        "data": "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",
        "encoding": "base64",
        "path": [
         "vertices",
         "data"
        ]
       },
       {
        "data": "",
        "encoding": "base64",
        "path": [
         "volume",
         "data"
        ]
       },
       {
        "data": "",
        "encoding": "base64",
        "path": [
         "volume_bounds",
         "data"
        ]
       }
      ],
      "model_module": "k3d",
      "model_module_version": "2.12.0",
      "model_name": "ObjectModel",
      "state": {
       "_view_count": null,
       "_view_module": null,
       "_view_module_version": "",
       "_view_name": null,
       "attribute": {
        "dtype": "float32",
        "shape": [
         0
        ]
       },
       "click_callback": false,
       "color": 13132810,
       "colorLegend": false,
       "color_map": {
        "dtype": "float32",
        "shape": [
         1024
        ]
       },
       "color_range": [],
       "colors": {
        "dtype": "uint32",
        "shape": [
         0
        ]
       },
       "compression_level": 0,
       "flat_shading": true,
       "group": null,
       "hover_callback": false,
       "id": 7164321408,
       "indices": {
        "dtype": "uint32",
        "shape": [
         480,
         3
        ]
       },
       "model_matrix": {
        "dtype": "float32",
        "shape": [
         4,
         4
        ]
       },
       "name": "Mesh #2",
       "opacity": 1,
       "opacity_function": {
        "dtype": "float32",
        "shape": [
         0
        ]
       },
       "side": "front",
       "texture": null,
       "texture_file_format": null,
       "triangles_attribute": {
        "dtype": "float32",
        "shape": [
         0
        ]
       },
       "type": "Mesh",
       "uvs": {
        "dtype": "float32",
        "shape": []
       },
       "vertices": {
        "dtype": "float32",
        "shape": [
         360,
         3
        ]
       },
       "visible": true,
       "volume": {
        "dtype": "float32",
        "shape": [
         0
        ]
       },
       "volume_bounds": {
        "dtype": "float32",
        "shape": [
         0
        ]
       },
       "wireframe": false
      }
     },
     "2c880b732d0643498928911a5ceee53e": {
      "model_module": "@jupyter-widgets/controls",
      "model_module_version": "1.5.0",
      "model_name": "SliderStyleModel",
      "state": {
       "description_width": "initial"
      }
     },
     "2d1d50e6b1d842e38f69e92a95bcbb2b": {
      "model_module": "@jupyter-widgets/base",
      "model_module_version": "1.2.0",
      "model_name": "LayoutModel",
      "state": {}
     },
     "2d5dbcc377e64cd58e7c0e18b7df3457": {
      "model_module": "@jupyter-widgets/base",
      "model_module_version": "1.2.0",
      "model_name": "LayoutModel",
      "state": {}
     },
     "2d981fd7844844f3a79b6b30594db95e": {
      "model_module": "@jupyter-widgets/base",
      "model_module_version": "1.2.0",
      "model_name": "LayoutModel",
      "state": {}
     },
     "31a8830f8db44b2fb612eb129f8f3bc2": {
      "model_module": "k3d",
      "model_module_version": "2.12.0",
      "model_name": "PlotModel",
      "state": {
       "_backend_version": "2.12.0",
       "_dom_classes": [],
       "_view_count": null,
       "antialias": 3,
       "auto_rendering": true,
       "axes": [
        "x",
        "y",
        "z"
       ],
       "axes_helper": 1,
       "background_color": 16777215,
       "camera": [
        93.68724038900322,
        -140.53086058350482,
        55.30130975514804,
        0,
        0,
        45.93258571624756,
        0,
        0,
        1
       ],
       "camera_animation": [],
       "camera_auto_fit": true,
       "camera_damping_factor": 0,
       "camera_fov": 60,
       "camera_mode": "trackball",
       "camera_no_pan": false,
       "camera_no_rotate": false,
       "camera_no_zoom": false,
       "camera_pan_speed": 0.3,
       "camera_rotate_speed": 1,
       "camera_zoom_speed": 1.2,
       "clipping_planes": [],
       "colorbar_object_id": -1,
       "colorbar_scientific": false,
       "fps": 25,
       "fps_meter": false,
       "grid": [
        -1,
        -1,
        -1,
        1,
        1,
        1
       ],
       "grid_auto_fit": true,
       "grid_color": 15132390,
       "grid_visible": true,
       "height": 512,
       "label_color": 4473924,
       "layout": "IPY_MODEL_d1a6faac50614a388114075313c67c07",
       "lighting": 3,
       "logarithmic_depth_buffer": true,
       "manipulate_mode": "translate",
       "menu_visibility": true,
       "mode": "view",
       "name": null,
       "object_ids": [
        7164345696,
        7172157600
       ],
       "rendering_steps": 1,
       "screenshot": "",
       "screenshot_scale": 2,
       "snapshot": "",
       "snapshot_type": "full",
       "time": 0,
       "voxel_paint_color": 0
      }
     },
     "32779065444f4c15ad24ec1aa71b5cee": {
      "buffers": [
       {
        "data": "",
        "encoding": "base64",
        "path": [
         "attribute",
         "data"
        ]
       },
       {
        "data": "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",
        "encoding": "base64",
        "path": [
         "color_map",
         "data"
        ]
       },
       {
        "data": "",
        "encoding": "base64",
        "path": [
         "colors",
         "data"
        ]
       },
       {
        "data": "AAAAAAIAAAABAAAAAQAAAAIAAAADAAAAAQAAAAMAAAARAAAAAAAAABAAAAACAAAAAgAAAAQAAAADAAAAAwAAAAQAAAAFAAAAAwAAAAUAAAARAAAAAgAAABAAAAAEAAAABAAAAAYAAAAFAAAABQAAAAYAAAAHAAAABQAAAAcAAAARAAAABAAAABAAAAAGAAAABgAAAAgAAAAHAAAABwAAAAgAAAAJAAAABwAAAAkAAAARAAAABgAAABAAAAAIAAAACAAAAAoAAAAJAAAACQAAAAoAAAALAAAACQAAAAsAAAARAAAACAAAABAAAAAKAAAACgAAAAwAAAALAAAACwAAAAwAAAANAAAACwAAAA0AAAARAAAACgAAABAAAAAMAAAADAAAAA4AAAANAAAADQAAAA4AAAAPAAAADQAAAA8AAAARAAAADAAAABAAAAAOAAAADgAAAAAAAAAPAAAADwAAAAAAAAABAAAADwAAAAEAAAARAAAADgAAABAAAAAAAAAA",
        "encoding": "base64",
        "path": [
         "indices",
         "data"
        ]
       },
       {
        "data": "AACAPwAAAAAAAAAAAAAAAAAAAAAAAIA/AAAAAAAAAAAAAAAAAAAAAAAAgD8AAAAAAAAAAAAAAAAAAAAAAACAPw==",
        "encoding": "base64",
        "path": [
         "model_matrix",
         "data"
        ]
       },
       {
        "data": "",
        "encoding": "base64",
        "path": [
         "opacity_function",
         "data"
        ]
       },
       {
        "data": "",
        "encoding": "base64",
        "path": [
         "triangles_attribute",
         "data"
        ]
       },
       {
        "data": "AADAfw==",
        "encoding": "base64",
        "path": [
         "uvs",
         "data"
        ]
       },
       {
        "data": "AACAPwAAAAAAAAAAAACAPwAAAAAAAMhC8wQ1P/MENT8AAAAA8wQ1P/MENT8AAMhCc4+zrAAAgD8AAAAAc4+zrAAAgD8AAMhC8wQ1v/MENT8AAAAA8wQ1v/MENT8AAMhCAACAv3OPM60AAAAAAACAv3OPM60AAMhC8wQ1v/MENb8AAAAA8wQ1v/MENb8AAMhClquGLQAAgL8AAAAAlquGLQAAgL8AAMhC8wQ1P/MENb8AAAAA8wQ1P/MENb8AAMhCAAAAAAAAAAAAAAAAAAAAAAAAAAAAAMhC",
        "encoding": "base64",
        "path": [
         "vertices",
         "data"
        ]
       },
       {
        "data": "",
        "encoding": "base64",
        "path": [
         "volume",
         "data"
        ]
       },
       {
        "data": "",
        "encoding": "base64",
        "path": [
         "volume_bounds",
         "data"
        ]
       }
      ],
      "model_module": "k3d",
      "model_module_version": "2.12.0",
      "model_name": "ObjectModel",
      "state": {
       "_view_count": null,
       "_view_module": null,
       "_view_module_version": "",
       "_view_name": null,
       "attribute": {
        "dtype": "float32",
        "shape": [
         0
        ]
       },
       "click_callback": false,
       "color": 706570,
       "colorLegend": false,
       "color_map": {
        "dtype": "float32",
        "shape": [
         1024
        ]
       },
       "color_range": [],
       "colors": {
        "dtype": "uint32",
        "shape": [
         0
        ]
       },
       "compression_level": 0,
       "flat_shading": true,
       "group": null,
       "hover_callback": false,
       "id": 7164312496,
       "indices": {
        "dtype": "uint32",
        "shape": [
         32,
         3
        ]
       },
       "model_matrix": {
        "dtype": "float32",
        "shape": [
         4,
         4
        ]
       },
       "name": "Mesh #1",
       "opacity": 1,
       "opacity_function": {
        "dtype": "float32",
        "shape": [
         0
        ]
       },
       "side": "front",
       "texture": null,
       "texture_file_format": null,
       "triangles_attribute": {
        "dtype": "float32",
        "shape": [
         0
        ]
       },
       "type": "Mesh",
       "uvs": {
        "dtype": "float32",
        "shape": []
       },
       "vertices": {
        "dtype": "float32",
        "shape": [
         18,
         3
        ]
       },
       "visible": true,
       "volume": {
        "dtype": "float32",
        "shape": [
         0
        ]
       },
       "volume_bounds": {
        "dtype": "float32",
        "shape": [
         0
        ]
       },
       "wireframe": false
      }
     },
     "329c73ef10054b0e900084e4d3dd3229": {
      "model_module": "@jupyter-widgets/base",
      "model_module_version": "1.2.0",
      "model_name": "LayoutModel",
      "state": {}
     },
     "3475ad739df84076943b317909d549f6": {
      "model_module": "@jupyter-widgets/controls",
      "model_module_version": "1.5.0",
      "model_name": "SliderStyleModel",
      "state": {
       "description_width": "initial"
      }
     },
     "3502eb21344c4a9692b7dbad434dfec1": {
      "buffers": [
       {
        "data": "",
        "encoding": "base64",
        "path": [
         "attribute",
         "data"
        ]
       },
       {
        "data": "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",
        "encoding": "base64",
        "path": [
         "color_map",
         "data"
        ]
       },
       {
        "data": "",
        "encoding": "base64",
        "path": [
         "colors",
         "data"
        ]
       },
       {
        "data": "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",
        "encoding": "base64",
        "path": [
         "indices",
         "data"
        ]
       },
       {
        "data": "AACAPwAAAAAAAAAAAAAAAAAAAAAAAIA/AAAAAAAAAAAAAAAAAAAAAAAAgD8AAAAAAAAAAAAAAAAAAAAAAACAPw==",
        "encoding": "base64",
        "path": [
         "model_matrix",
         "data"
        ]
       },
       {
        "data": "",
        "encoding": "base64",
        "path": [
         "opacity_function",
         "data"
        ]
       },
       {
        "data": "",
        "encoding": "base64",
        "path": [
         "triangles_attribute",
         "data"
        ]
       },
       {
        "data": "AADAfw==",
        "encoding": "base64",
        "path": [
         "uvs",
         "data"
        ]
       },
       {
        "data": "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",
        "encoding": "base64",
        "path": [
         "vertices",
         "data"
        ]
       },
       {
        "data": "",
        "encoding": "base64",
        "path": [
         "volume",
         "data"
        ]
       },
       {
        "data": "",
        "encoding": "base64",
        "path": [
         "volume_bounds",
         "data"
        ]
       }
      ],
      "model_module": "k3d",
      "model_module_version": "2.12.0",
      "model_name": "ObjectModel",
      "state": {
       "_view_count": null,
       "_view_module": null,
       "_view_module_version": "",
       "_view_name": null,
       "attribute": {
        "dtype": "float32",
        "shape": [
         0
        ]
       },
       "click_callback": false,
       "color": 13132810,
       "colorLegend": false,
       "color_map": {
        "dtype": "float32",
        "shape": [
         1024
        ]
       },
       "color_range": [],
       "colors": {
        "dtype": "uint32",
        "shape": [
         0
        ]
       },
       "compression_level": 0,
       "flat_shading": true,
       "group": null,
       "hover_callback": false,
       "id": 7172009408,
       "indices": {
        "dtype": "uint32",
        "shape": [
         480,
         3
        ]
       },
       "model_matrix": {
        "dtype": "float32",
        "shape": [
         4,
         4
        ]
       },
       "name": "Mesh #2",
       "opacity": 1,
       "opacity_function": {
        "dtype": "float32",
        "shape": [
         0
        ]
       },
       "side": "front",
       "texture": null,
       "texture_file_format": null,
       "triangles_attribute": {
        "dtype": "float32",
        "shape": [
         0
        ]
       },
       "type": "Mesh",
       "uvs": {
        "dtype": "float32",
        "shape": []
       },
       "vertices": {
        "dtype": "float32",
        "shape": [
         360,
         3
        ]
       },
       "visible": true,
       "volume": {
        "dtype": "float32",
        "shape": [
         0
        ]
       },
       "volume_bounds": {
        "dtype": "float32",
        "shape": [
         0
        ]
       },
       "wireframe": false
      }
     },
     "3644b0e5aa9b428fbe644ba44300ab4f": {
      "model_module": "k3d",
      "model_module_version": "2.12.0",
      "model_name": "PlotModel",
      "state": {
       "_backend_version": "2.12.0",
       "_dom_classes": [],
       "_view_count": null,
       "antialias": 3,
       "auto_rendering": true,
       "axes": [
        "x",
        "y",
        "z"
       ],
       "axes_helper": 1,
       "background_color": 16777215,
       "camera": [
        161.8634863003058,
        -242.79522945045872,
        62.11893434627848,
        0,
        0,
        45.93258571624756,
        0,
        0,
        1
       ],
       "camera_animation": [],
       "camera_auto_fit": true,
       "camera_damping_factor": 0,
       "camera_fov": 60,
       "camera_mode": "trackball",
       "camera_no_pan": false,
       "camera_no_rotate": false,
       "camera_no_zoom": false,
       "camera_pan_speed": 0.3,
       "camera_rotate_speed": 1,
       "camera_zoom_speed": 1.2,
       "clipping_planes": [],
       "colorbar_object_id": -1,
       "colorbar_scientific": false,
       "fps": 25,
       "fps_meter": false,
       "grid": [
        -1,
        -1,
        -1,
        1,
        1,
        1
       ],
       "grid_auto_fit": true,
       "grid_color": 15132390,
       "grid_visible": true,
       "height": 512,
       "label_color": 4473924,
       "layout": "IPY_MODEL_6e96fb26f5bf496c86275f828f65bb19",
       "lighting": 3,
       "logarithmic_depth_buffer": true,
       "manipulate_mode": "translate",
       "menu_visibility": true,
       "mode": "view",
       "name": null,
       "object_ids": [
        7172809632,
        7172810544
       ],
       "rendering_steps": 1,
       "screenshot": "",
       "screenshot_scale": 2,
       "snapshot": "",
       "snapshot_type": "full",
       "time": 0,
       "voxel_paint_color": 0
      }
     },
     "36db3e59467147d4b7f0903f5a6897f7": {
      "model_module": "@jupyter-widgets/base",
      "model_module_version": "1.2.0",
      "model_name": "LayoutModel",
      "state": {}
     },
     "389d296a47a447c086183ebc0f6a8070": {
      "model_module": "k3d",
      "model_module_version": "2.12.0",
      "model_name": "PlotModel",
      "state": {
       "_backend_version": "2.12.0",
       "_dom_classes": [],
       "_view_count": null,
       "antialias": 3,
       "auto_rendering": true,
       "axes": [
        "x",
        "y",
        "z"
       ],
       "axes_helper": 1,
       "background_color": 16777215,
       "camera": [
        93.68724038900322,
        -140.53086058350482,
        55.30130975514804,
        0,
        0,
        45.93258571624756,
        0,
        0,
        1
       ],
       "camera_animation": [],
       "camera_auto_fit": true,
       "camera_damping_factor": 0,
       "camera_fov": 60,
       "camera_mode": "trackball",
       "camera_no_pan": false,
       "camera_no_rotate": false,
       "camera_no_zoom": false,
       "camera_pan_speed": 0.3,
       "camera_rotate_speed": 1,
       "camera_zoom_speed": 1.2,
       "clipping_planes": [],
       "colorbar_object_id": -1,
       "colorbar_scientific": false,
       "fps": 25,
       "fps_meter": false,
       "grid": [
        -1,
        -1,
        -1,
        1,
        1,
        1
       ],
       "grid_auto_fit": true,
       "grid_color": 15132390,
       "grid_visible": true,
       "height": 512,
       "label_color": 4473924,
       "layout": "IPY_MODEL_516ba50c993d49ffb00fc404cc608c33",
       "lighting": 3,
       "logarithmic_depth_buffer": true,
       "manipulate_mode": "translate",
       "menu_visibility": true,
       "mode": "view",
       "name": null,
       "object_ids": [
        7164304736,
        7164303728
       ],
       "rendering_steps": 1,
       "screenshot": "",
       "screenshot_scale": 2,
       "snapshot": "",
       "snapshot_type": "full",
       "time": 0,
       "voxel_paint_color": 0
      }
     },
     "38cc74b813f348c48f0ee00b744b214f": {
      "buffers": [
       {
        "data": "",
        "encoding": "base64",
        "path": [
         "attribute",
         "data"
        ]
       },
       {
        "data": "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",
        "encoding": "base64",
        "path": [
         "color_map",
         "data"
        ]
       },
       {
        "data": "",
        "encoding": "base64",
        "path": [
         "colors",
         "data"
        ]
       },
       {
        "data": "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",
        "encoding": "base64",
        "path": [
         "indices",
         "data"
        ]
       },
       {
        "data": "AACAPwAAAAAAAAAAAAAAAAAAAAAAAIA/AAAAAAAAAAAAAAAAAAAAAAAAgD8AAAAAAAAAAAAAAAAAAAAAAACAPw==",
        "encoding": "base64",
        "path": [
         "model_matrix",
         "data"
        ]
       },
       {
        "data": "",
        "encoding": "base64",
        "path": [
         "opacity_function",
         "data"
        ]
       },
       {
        "data": "",
        "encoding": "base64",
        "path": [
         "triangles_attribute",
         "data"
        ]
       },
       {
        "data": "AADAfw==",
        "encoding": "base64",
        "path": [
         "uvs",
         "data"
        ]
       },
       {
        "data": "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",
        "encoding": "base64",
        "path": [
         "vertices",
         "data"
        ]
       },
       {
        "data": "",
        "encoding": "base64",
        "path": [
         "volume",
         "data"
        ]
       },
       {
        "data": "",
        "encoding": "base64",
        "path": [
         "volume_bounds",
         "data"
        ]
       }
      ],
      "model_module": "k3d",
      "model_module_version": "2.12.0",
      "model_name": "ObjectModel",
      "state": {
       "_view_count": null,
       "_view_module": null,
       "_view_module_version": "",
       "_view_name": null,
       "attribute": {
        "dtype": "float32",
        "shape": [
         0
        ]
       },
       "click_callback": false,
       "color": 13132810,
       "colorLegend": false,
       "color_map": {
        "dtype": "float32",
        "shape": [
         1024
        ]
       },
       "color_range": [],
       "colors": {
        "dtype": "uint32",
        "shape": [
         0
        ]
       },
       "compression_level": 0,
       "flat_shading": true,
       "group": null,
       "hover_callback": false,
       "id": 7164353312,
       "indices": {
        "dtype": "uint32",
        "shape": [
         480,
         3
        ]
       },
       "model_matrix": {
        "dtype": "float32",
        "shape": [
         4,
         4
        ]
       },
       "name": "Mesh #2",
       "opacity": 1,
       "opacity_function": {
        "dtype": "float32",
        "shape": [
         0
        ]
       },
       "side": "front",
       "texture": null,
       "texture_file_format": null,
       "triangles_attribute": {
        "dtype": "float32",
        "shape": [
         0
        ]
       },
       "type": "Mesh",
       "uvs": {
        "dtype": "float32",
        "shape": []
       },
       "vertices": {
        "dtype": "float32",
        "shape": [
         360,
         3
        ]
       },
       "visible": true,
       "volume": {
        "dtype": "float32",
        "shape": [
         0
        ]
       },
       "volume_bounds": {
        "dtype": "float32",
        "shape": [
         0
        ]
       },
       "wireframe": false
      }
     },
     "38d3454e34e947e7a47f1954586c778f": {
      "model_module": "@jupyter-widgets/controls",
      "model_module_version": "1.5.0",
      "model_name": "SliderStyleModel",
      "state": {
       "description_width": "initial"
      }
     },
     "38e22ac4845f4bfaacfda4ce1334752c": {
      "model_module": "@jupyter-widgets/base",
      "model_module_version": "1.2.0",
      "model_name": "LayoutModel",
      "state": {}
     },
     "3a062b1f0e4049a2831a555d11fa4f55": {
      "model_module": "@jupyter-widgets/controls",
      "model_module_version": "1.5.0",
      "model_name": "IntSliderModel",
      "state": {
       "description": "Number of roots - Whorl 2",
       "layout": "IPY_MODEL_ab4551c8d10e45e5b53c748e91a259ed",
       "max": 20,
       "min": 2,
       "style": "IPY_MODEL_7e2ce830b2e3426fac9f0c54b8b72c7b",
       "value": 14
      }
     },
     "3ba9c9af3a6f4712a68a3b00793bc466": {
      "model_module": "@jupyter-widgets/base",
      "model_module_version": "1.2.0",
      "model_name": "LayoutModel",
      "state": {}
     },
     "3cbc12017af64975885cb85c25ddc897": {
      "model_module": "@jupyter-widgets/controls",
      "model_module_version": "1.5.0",
      "model_name": "SliderStyleModel",
      "state": {
       "description_width": "initial"
      }
     },
     "3db969065aff4c428a949f7a8485cfc1": {
      "model_module": "@jupyter-widgets/controls",
      "model_module_version": "1.5.0",
      "model_name": "SliderStyleModel",
      "state": {
       "description_width": "initial"
      }
     },
     "40c28232a79a44739c0d9ac0a104a6bc": {
      "model_module": "@jupyter-widgets/controls",
      "model_module_version": "1.5.0",
      "model_name": "FloatSliderModel",
      "state": {
       "description": "Stiffness - Whorl 2 (N/m)",
       "layout": "IPY_MODEL_bae1f84c42ce475d816f9d94b0de4b5d",
       "max": 1000,
       "min": 100,
       "step": 100,
       "style": "IPY_MODEL_c8687d313add4c7d9279b4cfd3eacc2e",
       "value": 600
      }
     },
     "421ca53a7e3f4707be6e2efb755bda17": {
      "model_module": "@jupyter-widgets/base",
      "model_module_version": "1.2.0",
      "model_name": "LayoutModel",
      "state": {}
     },
     "430ea696415349ef9c2e6593a918b10d": {
      "buffers": [
       {
        "data": "",
        "encoding": "base64",
        "path": [
         "attribute",
         "data"
        ]
       },
       {
        "data": "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",
        "encoding": "base64",
        "path": [
         "color_map",
         "data"
        ]
       },
       {
        "data": "",
        "encoding": "base64",
        "path": [
         "colors",
         "data"
        ]
       },
       {
        "data": "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",
        "encoding": "base64",
        "path": [
         "indices",
         "data"
        ]
       },
       {
        "data": "AACAPwAAAAAAAAAAAAAAAAAAAAAAAIA/AAAAAAAAAAAAAAAAAAAAAAAAgD8AAAAAAAAAAAAAAAAAAAAAAACAPw==",
        "encoding": "base64",
        "path": [
         "model_matrix",
         "data"
        ]
       },
       {
        "data": "",
        "encoding": "base64",
        "path": [
         "opacity_function",
         "data"
        ]
       },
       {
        "data": "",
        "encoding": "base64",
        "path": [
         "triangles_attribute",
         "data"
        ]
       },
       {
        "data": "AADAfw==",
        "encoding": "base64",
        "path": [
         "uvs",
         "data"
        ]
       },
       {
        "data": "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",
        "encoding": "base64",
        "path": [
         "vertices",
         "data"
        ]
       },
       {
        "data": "",
        "encoding": "base64",
        "path": [
         "volume",
         "data"
        ]
       },
       {
        "data": "",
        "encoding": "base64",
        "path": [
         "volume_bounds",
         "data"
        ]
       }
      ],
      "model_module": "k3d",
      "model_module_version": "2.12.0",
      "model_name": "ObjectModel",
      "state": {
       "_view_count": null,
       "_view_module": null,
       "_view_module_version": "",
       "_view_name": null,
       "attribute": {
        "dtype": "float32",
        "shape": [
         0
        ]
       },
       "click_callback": false,
       "color": 13132810,
       "colorLegend": false,
       "color_map": {
        "dtype": "float32",
        "shape": [
         1024
        ]
       },
       "color_range": [],
       "colors": {
        "dtype": "uint32",
        "shape": [
         0
        ]
       },
       "compression_level": 0,
       "flat_shading": true,
       "group": null,
       "hover_callback": false,
       "id": 7164303584,
       "indices": {
        "dtype": "uint32",
        "shape": [
         480,
         3
        ]
       },
       "model_matrix": {
        "dtype": "float32",
        "shape": [
         4,
         4
        ]
       },
       "name": "Mesh #2",
       "opacity": 1,
       "opacity_function": {
        "dtype": "float32",
        "shape": [
         0
        ]
       },
       "side": "front",
       "texture": null,
       "texture_file_format": null,
       "triangles_attribute": {
        "dtype": "float32",
        "shape": [
         0
        ]
       },
       "type": "Mesh",
       "uvs": {
        "dtype": "float32",
        "shape": []
       },
       "vertices": {
        "dtype": "float32",
        "shape": [
         360,
         3
        ]
       },
       "visible": true,
       "volume": {
        "dtype": "float32",
        "shape": [
         0
        ]
       },
       "volume_bounds": {
        "dtype": "float32",
        "shape": [
         0
        ]
       },
       "wireframe": false
      }
     },
     "4460384b16964e5ca60d73c2231caeee": {
      "model_module": "@jupyter-widgets/controls",
      "model_module_version": "1.5.0",
      "model_name": "FloatSliderModel",
      "state": {
       "description": "Angle - Whorl 2",
       "layout": "IPY_MODEL_8cd7f50ce0ab42eabb4cfcf73b4118b6",
       "max": 140,
       "min": 100,
       "step": 5,
       "style": "IPY_MODEL_a18a414e5e0e486d8535f0fdde98dd63",
       "value": 125
      }
     },
     "468bfa4660fc4e0fb024b7467645aeb3": {
      "model_module": "@jupyter-widgets/base",
      "model_module_version": "1.2.0",
      "model_name": "LayoutModel",
      "state": {}
     },
     "4a9a0e71c66344d9ad12be1e3763844c": {
      "model_module": "@jupyter-widgets/controls",
      "model_module_version": "1.5.0",
      "model_name": "FloatSliderModel",
      "state": {
       "description": "Stem Diameter (cm)",
       "layout": "IPY_MODEL_fb45e568e59d4c3085386d230069520a",
       "max": 10,
       "min": 1,
       "step": 2,
       "style": "IPY_MODEL_c557d026f27f4bada1370cae523dc2fe",
       "value": 1
      }
     },
     "4c0209258ad94a7c8da0c48a28c37189": {
      "model_module": "@jupyter-widgets/base",
      "model_module_version": "1.2.0",
      "model_name": "LayoutModel",
      "state": {}
     },
     "4c9fe256aca442bb840f38c53570307c": {
      "buffers": [
       {
        "data": "",
        "encoding": "base64",
        "path": [
         "attribute",
         "data"
        ]
       },
       {
        "data": "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",
        "encoding": "base64",
        "path": [
         "color_map",
         "data"
        ]
       },
       {
        "data": "",
        "encoding": "base64",
        "path": [
         "colors",
         "data"
        ]
       },
       {
        "data": "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",
        "encoding": "base64",
        "path": [
         "indices",
         "data"
        ]
       },
       {
        "data": "AACAPwAAAAAAAAAAAAAAAAAAAAAAAIA/AAAAAAAAAAAAAAAAAAAAAAAAgD8AAAAAAAAAAAAAAAAAAAAAAACAPw==",
        "encoding": "base64",
        "path": [
         "model_matrix",
         "data"
        ]
       },
       {
        "data": "",
        "encoding": "base64",
        "path": [
         "opacity_function",
         "data"
        ]
       },
       {
        "data": "",
        "encoding": "base64",
        "path": [
         "triangles_attribute",
         "data"
        ]
       },
       {
        "data": "AADAfw==",
        "encoding": "base64",
        "path": [
         "uvs",
         "data"
        ]
       },
       {
        "data": "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",
        "encoding": "base64",
        "path": [
         "vertices",
         "data"
        ]
       },
       {
        "data": "",
        "encoding": "base64",
        "path": [
         "volume",
         "data"
        ]
       },
       {
        "data": "",
        "encoding": "base64",
        "path": [
         "volume_bounds",
         "data"
        ]
       }
      ],
      "model_module": "k3d",
      "model_module_version": "2.12.0",
      "model_name": "ObjectModel",
      "state": {
       "_view_count": null,
       "_view_module": null,
       "_view_module_version": "",
       "_view_name": null,
       "attribute": {
        "dtype": "float32",
        "shape": [
         0
        ]
       },
       "click_callback": false,
       "color": 13132810,
       "colorLegend": false,
       "color_map": {
        "dtype": "float32",
        "shape": [
         1024
        ]
       },
       "color_range": [],
       "colors": {
        "dtype": "uint32",
        "shape": [
         0
        ]
       },
       "compression_level": 0,
       "flat_shading": true,
       "group": null,
       "hover_callback": false,
       "id": 7164354080,
       "indices": {
        "dtype": "uint32",
        "shape": [
         480,
         3
        ]
       },
       "model_matrix": {
        "dtype": "float32",
        "shape": [
         4,
         4
        ]
       },
       "name": "Mesh #2",
       "opacity": 1,
       "opacity_function": {
        "dtype": "float32",
        "shape": [
         0
        ]
       },
       "side": "front",
       "texture": null,
       "texture_file_format": null,
       "triangles_attribute": {
        "dtype": "float32",
        "shape": [
         0
        ]
       },
       "type": "Mesh",
       "uvs": {
        "dtype": "float32",
        "shape": []
       },
       "vertices": {
        "dtype": "float32",
        "shape": [
         360,
         3
        ]
       },
       "visible": true,
       "volume": {
        "dtype": "float32",
        "shape": [
         0
        ]
       },
       "volume_bounds": {
        "dtype": "float32",
        "shape": [
         0
        ]
       },
       "wireframe": false
      }
     },
     "4ca7e501b05946aaa5361fb73d4563d9": {
      "buffers": [
       {
        "data": "",
        "encoding": "base64",
        "path": [
         "attribute",
         "data"
        ]
       },
       {
        "data": "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",
        "encoding": "base64",
        "path": [
         "color_map",
         "data"
        ]
       },
       {
        "data": "",
        "encoding": "base64",
        "path": [
         "colors",
         "data"
        ]
       },
       {
        "data": "AAAAAAIAAAABAAAAAQAAAAIAAAADAAAAAQAAAAMAAAARAAAAAAAAABAAAAACAAAAAgAAAAQAAAADAAAAAwAAAAQAAAAFAAAAAwAAAAUAAAARAAAAAgAAABAAAAAEAAAABAAAAAYAAAAFAAAABQAAAAYAAAAHAAAABQAAAAcAAAARAAAABAAAABAAAAAGAAAABgAAAAgAAAAHAAAABwAAAAgAAAAJAAAABwAAAAkAAAARAAAABgAAABAAAAAIAAAACAAAAAoAAAAJAAAACQAAAAoAAAALAAAACQAAAAsAAAARAAAACAAAABAAAAAKAAAACgAAAAwAAAALAAAACwAAAAwAAAANAAAACwAAAA0AAAARAAAACgAAABAAAAAMAAAADAAAAA4AAAANAAAADQAAAA4AAAAPAAAADQAAAA8AAAARAAAADAAAABAAAAAOAAAADgAAAAAAAAAPAAAADwAAAAAAAAABAAAADwAAAAEAAAARAAAADgAAABAAAAAAAAAA",
        "encoding": "base64",
        "path": [
         "indices",
         "data"
        ]
       },
       {
        "data": "AACAPwAAAAAAAAAAAAAAAAAAAAAAAIA/AAAAAAAAAAAAAAAAAAAAAAAAgD8AAAAAAAAAAAAAAAAAAAAAAACAPw==",
        "encoding": "base64",
        "path": [
         "model_matrix",
         "data"
        ]
       },
       {
        "data": "",
        "encoding": "base64",
        "path": [
         "opacity_function",
         "data"
        ]
       },
       {
        "data": "",
        "encoding": "base64",
        "path": [
         "triangles_attribute",
         "data"
        ]
       },
       {
        "data": "AADAfw==",
        "encoding": "base64",
        "path": [
         "uvs",
         "data"
        ]
       },
       {
        "data": "AACAPwAAAAAAAAAAAACAPwAAAAAAAMhC8wQ1P/MENT8AAAAA8wQ1P/MENT8AAMhCc4+zrAAAgD8AAAAAc4+zrAAAgD8AAMhC8wQ1v/MENT8AAAAA8wQ1v/MENT8AAMhCAACAv3OPM60AAAAAAACAv3OPM60AAMhC8wQ1v/MENb8AAAAA8wQ1v/MENb8AAMhClquGLQAAgL8AAAAAlquGLQAAgL8AAMhC8wQ1P/MENb8AAAAA8wQ1P/MENb8AAMhCAAAAAAAAAAAAAAAAAAAAAAAAAAAAAMhC",
        "encoding": "base64",
        "path": [
         "vertices",
         "data"
        ]
       },
       {
        "data": "",
        "encoding": "base64",
        "path": [
         "volume",
         "data"
        ]
       },
       {
        "data": "",
        "encoding": "base64",
        "path": [
         "volume_bounds",
         "data"
        ]
       }
      ],
      "model_module": "k3d",
      "model_module_version": "2.12.0",
      "model_name": "ObjectModel",
      "state": {
       "_view_count": null,
       "_view_module": null,
       "_view_module_version": "",
       "_view_name": null,
       "attribute": {
        "dtype": "float32",
        "shape": [
         0
        ]
       },
       "click_callback": false,
       "color": 706570,
       "colorLegend": false,
       "color_map": {
        "dtype": "float32",
        "shape": [
         1024
        ]
       },
       "color_range": [],
       "colors": {
        "dtype": "uint32",
        "shape": [
         0
        ]
       },
       "compression_level": 0,
       "flat_shading": true,
       "group": null,
       "hover_callback": false,
       "id": 7164311200,
       "indices": {
        "dtype": "uint32",
        "shape": [
         32,
         3
        ]
       },
       "model_matrix": {
        "dtype": "float32",
        "shape": [
         4,
         4
        ]
       },
       "name": "Mesh #1",
       "opacity": 1,
       "opacity_function": {
        "dtype": "float32",
        "shape": [
         0
        ]
       },
       "side": "front",
       "texture": null,
       "texture_file_format": null,
       "triangles_attribute": {
        "dtype": "float32",
        "shape": [
         0
        ]
       },
       "type": "Mesh",
       "uvs": {
        "dtype": "float32",
        "shape": []
       },
       "vertices": {
        "dtype": "float32",
        "shape": [
         18,
         3
        ]
       },
       "visible": true,
       "volume": {
        "dtype": "float32",
        "shape": [
         0
        ]
       },
       "volume_bounds": {
        "dtype": "float32",
        "shape": [
         0
        ]
       },
       "wireframe": false
      }
     },
     "502c94f0f5f34097aa87a35354522a34": {
      "buffers": [
       {
        "data": "",
        "encoding": "base64",
        "path": [
         "attribute",
         "data"
        ]
       },
       {
        "data": "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",
        "encoding": "base64",
        "path": [
         "color_map",
         "data"
        ]
       },
       {
        "data": "",
        "encoding": "base64",
        "path": [
         "colors",
         "data"
        ]
       },
       {
        "data": "AAAAAAIAAAABAAAAAQAAAAIAAAADAAAAAQAAAAMAAAARAAAAAAAAABAAAAACAAAAAgAAAAQAAAADAAAAAwAAAAQAAAAFAAAAAwAAAAUAAAARAAAAAgAAABAAAAAEAAAABAAAAAYAAAAFAAAABQAAAAYAAAAHAAAABQAAAAcAAAARAAAABAAAABAAAAAGAAAABgAAAAgAAAAHAAAABwAAAAgAAAAJAAAABwAAAAkAAAARAAAABgAAABAAAAAIAAAACAAAAAoAAAAJAAAACQAAAAoAAAALAAAACQAAAAsAAAARAAAACAAAABAAAAAKAAAACgAAAAwAAAALAAAACwAAAAwAAAANAAAACwAAAA0AAAARAAAACgAAABAAAAAMAAAADAAAAA4AAAANAAAADQAAAA4AAAAPAAAADQAAAA8AAAARAAAADAAAABAAAAAOAAAADgAAAAAAAAAPAAAADwAAAAAAAAABAAAADwAAAAEAAAARAAAADgAAABAAAAAAAAAA",
        "encoding": "base64",
        "path": [
         "indices",
         "data"
        ]
       },
       {
        "data": "AACAPwAAAAAAAAAAAAAAAAAAAAAAAIA/AAAAAAAAAAAAAAAAAAAAAAAAgD8AAAAAAAAAAAAAAAAAAAAAAACAPw==",
        "encoding": "base64",
        "path": [
         "model_matrix",
         "data"
        ]
       },
       {
        "data": "",
        "encoding": "base64",
        "path": [
         "opacity_function",
         "data"
        ]
       },
       {
        "data": "",
        "encoding": "base64",
        "path": [
         "triangles_attribute",
         "data"
        ]
       },
       {
        "data": "AADAfw==",
        "encoding": "base64",
        "path": [
         "uvs",
         "data"
        ]
       },
       {
        "data": "AACAPwAAAAAAAAAAAACAPwAAAAAAAMhC8wQ1P/MENT8AAAAA8wQ1P/MENT8AAMhCc4+zrAAAgD8AAAAAc4+zrAAAgD8AAMhC8wQ1v/MENT8AAAAA8wQ1v/MENT8AAMhCAACAv3OPM60AAAAAAACAv3OPM60AAMhC8wQ1v/MENb8AAAAA8wQ1v/MENb8AAMhClquGLQAAgL8AAAAAlquGLQAAgL8AAMhC8wQ1P/MENb8AAAAA8wQ1P/MENb8AAMhCAAAAAAAAAAAAAAAAAAAAAAAAAAAAAMhC",
        "encoding": "base64",
        "path": [
         "vertices",
         "data"
        ]
       },
       {
        "data": "",
        "encoding": "base64",
        "path": [
         "volume",
         "data"
        ]
       },
       {
        "data": "",
        "encoding": "base64",
        "path": [
         "volume_bounds",
         "data"
        ]
       }
      ],
      "model_module": "k3d",
      "model_module_version": "2.12.0",
      "model_name": "ObjectModel",
      "state": {
       "_view_count": null,
       "_view_module": null,
       "_view_module_version": "",
       "_view_name": null,
       "attribute": {
        "dtype": "float32",
        "shape": [
         0
        ]
       },
       "click_callback": false,
       "color": 706570,
       "colorLegend": false,
       "color_map": {
        "dtype": "float32",
        "shape": [
         1024
        ]
       },
       "color_range": [],
       "colors": {
        "dtype": "uint32",
        "shape": [
         0
        ]
       },
       "compression_level": 0,
       "flat_shading": true,
       "group": null,
       "hover_callback": false,
       "id": 7172009888,
       "indices": {
        "dtype": "uint32",
        "shape": [
         32,
         3
        ]
       },
       "model_matrix": {
        "dtype": "float32",
        "shape": [
         4,
         4
        ]
       },
       "name": "Mesh #1",
       "opacity": 1,
       "opacity_function": {
        "dtype": "float32",
        "shape": [
         0
        ]
       },
       "side": "front",
       "texture": null,
       "texture_file_format": null,
       "triangles_attribute": {
        "dtype": "float32",
        "shape": [
         0
        ]
       },
       "type": "Mesh",
       "uvs": {
        "dtype": "float32",
        "shape": []
       },
       "vertices": {
        "dtype": "float32",
        "shape": [
         18,
         3
        ]
       },
       "visible": true,
       "volume": {
        "dtype": "float32",
        "shape": [
         0
        ]
       },
       "volume_bounds": {
        "dtype": "float32",
        "shape": [
         0
        ]
       },
       "wireframe": false
      }
     },
     "51036df6a77248ec96a4dd14721a43a3": {
      "model_module": "@jupyter-widgets/base",
      "model_module_version": "1.2.0",
      "model_name": "LayoutModel",
      "state": {}
     },
     "516ba50c993d49ffb00fc404cc608c33": {
      "model_module": "@jupyter-widgets/base",
      "model_module_version": "1.2.0",
      "model_name": "LayoutModel",
      "state": {}
     },
     "528a5b9bafea4d28b51ba084169aa6e7": {
      "model_module": "@jupyter-widgets/base",
      "model_module_version": "1.2.0",
      "model_name": "LayoutModel",
      "state": {}
     },
     "537fcfc7b0a84b47a670f82c342dda21": {
      "model_module": "@jupyter-widgets/controls",
      "model_module_version": "1.5.0",
      "model_name": "FloatSliderModel",
      "state": {
       "description": "Angle - Whorl 1",
       "layout": "IPY_MODEL_421ca53a7e3f4707be6e2efb755bda17",
       "max": 130,
       "min": 90,
       "step": 5,
       "style": "IPY_MODEL_a4e4fb4ef5114fa6a2fdcc30b73579c0",
       "value": 110
      }
     },
     "557d785fbc8740a38bfdfe6cf94e1cca": {
      "model_module": "@jupyter-widgets/base",
      "model_module_version": "1.2.0",
      "model_name": "LayoutModel",
      "state": {}
     },
     "57cc0c5d44ec47529427f4e8f63b1d4c": {
      "model_module": "@jupyter-widgets/controls",
      "model_module_version": "1.5.0",
      "model_name": "VBoxModel",
      "state": {
       "_dom_classes": [
        "widget-interact"
       ],
       "children": [
        "IPY_MODEL_65aeda4ec3a8434a9be0deb4c00b4821",
        "IPY_MODEL_ee59336ae14640a6a5bccfe2898c4c91",
        "IPY_MODEL_ff9cc3de72f94987b1ad7800348a451a",
        "IPY_MODEL_4a9a0e71c66344d9ad12be1e3763844c",
        "IPY_MODEL_e935f5fa8a794982a220153cc94d2abb",
        "IPY_MODEL_7981163c976c443689d01e23277ae6c3",
        "IPY_MODEL_5b8abd79ff4c49ce8e5d382f77535580",
        "IPY_MODEL_df39a9b9dddc427a81b81c1f5b294d7d",
        "IPY_MODEL_9db79cb5536a429f9db113fb3d83b89b",
        "IPY_MODEL_5ee775e89db843fdbeae5a3c45340c04",
        "IPY_MODEL_dda263498ed54a7fa3df3f511811e73f",
        "IPY_MODEL_3a062b1f0e4049a2831a555d11fa4f55",
        "IPY_MODEL_caed22d4c13447dfad133bcdf272894f",
        "IPY_MODEL_233e8e4aca2644b1bf276154200e5103",
        "IPY_MODEL_a4d7a120b73645cfb07b4ed7b76efb4b",
        "IPY_MODEL_b0ca6ad3c4214dc9ab1c76eff822a99a"
       ],
       "layout": "IPY_MODEL_51036df6a77248ec96a4dd14721a43a3"
      }
     },
     "5b8abd79ff4c49ce8e5d382f77535580": {
      "model_module": "@jupyter-widgets/controls",
      "model_module_version": "1.5.0",
      "model_name": "IntSliderModel",
      "state": {
       "description": "Number of roots - Whorl 1",
       "layout": "IPY_MODEL_1badaebdfed943778bfd314bd5a92326",
       "max": 20,
       "min": 2,
       "style": "IPY_MODEL_38d3454e34e947e7a47f1954586c778f",
       "value": 16
      }
     },
     "5cc4f1bb6f4f4ba29f39a1fa869c50dd": {
      "model_module": "k3d",
      "model_module_version": "2.12.0",
      "model_name": "PlotModel",
      "state": {
       "_backend_version": "2.12.0",
       "_dom_classes": [],
       "_view_count": null,
       "antialias": 3,
       "auto_rendering": true,
       "axes": [
        "x",
        "y",
        "z"
       ],
       "axes_helper": 1,
       "background_color": 16777215,
       "camera": [
        3.0914579608077193,
        -90.47401215548936,
        49.238704864964454,
        0,
        0,
        45.93258571624756,
        -0.023448688756875932,
        -0.019730343213162634,
        0.9995303259792792
       ],
       "camera_animation": [],
       "camera_auto_fit": true,
       "camera_damping_factor": 0,
       "camera_fov": 60,
       "camera_mode": "trackball",
       "camera_no_pan": false,
       "camera_no_rotate": false,
       "camera_no_zoom": false,
       "camera_pan_speed": 0.3,
       "camera_rotate_speed": 1,
       "camera_zoom_speed": 1.2,
       "clipping_planes": [],
       "colorbar_object_id": -1,
       "colorbar_scientific": false,
       "fps": 25,
       "fps_meter": false,
       "grid": [
        -1,
        -1,
        -1,
        1,
        1,
        1
       ],
       "grid_auto_fit": true,
       "grid_color": 15132390,
       "grid_visible": true,
       "height": 512,
       "label_color": 4473924,
       "layout": "IPY_MODEL_d87ea7b5471a4d3fa4b90e4a44b9440e",
       "lighting": 3,
       "logarithmic_depth_buffer": true,
       "manipulate_mode": "translate",
       "menu_visibility": true,
       "mode": "view",
       "name": null,
       "object_ids": [
        7164311200,
        7164353504
       ],
       "rendering_steps": 1,
       "screenshot": "",
       "screenshot_scale": 2,
       "snapshot": "",
       "snapshot_type": "full",
       "time": 0,
       "voxel_paint_color": 0
      }
     },
     "5db5b6917d6d4f969614d30348fb90ba": {
      "model_module": "k3d",
      "model_module_version": "2.12.0",
      "model_name": "PlotModel",
      "state": {
       "_backend_version": "2.12.0",
       "_dom_classes": [],
       "_view_count": null,
       "antialias": 3,
       "auto_rendering": true,
       "axes": [
        "x",
        "y",
        "z"
       ],
       "axes_helper": 1,
       "background_color": 16777215,
       "camera": [],
       "camera_animation": [],
       "camera_auto_fit": true,
       "camera_damping_factor": 0,
       "camera_fov": 60,
       "camera_mode": "trackball",
       "camera_no_pan": false,
       "camera_no_rotate": false,
       "camera_no_zoom": false,
       "camera_pan_speed": 0.3,
       "camera_rotate_speed": 1,
       "camera_zoom_speed": 1.2,
       "clipping_planes": [],
       "colorbar_object_id": -1,
       "colorbar_scientific": false,
       "fps": 25,
       "fps_meter": false,
       "grid": [
        -1,
        -1,
        -1,
        1,
        1,
        1
       ],
       "grid_auto_fit": true,
       "grid_color": 15132390,
       "grid_visible": true,
       "height": 512,
       "label_color": 4473924,
       "layout": "IPY_MODEL_78cfbb39baec4d079253e3adb1fea862",
       "lighting": 3,
       "logarithmic_depth_buffer": true,
       "manipulate_mode": "translate",
       "menu_visibility": true,
       "mode": "view",
       "name": null,
       "object_ids": [
        7164343488,
        7164302960
       ],
       "rendering_steps": 1,
       "screenshot": "",
       "screenshot_scale": 2,
       "snapshot": "",
       "snapshot_type": "full",
       "time": 0,
       "voxel_paint_color": 0
      }
     },
     "5dd7b4c26f944e8ea60431efec0f7acb": {
      "buffers": [
       {
        "data": "",
        "encoding": "base64",
        "path": [
         "attribute",
         "data"
        ]
       },
       {
        "data": "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",
        "encoding": "base64",
        "path": [
         "color_map",
         "data"
        ]
       },
       {
        "data": "",
        "encoding": "base64",
        "path": [
         "colors",
         "data"
        ]
       },
       {
        "data": "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",
        "encoding": "base64",
        "path": [
         "indices",
         "data"
        ]
       },
       {
        "data": "AACAPwAAAAAAAAAAAAAAAAAAAAAAAIA/AAAAAAAAAAAAAAAAAAAAAAAAgD8AAAAAAAAAAAAAAAAAAAAAAACAPw==",
        "encoding": "base64",
        "path": [
         "model_matrix",
         "data"
        ]
       },
       {
        "data": "",
        "encoding": "base64",
        "path": [
         "opacity_function",
         "data"
        ]
       },
       {
        "data": "",
        "encoding": "base64",
        "path": [
         "triangles_attribute",
         "data"
        ]
       },
       {
        "data": "AADAfw==",
        "encoding": "base64",
        "path": [
         "uvs",
         "data"
        ]
       },
       {
        "data": "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",
        "encoding": "base64",
        "path": [
         "vertices",
         "data"
        ]
       },
       {
        "data": "",
        "encoding": "base64",
        "path": [
         "volume",
         "data"
        ]
       },
       {
        "data": "",
        "encoding": "base64",
        "path": [
         "volume_bounds",
         "data"
        ]
       }
      ],
      "model_module": "k3d",
      "model_module_version": "2.12.0",
      "model_name": "ObjectModel",
      "state": {
       "_view_count": null,
       "_view_module": null,
       "_view_module_version": "",
       "_view_name": null,
       "attribute": {
        "dtype": "float32",
        "shape": [
         0
        ]
       },
       "click_callback": false,
       "color": 13132810,
       "colorLegend": false,
       "color_map": {
        "dtype": "float32",
        "shape": [
         1024
        ]
       },
       "color_range": [],
       "colors": {
        "dtype": "uint32",
        "shape": [
         0
        ]
       },
       "compression_level": 0,
       "flat_shading": true,
       "group": null,
       "hover_callback": false,
       "id": 7172846784,
       "indices": {
        "dtype": "uint32",
        "shape": [
         480,
         3
        ]
       },
       "model_matrix": {
        "dtype": "float32",
        "shape": [
         4,
         4
        ]
       },
       "name": "Mesh #2",
       "opacity": 1,
       "opacity_function": {
        "dtype": "float32",
        "shape": [
         0
        ]
       },
       "side": "front",
       "texture": null,
       "texture_file_format": null,
       "triangles_attribute": {
        "dtype": "float32",
        "shape": [
         0
        ]
       },
       "type": "Mesh",
       "uvs": {
        "dtype": "float32",
        "shape": []
       },
       "vertices": {
        "dtype": "float32",
        "shape": [
         360,
         3
        ]
       },
       "visible": true,
       "volume": {
        "dtype": "float32",
        "shape": [
         0
        ]
       },
       "volume_bounds": {
        "dtype": "float32",
        "shape": [
         0
        ]
       },
       "wireframe": false
      }
     },
     "5e4da19ff1804397a2b35c93d8f7dc91": {
      "model_module": "@jupyter-widgets/base",
      "model_module_version": "1.2.0",
      "model_name": "LayoutModel",
      "state": {}
     },
     "5ee775e89db843fdbeae5a3c45340c04": {
      "model_module": "@jupyter-widgets/controls",
      "model_module_version": "1.5.0",
      "model_name": "FloatSliderModel",
      "state": {
       "description": "Stiffness - Whorl 1 (N/m)",
       "layout": "IPY_MODEL_1e3954bc81d54fea8e83d337fdd8c6b9",
       "max": 1000,
       "min": 100,
       "step": 100,
       "style": "IPY_MODEL_c314d61fcf9343c9acd58da96542b9f1",
       "value": 600
      }
     },
     "60a6d34bcf0640ada2c376657fba61c0": {
      "buffers": [
       {
        "data": "",
        "encoding": "base64",
        "path": [
         "attribute",
         "data"
        ]
       },
       {
        "data": "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",
        "encoding": "base64",
        "path": [
         "color_map",
         "data"
        ]
       },
       {
        "data": "",
        "encoding": "base64",
        "path": [
         "colors",
         "data"
        ]
       },
       {
        "data": "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",
        "encoding": "base64",
        "path": [
         "indices",
         "data"
        ]
       },
       {
        "data": "AACAPwAAAAAAAAAAAAAAAAAAAAAAAIA/AAAAAAAAAAAAAAAAAAAAAAAAgD8AAAAAAAAAAAAAAAAAAAAAAACAPw==",
        "encoding": "base64",
        "path": [
         "model_matrix",
         "data"
        ]
       },
       {
        "data": "",
        "encoding": "base64",
        "path": [
         "opacity_function",
         "data"
        ]
       },
       {
        "data": "",
        "encoding": "base64",
        "path": [
         "triangles_attribute",
         "data"
        ]
       },
       {
        "data": "AADAfw==",
        "encoding": "base64",
        "path": [
         "uvs",
         "data"
        ]
       },
       {
        "data": "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",
        "encoding": "base64",
        "path": [
         "vertices",
         "data"
        ]
       },
       {
        "data": "",
        "encoding": "base64",
        "path": [
         "volume",
         "data"
        ]
       },
       {
        "data": "",
        "encoding": "base64",
        "path": [
         "volume_bounds",
         "data"
        ]
       }
      ],
      "model_module": "k3d",
      "model_module_version": "2.12.0",
      "model_name": "ObjectModel",
      "state": {
       "_view_count": null,
       "_view_module": null,
       "_view_module_version": "",
       "_view_name": null,
       "attribute": {
        "dtype": "float32",
        "shape": [
         0
        ]
       },
       "click_callback": false,
       "color": 13132810,
       "colorLegend": false,
       "color_map": {
        "dtype": "float32",
        "shape": [
         1024
        ]
       },
       "color_range": [],
       "colors": {
        "dtype": "uint32",
        "shape": [
         0
        ]
       },
       "compression_level": 0,
       "flat_shading": true,
       "group": null,
       "hover_callback": false,
       "id": 7172810544,
       "indices": {
        "dtype": "uint32",
        "shape": [
         480,
         3
        ]
       },
       "model_matrix": {
        "dtype": "float32",
        "shape": [
         4,
         4
        ]
       },
       "name": "Mesh #2",
       "opacity": 1,
       "opacity_function": {
        "dtype": "float32",
        "shape": [
         0
        ]
       },
       "side": "front",
       "texture": null,
       "texture_file_format": null,
       "triangles_attribute": {
        "dtype": "float32",
        "shape": [
         0
        ]
       },
       "type": "Mesh",
       "uvs": {
        "dtype": "float32",
        "shape": []
       },
       "vertices": {
        "dtype": "float32",
        "shape": [
         360,
         3
        ]
       },
       "visible": true,
       "volume": {
        "dtype": "float32",
        "shape": [
         0
        ]
       },
       "volume_bounds": {
        "dtype": "float32",
        "shape": [
         0
        ]
       },
       "wireframe": false
      }
     },
     "62b854d9de824625a9433cc30107e300": {
      "buffers": [
       {
        "data": "",
        "encoding": "base64",
        "path": [
         "attribute",
         "data"
        ]
       },
       {
        "data": "AAAAAKabxDpvEgM607xjPCSXfzuZuxY7w2SqOgdfmDwkl/870ERYO+AtEDsUP8Y8ylRBPLx0kzuJ0l47/yH9PEmdgDymm8Q7dQKaOwkbHj0ukKA8SFD8O4LixztbsT89EoPAPFJJHTxIUPw7irBhPa5H4TxbsT88dQIaPEoMgj1JnQA9QmBlPDSANzxPQJM9vJYQPbn8hzxioVY8VHSkPS6QID3A7J48/mV3PMbctT2giTA9NIC3PATnjDw5Rcc97utAPYZa0zwJG548GeLYPWDlUD1F2PA8xSCwPGiz6j3T3mA9cM4IPYEmwjwkufw9RdhwPVFrGj09LNQ8cF8HPtxogD3EQi09+THmPIV8ED4Cmog9NxpAPbU3+DwHzhk+vJaQPYZaUz24HgU9ih8jPnWTmD2wA2c9u7gNPQ1xLD4ukKA9tRV7PeLpFT3G3DU+VcGoPUvIhz0tsh097nw/Pg6+sD0qOpI9nRElPRUdST7Hurg9duCcPVafKz08vVI+gLfAPZ7vpz1XWzE9mndcPjm0yD3F/rI9fa42PfkxZj5g5dA9yXa+PRHHOj2OBnA+GeLYPTojyj3tDT497MB5PtPe4D2GONY9EoNAPaW9gT6M2+g9003iPYEmQj3UmoY+RdjwPWkA7z04+EI96GqLPmwJ+T3/svs9XI9CPeAtkD4SgwA+OGcEPqW9QT2945Q+b4EEPigPCz43GkA9Y3+ZPsx/CD5O0RE+Njw9PdIAnj5fmAw+rK0YPjVeOj3uWqI+vJYQPgmKHz59rjY9uY2mPhiVFD7UmiY+6pUyPUymqj51kxg+n6stPnsULj1yiq4+0ZEcPmq8ND4Mkyk9KjqyPmWqID42zTs+nRElPY/CtT7BqCQ+OPhCPgn5ID1sCbk+HqcoPgMJSj5SSR099ii8PnqlLD7OGVE+dQIaPRIUvz7XozA+mSpYPlCNFz3c18E+arw0Pi0hXz7i6RU9HVrEPse6OD75MWY+KxgVPQu1xj4kuTw+Vg5tPisYFT2n6Mg+gLdAPuoEdD7i6RU98fTKPhTQRD5I4Xo+K/YXPc3MzD5wzkg+t9GAPlFrGj1yis4+zcxMPsoyhD4JGx49xSDQPinLUD7ek4c+nDMiPcWP0T6GyVQ+1eeKPsKGJz2q8dI+GeJYPs07jj6fqy09PSzUPnbgXD7Fj5E+fdAzPZhM1T7T3mA+veOUPhHHOj29UtY+L91kPpkqmD5cj0I9x0vXPsP1aD52cZs+qFdKPZkq2D4f9Gw+NquePs6IUj0179g+fPJwPhPyoT7RIls9tabZPtjwdD7UK6U+07xjPRpR2j4173g+lWWoPrG/bD1I4do+yAd9Plafqz5rK3Y9WmTbPhKDgD4X2a4+SS5/PVHa2z5BgoI+1xKyPgFNhD0tQ9w+b4GEPn0/tT7eAok97Z7cPp2Ahj4+ebg+u7iNPZHt3D7njIg+46W7PgWjkj0bL90+FYyKPqTfvj7iWJc9iGPdPkSLjD5KDMI+LUOcPduK3T5yio4+7zjFPgn5oD0tst0+vJaQPrByyD7mrqU9SL/dPuqVkj5Wn8s+MZmqPWTM3T4YlZQ++8vOPg5Prz1kzN0+RpSWPqH40T7qBLQ9SL/dPnWTmD5GJdU+x7q4PRKl3T6+n5o+7FHYPqRwvT3bit0+7Z6cPqyL2z6BJsI9iGPdPhuenj5SuN4+XdzGPRsv3T5JnaA+9+ThPsxdyz2t+tw+eJyiPp0R5T6pE9A9JLncPsGopD5eS+g+GJXUPX9q3D7wp6Y+A3jrPvVK2T2/Dtw+HqeoPqmk7j5kzN09/7LbPkymqj5O0fE+003iPSNK2z6Wsqw+Dwv1PrAD5z1I4do+xLGuPrU3+D4fhes9NV7aPvKwsD5aZPs+jgbwPT7o2T4hsLI+G57+Pv2H9D0QWNk+T6+0PmDlAD9sCfk948fYPpm7tj6zewI/24r9PZkq2D7Hurg+kxgEPyUGAT40gNc+9bm6PuauBT+lLAM+tMjWPiS5vD45RQc/XW0FPjQR1j5SuL4+GeIIPxSuBz60WdU+nMTAPmx4Cj/M7gk+/YfUPsrDwj5NFQw/gy8MPka20z74wsQ+n6sNPztwDj5z19I+J8LGPvJBDz/ysBA+ofjRPnDOyD7T3hA/4QsTPrMM0T6fzco+JXUSP5hMFT6pE9A+zczMPngLFD9QjRc+hA3PPvvLzj7LoRU/PugZPl8Hzj4py9A+HTgXPy1DHD4f9Mw+c9fSPnDOGD/kgx4+w9PLPqHW1D7DZBo/CfkgPmizyj7Q1dY+FvsbP/hTIz7whck+/tTYPmiRHT/mriU+XkvIPkjh2j67Jx8/CyQoPssQxz524Nw+gLcgPzGZKj4dycU+pN/ePtNNIj9WDi0+VHTEPtPe4D6Y3SM/e4MvPoofwz4B3uI+63MlP9cSMj6lvcE+S+rkPrADJz80ojQ+pU7APnnp5j51kyg/x0s3PonSvj6n6Og+rBwqPyPbOT5tVr0+1efqPnGsKz/tnjw+Udq7PgTn7D6oNS0/gEg/Pv5Duj5N8+4+bcUuP0oMQj7Hurg+fPLwPqVOMD8U0EQ+WRe3Pqrx8j5O0TE/FK5HPutztT7Y8PQ+hlozP0ymSj5hw7M+Iv32Pi/dND9NhE0+1xKyPlD8+D7ZXzY/vJZQPjJVsD5/+/o+guI3P/OOUz5yiq4+rfr8Pp5eOT+Zu1Y+sb+sPtv5/j662jo/PuhZPvH0qj4SgwA/1lY8P+QUXT75D6k+qoIBP2TMPT/AW2A+HTinPkGCAj/yQT8/07xjPiZTpT7YgQM/gLdAP+cdZz4TYaM+b4EEP4EmQj8xmWo+AG+hPpSHBT+BlUM/si5uPtJvnz4rhwY/gQRFPzPEcT6kcJ0+woYHP/RsRj/rc3U+WmSbPlmGCD/Zzkc/oyN5PhBYmT5+jAk/vjBJP8gHfT7HS5c+FYwKP6OSSj/3dYA+YTKVPqyLCz/67Us/CmiCPvwYkz5Eiww/UklNP1R0hD588pA+24oNPxueTj+dgIY++8uOPgCRDj9X7E8/ApqIPnqljD6XkA8/kzpRP4PAij7ecYo+LpAQP86IUj8E54w+Qj6IPsWPET990FM/oBqPPov9hT5cjxI/nRFVP1dbkT7vyYM+gZUTP71SVj8qqZM+N4mBPhiVFD9QjVc//faVPgCRfj6vlBU/VcFYPwdfmD5a9Xk+RpQWP1r1WT8Rx5o+tFl1PmuaFz/RIls/Gy+dPg6+cD4Cmhg/uklcP1uxnz5oImw+mpkZP6RwXT+cM6I+woZnPjGZGj8AkV4/+MKkPuXQYj7ImBs/zqpfP3Bfpz4JG14+7Z4cP5zEYD8DCao+LGVZPoSeHT/c12E/lrKsPhiVVD4bnh4/j+RiP0Rprz47308+sp0fP7PqYz8OLbI+KA9LPtejID/Y8GQ/2PC0PhQ/Rj5uoyE/b/BlP77Btz4Ab0E+BaMiP3npZj++n7o+toQ8PpyiIz/122c/v329PqK0Nz40oiQ/cM5oP/d1wD5YyjI+WKglP166aT8TYcM+DeAtPvCnJj++n2o/ZmbGPozbKD6Hpyc/kX5rP7pryT5B8SM+HqcoP9ZWbD8ofsw+wOwePrWmKT8bL20/l5DPPj7oGT7arCo/RPptPyGw0j694xQ+cawrP23Fbj+rz9U+BcUPPgisLD8Jim8/UPzYPkymCj6fqy0/pU5wPxE23D6UhwU+xLEuPyUGcT/Sb98+3GgAPluxLz+lvXE/rrbiPkaU9j3ysDA/mG5yP4v95T5oIuw9irAxP/wYcz+DUek+irDhPSGwMj/TvHM/eqXsPj0K1z1GtjM/HVp0P3L57z5fmMw93bU0P2b3dD+hZ/M+E/LBPXS1NT+Uh3U/tMj2PsdLtz0LtTY/whd2P+M2+j56paw9orQ3P2Khdj8tsv0+Lv+hPce6OD90JHc/LpAAP+JYlz1eujk/+aB3P2FUAj+Wsow99bk6P34deD8GEgQ/SgyCPYy5Oz/njHg/xtwFP9c0bz2xvzw/UPx4P/mgBz8aUVo9SL89PyxleT+6awk/FD9GPeC+Pj96x3k/ejYLP+qVMj13vj8/OiN6PzsBDT9SJyA9Dr5AP2x4ej+J0g4/TfMOPTPEQT+fzXo/ZaoQP0mdAD3Kw0I/tRV7P7N7Ej/VeOk8YcNDP8xdez+PUxQ/YqHWPPjCRD9Wn3s/aysWP6hXyjyPwkU/Udp7P0cDGD84+MI8tMhGP78OfD+x4Rk/ylTBPEvIRz+fPHw/GsAbPxQ/xjzjx0g/f2p8PxKlHT8Xt9E8esdJP0SLfD97gx8/07zjPJ/NSj8IrHw/c2ghP/8h/Tw2zUs/sb98P2pNIz9N8w49zcxMP1vTfD9hMiU/L24jPWTMTT924Hw/5x0nPxHHOj37y04/BOd8P2wJKT9hw1M9INJPPwTnfD9j7io/+8tuPbfRUD8E53w/duAsPwK8hT1O0VE/6Nl8P/vLLj/hepQ95dBSP83MfD8OvjA/CtejPQrXUz+Wsnw/k6kyPw+csz2h1lQ/X5h8P6abND9d/sM9OdZVP5p3fD9GlDY/hsnUPdDVVj9IUHw/WYY4Px3J5T1n1Vc/aCJ8P2x4Oj/+Zfc9jNtYP/rtez8NcTw/ppsEPiPbWT//sns/rWk+P/LSDT662lo/dnF7P8BbQD90JBc+UdpbP+wvez9hVEI/ZaogPujZXD9I4Xo/AU1EP8NkKj4N4F0/o5J6P6JFRj9YOTQ+pN9eP3E9ej/QREg/klw+PjvfXz+x4Xk/cT1KPzm0SD7T3mA/Y395PxE2TD9PQFM+9+RhPxUdeT+yLk4/CRtePo/kYj85tHg/UidQPzAqaT4m5GM/0ER4P/MfUj/GbXQ+veNkP9nOdz+TGFQ/AACAPlTjZT/iWHc/NBFWP1TjhT556WY/6+J2P0cDWD8W+4s+EOlnP2Zmdj/n+1k/Di2SPqfoaD/i6XU/+u1bP3WTmD4+6Gk/XW11P3/ZXT8tIZ8+1edqP9jwdD8FxV8/VOOlPvrtaz/henQ/irBhP83MrD6R7Ww/6gR0P/OOYz+z6rM+Ke1tP4GVcz9dbWU/7C+7PsDsbj8zM3M/OUVnP662wj7l8m8/Ad5yP4cWaT/DZMo+fPJwP+qVcj+62mo/RUfSPhPycT98YXI/X5hsPxpR2j6q8XI/RUdyP+lIbj9BguI+QfFzP0VHcj9X7G8/n83qPmb3dD8KaHI/HHxxPzMz8z799nU/k6lyP1MFcz/ImPs+lPZ2P28Scz9vgXQ/vAUCPyv2dz+conM/4ul1P/kxBj/D9Xg/HVp0PzlFdz+oVwo/5/t5P+84dT91k3g/rWkOP3/7ej+GOHY/ldR5PwpoEj8W+3s/4lh3PygPez+9UhY/rfp8P5CgeD+fPHw/xykaP9IAfj/n+3k/iGN9P5vmHT9pAH8/A3h7P1Z9fj83iSE/AACAP8gHfT8kl38/KxglPw==",
        "encoding": "base64",
        "path": [
         "color_map",
         "data"
        ]
       },
       {
        "data": "",
        "encoding": "base64",
        "path": [
         "colors",
         "data"
        ]
       },
       {
        "data": "AAAAAAIAAAABAAAAAQAAAAIAAAADAAAAAQAAAAMAAAARAAAAAAAAABAAAAACAAAAAgAAAAQAAAADAAAAAwAAAAQAAAAFAAAAAwAAAAUAAAARAAAAAgAAABAAAAAEAAAABAAAAAYAAAAFAAAABQAAAAYAAAAHAAAABQAAAAcAAAARAAAABAAAABAAAAAGAAAABgAAAAgAAAAHAAAABwAAAAgAAAAJAAAABwAAAAkAAAARAAAABgAAABAAAAAIAAAACAAAAAoAAAAJAAAACQAAAAoAAAALAAAACQAAAAsAAAARAAAACAAAABAAAAAKAAAACgAAAAwAAAALAAAACwAAAAwAAAANAAAACwAAAA0AAAARAAAACgAAABAAAAAMAAAADAAAAA4AAAANAAAADQAAAA4AAAAPAAAADQAAAA8AAAARAAAADAAAABAAAAAOAAAADgAAAAAAAAAPAAAADwAAAAAAAAABAAAADwAAAAEAAAARAAAADgAAABAAAAAAAAAA",
        "encoding": "base64",
        "path": [
         "indices",
         "data"
        ]
       },
       {
        "data": "AACAPwAAAAAAAAAAAAAAAAAAAAAAAIA/AAAAAAAAAAAAAAAAAAAAAAAAgD8AAAAAAAAAAAAAAAAAAAAAAACAPw==",
        "encoding": "base64",
        "path": [
         "model_matrix",
         "data"
        ]
       },
       {
        "data": "",
        "encoding": "base64",
        "path": [
         "opacity_function",
         "data"
        ]
       },
       {
        "data": "",
        "encoding": "base64",
        "path": [
         "triangles_attribute",
         "data"
        ]
       },
       {
        "data": "AADAfw==",
        "encoding": "base64",
        "path": [
         "uvs",
         "data"
        ]
       },
       {
        "data": "AACAPwAAAAAAAAAAAACAPwAAAAAAAMhC8wQ1P/MENT8AAAAA8wQ1P/MENT8AAMhCc4+zrAAAgD8AAAAAc4+zrAAAgD8AAMhC8wQ1v/MENT8AAAAA8wQ1v/MENT8AAMhCAACAv3OPM60AAAAAAACAv3OPM60AAMhC8wQ1v/MENb8AAAAA8wQ1v/MENb8AAMhClquGLQAAgL8AAAAAlquGLQAAgL8AAMhC8wQ1P/MENb8AAAAA8wQ1P/MENb8AAMhCAAAAAAAAAAAAAAAAAAAAAAAAAAAAAMhC",
        "encoding": "base64",
        "path": [
         "vertices",
         "data"
        ]
       },
       {
        "data": "",
        "encoding": "base64",
        "path": [
         "volume",
         "data"
        ]
       },
       {
        "data": "",
        "encoding": "base64",
        "path": [
         "volume_bounds",
         "data"
        ]
       }
      ],
      "model_module": "k3d",
      "model_module_version": "2.12.0",
      "model_name": "ObjectModel",
      "state": {
       "_view_count": null,
       "_view_module": null,
       "_view_module_version": "",
       "_view_name": null,
       "attribute": {
        "dtype": "float32",
        "shape": [
         0
        ]
       },
       "click_callback": false,
       "color": 706570,
       "colorLegend": false,
       "color_map": {
        "dtype": "float32",
        "shape": [
         1024
        ]
       },
       "color_range": [],
       "colors": {
        "dtype": "uint32",
        "shape": [
         0
        ]
       },
       "compression_level": 0,
       "flat_shading": true,
       "group": null,
       "hover_callback": false,
       "id": 7164345696,
       "indices": {
        "dtype": "uint32",
        "shape": [
         32,
         3
        ]
       },
       "model_matrix": {
        "dtype": "float32",
        "shape": [
         4,
         4
        ]
       },
       "name": "Mesh #1",
       "opacity": 1,
       "opacity_function": {
        "dtype": "float32",
        "shape": [
         0
        ]
       },
       "side": "front",
       "texture": null,
       "texture_file_format": null,
       "triangles_attribute": {
        "dtype": "float32",
        "shape": [
         0
        ]
       },
       "type": "Mesh",
       "uvs": {
        "dtype": "float32",
        "shape": []
       },
       "vertices": {
        "dtype": "float32",
        "shape": [
         18,
         3
        ]
       },
       "visible": true,
       "volume": {
        "dtype": "float32",
        "shape": [
         0
        ]
       },
       "volume_bounds": {
        "dtype": "float32",
        "shape": [
         0
        ]
       },
       "wireframe": false
      }
     },
     "62d9716c3aad4bb691c4c349566083c8": {
      "model_module": "@jupyter-widgets/controls",
      "model_module_version": "1.5.0",
      "model_name": "SliderStyleModel",
      "state": {
       "description_width": "initial"
      }
     },
     "65aeda4ec3a8434a9be0deb4c00b4821": {
      "model_module": "@jupyter-widgets/controls",
      "model_module_version": "1.5.0",
      "model_name": "FloatSliderModel",
      "state": {
       "description": "Wind Force (N)",
       "layout": "IPY_MODEL_8ce5131163384009843b18be38668b3b",
       "max": 400,
       "step": 10,
       "style": "IPY_MODEL_85f422f96f30405294b805d8ac7619e2",
       "value": 200
      }
     },
     "66c6a172466c42cf8ff35ba4ae419574": {
      "model_module": "@jupyter-widgets/controls",
      "model_module_version": "1.5.0",
      "model_name": "FloatSliderModel",
      "state": {
       "description": "Stem Mass (g)",
       "layout": "IPY_MODEL_f98d198c8e824bcfa3c110018b825ca6",
       "max": 2000,
       "min": 100,
       "step": 100,
       "style": "IPY_MODEL_9a79ba8a46b3481381ba4bd52b8c0eaf",
       "value": 1800
      }
     },
     "6c7876497c214b3e877a30da1772be80": {
      "buffers": [
       {
        "data": "",
        "encoding": "base64",
        "path": [
         "attribute",
         "data"
        ]
       },
       {
        "data": "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",
        "encoding": "base64",
        "path": [
         "color_map",
         "data"
        ]
       },
       {
        "data": "",
        "encoding": "base64",
        "path": [
         "colors",
         "data"
        ]
       },
       {
        "data": "AAAAAAIAAAABAAAAAQAAAAIAAAADAAAAAQAAAAMAAAARAAAAAAAAABAAAAACAAAAAgAAAAQAAAADAAAAAwAAAAQAAAAFAAAAAwAAAAUAAAARAAAAAgAAABAAAAAEAAAABAAAAAYAAAAFAAAABQAAAAYAAAAHAAAABQAAAAcAAAARAAAABAAAABAAAAAGAAAABgAAAAgAAAAHAAAABwAAAAgAAAAJAAAABwAAAAkAAAARAAAABgAAABAAAAAIAAAACAAAAAoAAAAJAAAACQAAAAoAAAALAAAACQAAAAsAAAARAAAACAAAABAAAAAKAAAACgAAAAwAAAALAAAACwAAAAwAAAANAAAACwAAAA0AAAARAAAACgAAABAAAAAMAAAADAAAAA4AAAANAAAADQAAAA4AAAAPAAAADQAAAA8AAAARAAAADAAAABAAAAAOAAAADgAAAAAAAAAPAAAADwAAAAAAAAABAAAADwAAAAEAAAARAAAADgAAABAAAAAAAAAA",
        "encoding": "base64",
        "path": [
         "indices",
         "data"
        ]
       },
       {
        "data": "AACAPwAAAAAAAAAAAAAAAAAAAAAAAIA/AAAAAAAAAAAAAAAAAAAAAAAAgD8AAAAAAAAAAAAAAAAAAAAAAACAPw==",
        "encoding": "base64",
        "path": [
         "model_matrix",
         "data"
        ]
       },
       {
        "data": "",
        "encoding": "base64",
        "path": [
         "opacity_function",
         "data"
        ]
       },
       {
        "data": "",
        "encoding": "base64",
        "path": [
         "triangles_attribute",
         "data"
        ]
       },
       {
        "data": "AADAfw==",
        "encoding": "base64",
        "path": [
         "uvs",
         "data"
        ]
       },
       {
        "data": "AACAPwAAAAAAAAAAAACAPwAAAAAAAMhC8wQ1P/MENT8AAAAA8wQ1P/MENT8AAMhCc4+zrAAAgD8AAAAAc4+zrAAAgD8AAMhC8wQ1v/MENT8AAAAA8wQ1v/MENT8AAMhCAACAv3OPM60AAAAAAACAv3OPM60AAMhC8wQ1v/MENb8AAAAA8wQ1v/MENb8AAMhClquGLQAAgL8AAAAAlquGLQAAgL8AAMhC8wQ1P/MENb8AAAAA8wQ1P/MENb8AAMhCAAAAAAAAAAAAAAAAAAAAAAAAAAAAAMhC",
        "encoding": "base64",
        "path": [
         "vertices",
         "data"
        ]
       },
       {
        "data": "",
        "encoding": "base64",
        "path": [
         "volume",
         "data"
        ]
       },
       {
        "data": "",
        "encoding": "base64",
        "path": [
         "volume_bounds",
         "data"
        ]
       }
      ],
      "model_module": "k3d",
      "model_module_version": "2.12.0",
      "model_name": "ObjectModel",
      "state": {
       "_view_count": null,
       "_view_module": null,
       "_view_module_version": "",
       "_view_name": null,
       "attribute": {
        "dtype": "float32",
        "shape": [
         0
        ]
       },
       "click_callback": false,
       "color": 706570,
       "colorLegend": false,
       "color_map": {
        "dtype": "float32",
        "shape": [
         1024
        ]
       },
       "color_range": [],
       "colors": {
        "dtype": "uint32",
        "shape": [
         0
        ]
       },
       "compression_level": 0,
       "flat_shading": true,
       "group": null,
       "hover_callback": false,
       "id": 7172160864,
       "indices": {
        "dtype": "uint32",
        "shape": [
         32,
         3
        ]
       },
       "model_matrix": {
        "dtype": "float32",
        "shape": [
         4,
         4
        ]
       },
       "name": "Mesh #1",
       "opacity": 1,
       "opacity_function": {
        "dtype": "float32",
        "shape": [
         0
        ]
       },
       "side": "front",
       "texture": null,
       "texture_file_format": null,
       "triangles_attribute": {
        "dtype": "float32",
        "shape": [
         0
        ]
       },
       "type": "Mesh",
       "uvs": {
        "dtype": "float32",
        "shape": []
       },
       "vertices": {
        "dtype": "float32",
        "shape": [
         18,
         3
        ]
       },
       "visible": true,
       "volume": {
        "dtype": "float32",
        "shape": [
         0
        ]
       },
       "volume_bounds": {
        "dtype": "float32",
        "shape": [
         0
        ]
       },
       "wireframe": false
      }
     },
     "6d1fb5542a8c402bbe437991633f010e": {
      "model_module": "@jupyter-widgets/controls",
      "model_module_version": "1.5.0",
      "model_name": "SliderStyleModel",
      "state": {
       "description_width": "initial"
      }
     },
     "6e96fb26f5bf496c86275f828f65bb19": {
      "model_module": "@jupyter-widgets/base",
      "model_module_version": "1.2.0",
      "model_name": "LayoutModel",
      "state": {}
     },
     "6eb26b4f26364a59abdff2d0cb54769c": {
      "model_module": "@jupyter-widgets/controls",
      "model_module_version": "1.5.0",
      "model_name": "SliderStyleModel",
      "state": {
       "description_width": "initial"
      }
     },
     "6ed5ec559ed44f5aba4b98533ff52e36": {
      "model_module": "k3d",
      "model_module_version": "2.12.0",
      "model_name": "PlotModel",
      "state": {
       "_backend_version": "2.12.0",
       "_dom_classes": [],
       "_view_count": null,
       "antialias": 3,
       "auto_rendering": true,
       "axes": [
        "x",
        "y",
        "z"
       ],
       "axes_helper": 1,
       "background_color": 16777215,
       "camera": [],
       "camera_animation": [],
       "camera_auto_fit": true,
       "camera_damping_factor": 0,
       "camera_fov": 60,
       "camera_mode": "trackball",
       "camera_no_pan": false,
       "camera_no_rotate": false,
       "camera_no_zoom": false,
       "camera_pan_speed": 0.3,
       "camera_rotate_speed": 1,
       "camera_zoom_speed": 1.2,
       "clipping_planes": [],
       "colorbar_object_id": -1,
       "colorbar_scientific": false,
       "fps": 25,
       "fps_meter": false,
       "grid": [
        -1,
        -1,
        -1,
        1,
        1,
        1
       ],
       "grid_auto_fit": true,
       "grid_color": 15132390,
       "grid_visible": true,
       "height": 512,
       "label_color": 4473924,
       "layout": "IPY_MODEL_993c8cc96f7049cc84655472278029c8",
       "lighting": 3,
       "logarithmic_depth_buffer": true,
       "manipulate_mode": "translate",
       "menu_visibility": true,
       "mode": "view",
       "name": null,
       "object_ids": [
        4716503776,
        7164354080
       ],
       "rendering_steps": 1,
       "screenshot": "",
       "screenshot_scale": 2,
       "snapshot": "",
       "snapshot_type": "full",
       "time": 0,
       "voxel_paint_color": 0
      }
     },
     "72991488172e41568ea55dad41c01be8": {
      "buffers": [
       {
        "data": "",
        "encoding": "base64",
        "path": [
         "attribute",
         "data"
        ]
       },
       {
        "data": "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",
        "encoding": "base64",
        "path": [
         "color_map",
         "data"
        ]
       },
       {
        "data": "",
        "encoding": "base64",
        "path": [
         "colors",
         "data"
        ]
       },
       {
        "data": "AAAAAAIAAAABAAAAAQAAAAIAAAADAAAAAQAAAAMAAAARAAAAAAAAABAAAAACAAAAAgAAAAQAAAADAAAAAwAAAAQAAAAFAAAAAwAAAAUAAAARAAAAAgAAABAAAAAEAAAABAAAAAYAAAAFAAAABQAAAAYAAAAHAAAABQAAAAcAAAARAAAABAAAABAAAAAGAAAABgAAAAgAAAAHAAAABwAAAAgAAAAJAAAABwAAAAkAAAARAAAABgAAABAAAAAIAAAACAAAAAoAAAAJAAAACQAAAAoAAAALAAAACQAAAAsAAAARAAAACAAAABAAAAAKAAAACgAAAAwAAAALAAAACwAAAAwAAAANAAAACwAAAA0AAAARAAAACgAAABAAAAAMAAAADAAAAA4AAAANAAAADQAAAA4AAAAPAAAADQAAAA8AAAARAAAADAAAABAAAAAOAAAADgAAAAAAAAAPAAAADwAAAAAAAAABAAAADwAAAAEAAAARAAAADgAAABAAAAAAAAAA",
        "encoding": "base64",
        "path": [
         "indices",
         "data"
        ]
       },
       {
        "data": "AACAPwAAAAAAAAAAAAAAAAAAAAAAAIA/AAAAAAAAAAAAAAAAAAAAAAAAgD8AAAAAAAAAAAAAAAAAAAAAAACAPw==",
        "encoding": "base64",
        "path": [
         "model_matrix",
         "data"
        ]
       },
       {
        "data": "",
        "encoding": "base64",
        "path": [
         "opacity_function",
         "data"
        ]
       },
       {
        "data": "",
        "encoding": "base64",
        "path": [
         "triangles_attribute",
         "data"
        ]
       },
       {
        "data": "AADAfw==",
        "encoding": "base64",
        "path": [
         "uvs",
         "data"
        ]
       },
       {
        "data": "AACAPwAAAAAAAAAAAACAPwAAAAAAAMhC8wQ1P/MENT8AAAAA8wQ1P/MENT8AAMhCc4+zrAAAgD8AAAAAc4+zrAAAgD8AAMhC8wQ1v/MENT8AAAAA8wQ1v/MENT8AAMhCAACAv3OPM60AAAAAAACAv3OPM60AAMhC8wQ1v/MENb8AAAAA8wQ1v/MENb8AAMhClquGLQAAgL8AAAAAlquGLQAAgL8AAMhC8wQ1P/MENb8AAAAA8wQ1P/MENb8AAMhCAAAAAAAAAAAAAAAAAAAAAAAAAAAAAMhC",
        "encoding": "base64",
        "path": [
         "vertices",
         "data"
        ]
       },
       {
        "data": "",
        "encoding": "base64",
        "path": [
         "volume",
         "data"
        ]
       },
       {
        "data": "",
        "encoding": "base64",
        "path": [
         "volume_bounds",
         "data"
        ]
       }
      ],
      "model_module": "k3d",
      "model_module_version": "2.12.0",
      "model_name": "ObjectModel",
      "state": {
       "_view_count": null,
       "_view_module": null,
       "_view_module_version": "",
       "_view_name": null,
       "attribute": {
        "dtype": "float32",
        "shape": [
         0
        ]
       },
       "click_callback": false,
       "color": 706570,
       "colorLegend": false,
       "color_map": {
        "dtype": "float32",
        "shape": [
         1024
        ]
       },
       "color_range": [],
       "colors": {
        "dtype": "uint32",
        "shape": [
         0
        ]
       },
       "compression_level": 0,
       "flat_shading": true,
       "group": null,
       "hover_callback": false,
       "id": 7164354368,
       "indices": {
        "dtype": "uint32",
        "shape": [
         32,
         3
        ]
       },
       "model_matrix": {
        "dtype": "float32",
        "shape": [
         4,
         4
        ]
       },
       "name": "Mesh #1",
       "opacity": 1,
       "opacity_function": {
        "dtype": "float32",
        "shape": [
         0
        ]
       },
       "side": "front",
       "texture": null,
       "texture_file_format": null,
       "triangles_attribute": {
        "dtype": "float32",
        "shape": [
         0
        ]
       },
       "type": "Mesh",
       "uvs": {
        "dtype": "float32",
        "shape": []
       },
       "vertices": {
        "dtype": "float32",
        "shape": [
         18,
         3
        ]
       },
       "visible": true,
       "volume": {
        "dtype": "float32",
        "shape": [
         0
        ]
       },
       "volume_bounds": {
        "dtype": "float32",
        "shape": [
         0
        ]
       },
       "wireframe": false
      }
     },
     "7416d9919fd14fd89da7ea4ee23d5133": {
      "model_module": "k3d",
      "model_module_version": "2.12.0",
      "model_name": "PlotModel",
      "state": {
       "_backend_version": "2.12.0",
       "_dom_classes": [],
       "_view_count": null,
       "antialias": 3,
       "auto_rendering": true,
       "axes": [
        "x",
        "y",
        "z"
       ],
       "axes_helper": 1,
       "background_color": 16777215,
       "camera": [
        67.16975228541105,
        -29.34684228298877,
        22.39017417766477,
        -0.16291154085873036,
        -0.7571091258019467,
        27.091419455850634,
        0.1476678320808275,
        0.04329546452046207,
        0.988088920148639
       ],
       "camera_animation": [],
       "camera_auto_fit": true,
       "camera_damping_factor": 0,
       "camera_fov": 60,
       "camera_mode": "trackball",
       "camera_no_pan": false,
       "camera_no_rotate": false,
       "camera_no_zoom": false,
       "camera_pan_speed": 0.3,
       "camera_rotate_speed": 1,
       "camera_zoom_speed": 1.2,
       "clipping_planes": [],
       "colorbar_object_id": -1,
       "colorbar_scientific": false,
       "fps": 25,
       "fps_meter": false,
       "grid": [
        -1,
        -1,
        -1,
        1,
        1,
        1
       ],
       "grid_auto_fit": true,
       "grid_color": 15132390,
       "grid_visible": true,
       "height": 512,
       "label_color": 4473924,
       "layout": "IPY_MODEL_f25560d1534845828cf56b652a139d40",
       "lighting": 3,
       "logarithmic_depth_buffer": true,
       "manipulate_mode": "translate",
       "menu_visibility": true,
       "mode": "view",
       "name": null,
       "object_ids": [
        7164311872,
        7164303488
       ],
       "rendering_steps": 1,
       "screenshot": "",
       "screenshot_scale": 2,
       "snapshot": "",
       "snapshot_type": "full",
       "time": 0,
       "voxel_paint_color": 0
      }
     },
     "75f35bf1e3d94249bb38534f89817db0": {
      "model_module": "@jupyter-widgets/controls",
      "model_module_version": "1.5.0",
      "model_name": "FloatSliderModel",
      "state": {
       "description": "Diameter - Whorl 2 (cm)",
       "layout": "IPY_MODEL_0ac7a9d5c5f040299963d81779803070",
       "max": 5,
       "min": 1,
       "style": "IPY_MODEL_bda1fb7f3bf04417897f352cc28d9420",
       "value": 1
      }
     },
     "776392c4eace4af9865c95f68e3d7c3c": {
      "buffers": [
       {
        "data": "",
        "encoding": "base64",
        "path": [
         "attribute",
         "data"
        ]
       },
       {
        "data": "AAAAAKabxDpvEgM607xjPCSXfzuZuxY7w2SqOgdfmDwkl/870ERYO+AtEDsUP8Y8ylRBPLx0kzuJ0l47/yH9PEmdgDymm8Q7dQKaOwkbHj0ukKA8SFD8O4LixztbsT89EoPAPFJJHTxIUPw7irBhPa5H4TxbsT88dQIaPEoMgj1JnQA9QmBlPDSANzxPQJM9vJYQPbn8hzxioVY8VHSkPS6QID3A7J48/mV3PMbctT2giTA9NIC3PATnjDw5Rcc97utAPYZa0zwJG548GeLYPWDlUD1F2PA8xSCwPGiz6j3T3mA9cM4IPYEmwjwkufw9RdhwPVFrGj09LNQ8cF8HPtxogD3EQi09+THmPIV8ED4Cmog9NxpAPbU3+DwHzhk+vJaQPYZaUz24HgU9ih8jPnWTmD2wA2c9u7gNPQ1xLD4ukKA9tRV7PeLpFT3G3DU+VcGoPUvIhz0tsh097nw/Pg6+sD0qOpI9nRElPRUdST7Hurg9duCcPVafKz08vVI+gLfAPZ7vpz1XWzE9mndcPjm0yD3F/rI9fa42PfkxZj5g5dA9yXa+PRHHOj2OBnA+GeLYPTojyj3tDT497MB5PtPe4D2GONY9EoNAPaW9gT6M2+g9003iPYEmQj3UmoY+RdjwPWkA7z04+EI96GqLPmwJ+T3/svs9XI9CPeAtkD4SgwA+OGcEPqW9QT2945Q+b4EEPigPCz43GkA9Y3+ZPsx/CD5O0RE+Njw9PdIAnj5fmAw+rK0YPjVeOj3uWqI+vJYQPgmKHz59rjY9uY2mPhiVFD7UmiY+6pUyPUymqj51kxg+n6stPnsULj1yiq4+0ZEcPmq8ND4Mkyk9KjqyPmWqID42zTs+nRElPY/CtT7BqCQ+OPhCPgn5ID1sCbk+HqcoPgMJSj5SSR099ii8PnqlLD7OGVE+dQIaPRIUvz7XozA+mSpYPlCNFz3c18E+arw0Pi0hXz7i6RU9HVrEPse6OD75MWY+KxgVPQu1xj4kuTw+Vg5tPisYFT2n6Mg+gLdAPuoEdD7i6RU98fTKPhTQRD5I4Xo+K/YXPc3MzD5wzkg+t9GAPlFrGj1yis4+zcxMPsoyhD4JGx49xSDQPinLUD7ek4c+nDMiPcWP0T6GyVQ+1eeKPsKGJz2q8dI+GeJYPs07jj6fqy09PSzUPnbgXD7Fj5E+fdAzPZhM1T7T3mA+veOUPhHHOj29UtY+L91kPpkqmD5cj0I9x0vXPsP1aD52cZs+qFdKPZkq2D4f9Gw+NquePs6IUj0179g+fPJwPhPyoT7RIls9tabZPtjwdD7UK6U+07xjPRpR2j4173g+lWWoPrG/bD1I4do+yAd9Plafqz5rK3Y9WmTbPhKDgD4X2a4+SS5/PVHa2z5BgoI+1xKyPgFNhD0tQ9w+b4GEPn0/tT7eAok97Z7cPp2Ahj4+ebg+u7iNPZHt3D7njIg+46W7PgWjkj0bL90+FYyKPqTfvj7iWJc9iGPdPkSLjD5KDMI+LUOcPduK3T5yio4+7zjFPgn5oD0tst0+vJaQPrByyD7mrqU9SL/dPuqVkj5Wn8s+MZmqPWTM3T4YlZQ++8vOPg5Prz1kzN0+RpSWPqH40T7qBLQ9SL/dPnWTmD5GJdU+x7q4PRKl3T6+n5o+7FHYPqRwvT3bit0+7Z6cPqyL2z6BJsI9iGPdPhuenj5SuN4+XdzGPRsv3T5JnaA+9+ThPsxdyz2t+tw+eJyiPp0R5T6pE9A9JLncPsGopD5eS+g+GJXUPX9q3D7wp6Y+A3jrPvVK2T2/Dtw+HqeoPqmk7j5kzN09/7LbPkymqj5O0fE+003iPSNK2z6Wsqw+Dwv1PrAD5z1I4do+xLGuPrU3+D4fhes9NV7aPvKwsD5aZPs+jgbwPT7o2T4hsLI+G57+Pv2H9D0QWNk+T6+0PmDlAD9sCfk948fYPpm7tj6zewI/24r9PZkq2D7Hurg+kxgEPyUGAT40gNc+9bm6PuauBT+lLAM+tMjWPiS5vD45RQc/XW0FPjQR1j5SuL4+GeIIPxSuBz60WdU+nMTAPmx4Cj/M7gk+/YfUPsrDwj5NFQw/gy8MPka20z74wsQ+n6sNPztwDj5z19I+J8LGPvJBDz/ysBA+ofjRPnDOyD7T3hA/4QsTPrMM0T6fzco+JXUSP5hMFT6pE9A+zczMPngLFD9QjRc+hA3PPvvLzj7LoRU/PugZPl8Hzj4py9A+HTgXPy1DHD4f9Mw+c9fSPnDOGD/kgx4+w9PLPqHW1D7DZBo/CfkgPmizyj7Q1dY+FvsbP/hTIz7whck+/tTYPmiRHT/mriU+XkvIPkjh2j67Jx8/CyQoPssQxz524Nw+gLcgPzGZKj4dycU+pN/ePtNNIj9WDi0+VHTEPtPe4D6Y3SM/e4MvPoofwz4B3uI+63MlP9cSMj6lvcE+S+rkPrADJz80ojQ+pU7APnnp5j51kyg/x0s3PonSvj6n6Og+rBwqPyPbOT5tVr0+1efqPnGsKz/tnjw+Udq7PgTn7D6oNS0/gEg/Pv5Duj5N8+4+bcUuP0oMQj7Hurg+fPLwPqVOMD8U0EQ+WRe3Pqrx8j5O0TE/FK5HPutztT7Y8PQ+hlozP0ymSj5hw7M+Iv32Pi/dND9NhE0+1xKyPlD8+D7ZXzY/vJZQPjJVsD5/+/o+guI3P/OOUz5yiq4+rfr8Pp5eOT+Zu1Y+sb+sPtv5/j662jo/PuhZPvH0qj4SgwA/1lY8P+QUXT75D6k+qoIBP2TMPT/AW2A+HTinPkGCAj/yQT8/07xjPiZTpT7YgQM/gLdAP+cdZz4TYaM+b4EEP4EmQj8xmWo+AG+hPpSHBT+BlUM/si5uPtJvnz4rhwY/gQRFPzPEcT6kcJ0+woYHP/RsRj/rc3U+WmSbPlmGCD/Zzkc/oyN5PhBYmT5+jAk/vjBJP8gHfT7HS5c+FYwKP6OSSj/3dYA+YTKVPqyLCz/67Us/CmiCPvwYkz5Eiww/UklNP1R0hD588pA+24oNPxueTj+dgIY++8uOPgCRDj9X7E8/ApqIPnqljD6XkA8/kzpRP4PAij7ecYo+LpAQP86IUj8E54w+Qj6IPsWPET990FM/oBqPPov9hT5cjxI/nRFVP1dbkT7vyYM+gZUTP71SVj8qqZM+N4mBPhiVFD9QjVc//faVPgCRfj6vlBU/VcFYPwdfmD5a9Xk+RpQWP1r1WT8Rx5o+tFl1PmuaFz/RIls/Gy+dPg6+cD4Cmhg/uklcP1uxnz5oImw+mpkZP6RwXT+cM6I+woZnPjGZGj8AkV4/+MKkPuXQYj7ImBs/zqpfP3Bfpz4JG14+7Z4cP5zEYD8DCao+LGVZPoSeHT/c12E/lrKsPhiVVD4bnh4/j+RiP0Rprz47308+sp0fP7PqYz8OLbI+KA9LPtejID/Y8GQ/2PC0PhQ/Rj5uoyE/b/BlP77Btz4Ab0E+BaMiP3npZj++n7o+toQ8PpyiIz/122c/v329PqK0Nz40oiQ/cM5oP/d1wD5YyjI+WKglP166aT8TYcM+DeAtPvCnJj++n2o/ZmbGPozbKD6Hpyc/kX5rP7pryT5B8SM+HqcoP9ZWbD8ofsw+wOwePrWmKT8bL20/l5DPPj7oGT7arCo/RPptPyGw0j694xQ+cawrP23Fbj+rz9U+BcUPPgisLD8Jim8/UPzYPkymCj6fqy0/pU5wPxE23D6UhwU+xLEuPyUGcT/Sb98+3GgAPluxLz+lvXE/rrbiPkaU9j3ysDA/mG5yP4v95T5oIuw9irAxP/wYcz+DUek+irDhPSGwMj/TvHM/eqXsPj0K1z1GtjM/HVp0P3L57z5fmMw93bU0P2b3dD+hZ/M+E/LBPXS1NT+Uh3U/tMj2PsdLtz0LtTY/whd2P+M2+j56paw9orQ3P2Khdj8tsv0+Lv+hPce6OD90JHc/LpAAP+JYlz1eujk/+aB3P2FUAj+Wsow99bk6P34deD8GEgQ/SgyCPYy5Oz/njHg/xtwFP9c0bz2xvzw/UPx4P/mgBz8aUVo9SL89PyxleT+6awk/FD9GPeC+Pj96x3k/ejYLP+qVMj13vj8/OiN6PzsBDT9SJyA9Dr5AP2x4ej+J0g4/TfMOPTPEQT+fzXo/ZaoQP0mdAD3Kw0I/tRV7P7N7Ej/VeOk8YcNDP8xdez+PUxQ/YqHWPPjCRD9Wn3s/aysWP6hXyjyPwkU/Udp7P0cDGD84+MI8tMhGP78OfD+x4Rk/ylTBPEvIRz+fPHw/GsAbPxQ/xjzjx0g/f2p8PxKlHT8Xt9E8esdJP0SLfD97gx8/07zjPJ/NSj8IrHw/c2ghP/8h/Tw2zUs/sb98P2pNIz9N8w49zcxMP1vTfD9hMiU/L24jPWTMTT924Hw/5x0nPxHHOj37y04/BOd8P2wJKT9hw1M9INJPPwTnfD9j7io/+8tuPbfRUD8E53w/duAsPwK8hT1O0VE/6Nl8P/vLLj/hepQ95dBSP83MfD8OvjA/CtejPQrXUz+Wsnw/k6kyPw+csz2h1lQ/X5h8P6abND9d/sM9OdZVP5p3fD9GlDY/hsnUPdDVVj9IUHw/WYY4Px3J5T1n1Vc/aCJ8P2x4Oj/+Zfc9jNtYP/rtez8NcTw/ppsEPiPbWT//sns/rWk+P/LSDT662lo/dnF7P8BbQD90JBc+UdpbP+wvez9hVEI/ZaogPujZXD9I4Xo/AU1EP8NkKj4N4F0/o5J6P6JFRj9YOTQ+pN9eP3E9ej/QREg/klw+PjvfXz+x4Xk/cT1KPzm0SD7T3mA/Y395PxE2TD9PQFM+9+RhPxUdeT+yLk4/CRtePo/kYj85tHg/UidQPzAqaT4m5GM/0ER4P/MfUj/GbXQ+veNkP9nOdz+TGFQ/AACAPlTjZT/iWHc/NBFWP1TjhT556WY/6+J2P0cDWD8W+4s+EOlnP2Zmdj/n+1k/Di2SPqfoaD/i6XU/+u1bP3WTmD4+6Gk/XW11P3/ZXT8tIZ8+1edqP9jwdD8FxV8/VOOlPvrtaz/henQ/irBhP83MrD6R7Ww/6gR0P/OOYz+z6rM+Ke1tP4GVcz9dbWU/7C+7PsDsbj8zM3M/OUVnP662wj7l8m8/Ad5yP4cWaT/DZMo+fPJwP+qVcj+62mo/RUfSPhPycT98YXI/X5hsPxpR2j6q8XI/RUdyP+lIbj9BguI+QfFzP0VHcj9X7G8/n83qPmb3dD8KaHI/HHxxPzMz8z799nU/k6lyP1MFcz/ImPs+lPZ2P28Scz9vgXQ/vAUCPyv2dz+conM/4ul1P/kxBj/D9Xg/HVp0PzlFdz+oVwo/5/t5P+84dT91k3g/rWkOP3/7ej+GOHY/ldR5PwpoEj8W+3s/4lh3PygPez+9UhY/rfp8P5CgeD+fPHw/xykaP9IAfj/n+3k/iGN9P5vmHT9pAH8/A3h7P1Z9fj83iSE/AACAP8gHfT8kl38/KxglPw==",
        "encoding": "base64",
        "path": [
         "color_map",
         "data"
        ]
       },
       {
        "data": "",
        "encoding": "base64",
        "path": [
         "colors",
         "data"
        ]
       },
       {
        "data": "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",
        "encoding": "base64",
        "path": [
         "indices",
         "data"
        ]
       },
       {
        "data": "AACAPwAAAAAAAAAAAAAAAAAAAAAAAIA/AAAAAAAAAAAAAAAAAAAAAAAAgD8AAAAAAAAAAAAAAAAAAAAAAACAPw==",
        "encoding": "base64",
        "path": [
         "model_matrix",
         "data"
        ]
       },
       {
        "data": "",
        "encoding": "base64",
        "path": [
         "opacity_function",
         "data"
        ]
       },
       {
        "data": "",
        "encoding": "base64",
        "path": [
         "triangles_attribute",
         "data"
        ]
       },
       {
        "data": "AADAfw==",
        "encoding": "base64",
        "path": [
         "uvs",
         "data"
        ]
       },
       {
        "data": "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",
        "encoding": "base64",
        "path": [
         "vertices",
         "data"
        ]
       },
       {
        "data": "",
        "encoding": "base64",
        "path": [
         "volume",
         "data"
        ]
       },
       {
        "data": "",
        "encoding": "base64",
        "path": [
         "volume_bounds",
         "data"
        ]
       }
      ],
      "model_module": "k3d",
      "model_module_version": "2.12.0",
      "model_name": "ObjectModel",
      "state": {
       "_view_count": null,
       "_view_module": null,
       "_view_module_version": "",
       "_view_name": null,
       "attribute": {
        "dtype": "float32",
        "shape": [
         0
        ]
       },
       "click_callback": false,
       "color": 13132810,
       "colorLegend": false,
       "color_map": {
        "dtype": "float32",
        "shape": [
         1024
        ]
       },
       "color_range": [],
       "colors": {
        "dtype": "uint32",
        "shape": [
         0
        ]
       },
       "compression_level": 0,
       "flat_shading": true,
       "group": null,
       "hover_callback": false,
       "id": 7172157600,
       "indices": {
        "dtype": "uint32",
        "shape": [
         480,
         3
        ]
       },
       "model_matrix": {
        "dtype": "float32",
        "shape": [
         4,
         4
        ]
       },
       "name": "Mesh #2",
       "opacity": 1,
       "opacity_function": {
        "dtype": "float32",
        "shape": [
         0
        ]
       },
       "side": "front",
       "texture": null,
       "texture_file_format": null,
       "triangles_attribute": {
        "dtype": "float32",
        "shape": [
         0
        ]
       },
       "type": "Mesh",
       "uvs": {
        "dtype": "float32",
        "shape": []
       },
       "vertices": {
        "dtype": "float32",
        "shape": [
         360,
         3
        ]
       },
       "visible": true,
       "volume": {
        "dtype": "float32",
        "shape": [
         0
        ]
       },
       "volume_bounds": {
        "dtype": "float32",
        "shape": [
         0
        ]
       },
       "wireframe": false
      }
     },
     "77fd9a36b14f4b72b361d8016bc00321": {
      "model_module": "@jupyter-widgets/controls",
      "model_module_version": "1.5.0",
      "model_name": "SliderStyleModel",
      "state": {
       "description_width": "initial"
      }
     },
     "7828a20224eb413ea8c6668a6fb6b608": {
      "model_module": "@jupyter-widgets/base",
      "model_module_version": "1.2.0",
      "model_name": "LayoutModel",
      "state": {}
     },
     "7844ddd0933547ffa34c988ce8a53b20": {
      "model_module": "k3d",
      "model_module_version": "2.12.0",
      "model_name": "PlotModel",
      "state": {
       "_backend_version": "2.12.0",
       "_dom_classes": [],
       "_view_count": null,
       "antialias": 3,
       "auto_rendering": true,
       "axes": [
        "x",
        "y",
        "z"
       ],
       "axes_helper": 1,
       "background_color": 16777215,
       "camera": [],
       "camera_animation": [],
       "camera_auto_fit": true,
       "camera_damping_factor": 0,
       "camera_fov": 60,
       "camera_mode": "trackball",
       "camera_no_pan": false,
       "camera_no_rotate": false,
       "camera_no_zoom": false,
       "camera_pan_speed": 0.3,
       "camera_rotate_speed": 1,
       "camera_zoom_speed": 1.2,
       "clipping_planes": [],
       "colorbar_object_id": -1,
       "colorbar_scientific": false,
       "fps": 25,
       "fps_meter": false,
       "grid": [
        -1,
        -1,
        -1,
        1,
        1,
        1
       ],
       "grid_auto_fit": true,
       "grid_color": 15132390,
       "grid_visible": true,
       "height": 512,
       "label_color": 4473924,
       "layout": "IPY_MODEL_0b7bcb1a65384ff7aab99ba718073afd",
       "lighting": 3,
       "logarithmic_depth_buffer": true,
       "manipulate_mode": "translate",
       "menu_visibility": true,
       "mode": "view",
       "name": null,
       "object_ids": [
        7172157696,
        7172009600
       ],
       "rendering_steps": 1,
       "screenshot": "",
       "screenshot_scale": 2,
       "snapshot": "",
       "snapshot_type": "full",
       "time": 0,
       "voxel_paint_color": 0
      }
     },
     "78cfbb39baec4d079253e3adb1fea862": {
      "model_module": "@jupyter-widgets/base",
      "model_module_version": "1.2.0",
      "model_name": "LayoutModel",
      "state": {}
     },
     "7981163c976c443689d01e23277ae6c3": {
      "model_module": "@jupyter-widgets/controls",
      "model_module_version": "1.5.0",
      "model_name": "FloatSliderModel",
      "state": {
       "description": "Height - Whorl 1 (cm)",
       "layout": "IPY_MODEL_c632c0c103cd45fc8da01c08d022d125",
       "max": 3,
       "min": 1,
       "step": 0.1,
       "style": "IPY_MODEL_110681e3198140d48596ad826fb765c9",
       "value": 2
      }
     },
     "7e2ce830b2e3426fac9f0c54b8b72c7b": {
      "model_module": "@jupyter-widgets/controls",
      "model_module_version": "1.5.0",
      "model_name": "SliderStyleModel",
      "state": {
       "description_width": "initial"
      }
     },
     "7eced201a50547df8d863fc9ea5c6d7e": {
      "model_module": "@jupyter-widgets/output",
      "model_module_version": "1.0.0",
      "model_name": "OutputModel",
      "state": {
       "layout": "IPY_MODEL_c94f718f17404be68ec9fb6a4106f506",
       "outputs": [
        {
         "name": "stdout",
         "output_type": "stream",
         "text": "Theta =  0.0\nTheta =  0.0\nTheta =  0.0\nTheta =  0.0\nTheta =  0.0\nTheta =  0.0\nTheta =  0.0\nTheta =  0.0\nTheta =  0.0\nTheta =  0.0\nTheta =  0.0\nTheta =  0.0\nTheta =  0.0\nTheta =  0.0\nTheta =  0.0\nTheta =  0.0\nTheta =  0.0\nTheta =  0.0\nTheta =  0.0\nTheta =  0.0\nTheta =  0.0\nTheta =  0.0\nTheta =  0.0\nTheta =  0.0\nTheta =  0.0\nTheta =  0.0\nTheta =  0.0\nTheta =  0.0\nTheta =  0.0\nTheta =  0.0\nTheta =  0.0\nTheta =  0.0\nTheta =  0.0\nWeight Force =  Vector3(0,0,-17.658)\nWeight Moment =  Vector3(-0,0,0)\nWind Force =  Vector3(90,0,0)\nWind Moment =  Vector3(0,45,0)\nStalk Moment =  Vector3(0,-0,-0)\nTheta =  0.0\nTheta =  0.0\nTheta =  0.0\nTheta =  0.0\nTheta =  0.0\nTheta =  0.0\nTheta =  0.0\nTheta =  0.0\nTheta =  0.0\nTheta =  0.0\nTheta =  0.0\nTheta =  0.0\nTheta =  0.0\nTheta =  0.0\nTheta =  0.0\nTheta =  0.0\nTheta =  0.0\nTheta =  0.0\nTheta =  0.0\nTheta =  0.0\nTheta =  0.0\nTheta =  0.0\nTheta =  0.0\nTheta =  0.0\nTheta =  0.0\nTheta =  0.0\nTheta =  0.0\nTheta =  0.0\nTheta =  0.0\nTheta =  0.0\nTheta =  0.0\nTheta =  0.0\nTheta =  0.0\nWeight Force =  Vector3(0,0,-17.658)\nWeight Moment =  Vector3(-0,0,0)\nWind Force =  Vector3(90,0,0)\nWind Moment =  Vector3(0,45,0)\nStalk Moment =  Vector3(0,-0,-0)\nTheta =  0.0\nTheta =  0.0\nTheta =  0.0\nTheta =  0.0\nTheta =  0.0\nTheta =  0.0\nTheta =  0.0\nTheta =  0.0\nTheta =  0.0\nTheta =  0.0\nTheta =  0.0\nTheta =  0.0\nTheta =  0.0\nTheta =  0.0\nTheta =  0.0\nTheta =  0.0\nTheta =  0.0\nTheta =  0.0\nTheta =  0.0\nTheta =  0.0\nTheta =  0.0\nTheta =  0.0\nTheta =  0.0\nTheta =  0.0\nTheta =  0.0\nTheta =  0.0\nTheta =  0.0\nTheta =  0.0\nTheta =  0.0\nTheta =  0.0\nTheta =  0.0\nTheta =  0.0\nTheta =  0.0\nWeight Force =  Vector3(0,0,-17.658)\nWeight Moment =  Vector3(-0,0,0)\nWind Force =  Vector3(90,0,0)\nWind Moment =  Vector3(0,45,0)\nStalk Moment =  Vector3(0,-0,-0)\nTheta =  1.4901161193880158e-08\nTheta =  1.4901161193880158e-08\nTheta =  1.4901161193880158e-08\nTheta =  1.4901161193880158e-08\nTheta =  1.4901161193880158e-08\nTheta =  1.4901161193880158e-08\nTheta =  1.4901161193880158e-08\nTheta =  1.4901161193880158e-08\nTheta =  1.4901161193880158e-08\nTheta =  1.4901161193880158e-08\nTheta =  1.4901161193880158e-08\nTheta =  1.4901161193880158e-08\nTheta =  1.4901161193880158e-08\nTheta =  1.4901161193880158e-08\nTheta =  1.4901161193880158e-08\nTheta =  1.4901161193880158e-08\nTheta =  1.4901161193880158e-08\nTheta =  1.4901161193880158e-08\nTheta =  1.4901161193880158e-08\nTheta =  1.4901161193880158e-08\nTheta =  1.4901161193880158e-08\nTheta =  1.4901161193880158e-08\nTheta =  1.4901161193880158e-08\nTheta =  1.4901161193880158e-08\nTheta =  1.4901161193880158e-08\nTheta =  1.4901161193880158e-08\nTheta =  1.4901161193880158e-08\nTheta =  1.4901161193880158e-08\nTheta =  1.4901161193880158e-08\nTheta =  1.4901161193880158e-08\nTheta =  1.4901161193880158e-08\nTheta =  1.4901161193880158e-08\nTheta =  1.4901161193880158e-08\nWeight Force =  Vector3(0,0,-17.658)\nWeight Moment =  Vector3(-0,1.31562e-07,0)\nWind Force =  Vector3(90,0,0)\nWind Moment =  Vector3(0,45,0)\nStalk Moment =  Vector3(0,-1.49012e-09,-0)\nTheta =  0.00048609710485393283\nTheta =  0.00048609710485393283\nTheta =  0.00048609710485393283\nTheta =  0.00048609710485393283\nTheta =  0.00048609710485393283\nTheta =  0.00048609710485393283\nTheta =  0.00048609710485393283\nTheta =  0.00048609710485393283\nTheta =  0.00048609710485393283\nTheta =  0.00048609710485393283\nTheta =  0.00048609710485393283\nTheta =  0.00048609710485393283\nTheta =  0.00048609710485393283\nTheta =  0.00048609710485393283\nTheta =  0.00048609710485393283\nTheta =  0.00048609710485393283\nTheta =  0.00048609710485393283\nTheta =  0.00048609710485393283\nTheta =  0.00048609710485393283\nTheta =  0.00048609710485393283\nTheta =  0.00048609710485393283\nTheta =  0.00048609710485393283\nTheta =  0.00048609710485393283\nTheta =  0.00048609710485393283\nTheta =  0.00048609710485393283\nTheta =  0.00048609710485393283\nTheta =  0.00048609710485393283\nTheta =  0.00048609710485393283\nTheta =  0.00048609710485393283\nTheta =  0.00048609710485393283\nTheta =  0.00048609710485393283\nTheta =  0.00048609710485393283\nTheta =  0.00048609710485393283\nWeight Force =  Vector3(0,0,-17.658)\nWeight Moment =  Vector3(-0,0.00429175,0)\nWind Force =  Vector3(90,0,0)\nWind Moment =  Vector3(0,45,0)\nStalk Moment =  Vector3(0,-4.86097e-05,-0)\nTheta =  0.0004860970771199138\nTheta =  0.0004860970771199138\nTheta =  0.0004860970771199138\nTheta =  0.0004860970771199138\nTheta =  0.0004860970771199138\nTheta =  0.0004860970771199138\nTheta =  0.0004860970771199138\nTheta =  0.0004860970771199138\nTheta =  0.0004860970771199138\nTheta =  0.0004860970771199138\nTheta =  0.0004860970771199138\nTheta =  0.0004860970771199138\nTheta =  0.0004860970771199138\nTheta =  0.0004860970771199138\nTheta =  0.0004860970771199138\nTheta =  0.0004860970771199138\nTheta =  0.0004860970771199138\nTheta =  0.0004860970771199138\nTheta =  0.0004860970771199138\nTheta =  0.0004860970771199138\nTheta =  0.0004860970771199138\nTheta =  0.0004860970771199138\nTheta =  0.0004860970771199138\nTheta =  0.0004860970771199138\nTheta =  0.0004860970771199138\nTheta =  0.0004860970771199138\nTheta =  0.0004860970771199138\nTheta =  0.0004860970771199138\nTheta =  0.0004860970771199138\nTheta =  0.0004860970771199138\nTheta =  0.0004860970771199138\nTheta =  0.0004860970771199138\nTheta =  0.0004860970771199138\nWeight Force =  Vector3(0,0,-17.658)\nWeight Moment =  Vector3(-0,0.00429175,0)\nWind Force =  Vector3(90,0,0)\nWind Moment =  Vector3(0,45,0)\nStalk Moment =  Vector3(0,-4.86097e-05,-0)\nTheta =  0.0004860970771199698\nTheta =  0.0004860970771199698\nTheta =  0.0004860970771199698\nTheta =  0.0004860970771199698\nTheta =  0.0004860970771199698\nTheta =  0.0004860970771199698\nTheta =  0.0004860970771199698\nTheta =  0.0004860970771199698\nTheta =  0.0004860970771199698\nTheta =  0.0004860970771199698\nTheta =  0.0004860970771199698\nTheta =  0.0004860970771199698\nTheta =  0.0004860970771199698\nTheta =  0.0004860970771199698\nTheta =  0.0004860970771199698\nTheta =  0.0004860970771199698\nTheta =  0.0004860970771199698\nTheta =  0.0004860970771199698\nTheta =  0.0004860970771199698\nTheta =  0.0004860970771199698\nTheta =  0.0004860970771199698\nTheta =  0.0004860970771199698\nTheta =  0.0004860970771199698\nTheta =  0.0004860970771199698\nTheta =  0.0004860970771199698\nTheta =  0.0004860970771199698\nTheta =  0.0004860970771199698\nTheta =  0.0004860970771199698\nTheta =  0.0004860970771199698\nTheta =  0.0004860970771199698\nTheta =  0.0004860970771199698\nTheta =  0.0004860970771199698\nTheta =  0.0004860970771199698\nWeight Force =  Vector3(0,0,-17.658)\nWeight Moment =  Vector3(-0,0.00429175,0)\nWind Force =  Vector3(90,0,0)\nWind Moment =  Vector3(0,45,0)\nStalk Moment =  Vector3(0,-4.86097e-05,-0)\nTheta =  0.0004860970771199454\nTheta =  0.0004860970771199454\nTheta =  0.0004860970771199454\nTheta =  0.0004860970771199454\nTheta =  0.0004860970771199454\nTheta =  0.0004860970771199454\nTheta =  0.0004860970771199454\nTheta =  0.0004860970771199454\nTheta =  0.0004860970771199454\nTheta =  0.0004860970771199454\nTheta =  0.0004860970771199454\nTheta =  0.0004860970771199454\nTheta =  0.0004860970771199454\nTheta =  0.0004860970771199454\nTheta =  0.0004860970771199454\nTheta =  0.0004860970771199454\nTheta =  0.0004860970771199454\nTheta =  0.0004860970771199454\nTheta =  0.0004860970771199454\nTheta =  0.0004860970771199454\nTheta =  0.0004860970771199454\nTheta =  0.0004860970771199454\nTheta =  0.0004860970771199454\nTheta =  0.0004860970771199454\nTheta =  0.0004860970771199454\nTheta =  0.0004860970771199454\nTheta =  0.0004860970771199454\nTheta =  0.0004860970771199454\nTheta =  0.0004860970771199454\nTheta =  0.0004860970771199454\nTheta =  0.0004860970771199454\nTheta =  0.0004860970771199454\nTheta =  0.0004860970771199454\nWeight Force =  Vector3(0,0,-17.658)\nWeight Moment =  Vector3(-0,0.00429175,0)\nWind Force =  Vector3(90,0,0)\nWind Moment =  Vector3(0,45,0)\nStalk Moment =  Vector3(0,-4.86097e-05,-0)\nTheta =  0.00048609707713572153\nTheta =  0.00048609707713572153\nTheta =  0.00048609707713572153\nTheta =  0.00048609707713572153\nTheta =  0.00048609707713572153\nTheta =  0.00048609707713572153\nTheta =  0.00048609707713572153\nTheta =  0.00048609707713572153\nTheta =  0.00048609707713572153\nTheta =  0.00048609707713572153\nTheta =  0.00048609707713572153\nTheta =  0.00048609707713572153\nTheta =  0.00048609707713572153\nTheta =  0.00048609707713572153\nTheta =  0.00048609707713572153\nTheta =  0.00048609707713572153\nTheta =  0.00048609707713572153\nTheta =  0.00048609707713572153\nTheta =  0.00048609707713572153\nTheta =  0.00048609707713572153\nTheta =  0.00048609707713572153\nTheta =  0.00048609707713572153\nTheta =  0.00048609707713572153\nTheta =  0.00048609707713572153\nTheta =  0.00048609707713572153\nTheta =  0.00048609707713572153\nTheta =  0.00048609707713572153\nTheta =  0.00048609707713572153\nTheta =  0.00048609707713572153\nTheta =  0.00048609707713572153\nTheta =  0.00048609707713572153\nTheta =  0.00048609707713572153\nTheta =  0.00048609707713572153\nWeight Force =  Vector3(0,0,-17.658)\nWeight Moment =  Vector3(-0,0.00429175,0)\nWind Force =  Vector3(90,0,0)\nWind Moment =  Vector3(0,45,0)\nStalk Moment =  Vector3(0,-4.86097e-05,-0)\nTheta =  0.0004860970843633807\nTheta =  0.0004860970843633807\nTheta =  0.0004860970843633807\nTheta =  0.0004860970843633807\nTheta =  0.0004860970843633807\nTheta =  0.0004860970843633807\nTheta =  0.0004860970843633807\nTheta =  0.0004860970843633807\nTheta =  0.0004860970843633807\nTheta =  0.0004860970843633807\nTheta =  0.0004860970843633807\nTheta =  0.0004860970843633807\nTheta =  0.0004860970843633807\nTheta =  0.0004860970843633807\nTheta =  0.0004860970843633807\nTheta =  0.0004860970843633807\nTheta =  0.0004860970843633807\nTheta =  0.0004860970843633807\nTheta =  0.0004860970843633807\nTheta =  0.0004860970843633807\nTheta =  0.0004860970843633807\nTheta =  0.0004860970843633807\nTheta =  0.0004860970843633807\nTheta =  0.0004860970843633807\nTheta =  0.0004860970843633807\nTheta =  0.0004860970843633807\nTheta =  0.0004860970843633807\nTheta =  0.0004860970843633807\nTheta =  0.0004860970843633807\nTheta =  0.0004860970843633807\nTheta =  0.0004860970843633807\nTheta =  0.0004860970843633807\nTheta =  0.0004860970843633807\nWeight Force =  Vector3(0,0,-17.658)\nWeight Moment =  Vector3(-0,0.00429175,0)\nWind Force =  Vector3(90,0,0)\nWind Moment =  Vector3(0,45,0)\nStalk Moment =  Vector3(0,-4.86097e-05,-0)\nTheta =  0.0004860970771199265\nTheta =  0.0004860970771199265\nTheta =  0.0004860970771199265\nTheta =  0.0004860970771199265\nTheta =  0.0004860970771199265\nTheta =  0.0004860970771199265\nTheta =  0.0004860970771199265\nTheta =  0.0004860970771199265\nTheta =  0.0004860970771199265\nTheta =  0.0004860970771199265\nTheta =  0.0004860970771199265\nTheta =  0.0004860970771199265\nTheta =  0.0004860970771199265\nTheta =  0.0004860970771199265\nTheta =  0.0004860970771199265\nTheta =  0.0004860970771199265\nTheta =  0.0004860970771199265\nTheta =  0.0004860970771199265\nTheta =  0.0004860970771199265\nTheta =  0.0004860970771199265\nTheta =  0.0004860970771199265\nTheta =  0.0004860970771199265\nTheta =  0.0004860970771199265\nTheta =  0.0004860970771199265\nTheta =  0.0004860970771199265\nTheta =  0.0004860970771199265\nTheta =  0.0004860970771199265\nTheta =  0.0004860970771199265\nTheta =  0.0004860970771199265\nTheta =  0.0004860970771199265\nTheta =  0.0004860970771199265\nTheta =  0.0004860970771199265\nTheta =  0.0004860970771199265\nWeight Force =  Vector3(0,0,-17.658)\nWeight Moment =  Vector3(-0,0.00429175,0)\nWind Force =  Vector3(90,0,0)\nWind Moment =  Vector3(0,45,0)\nStalk Moment =  Vector3(0,-4.86097e-05,-0)\nFinal theta is  0.027851310952619564 degrees.\n"
        },
        {
         "data": {
          "application/vnd.jupyter.widget-view+json": {
           "model_id": "",
           "version_major": 2,
           "version_minor": 0
          },
          "text/plain": "Plot(antialias=3, axes=['x', 'y', 'z'], axes_helper=1.0, background_color=16777215, camera_animation=[], camer…"
         },
         "metadata": {},
         "output_type": "display_data"
        }
       ]
      }
     },
     "7f012d91ea8748fc8f2bdc399e620bd1": {
      "model_module": "@jupyter-widgets/base",
      "model_module_version": "1.2.0",
      "model_name": "LayoutModel",
      "state": {}
     },
     "8214d43f0cdf49c5bc131313824beb3a": {
      "model_module": "@jupyter-widgets/controls",
      "model_module_version": "1.5.0",
      "model_name": "SliderStyleModel",
      "state": {
       "description_width": "initial"
      }
     },
     "847b06fa109a4014bb7df1d1e36bd00e": {
      "buffers": [
       {
        "data": "",
        "encoding": "base64",
        "path": [
         "attribute",
         "data"
        ]
       },
       {
        "data": "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",
        "encoding": "base64",
        "path": [
         "color_map",
         "data"
        ]
       },
       {
        "data": "",
        "encoding": "base64",
        "path": [
         "colors",
         "data"
        ]
       },
       {
        "data": "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",
        "encoding": "base64",
        "path": [
         "indices",
         "data"
        ]
       },
       {
        "data": "AACAPwAAAAAAAAAAAAAAAAAAAAAAAIA/AAAAAAAAAAAAAAAAAAAAAAAAgD8AAAAAAAAAAAAAAAAAAAAAAACAPw==",
        "encoding": "base64",
        "path": [
         "model_matrix",
         "data"
        ]
       },
       {
        "data": "",
        "encoding": "base64",
        "path": [
         "opacity_function",
         "data"
        ]
       },
       {
        "data": "",
        "encoding": "base64",
        "path": [
         "triangles_attribute",
         "data"
        ]
       },
       {
        "data": "AADAfw==",
        "encoding": "base64",
        "path": [
         "uvs",
         "data"
        ]
       },
       {
        "data": "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",
        "encoding": "base64",
        "path": [
         "vertices",
         "data"
        ]
       },
       {
        "data": "",
        "encoding": "base64",
        "path": [
         "volume",
         "data"
        ]
       },
       {
        "data": "",
        "encoding": "base64",
        "path": [
         "volume_bounds",
         "data"
        ]
       }
      ],
      "model_module": "k3d",
      "model_module_version": "2.12.0",
      "model_name": "ObjectModel",
      "state": {
       "_view_count": null,
       "_view_module": null,
       "_view_module_version": "",
       "_view_name": null,
       "attribute": {
        "dtype": "float32",
        "shape": [
         0
        ]
       },
       "click_callback": false,
       "color": 13132810,
       "colorLegend": false,
       "color_map": {
        "dtype": "float32",
        "shape": [
         1024
        ]
       },
       "color_range": [],
       "colors": {
        "dtype": "uint32",
        "shape": [
         0
        ]
       },
       "compression_level": 0,
       "flat_shading": true,
       "group": null,
       "hover_callback": false,
       "id": 7172009600,
       "indices": {
        "dtype": "uint32",
        "shape": [
         480,
         3
        ]
       },
       "model_matrix": {
        "dtype": "float32",
        "shape": [
         4,
         4
        ]
       },
       "name": "Mesh #2",
       "opacity": 1,
       "opacity_function": {
        "dtype": "float32",
        "shape": [
         0
        ]
       },
       "side": "front",
       "texture": null,
       "texture_file_format": null,
       "triangles_attribute": {
        "dtype": "float32",
        "shape": [
         0
        ]
       },
       "type": "Mesh",
       "uvs": {
        "dtype": "float32",
        "shape": []
       },
       "vertices": {
        "dtype": "float32",
        "shape": [
         360,
         3
        ]
       },
       "visible": true,
       "volume": {
        "dtype": "float32",
        "shape": [
         0
        ]
       },
       "volume_bounds": {
        "dtype": "float32",
        "shape": [
         0
        ]
       },
       "wireframe": false
      }
     },
     "8561eb9ed30144c580c9431a883d2829": {
      "model_module": "k3d",
      "model_module_version": "2.12.0",
      "model_name": "PlotModel",
      "state": {
       "_backend_version": "2.12.0",
       "_dom_classes": [],
       "_view_count": null,
       "antialias": 3,
       "auto_rendering": true,
       "axes": [
        "x",
        "y",
        "z"
       ],
       "axes_helper": 1,
       "background_color": 16777215,
       "camera": [],
       "camera_animation": [],
       "camera_auto_fit": true,
       "camera_damping_factor": 0,
       "camera_fov": 60,
       "camera_mode": "trackball",
       "camera_no_pan": false,
       "camera_no_rotate": false,
       "camera_no_zoom": false,
       "camera_pan_speed": 0.3,
       "camera_rotate_speed": 1,
       "camera_zoom_speed": 1.2,
       "clipping_planes": [],
       "colorbar_object_id": -1,
       "colorbar_scientific": false,
       "fps": 25,
       "fps_meter": false,
       "grid": [
        -1,
        -1,
        -1,
        1,
        1,
        1
       ],
       "grid_auto_fit": true,
       "grid_color": 15132390,
       "grid_visible": true,
       "height": 512,
       "label_color": 4473924,
       "layout": "IPY_MODEL_0647083a9aac4643b36faeca12803722",
       "lighting": 3,
       "logarithmic_depth_buffer": true,
       "manipulate_mode": "translate",
       "menu_visibility": true,
       "mode": "view",
       "name": null,
       "object_ids": [
        7164354272,
        7164318144
       ],
       "rendering_steps": 1,
       "screenshot": "",
       "screenshot_scale": 2,
       "snapshot": "",
       "snapshot_type": "full",
       "time": 0,
       "voxel_paint_color": 0
      }
     },
     "85f422f96f30405294b805d8ac7619e2": {
      "model_module": "@jupyter-widgets/controls",
      "model_module_version": "1.5.0",
      "model_name": "SliderStyleModel",
      "state": {
       "description_width": "initial"
      }
     },
     "8825c3e9bbe5486da83383e4ce8a1d54": {
      "buffers": [
       {
        "data": "",
        "encoding": "base64",
        "path": [
         "attribute",
         "data"
        ]
       },
       {
        "data": "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",
        "encoding": "base64",
        "path": [
         "color_map",
         "data"
        ]
       },
       {
        "data": "",
        "encoding": "base64",
        "path": [
         "colors",
         "data"
        ]
       },
       {
        "data": "AAAAAAIAAAABAAAAAQAAAAIAAAADAAAAAQAAAAMAAAARAAAAAAAAABAAAAACAAAAAgAAAAQAAAADAAAAAwAAAAQAAAAFAAAAAwAAAAUAAAARAAAAAgAAABAAAAAEAAAABAAAAAYAAAAFAAAABQAAAAYAAAAHAAAABQAAAAcAAAARAAAABAAAABAAAAAGAAAABgAAAAgAAAAHAAAABwAAAAgAAAAJAAAABwAAAAkAAAARAAAABgAAABAAAAAIAAAACAAAAAoAAAAJAAAACQAAAAoAAAALAAAACQAAAAsAAAARAAAACAAAABAAAAAKAAAACgAAAAwAAAALAAAACwAAAAwAAAANAAAACwAAAA0AAAARAAAACgAAABAAAAAMAAAADAAAAA4AAAANAAAADQAAAA4AAAAPAAAADQAAAA8AAAARAAAADAAAABAAAAAOAAAADgAAAAAAAAAPAAAADwAAAAAAAAABAAAADwAAAAEAAAARAAAADgAAABAAAAAAAAAA",
        "encoding": "base64",
        "path": [
         "indices",
         "data"
        ]
       },
       {
        "data": "AACAPwAAAAAAAAAAAAAAAAAAAAAAAIA/AAAAAAAAAAAAAAAAAAAAAAAAgD8AAAAAAAAAAAAAAAAAAAAAAACAPw==",
        "encoding": "base64",
        "path": [
         "model_matrix",
         "data"
        ]
       },
       {
        "data": "",
        "encoding": "base64",
        "path": [
         "opacity_function",
         "data"
        ]
       },
       {
        "data": "",
        "encoding": "base64",
        "path": [
         "triangles_attribute",
         "data"
        ]
       },
       {
        "data": "AADAfw==",
        "encoding": "base64",
        "path": [
         "uvs",
         "data"
        ]
       },
       {
        "data": "AACAPwAAAAAAAAAAAACAPwAAAAAAAMhC8wQ1P/MENT8AAAAA8wQ1P/MENT8AAMhCc4+zrAAAgD8AAAAAc4+zrAAAgD8AAMhC8wQ1v/MENT8AAAAA8wQ1v/MENT8AAMhCAACAv3OPM60AAAAAAACAv3OPM60AAMhC8wQ1v/MENb8AAAAA8wQ1v/MENb8AAMhClquGLQAAgL8AAAAAlquGLQAAgL8AAMhC8wQ1P/MENb8AAAAA8wQ1P/MENb8AAMhCAAAAAAAAAAAAAAAAAAAAAAAAAAAAAMhC",
        "encoding": "base64",
        "path": [
         "vertices",
         "data"
        ]
       },
       {
        "data": "",
        "encoding": "base64",
        "path": [
         "volume",
         "data"
        ]
       },
       {
        "data": "",
        "encoding": "base64",
        "path": [
         "volume_bounds",
         "data"
        ]
       }
      ],
      "model_module": "k3d",
      "model_module_version": "2.12.0",
      "model_name": "ObjectModel",
      "state": {
       "_view_count": null,
       "_view_module": null,
       "_view_module_version": "",
       "_view_name": null,
       "attribute": {
        "dtype": "float32",
        "shape": [
         0
        ]
       },
       "click_callback": false,
       "color": 706570,
       "colorLegend": false,
       "color_map": {
        "dtype": "float32",
        "shape": [
         1024
        ]
       },
       "color_range": [],
       "colors": {
        "dtype": "uint32",
        "shape": [
         0
        ]
       },
       "compression_level": 0,
       "flat_shading": true,
       "group": null,
       "hover_callback": false,
       "id": 7164345648,
       "indices": {
        "dtype": "uint32",
        "shape": [
         32,
         3
        ]
       },
       "model_matrix": {
        "dtype": "float32",
        "shape": [
         4,
         4
        ]
       },
       "name": "Mesh #1",
       "opacity": 1,
       "opacity_function": {
        "dtype": "float32",
        "shape": [
         0
        ]
       },
       "side": "front",
       "texture": null,
       "texture_file_format": null,
       "triangles_attribute": {
        "dtype": "float32",
        "shape": [
         0
        ]
       },
       "type": "Mesh",
       "uvs": {
        "dtype": "float32",
        "shape": []
       },
       "vertices": {
        "dtype": "float32",
        "shape": [
         18,
         3
        ]
       },
       "visible": true,
       "volume": {
        "dtype": "float32",
        "shape": [
         0
        ]
       },
       "volume_bounds": {
        "dtype": "float32",
        "shape": [
         0
        ]
       },
       "wireframe": false
      }
     },
     "88335f6499354a978ca5ac3b04a4d756": {
      "model_module": "@jupyter-widgets/controls",
      "model_module_version": "1.5.0",
      "model_name": "SliderStyleModel",
      "state": {
       "description_width": "initial"
      }
     },
     "8aa1af157a25403e83b6096926c5bc6a": {
      "model_module": "@jupyter-widgets/base",
      "model_module_version": "1.2.0",
      "model_name": "LayoutModel",
      "state": {}
     },
     "8b142b249d4b47be9fe10820d98e9ea0": {
      "model_module": "k3d",
      "model_module_version": "2.12.0",
      "model_name": "PlotModel",
      "state": {
       "_backend_version": "2.12.0",
       "_dom_classes": [],
       "_view_count": null,
       "antialias": 3,
       "auto_rendering": true,
       "axes": [
        "x",
        "y",
        "z"
       ],
       "axes_helper": 1,
       "background_color": 16777215,
       "camera": [
        106.23702990040213,
        -110.27996830261027,
        32.14098182416771,
        0,
        0,
        45.93258571624756,
        0.08855696707460324,
        -0.11563095546172449,
        0.9893367200915717
       ],
       "camera_animation": [],
       "camera_auto_fit": true,
       "camera_damping_factor": 0,
       "camera_fov": 60,
       "camera_mode": "trackball",
       "camera_no_pan": false,
       "camera_no_rotate": false,
       "camera_no_zoom": false,
       "camera_pan_speed": 0.3,
       "camera_rotate_speed": 1,
       "camera_zoom_speed": 1.2,
       "clipping_planes": [],
       "colorbar_object_id": -1,
       "colorbar_scientific": false,
       "fps": 25,
       "fps_meter": false,
       "grid": [
        -1,
        -1,
        -1,
        1,
        1,
        1
       ],
       "grid_auto_fit": true,
       "grid_color": 15132390,
       "grid_visible": true,
       "height": 512,
       "label_color": 4473924,
       "layout": "IPY_MODEL_7f012d91ea8748fc8f2bdc399e620bd1",
       "lighting": 3,
       "logarithmic_depth_buffer": true,
       "manipulate_mode": "translate",
       "menu_visibility": true,
       "mode": "view",
       "name": null,
       "object_ids": [
        7164189424,
        7172009408
       ],
       "rendering_steps": 1,
       "screenshot": "",
       "screenshot_scale": 2,
       "snapshot": "",
       "snapshot_type": "full",
       "time": 0,
       "voxel_paint_color": 0
      }
     },
     "8cd7f50ce0ab42eabb4cfcf73b4118b6": {
      "model_module": "@jupyter-widgets/base",
      "model_module_version": "1.2.0",
      "model_name": "LayoutModel",
      "state": {}
     },
     "8ce5131163384009843b18be38668b3b": {
      "model_module": "@jupyter-widgets/base",
      "model_module_version": "1.2.0",
      "model_name": "LayoutModel",
      "state": {}
     },
     "8def4f0f9bd141c1ac83be51a14ed5e0": {
      "model_module": "k3d",
      "model_module_version": "2.12.0",
      "model_name": "PlotModel",
      "state": {
       "_backend_version": "2.12.0",
       "_dom_classes": [],
       "_view_count": null,
       "antialias": 3,
       "auto_rendering": true,
       "axes": [
        "x",
        "y",
        "z"
       ],
       "axes_helper": 1,
       "background_color": 16777215,
       "camera": [
        103.78072184636322,
        -155.67108276954482,
        56.310657900884095,
        0,
        0,
        45.93258571624756,
        0,
        0,
        1
       ],
       "camera_animation": [],
       "camera_auto_fit": true,
       "camera_damping_factor": 0,
       "camera_fov": 60,
       "camera_mode": "trackball",
       "camera_no_pan": false,
       "camera_no_rotate": false,
       "camera_no_zoom": false,
       "camera_pan_speed": 0.3,
       "camera_rotate_speed": 1,
       "camera_zoom_speed": 1.2,
       "clipping_planes": [],
       "colorbar_object_id": -1,
       "colorbar_scientific": false,
       "fps": 25,
       "fps_meter": false,
       "grid": [
        -1,
        -1,
        -1,
        1,
        1,
        1
       ],
       "grid_auto_fit": true,
       "grid_color": 15132390,
       "grid_visible": true,
       "height": 512,
       "label_color": 4473924,
       "layout": "IPY_MODEL_275ed93268da4a3d8207bc7515e08fc9",
       "lighting": 3,
       "logarithmic_depth_buffer": true,
       "manipulate_mode": "translate",
       "menu_visibility": true,
       "mode": "view",
       "name": null,
       "object_ids": [
        7172881328,
        7164320448
       ],
       "rendering_steps": 1,
       "screenshot": "",
       "screenshot_scale": 2,
       "snapshot": "",
       "snapshot_type": "full",
       "time": 0,
       "voxel_paint_color": 0
      }
     },
     "8e612fcea62043468e4fa094992c5a9e": {
      "model_module": "@jupyter-widgets/base",
      "model_module_version": "1.2.0",
      "model_name": "LayoutModel",
      "state": {}
     },
     "92c7c0479faf4ebeba5894fa78c339c3": {
      "buffers": [
       {
        "data": "",
        "encoding": "base64",
        "path": [
         "attribute",
         "data"
        ]
       },
       {
        "data": "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",
        "encoding": "base64",
        "path": [
         "color_map",
         "data"
        ]
       },
       {
        "data": "",
        "encoding": "base64",
        "path": [
         "colors",
         "data"
        ]
       },
       {
        "data": "AAAAAAIAAAABAAAAAQAAAAIAAAADAAAAAQAAAAMAAAARAAAAAAAAABAAAAACAAAAAgAAAAQAAAADAAAAAwAAAAQAAAAFAAAAAwAAAAUAAAARAAAAAgAAABAAAAAEAAAABAAAAAYAAAAFAAAABQAAAAYAAAAHAAAABQAAAAcAAAARAAAABAAAABAAAAAGAAAABgAAAAgAAAAHAAAABwAAAAgAAAAJAAAABwAAAAkAAAARAAAABgAAABAAAAAIAAAACAAAAAoAAAAJAAAACQAAAAoAAAALAAAACQAAAAsAAAARAAAACAAAABAAAAAKAAAACgAAAAwAAAALAAAACwAAAAwAAAANAAAACwAAAA0AAAARAAAACgAAABAAAAAMAAAADAAAAA4AAAANAAAADQAAAA4AAAAPAAAADQAAAA8AAAARAAAADAAAABAAAAAOAAAADgAAAAAAAAAPAAAADwAAAAAAAAABAAAADwAAAAEAAAARAAAADgAAABAAAAAAAAAA",
        "encoding": "base64",
        "path": [
         "indices",
         "data"
        ]
       },
       {
        "data": "AACAPwAAAAAAAAAAAAAAAAAAAAAAAIA/AAAAAAAAAAAAAAAAAAAAAAAAgD8AAAAAAAAAAAAAAAAAAAAAAACAPw==",
        "encoding": "base64",
        "path": [
         "model_matrix",
         "data"
        ]
       },
       {
        "data": "",
        "encoding": "base64",
        "path": [
         "opacity_function",
         "data"
        ]
       },
       {
        "data": "",
        "encoding": "base64",
        "path": [
         "triangles_attribute",
         "data"
        ]
       },
       {
        "data": "AADAfw==",
        "encoding": "base64",
        "path": [
         "uvs",
         "data"
        ]
       },
       {
        "data": "AACAPwAAAAAAAAAAAACAPwAAAAAAAMhC8wQ1P/MENT8AAAAA8wQ1P/MENT8AAMhCc4+zrAAAgD8AAAAAc4+zrAAAgD8AAMhC8wQ1v/MENT8AAAAA8wQ1v/MENT8AAMhCAACAv3OPM60AAAAAAACAv3OPM60AAMhC8wQ1v/MENb8AAAAA8wQ1v/MENb8AAMhClquGLQAAgL8AAAAAlquGLQAAgL8AAMhC8wQ1P/MENb8AAAAA8wQ1P/MENb8AAMhCAAAAAAAAAAAAAAAAAAAAAAAAAAAAAMhC",
        "encoding": "base64",
        "path": [
         "vertices",
         "data"
        ]
       },
       {
        "data": "",
        "encoding": "base64",
        "path": [
         "volume",
         "data"
        ]
       },
       {
        "data": "",
        "encoding": "base64",
        "path": [
         "volume_bounds",
         "data"
        ]
       }
      ],
      "model_module": "k3d",
      "model_module_version": "2.12.0",
      "model_name": "ObjectModel",
      "state": {
       "_view_count": null,
       "_view_module": null,
       "_view_module_version": "",
       "_view_name": null,
       "attribute": {
        "dtype": "float32",
        "shape": [
         0
        ]
       },
       "click_callback": false,
       "color": 706570,
       "colorLegend": false,
       "color_map": {
        "dtype": "float32",
        "shape": [
         1024
        ]
       },
       "color_range": [],
       "colors": {
        "dtype": "uint32",
        "shape": [
         0
        ]
       },
       "compression_level": 0,
       "flat_shading": true,
       "group": null,
       "hover_callback": false,
       "id": 7164311872,
       "indices": {
        "dtype": "uint32",
        "shape": [
         32,
         3
        ]
       },
       "model_matrix": {
        "dtype": "float32",
        "shape": [
         4,
         4
        ]
       },
       "name": "Mesh #1",
       "opacity": 1,
       "opacity_function": {
        "dtype": "float32",
        "shape": [
         0
        ]
       },
       "side": "front",
       "texture": null,
       "texture_file_format": null,
       "triangles_attribute": {
        "dtype": "float32",
        "shape": [
         0
        ]
       },
       "type": "Mesh",
       "uvs": {
        "dtype": "float32",
        "shape": []
       },
       "vertices": {
        "dtype": "float32",
        "shape": [
         18,
         3
        ]
       },
       "visible": true,
       "volume": {
        "dtype": "float32",
        "shape": [
         0
        ]
       },
       "volume_bounds": {
        "dtype": "float32",
        "shape": [
         0
        ]
       },
       "wireframe": false
      }
     },
     "941d569d36f149e5a83d77918241e146": {
      "model_module": "@jupyter-widgets/controls",
      "model_module_version": "1.5.0",
      "model_name": "FloatSliderModel",
      "state": {
       "description": "Height - Whorl 1 (cm)",
       "layout": "IPY_MODEL_5e4da19ff1804397a2b35c93d8f7dc91",
       "max": 3,
       "min": 1,
       "step": 0.1,
       "style": "IPY_MODEL_88335f6499354a978ca5ac3b04a4d756",
       "value": 2
      }
     },
     "9434cf564ae644d7880aa24c07a5c641": {
      "model_module": "k3d",
      "model_module_version": "2.12.0",
      "model_name": "PlotModel",
      "state": {
       "_backend_version": "2.12.0",
       "_dom_classes": [],
       "_view_count": null,
       "antialias": 3,
       "auto_rendering": true,
       "axes": [
        "x",
        "y",
        "z"
       ],
       "axes_helper": 1,
       "background_color": 16777215,
       "camera": [
        93.68724038900322,
        -140.53086058350482,
        55.30130975514804,
        0,
        0,
        45.93258571624756,
        0,
        0,
        1
       ],
       "camera_animation": [],
       "camera_auto_fit": true,
       "camera_damping_factor": 0,
       "camera_fov": 60,
       "camera_mode": "trackball",
       "camera_no_pan": false,
       "camera_no_rotate": false,
       "camera_no_zoom": false,
       "camera_pan_speed": 0.3,
       "camera_rotate_speed": 1,
       "camera_zoom_speed": 1.2,
       "clipping_planes": [],
       "colorbar_object_id": -1,
       "colorbar_scientific": false,
       "fps": 25,
       "fps_meter": false,
       "grid": [
        -1,
        -1,
        -1,
        1,
        1,
        1
       ],
       "grid_auto_fit": true,
       "grid_color": 15132390,
       "grid_visible": true,
       "height": 512,
       "label_color": 4473924,
       "layout": "IPY_MODEL_a7deabe814c84d6ba4fdb29ec1d43b24",
       "lighting": 3,
       "logarithmic_depth_buffer": true,
       "manipulate_mode": "translate",
       "menu_visibility": true,
       "mode": "view",
       "name": null,
       "object_ids": [
        7172747024,
        7172846784
       ],
       "rendering_steps": 1,
       "screenshot": "",
       "screenshot_scale": 2,
       "snapshot": "",
       "snapshot_type": "full",
       "time": 0,
       "voxel_paint_color": 0
      }
     },
     "97a63793c3bc412cb2cc7fae95d4754c": {
      "model_module": "@jupyter-widgets/controls",
      "model_module_version": "1.5.0",
      "model_name": "FloatSliderModel",
      "state": {
       "description": "Stalk Stiffness (?)",
       "layout": "IPY_MODEL_135ad3aa6c62437a8cf8ba50af26270a",
       "max": 1,
       "step": 0.1,
       "style": "IPY_MODEL_3db969065aff4c428a949f7a8485cfc1",
       "value": 0.1
      }
     },
     "98539720141948699009723a55b6e7e1": {
      "buffers": [
       {
        "data": "",
        "encoding": "base64",
        "path": [
         "attribute",
         "data"
        ]
       },
       {
        "data": "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",
        "encoding": "base64",
        "path": [
         "color_map",
         "data"
        ]
       },
       {
        "data": "",
        "encoding": "base64",
        "path": [
         "colors",
         "data"
        ]
       },
       {
        "data": "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",
        "encoding": "base64",
        "path": [
         "indices",
         "data"
        ]
       },
       {
        "data": "AACAPwAAAAAAAAAAAAAAAAAAAAAAAIA/AAAAAAAAAAAAAAAAAAAAAAAAgD8AAAAAAAAAAAAAAAAAAAAAAACAPw==",
        "encoding": "base64",
        "path": [
         "model_matrix",
         "data"
        ]
       },
       {
        "data": "",
        "encoding": "base64",
        "path": [
         "opacity_function",
         "data"
        ]
       },
       {
        "data": "",
        "encoding": "base64",
        "path": [
         "triangles_attribute",
         "data"
        ]
       },
       {
        "data": "AADAfw==",
        "encoding": "base64",
        "path": [
         "uvs",
         "data"
        ]
       },
       {
        "data": "AACAPwAAQL8AAABAAAAgPwAAAACP3Kw/AACAPwAAQD8AAABAAACwPwAAAAC4kSlA7NmOQAAAQL8AAAAA7NmCQAAAAADhRia/7NmOQAAAQD8AAAAA7NmaQAAAAADhRiY/Z5CqQAAAQL8AAAC/Z5CeQAAAAABxI5O/Z5CqQAAAQD8AAAC/Z5C2QAAAAACGGxk+g/6aP/nVnr4AAABAG9ITP9vqdD6P3Kw/twkjPwmtiT8AAABAUZqiP1+0Bj+4kSlAaCmNQIz5gT+amZmkFshxQGZMyD/hRia//ZV1QAmuGUCamZkkXBCPQDoJ7T/hRiY/2sOmQE9lrD8AAAC/fX6SQCi48j9xI5O/cGWUQOvjLkAAAAC/zqqoQH66C0CGGxk+VWSeP/MENT4AAABAMEbiPjBG4j6P3Kw/8wQ1PlVknj8AAABAzuZ4P87meD+4kSlAm/ZrQMAUKECamRmkNw05QDcNOUDhRia/wBQoQJv2a0CamRkkJP5aQCT+WkDhRiY/3JOJQNxFT0AAAAC/Uz5gQFM+YEBxI5O/3EVPQNyTiUAAAAC/oBeBQKAXgUCGGxk+Ca2JP7cJIz8AAABA2+p0PhvSEz+P3Kw/+dWevoP+mj8AAABAX7QGP1Gaoj+4kSlACa4ZQP2VdUCamZkjZkzIPxbIcUDhRia/jPmBP2gpjUCamZmjOgntP1wQj0DhRiY/6+MuQHBllEAAAAC/KLjyP31+kkBxI5O/T2WsP9rDpkAAAAC/froLQM6qqECGGxk+AABAPwAAgD8AAABAfn0wJAAAID+P3Kw/AABAvwAAgD8AAABApCPCJAAAsD+4kSlAAABAP+zZjkCamZkJWFaQJezZgkDhRia/AABAv+zZjkCamZmJkc+qJezZmkDhRiY/AABAP2eQqkAAAAC/AuiuJWeQnkBxI5O/AABAv2eQqkAAAAC/O2HJJWeQtkCGGxk++dWePoP+mj8AAABA2+p0vhvSEz+P3Kw/Ca2Jv7cJIz8AAABAX7QGv1Gaoj+4kSlAjPmBv2gpjUCamRmkZkzIvxbIcUDhRia/Ca4ZwP2VdUCamRkkOgntv1wQj0DhRiY/T2Wsv9rDpkAAAAC/KLjyv31+kkBxI5O/6+MuwHBllEAAAAC/froLwM6qqECGGxk+8wQ1vlVknj8AAABAMEbivjBG4j6P3Kw/VWSev/MENT4AAABAzuZ4v87meD+4kSlAwBQowJv2a0CamRmkNw05wDcNOUDhRia/m/ZrwMAUKECamRkkJP5awCT+WkDhRiY/3EVPwNyTiUAAAAC/Uz5gwFM+YEBxI5O/3JOJwNxFT0AAAAC/oBeBwKAXgUCGGxk+twkjvwmtiT8AAABAG9ITv9vqdD6P3Kw/g/6av/nVnr4AAABAUZqiv1+0Bj+4kSlA/ZV1wAmuGUCamZkjFshxwGZMyD/hRia/aCmNwIz5gT+amZmjXBCPwDoJ7T/hRiY/cGWUwOvjLkAAAAC/fX6SwCi48j9xI5O/2sOmwE9lrD8AAAC/zqqowH66C0CGGxk+AACAvwAAQD8AAABAAAAgv359sCSP3Kw/AACAvwAAQL8AAABAAACwv6QjQiW4kSlA7NmOwAAAQD+amRkK7NmCwFhWECbhRia/7NmOwAAAQL+amRmK7NmawJHPKibhRiY/Z5CqwAAAQD8AAAC/Z5CewALoLiZxI5O/Z5CqwAAAQL8AAAC/Z5C2wDthSSaGGxk+g/6av/nVnj4AAABAG9ITv9vqdL6P3Kw/twkjvwmtib8AAABAUZqiv1+0Br+4kSlAaCmNwIz5gb9mZmakFshxwGZMyL/hRia//ZV1wAmuGcBmZmYkXBCPwDoJ7b/hRiY/2sOmwE9lrL8AAAC/fX6SwCi48r9xI5O/cGWUwOvjLsAAAAC/zqqowH66C8CGGxk+VWSev/MENb4AAABAMEbivjBG4r6P3Kw/8wQ1vlVknr8AAABAzuZ4v87meL+4kSlAm/ZrwMAUKMCamRmkNw05wDcNOcDhRia/wBQowJv2a8CamRkkJP5awCT+WsDhRiY/3JOJwNxFT8AAAAC/Uz5gwFM+YMBxI5O/3EVPwNyTicAAAAC/oBeBwKAXgcCGGxk+Ca2Jv7cJI78AAABA2+p0vhvSE7+P3Kw/+dWePoP+mr8AAABAX7QGv1Gaor+4kSlACa4ZwP2VdcCamRkkZkzIvxbIccDhRia/jPmBv2gpjcCamRmkOgntv1wQj8DhRiY/6+MuwHBllMAAAAC/KLjyv31+ksBxI5O/T2Wsv9rDpsAAAAC/froLwM6qqMCGGxk+AABAvwAAgL8AAABAHl4EpQAAIL+P3Kw/AABAPwAAgL8AAABAu5qRpQAAsL+4kSlAAABAv+zZjsCamRmKhIFYpuzZgsDhRia/AABAP+zZjsCamRkKrRuApuzZmsDhRiY/AABAv2eQqsAAAAC/AS6DpmeQnsBxI5O/AABAP2eQqsAAAAC/7AiXpmeQtsCGGxk++dWevoP+mr8AAABA2+p0PhvSE7+P3Kw/Ca2JP7cJI78AAABAX7QGP1Gaor+4kSlAjPmBP2gpjcBmZmakZkzIPxbIccDhRia/Ca4ZQP2VdcBmZmYkOgntP1wQj8DhRiY/T2WsP9rDpsAAAAC/KLjyP31+ksBxI5O/6+MuQHBllMAAAAC/froLQM6qqMCGGxk+8wQ1PlVknr8AAABAMEbiPjBG4r6P3Kw/VWSeP/MENb4AAABAzuZ4P87meL+4kSlAwBQoQJv2a8CamRmkNw05QDcNOcDhRia/m/ZrQMAUKMCamRkkJP5aQCT+WsDhRiY/3EVPQNyTicAAAAC/Uz5gQFM+YMBxI5O/3JOJQNxFT8AAAAC/oBeBQKAXgcCGGxk+twkjPwmtib8AAABAG9ITP9vqdL6P3Kw/g/6aP/nVnj4AAABAUZqiP1+0Br+4kSlA/ZV1QAmuGcAAAAAAFshxQGZMyL/hRia/aCmNQIz5gb8AAAAAXBCPQDoJ7b/hRiY/cGWUQOvjLsAAAAC/fX6SQCi48r9xI5O/2sOmQE9lrL8AAAC/zqqoQH66C8CGGxk+AACAPwAAgL4AAABB8xpKPwAAAAB9r/tAAACAPwAAgD4AAABBh/KaPwAAAABCKAJBg/PDQAAAgL4AAAAA4Ta9QAAAAABuEAq+g/PDQAAAgD4AAAAAJLDKQAAAAABuEAo+g/MzQQAAgL4AAADBMpUwQQAAAABCKALBg/MzQQAAgD4AAADB01E3QQAAAAB9r/vAUzWBPyCmVT4AAABBLhc2P2Bhrz59r/tAJeFKP3u8KD8AAABBTpqLP1J1Bj9CKAJBWwS0QOWfG0AAAAAA7HmqQK8xJEBuEAq+KxOtQKJ0OEAAAAAAmp22QNjiL0BuEAo+sd0jQbTylEAAAADBeRgfQZk7mUBCKALBGGUgQRJdo0AAAADBUColQS0Un0B9r/vAjqZRP9o+ID8AAABBaQX8PiMDHj99r/tAACfbPl0NcD8AAABBWTdBPxRJcj9CKAJBoW2AQIE2lEAAAAAAS/JrQArvk0BuEAq+ftZnQFIwnkAAAAAAdL98QMh3nkBuEAo+cKbmQJQyCkEAAADB9THcQNgOCkFCKALBDiTaQHwvD0EAAADBiZjkQDdTD0F9r/vAtLjuPhhXaz8AAABB/+MzPr4JRT99r/tAycKtvFTpgz8AAABBiOqJPgEQlz9CKAJBVpzNPxVCvUA2lFciqGqoP2p4uEBuEAq+HTePP4fRwEA2lFeiy2i0PzObxUBuEAo+P8UvQKSMLkEAAADBaSwdQM4nLEFCKALBo5IQQF1UMEEAAADBeisjQDO5MkF9r/vAycKtPFTpgz8AAABB/+Mzvr4JRT99r/tAtLjuvhhXaz8AAABBiOqJvgEQlz9CKAJBHTePv4fRwEAAAAAAqGqov2p4uEBuEAq+VpzNvxVCvUAAAAAAy2i0vzObxUBuEAo+o5IQwF1UMEEAAADBaSwdwM4nLEFCKALBP8UvwKSMLkEAAADBeisjwDO5MkF9r/vAACfbvl0NcD8AAABBaQX8viMDHj99r/tAjqZRv9o+ID8AAABBWTdBvxRJcj9CKAJBftZnwFIwnkA2lFejS/JrwArvk0BuEAq+oW2AwIE2lEA2lFcjdL98wMh3nkBuEAo+DiTawHwvD0EAAADB9THcwNgOCkFCKALBcKbmwJQyCkEAAADBiZjkwDdTD0F9r/vAJeFKv3u8KD8AAABBLhc2v2Bhrz59r/tAUzWBvyCmVT4AAABBTpqLv1J1Bj9CKAJBKxOtwKJ0OEA2lNei7HmqwK8xJEBuEAq+WwS0wOWfG0A2lNcimp22wNjiL0BuEAo+GGUgwRJdo0AAAADBeRgfwZk7mUBCKALBsd0jwbTylEAAAADBUColwS0Un0B9r/vAAACAvwAAgD4AAABB8xpKvxxfkqV9r/tAAACAvwAAgL4AAABBh/Kav7Nv4KVCKAJBg/PDwAAAgD42lNeJ4Ta9wBYJCaduEAq+g/PDwAAAgL42lNcJJLDKwCnLEqduEAo+g/MzwQAAgD4AAADBMpUwwUjGf6dCKALBg/MzwQAAgL4AAADB01E3wS7EhKd9r/vAUzWBvyCmVb4AAABBLhc2v2Bhr759r/tAJeFKv3u8KL8AAABBTpqLv1J1Br9CKAJBWwS0wOWfG8A2lNei7HmqwK8xJMBuEAq+KxOtwKJ0OMA2lNcimp22wNjiL8BuEAo+sd0jwbTylMAAAADBeRgfwZk7mcBCKALBGGUgwRJdo8AAAADBUColwS0Un8B9r/vAjqZRv9o+IL8AAABBaQX8viMDHr99r/tAACfbvl0NcL8AAABBWTdBvxRJcr9CKAJBoW2AwIE2lMA2lFejS/JrwArvk8BuEAq+ftZnwFIwnsA2lFcjdL98wMh3nsBuEAo+cKbmwJQyCsEAAADB9THcwNgOCsFCKALBDiTawHwvD8EAAADBiZjkwDdTD8F9r/vAtLjuvhhXa78AAABB/+Mzvr4JRb99r/tAycKtPFTpg78AAABBiOqJvgEQl79CKAJBVpzNvxVCvcAAAAAAqGqov2p4uMBuEAq+HTePv4fRwMAAAAAAy2i0vzObxcBuEAo+P8UvwKSMLsEAAADBaSwdwM4nLMFCKALBo5IQwF1UMMEAAADBeisjwDO5MsF9r/vAycKtvFTpg78AAABB/+MzPr4JRb99r/tAtLjuPhhXa78AAABBiOqJPgEQl79CKAJBHTePP4fRwMA2lNeiqGqoP2p4uMBuEAq+VpzNPxVCvcA2lNciy2i0PzObxcBuEAo+o5IQQF1UMMEAAADBaSwdQM4nLMFCKALBP8UvQKSMLsEAAADBeisjQDO5MsF9r/vAACfbPl0NcL8AAABBaQX8PiMDHr99r/tAjqZRP9o+IL8AAABBWTdBPxRJcr9CKAJBftZnQFIwnsA2lFcjS/JrQArvk8BuEAq+oW2AQIE2lMA2lFejdL98QMh3nsBuEAo+DiTaQHwvD8EAAADB9THcQNgOCsFCKALBcKbmQJQyCsEAAADBiZjkQDdTD8F9r/vAJeFKP3u8KL8AAABBLhc2P2Bhr759r/tAUzWBPyCmVb4AAABBTpqLP1J1Br9CKAJBKxOtQKJ0OMAor6Gj7HmqQK8xJMBuEAq+WwS0QOWfG8Aor6Ejmp22QNjiL8BuEAo+GGUgQRJdo8AAAADBeRgfQZk7mcBCKALBsd0jQbTylMAAAADBUColQS0Un8B9r/vA",
        "encoding": "base64",
        "path": [
         "vertices",
         "data"
        ]
       },
       {
        "data": "",
        "encoding": "base64",
        "path": [
         "volume",
         "data"
        ]
       },
       {
        "data": "",
        "encoding": "base64",
        "path": [
         "volume_bounds",
         "data"
        ]
       }
      ],
      "model_module": "k3d",
      "model_module_version": "2.12.0",
      "model_name": "ObjectModel",
      "state": {
       "_view_count": null,
       "_view_module": null,
       "_view_module_version": "",
       "_view_name": null,
       "attribute": {
        "dtype": "float32",
        "shape": [
         0
        ]
       },
       "click_callback": false,
       "color": 13132810,
       "colorLegend": false,
       "color_map": {
        "dtype": "float32",
        "shape": [
         1024
        ]
       },
       "color_range": [],
       "colors": {
        "dtype": "uint32",
        "shape": [
         0
        ]
       },
       "compression_level": 0,
       "flat_shading": true,
       "group": null,
       "hover_callback": false,
       "id": 7164302960,
       "indices": {
        "dtype": "uint32",
        "shape": [
         480,
         3
        ]
       },
       "model_matrix": {
        "dtype": "float32",
        "shape": [
         4,
         4
        ]
       },
       "name": "Mesh #2",
       "opacity": 1,
       "opacity_function": {
        "dtype": "float32",
        "shape": [
         0
        ]
       },
       "side": "front",
       "texture": null,
       "texture_file_format": null,
       "triangles_attribute": {
        "dtype": "float32",
        "shape": [
         0
        ]
       },
       "type": "Mesh",
       "uvs": {
        "dtype": "float32",
        "shape": []
       },
       "vertices": {
        "dtype": "float32",
        "shape": [
         360,
         3
        ]
       },
       "visible": true,
       "volume": {
        "dtype": "float32",
        "shape": [
         0
        ]
       },
       "volume_bounds": {
        "dtype": "float32",
        "shape": [
         0
        ]
       },
       "wireframe": false
      }
     },
     "989d03ad9abb44dfbf99e21df3d2471e": {
      "model_module": "k3d",
      "model_module_version": "2.12.0",
      "model_name": "PlotModel",
      "state": {
       "_backend_version": "2.12.0",
       "_dom_classes": [],
       "_view_count": null,
       "antialias": 3,
       "auto_rendering": true,
       "axes": [
        "x",
        "y",
        "z"
       ],
       "axes_helper": 1,
       "background_color": 16777215,
       "camera": [],
       "camera_animation": [],
       "camera_auto_fit": true,
       "camera_damping_factor": 0,
       "camera_fov": 60,
       "camera_mode": "trackball",
       "camera_no_pan": false,
       "camera_no_rotate": false,
       "camera_no_zoom": false,
       "camera_pan_speed": 0.3,
       "camera_rotate_speed": 1,
       "camera_zoom_speed": 1.2,
       "clipping_planes": [],
       "colorbar_object_id": -1,
       "colorbar_scientific": false,
       "fps": 25,
       "fps_meter": false,
       "grid": [
        -1,
        -1,
        -1,
        1,
        1,
        1
       ],
       "grid_auto_fit": true,
       "grid_color": 15132390,
       "grid_visible": true,
       "height": 512,
       "label_color": 4473924,
       "layout": "IPY_MODEL_20e208be86aa4688a64a6186d5ed7ce2",
       "lighting": 3,
       "logarithmic_depth_buffer": true,
       "manipulate_mode": "translate",
       "menu_visibility": true,
       "mode": "view",
       "name": null,
       "object_ids": [
        7172158992,
        7172881040
       ],
       "rendering_steps": 1,
       "screenshot": "",
       "screenshot_scale": 2,
       "snapshot": "",
       "snapshot_type": "full",
       "time": 0,
       "voxel_paint_color": 0
      }
     },
     "993c8cc96f7049cc84655472278029c8": {
      "model_module": "@jupyter-widgets/base",
      "model_module_version": "1.2.0",
      "model_name": "LayoutModel",
      "state": {}
     },
     "9a6011898a714c8983bce72eb5afdf24": {
      "model_module": "@jupyter-widgets/base",
      "model_module_version": "1.2.0",
      "model_name": "LayoutModel",
      "state": {}
     },
     "9a6899ad702f4820ae04d9aac795d4da": {
      "buffers": [
       {
        "data": "",
        "encoding": "base64",
        "path": [
         "attribute",
         "data"
        ]
       },
       {
        "data": "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",
        "encoding": "base64",
        "path": [
         "color_map",
         "data"
        ]
       },
       {
        "data": "",
        "encoding": "base64",
        "path": [
         "colors",
         "data"
        ]
       },
       {
        "data": "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",
        "encoding": "base64",
        "path": [
         "indices",
         "data"
        ]
       },
       {
        "data": "AACAPwAAAAAAAAAAAAAAAAAAAAAAAIA/AAAAAAAAAAAAAAAAAAAAAAAAgD8AAAAAAAAAAAAAAAAAAAAAAACAPw==",
        "encoding": "base64",
        "path": [
         "model_matrix",
         "data"
        ]
       },
       {
        "data": "",
        "encoding": "base64",
        "path": [
         "opacity_function",
         "data"
        ]
       },
       {
        "data": "",
        "encoding": "base64",
        "path": [
         "triangles_attribute",
         "data"
        ]
       },
       {
        "data": "AADAfw==",
        "encoding": "base64",
        "path": [
         "uvs",
         "data"
        ]
       },
       {
        "data": "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",
        "encoding": "base64",
        "path": [
         "vertices",
         "data"
        ]
       },
       {
        "data": "",
        "encoding": "base64",
        "path": [
         "volume",
         "data"
        ]
       },
       {
        "data": "",
        "encoding": "base64",
        "path": [
         "volume_bounds",
         "data"
        ]
       }
      ],
      "model_module": "k3d",
      "model_module_version": "2.12.0",
      "model_name": "ObjectModel",
      "state": {
       "_view_count": null,
       "_view_module": null,
       "_view_module_version": "",
       "_view_name": null,
       "attribute": {
        "dtype": "float32",
        "shape": [
         0
        ]
       },
       "click_callback": false,
       "color": 13132810,
       "colorLegend": false,
       "color_map": {
        "dtype": "float32",
        "shape": [
         1024
        ]
       },
       "color_range": [],
       "colors": {
        "dtype": "uint32",
        "shape": [
         0
        ]
       },
       "compression_level": 0,
       "flat_shading": true,
       "group": null,
       "hover_callback": false,
       "id": 7164320448,
       "indices": {
        "dtype": "uint32",
        "shape": [
         480,
         3
        ]
       },
       "model_matrix": {
        "dtype": "float32",
        "shape": [
         4,
         4
        ]
       },
       "name": "Mesh #2",
       "opacity": 1,
       "opacity_function": {
        "dtype": "float32",
        "shape": [
         0
        ]
       },
       "side": "front",
       "texture": null,
       "texture_file_format": null,
       "triangles_attribute": {
        "dtype": "float32",
        "shape": [
         0
        ]
       },
       "type": "Mesh",
       "uvs": {
        "dtype": "float32",
        "shape": []
       },
       "vertices": {
        "dtype": "float32",
        "shape": [
         360,
         3
        ]
       },
       "visible": true,
       "volume": {
        "dtype": "float32",
        "shape": [
         0
        ]
       },
       "volume_bounds": {
        "dtype": "float32",
        "shape": [
         0
        ]
       },
       "wireframe": false
      }
     },
     "9a79ba8a46b3481381ba4bd52b8c0eaf": {
      "model_module": "@jupyter-widgets/controls",
      "model_module_version": "1.5.0",
      "model_name": "SliderStyleModel",
      "state": {
       "description_width": "initial"
      }
     },
     "9ae47b5bb7c840cfaf0ca9f0c0f34f44": {
      "model_module": "@jupyter-widgets/controls",
      "model_module_version": "1.5.0",
      "model_name": "SliderStyleModel",
      "state": {
       "description_width": "initial"
      }
     },
     "9b59784aad0b4abba2be1be2d6ecbb2d": {
      "model_module": "k3d",
      "model_module_version": "2.12.0",
      "model_name": "PlotModel",
      "state": {
       "_backend_version": "2.12.0",
       "_dom_classes": [],
       "_view_count": null,
       "antialias": 3,
       "auto_rendering": true,
       "axes": [
        "x",
        "y",
        "z"
       ],
       "axes_helper": 1,
       "background_color": 16777215,
       "camera": [],
       "camera_animation": [],
       "camera_auto_fit": true,
       "camera_damping_factor": 0,
       "camera_fov": 60,
       "camera_mode": "trackball",
       "camera_no_pan": false,
       "camera_no_rotate": false,
       "camera_no_zoom": false,
       "camera_pan_speed": 0.3,
       "camera_rotate_speed": 1,
       "camera_zoom_speed": 1.2,
       "clipping_planes": [],
       "colorbar_object_id": -1,
       "colorbar_scientific": false,
       "fps": 25,
       "fps_meter": false,
       "grid": [
        -1,
        -1,
        -1,
        1,
        1,
        1
       ],
       "grid_auto_fit": true,
       "grid_color": 15132390,
       "grid_visible": true,
       "height": 512,
       "label_color": 4473924,
       "layout": "IPY_MODEL_2d1d50e6b1d842e38f69e92a95bcbb2b",
       "lighting": 3,
       "logarithmic_depth_buffer": true,
       "manipulate_mode": "translate",
       "menu_visibility": true,
       "mode": "view",
       "name": null,
       "object_ids": [
        7164345648,
        7164318528
       ],
       "rendering_steps": 1,
       "screenshot": "",
       "screenshot_scale": 2,
       "snapshot": "",
       "snapshot_type": "full",
       "time": 0,
       "voxel_paint_color": 0
      }
     },
     "9b8fa96daa524429b6f4171e68526c8e": {
      "model_module": "@jupyter-widgets/controls",
      "model_module_version": "1.5.0",
      "model_name": "SliderStyleModel",
      "state": {
       "description_width": "initial"
      }
     },
     "9c6c0a45b4e24a0b83d2f694c4f7ac15": {
      "model_module": "@jupyter-widgets/controls",
      "model_module_version": "1.5.0",
      "model_name": "FloatSliderModel",
      "state": {
       "description": "Stiffness - Whorl 1 (N/m)",
       "layout": "IPY_MODEL_17c4580bc797446fa400e197b2a0c1ec",
       "max": 1000,
       "min": 100,
       "step": 100,
       "style": "IPY_MODEL_ff9a74debc014d238a83406026781595",
       "value": 600
      }
     },
     "9cded6ed925f47ec96e15544ada00f10": {
      "buffers": [
       {
        "data": "",
        "encoding": "base64",
        "path": [
         "attribute",
         "data"
        ]
       },
       {
        "data": "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",
        "encoding": "base64",
        "path": [
         "color_map",
         "data"
        ]
       },
       {
        "data": "",
        "encoding": "base64",
        "path": [
         "colors",
         "data"
        ]
       },
       {
        "data": "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",
        "encoding": "base64",
        "path": [
         "indices",
         "data"
        ]
       },
       {
        "data": "AACAPwAAAAAAAAAAAAAAAAAAAAAAAIA/AAAAAAAAAAAAAAAAAAAAAAAAgD8AAAAAAAAAAAAAAAAAAAAAAACAPw==",
        "encoding": "base64",
        "path": [
         "model_matrix",
         "data"
        ]
       },
       {
        "data": "",
        "encoding": "base64",
        "path": [
         "opacity_function",
         "data"
        ]
       },
       {
        "data": "",
        "encoding": "base64",
        "path": [
         "triangles_attribute",
         "data"
        ]
       },
       {
        "data": "AADAfw==",
        "encoding": "base64",
        "path": [
         "uvs",
         "data"
        ]
       },
       {
        "data": "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",
        "encoding": "base64",
        "path": [
         "vertices",
         "data"
        ]
       },
       {
        "data": "",
        "encoding": "base64",
        "path": [
         "volume",
         "data"
        ]
       },
       {
        "data": "",
        "encoding": "base64",
        "path": [
         "volume_bounds",
         "data"
        ]
       }
      ],
      "model_module": "k3d",
      "model_module_version": "2.12.0",
      "model_name": "ObjectModel",
      "state": {
       "_view_count": null,
       "_view_module": null,
       "_view_module_version": "",
       "_view_name": null,
       "attribute": {
        "dtype": "float32",
        "shape": [
         0
        ]
       },
       "click_callback": false,
       "color": 13132810,
       "colorLegend": false,
       "color_map": {
        "dtype": "float32",
        "shape": [
         1024
        ]
       },
       "color_range": [],
       "colors": {
        "dtype": "uint32",
        "shape": [
         0
        ]
       },
       "compression_level": 0,
       "flat_shading": true,
       "group": null,
       "hover_callback": false,
       "id": 7164353504,
       "indices": {
        "dtype": "uint32",
        "shape": [
         480,
         3
        ]
       },
       "model_matrix": {
        "dtype": "float32",
        "shape": [
         4,
         4
        ]
       },
       "name": "Mesh #2",
       "opacity": 1,
       "opacity_function": {
        "dtype": "float32",
        "shape": [
         0
        ]
       },
       "side": "front",
       "texture": null,
       "texture_file_format": null,
       "triangles_attribute": {
        "dtype": "float32",
        "shape": [
         0
        ]
       },
       "type": "Mesh",
       "uvs": {
        "dtype": "float32",
        "shape": []
       },
       "vertices": {
        "dtype": "float32",
        "shape": [
         360,
         3
        ]
       },
       "visible": true,
       "volume": {
        "dtype": "float32",
        "shape": [
         0
        ]
       },
       "volume_bounds": {
        "dtype": "float32",
        "shape": [
         0
        ]
       },
       "wireframe": false
      }
     },
     "9db79cb5536a429f9db113fb3d83b89b": {
      "model_module": "@jupyter-widgets/controls",
      "model_module_version": "1.5.0",
      "model_name": "FloatSliderModel",
      "state": {
       "description": "Diameter - Whorl 1 (cm)",
       "layout": "IPY_MODEL_a6c573ef997f49708bccac06312a3d54",
       "max": 5,
       "min": 1,
       "style": "IPY_MODEL_c00bad7952de4d9ea8e7cfe17e4bc935",
       "value": 3
      }
     },
     "9f86992f239d41899fbc02d29064d7e1": {
      "buffers": [
       {
        "data": "",
        "encoding": "base64",
        "path": [
         "attribute",
         "data"
        ]
       },
       {
        "data": "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",
        "encoding": "base64",
        "path": [
         "color_map",
         "data"
        ]
       },
       {
        "data": "",
        "encoding": "base64",
        "path": [
         "colors",
         "data"
        ]
       },
       {
        "data": "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",
        "encoding": "base64",
        "path": [
         "indices",
         "data"
        ]
       },
       {
        "data": "AACAPwAAAAAAAAAAAAAAAAAAAAAAAIA/AAAAAAAAAAAAAAAAAAAAAAAAgD8AAAAAAAAAAAAAAAAAAAAAAACAPw==",
        "encoding": "base64",
        "path": [
         "model_matrix",
         "data"
        ]
       },
       {
        "data": "",
        "encoding": "base64",
        "path": [
         "opacity_function",
         "data"
        ]
       },
       {
        "data": "",
        "encoding": "base64",
        "path": [
         "triangles_attribute",
         "data"
        ]
       },
       {
        "data": "AADAfw==",
        "encoding": "base64",
        "path": [
         "uvs",
         "data"
        ]
       },
       {
        "data": "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",
        "encoding": "base64",
        "path": [
         "vertices",
         "data"
        ]
       },
       {
        "data": "",
        "encoding": "base64",
        "path": [
         "volume",
         "data"
        ]
       },
       {
        "data": "",
        "encoding": "base64",
        "path": [
         "volume_bounds",
         "data"
        ]
       }
      ],
      "model_module": "k3d",
      "model_module_version": "2.12.0",
      "model_name": "ObjectModel",
      "state": {
       "_view_count": null,
       "_view_module": null,
       "_view_module_version": "",
       "_view_name": null,
       "attribute": {
        "dtype": "float32",
        "shape": [
         0
        ]
       },
       "click_callback": false,
       "color": 13132810,
       "colorLegend": false,
       "color_map": {
        "dtype": "float32",
        "shape": [
         1024
        ]
       },
       "color_range": [],
       "colors": {
        "dtype": "uint32",
        "shape": [
         0
        ]
       },
       "compression_level": 0,
       "flat_shading": true,
       "group": null,
       "hover_callback": false,
       "id": 7164321120,
       "indices": {
        "dtype": "uint32",
        "shape": [
         480,
         3
        ]
       },
       "model_matrix": {
        "dtype": "float32",
        "shape": [
         4,
         4
        ]
       },
       "name": "Mesh #2",
       "opacity": 1,
       "opacity_function": {
        "dtype": "float32",
        "shape": [
         0
        ]
       },
       "side": "front",
       "texture": null,
       "texture_file_format": null,
       "triangles_attribute": {
        "dtype": "float32",
        "shape": [
         0
        ]
       },
       "type": "Mesh",
       "uvs": {
        "dtype": "float32",
        "shape": []
       },
       "vertices": {
        "dtype": "float32",
        "shape": [
         360,
         3
        ]
       },
       "visible": true,
       "volume": {
        "dtype": "float32",
        "shape": [
         0
        ]
       },
       "volume_bounds": {
        "dtype": "float32",
        "shape": [
         0
        ]
       },
       "wireframe": false
      }
     },
     "9f99d721e28f4288a7ca19c7b77800f5": {
      "model_module": "@jupyter-widgets/base",
      "model_module_version": "1.2.0",
      "model_name": "LayoutModel",
      "state": {}
     },
     "a0ccbb36614b4ac782635ddbee57720c": {
      "model_module": "@jupyter-widgets/base",
      "model_module_version": "1.2.0",
      "model_name": "LayoutModel",
      "state": {}
     },
     "a18a414e5e0e486d8535f0fdde98dd63": {
      "model_module": "@jupyter-widgets/controls",
      "model_module_version": "1.5.0",
      "model_name": "SliderStyleModel",
      "state": {
       "description_width": "initial"
      }
     },
     "a460b57bfd1642329d216dae81b51c90": {
      "model_module": "k3d",
      "model_module_version": "2.12.0",
      "model_name": "PlotModel",
      "state": {
       "_backend_version": "2.12.0",
       "_dom_classes": [],
       "_view_count": null,
       "antialias": 3,
       "auto_rendering": true,
       "axes": [
        "x",
        "y",
        "z"
       ],
       "axes_helper": 1,
       "background_color": 16777215,
       "camera": [
        93.68724038900322,
        -140.53086058350482,
        55.30130975514804,
        0,
        0,
        45.93258571624756,
        0,
        0,
        1
       ],
       "camera_animation": [],
       "camera_auto_fit": true,
       "camera_damping_factor": 0,
       "camera_fov": 60,
       "camera_mode": "trackball",
       "camera_no_pan": false,
       "camera_no_rotate": false,
       "camera_no_zoom": false,
       "camera_pan_speed": 0.3,
       "camera_rotate_speed": 1,
       "camera_zoom_speed": 1.2,
       "clipping_planes": [],
       "colorbar_object_id": -1,
       "colorbar_scientific": false,
       "fps": 25,
       "fps_meter": false,
       "grid": [
        -1,
        -1,
        -1,
        1,
        1,
        1
       ],
       "grid_auto_fit": true,
       "grid_color": 15132390,
       "grid_visible": true,
       "height": 512,
       "label_color": 4473924,
       "layout": "IPY_MODEL_3ba9c9af3a6f4712a68a3b00793bc466",
       "lighting": 3,
       "logarithmic_depth_buffer": true,
       "manipulate_mode": "translate",
       "menu_visibility": true,
       "mode": "view",
       "name": null,
       "object_ids": [
        7164319056,
        7164318000
       ],
       "rendering_steps": 1,
       "screenshot": "",
       "screenshot_scale": 2,
       "snapshot": "",
       "snapshot_type": "full",
       "time": 0,
       "voxel_paint_color": 0
      }
     },
     "a4d7a120b73645cfb07b4ed7b76efb4b": {
      "model_module": "@jupyter-widgets/controls",
      "model_module_version": "1.5.0",
      "model_name": "FloatSliderModel",
      "state": {
       "description": "Stiffness - Whorl 2 (N/m)",
       "layout": "IPY_MODEL_b4f68c6f103f4c72950b5f927d9094cd",
       "max": 1000,
       "min": 100,
       "step": 100,
       "style": "IPY_MODEL_8214d43f0cdf49c5bc131313824beb3a",
       "value": 300
      }
     },
     "a4e4fb4ef5114fa6a2fdcc30b73579c0": {
      "model_module": "@jupyter-widgets/controls",
      "model_module_version": "1.5.0",
      "model_name": "SliderStyleModel",
      "state": {
       "description_width": "initial"
      }
     },
     "a6c573ef997f49708bccac06312a3d54": {
      "model_module": "@jupyter-widgets/base",
      "model_module_version": "1.2.0",
      "model_name": "LayoutModel",
      "state": {}
     },
     "a7deabe814c84d6ba4fdb29ec1d43b24": {
      "model_module": "@jupyter-widgets/base",
      "model_module_version": "1.2.0",
      "model_name": "LayoutModel",
      "state": {}
     },
     "ab39d1beb2014d2596f5039cba1df01d": {
      "buffers": [
       {
        "data": "",
        "encoding": "base64",
        "path": [
         "attribute",
         "data"
        ]
       },
       {
        "data": "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",
        "encoding": "base64",
        "path": [
         "color_map",
         "data"
        ]
       },
       {
        "data": "",
        "encoding": "base64",
        "path": [
         "colors",
         "data"
        ]
       },
       {
        "data": "AAAAAAIAAAABAAAAAQAAAAIAAAADAAAAAQAAAAMAAAARAAAAAAAAABAAAAACAAAAAgAAAAQAAAADAAAAAwAAAAQAAAAFAAAAAwAAAAUAAAARAAAAAgAAABAAAAAEAAAABAAAAAYAAAAFAAAABQAAAAYAAAAHAAAABQAAAAcAAAARAAAABAAAABAAAAAGAAAABgAAAAgAAAAHAAAABwAAAAgAAAAJAAAABwAAAAkAAAARAAAABgAAABAAAAAIAAAACAAAAAoAAAAJAAAACQAAAAoAAAALAAAACQAAAAsAAAARAAAACAAAABAAAAAKAAAACgAAAAwAAAALAAAACwAAAAwAAAANAAAACwAAAA0AAAARAAAACgAAABAAAAAMAAAADAAAAA4AAAANAAAADQAAAA4AAAAPAAAADQAAAA8AAAARAAAADAAAABAAAAAOAAAADgAAAAAAAAAPAAAADwAAAAAAAAABAAAADwAAAAEAAAARAAAADgAAABAAAAAAAAAA",
        "encoding": "base64",
        "path": [
         "indices",
         "data"
        ]
       },
       {
        "data": "AACAPwAAAAAAAAAAAAAAAAAAAAAAAIA/AAAAAAAAAAAAAAAAAAAAAAAAgD8AAAAAAAAAAAAAAAAAAAAAAACAPw==",
        "encoding": "base64",
        "path": [
         "model_matrix",
         "data"
        ]
       },
       {
        "data": "",
        "encoding": "base64",
        "path": [
         "opacity_function",
         "data"
        ]
       },
       {
        "data": "",
        "encoding": "base64",
        "path": [
         "triangles_attribute",
         "data"
        ]
       },
       {
        "data": "AADAfw==",
        "encoding": "base64",
        "path": [
         "uvs",
         "data"
        ]
       },
       {
        "data": "AACAPwAAAAAAAAAAAACAPwAAAAAAAMhC8wQ1P/MENT8AAAAA8wQ1P/MENT8AAMhCc4+zrAAAgD8AAAAAc4+zrAAAgD8AAMhC8wQ1v/MENT8AAAAA8wQ1v/MENT8AAMhCAACAv3OPM60AAAAAAACAv3OPM60AAMhC8wQ1v/MENb8AAAAA8wQ1v/MENb8AAMhClquGLQAAgL8AAAAAlquGLQAAgL8AAMhC8wQ1P/MENb8AAAAA8wQ1P/MENb8AAMhCAAAAAAAAAAAAAAAAAAAAAAAAAAAAAMhC",
        "encoding": "base64",
        "path": [
         "vertices",
         "data"
        ]
       },
       {
        "data": "",
        "encoding": "base64",
        "path": [
         "volume",
         "data"
        ]
       },
       {
        "data": "",
        "encoding": "base64",
        "path": [
         "volume_bounds",
         "data"
        ]
       }
      ],
      "model_module": "k3d",
      "model_module_version": "2.12.0",
      "model_name": "ObjectModel",
      "state": {
       "_view_count": null,
       "_view_module": null,
       "_view_module_version": "",
       "_view_name": null,
       "attribute": {
        "dtype": "float32",
        "shape": [
         0
        ]
       },
       "click_callback": false,
       "color": 706570,
       "colorLegend": false,
       "color_map": {
        "dtype": "float32",
        "shape": [
         1024
        ]
       },
       "color_range": [],
       "colors": {
        "dtype": "uint32",
        "shape": [
         0
        ]
       },
       "compression_level": 0,
       "flat_shading": true,
       "group": null,
       "hover_callback": false,
       "id": 7172158992,
       "indices": {
        "dtype": "uint32",
        "shape": [
         32,
         3
        ]
       },
       "model_matrix": {
        "dtype": "float32",
        "shape": [
         4,
         4
        ]
       },
       "name": "Mesh #1",
       "opacity": 1,
       "opacity_function": {
        "dtype": "float32",
        "shape": [
         0
        ]
       },
       "side": "front",
       "texture": null,
       "texture_file_format": null,
       "triangles_attribute": {
        "dtype": "float32",
        "shape": [
         0
        ]
       },
       "type": "Mesh",
       "uvs": {
        "dtype": "float32",
        "shape": []
       },
       "vertices": {
        "dtype": "float32",
        "shape": [
         18,
         3
        ]
       },
       "visible": true,
       "volume": {
        "dtype": "float32",
        "shape": [
         0
        ]
       },
       "volume_bounds": {
        "dtype": "float32",
        "shape": [
         0
        ]
       },
       "wireframe": false
      }
     },
     "ab4551c8d10e45e5b53c748e91a259ed": {
      "model_module": "@jupyter-widgets/base",
      "model_module_version": "1.2.0",
      "model_name": "LayoutModel",
      "state": {}
     },
     "afc563db1cbb4d05876de7335c5cafcb": {
      "buffers": [
       {
        "data": "",
        "encoding": "base64",
        "path": [
         "attribute",
         "data"
        ]
       },
       {
        "data": "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",
        "encoding": "base64",
        "path": [
         "color_map",
         "data"
        ]
       },
       {
        "data": "",
        "encoding": "base64",
        "path": [
         "colors",
         "data"
        ]
       },
       {
        "data": "AAAAAAIAAAABAAAAAQAAAAIAAAADAAAAAQAAAAMAAAARAAAAAAAAABAAAAACAAAAAgAAAAQAAAADAAAAAwAAAAQAAAAFAAAAAwAAAAUAAAARAAAAAgAAABAAAAAEAAAABAAAAAYAAAAFAAAABQAAAAYAAAAHAAAABQAAAAcAAAARAAAABAAAABAAAAAGAAAABgAAAAgAAAAHAAAABwAAAAgAAAAJAAAABwAAAAkAAAARAAAABgAAABAAAAAIAAAACAAAAAoAAAAJAAAACQAAAAoAAAALAAAACQAAAAsAAAARAAAACAAAABAAAAAKAAAACgAAAAwAAAALAAAACwAAAAwAAAANAAAACwAAAA0AAAARAAAACgAAABAAAAAMAAAADAAAAA4AAAANAAAADQAAAA4AAAAPAAAADQAAAA8AAAARAAAADAAAABAAAAAOAAAADgAAAAAAAAAPAAAADwAAAAAAAAABAAAADwAAAAEAAAARAAAADgAAABAAAAAAAAAA",
        "encoding": "base64",
        "path": [
         "indices",
         "data"
        ]
       },
       {
        "data": "AACAPwAAAAAAAAAAAAAAAAAAAAAAAIA/AAAAAAAAAAAAAAAAAAAAAAAAgD8AAAAAAAAAAAAAAAAAAAAAAACAPw==",
        "encoding": "base64",
        "path": [
         "model_matrix",
         "data"
        ]
       },
       {
        "data": "",
        "encoding": "base64",
        "path": [
         "opacity_function",
         "data"
        ]
       },
       {
        "data": "",
        "encoding": "base64",
        "path": [
         "triangles_attribute",
         "data"
        ]
       },
       {
        "data": "AADAfw==",
        "encoding": "base64",
        "path": [
         "uvs",
         "data"
        ]
       },
       {
        "data": "AACAPwAAAAAAAAAAAACAPwAAAAAAAMhC8wQ1P/MENT8AAAAA8wQ1P/MENT8AAMhCc4+zrAAAgD8AAAAAc4+zrAAAgD8AAMhC8wQ1v/MENT8AAAAA8wQ1v/MENT8AAMhCAACAv3OPM60AAAAAAACAv3OPM60AAMhC8wQ1v/MENb8AAAAA8wQ1v/MENb8AAMhClquGLQAAgL8AAAAAlquGLQAAgL8AAMhC8wQ1P/MENb8AAAAA8wQ1P/MENb8AAMhCAAAAAAAAAAAAAAAAAAAAAAAAAAAAAMhC",
        "encoding": "base64",
        "path": [
         "vertices",
         "data"
        ]
       },
       {
        "data": "",
        "encoding": "base64",
        "path": [
         "volume",
         "data"
        ]
       },
       {
        "data": "",
        "encoding": "base64",
        "path": [
         "volume_bounds",
         "data"
        ]
       }
      ],
      "model_module": "k3d",
      "model_module_version": "2.12.0",
      "model_name": "ObjectModel",
      "state": {
       "_view_count": null,
       "_view_module": null,
       "_view_module_version": "",
       "_view_name": null,
       "attribute": {
        "dtype": "float32",
        "shape": [
         0
        ]
       },
       "click_callback": false,
       "color": 706570,
       "colorLegend": false,
       "color_map": {
        "dtype": "float32",
        "shape": [
         1024
        ]
       },
       "color_range": [],
       "colors": {
        "dtype": "uint32",
        "shape": [
         0
        ]
       },
       "compression_level": 0,
       "flat_shading": true,
       "group": null,
       "hover_callback": false,
       "id": 7172158656,
       "indices": {
        "dtype": "uint32",
        "shape": [
         32,
         3
        ]
       },
       "model_matrix": {
        "dtype": "float32",
        "shape": [
         4,
         4
        ]
       },
       "name": "Mesh #1",
       "opacity": 1,
       "opacity_function": {
        "dtype": "float32",
        "shape": [
         0
        ]
       },
       "side": "front",
       "texture": null,
       "texture_file_format": null,
       "triangles_attribute": {
        "dtype": "float32",
        "shape": [
         0
        ]
       },
       "type": "Mesh",
       "uvs": {
        "dtype": "float32",
        "shape": []
       },
       "vertices": {
        "dtype": "float32",
        "shape": [
         18,
         3
        ]
       },
       "visible": true,
       "volume": {
        "dtype": "float32",
        "shape": [
         0
        ]
       },
       "volume_bounds": {
        "dtype": "float32",
        "shape": [
         0
        ]
       },
       "wireframe": false
      }
     },
     "b0ca6ad3c4214dc9ab1c76eff822a99a": {
      "model_module": "@jupyter-widgets/output",
      "model_module_version": "1.0.0",
      "model_name": "OutputModel",
      "state": {
       "layout": "IPY_MODEL_36db3e59467147d4b7f0903f5a6897f7",
       "outputs": [
        {
         "name": "stdout",
         "output_type": "stream",
         "text": "Theta =  0.0\nTheta =  0.0\nTheta =  0.0\nTheta =  0.0\nTheta =  0.0\nTheta =  0.0\nTheta =  0.0\nTheta =  0.0\nTheta =  0.0\nTheta =  0.0\nTheta =  0.0\nTheta =  0.0\nTheta =  0.0\nTheta =  0.0\nTheta =  0.0\nTheta =  0.0\nTheta =  0.0\nTheta =  0.0\nTheta =  0.0\nTheta =  0.0\nTheta =  0.0\nTheta =  0.0\nTheta =  0.0\nTheta =  0.0\nTheta =  0.0\nTheta =  0.0\nTheta =  0.0\nTheta =  0.0\nTheta =  0.0\nTheta =  0.0\nTheta =  0.0\nTheta =  0.0\nTheta =  0.0\nWeight Force =  Vector3(0,0,-9.81)\nWeight Moment =  Vector3(-0,0,0)\nWind Force =  Vector3(200,0,0)\nWind Moment =  Vector3(0,100,0)\nStalk Moment =  Vector3(0,-0,-0)\nTheta =  0.0\nTheta =  0.0\nTheta =  0.0\nTheta =  0.0\nTheta =  0.0\nTheta =  0.0\nTheta =  0.0\nTheta =  0.0\nTheta =  0.0\nTheta =  0.0\nTheta =  0.0\nTheta =  0.0\nTheta =  0.0\nTheta =  0.0\nTheta =  0.0\nTheta =  0.0\nTheta =  0.0\nTheta =  0.0\nTheta =  0.0\nTheta =  0.0\nTheta =  0.0\nTheta =  0.0\nTheta =  0.0\nTheta =  0.0\nTheta =  0.0\nTheta =  0.0\nTheta =  0.0\nTheta =  0.0\nTheta =  0.0\nTheta =  0.0\nTheta =  0.0\nTheta =  0.0\nTheta =  0.0\nWeight Force =  Vector3(0,0,-9.81)\nWeight Moment =  Vector3(-0,0,0)\nWind Force =  Vector3(200,0,0)\nWind Moment =  Vector3(0,100,0)\nStalk Moment =  Vector3(0,-0,-0)\nTheta =  0.0\nTheta =  0.0\nTheta =  0.0\nTheta =  0.0\nTheta =  0.0\nTheta =  0.0\nTheta =  0.0\nTheta =  0.0\nTheta =  0.0\nTheta =  0.0\nTheta =  0.0\nTheta =  0.0\nTheta =  0.0\nTheta =  0.0\nTheta =  0.0\nTheta =  0.0\nTheta =  0.0\nTheta =  0.0\nTheta =  0.0\nTheta =  0.0\nTheta =  0.0\nTheta =  0.0\nTheta =  0.0\nTheta =  0.0\nTheta =  0.0\nTheta =  0.0\nTheta =  0.0\nTheta =  0.0\nTheta =  0.0\nTheta =  0.0\nTheta =  0.0\nTheta =  0.0\nTheta =  0.0\nWeight Force =  Vector3(0,0,-9.81)\nWeight Moment =  Vector3(-0,0,0)\nWind Force =  Vector3(200,0,0)\nWind Moment =  Vector3(0,100,0)\nStalk Moment =  Vector3(0,-0,-0)\nTheta =  1.4901161193880158e-08\nTheta =  1.4901161193880158e-08\nTheta =  1.4901161193880158e-08\nTheta =  1.4901161193880158e-08\nTheta =  1.4901161193880158e-08\nTheta =  1.4901161193880158e-08\nTheta =  1.4901161193880158e-08\nTheta =  1.4901161193880158e-08\nTheta =  1.4901161193880158e-08\nTheta =  1.4901161193880158e-08\nTheta =  1.4901161193880158e-08\nTheta =  1.4901161193880158e-08\nTheta =  1.4901161193880158e-08\nTheta =  1.4901161193880158e-08\nTheta =  1.4901161193880158e-08\nTheta =  1.4901161193880158e-08\nTheta =  1.4901161193880158e-08\nTheta =  1.4901161193880158e-08\nTheta =  1.4901161193880158e-08\nTheta =  1.4901161193880158e-08\nTheta =  1.4901161193880158e-08\nTheta =  1.4901161193880158e-08\nTheta =  1.4901161193880158e-08\nTheta =  1.4901161193880158e-08\nTheta =  1.4901161193880158e-08\nTheta =  1.4901161193880158e-08\nTheta =  1.4901161193880158e-08\nTheta =  1.4901161193880158e-08\nTheta =  1.4901161193880158e-08\nTheta =  1.4901161193880158e-08\nTheta =  1.4901161193880158e-08\nTheta =  1.4901161193880158e-08\nTheta =  1.4901161193880158e-08\nWeight Force =  Vector3(0,0,-9.81)\nWeight Moment =  Vector3(-0,7.30902e-08,0)\nWind Force =  Vector3(200,0,0)\nWind Moment =  Vector3(0,100,0)\nStalk Moment =  Vector3(0,-7.45058e-09,-0)\nTheta =  0.0018696129169562307\nTheta =  0.0018696129169562307\nTheta =  0.0018696129169562307\nTheta =  0.0018696129169562307\nTheta =  0.0018696129169562307\nTheta =  0.0018696129169562307\nTheta =  0.0018696129169562307\nTheta =  0.0018696129169562307\nTheta =  0.0018696129169562307\nTheta =  0.0018696129169562307\nTheta =  0.0018696129169562307\nTheta =  0.0018696129169562307\nTheta =  0.0018696129169562307\nTheta =  0.0018696129169562307\nTheta =  0.0018696129169562307\nTheta =  0.0018696129169562307\nTheta =  0.0018696129169562307\nTheta =  0.0018696129169562307\nTheta =  0.0018696129169562307\nTheta =  0.0018696129169562307\nTheta =  0.0018696129169562307\nTheta =  0.0018696129169562307\nTheta =  0.0018696129169562307\nTheta =  0.0018696129169562307\nTheta =  0.0018696129169562307\nTheta =  0.0018696129169562307\nTheta =  0.0018696129169562307\nTheta =  0.0018696129169562307\nTheta =  0.0018696129169562307\nTheta =  0.0018696129169562307\nTheta =  0.0018696129169562307\nTheta =  0.0018696129169562307\nTheta =  0.0018696129169562307\nWeight Force =  Vector3(0,0,-9.81)\nWeight Moment =  Vector3(-0,0.00917045,0)\nWind Force =  Vector3(200,0,0)\nWind Moment =  Vector3(0,99.9998,0)\nStalk Moment =  Vector3(0,-0.000934806,-0)\nTheta =  0.0018696115301500332\nTheta =  0.0018696115301500332\nTheta =  0.0018696115301500332\nTheta =  0.0018696115301500332\nTheta =  0.0018696115301500332\nTheta =  0.0018696115301500332\nTheta =  0.0018696115301500332\nTheta =  0.0018696115301500332\nTheta =  0.0018696115301500332\nTheta =  0.0018696115301500332\nTheta =  0.0018696115301500332\nTheta =  0.0018696115301500332\nTheta =  0.0018696115301500332\nTheta =  0.0018696115301500332\nTheta =  0.0018696115301500332\nTheta =  0.0018696115301500332\nTheta =  0.0018696115301500332\nTheta =  0.0018696115301500332\nTheta =  0.0018696115301500332\nTheta =  0.0018696115301500332\nTheta =  0.0018696115301500332\nTheta =  0.0018696115301500332\nTheta =  0.0018696115301500332\nTheta =  0.0018696115301500332\nTheta =  0.0018696115301500332\nTheta =  0.0018696115301500332\nTheta =  0.0018696115301500332\nTheta =  0.0018696115301500332\nTheta =  0.0018696115301500332\nTheta =  0.0018696115301500332\nTheta =  0.0018696115301500332\nTheta =  0.0018696115301500332\nTheta =  0.0018696115301500332\nWeight Force =  Vector3(0,0,-9.81)\nWeight Moment =  Vector3(-0,0.00917044,0)\nWind Force =  Vector3(200,0,0)\nWind Moment =  Vector3(0,99.9998,0)\nStalk Moment =  Vector3(0,-0.000934806,-0)\nTheta =  0.0018696115301495727\nTheta =  0.0018696115301495727\nTheta =  0.0018696115301495727\nTheta =  0.0018696115301495727\nTheta =  0.0018696115301495727\nTheta =  0.0018696115301495727\nTheta =  0.0018696115301495727\nTheta =  0.0018696115301495727\nTheta =  0.0018696115301495727\nTheta =  0.0018696115301495727\nTheta =  0.0018696115301495727\nTheta =  0.0018696115301495727\nTheta =  0.0018696115301495727\nTheta =  0.0018696115301495727\nTheta =  0.0018696115301495727\nTheta =  0.0018696115301495727\nTheta =  0.0018696115301495727\nTheta =  0.0018696115301495727\nTheta =  0.0018696115301495727\nTheta =  0.0018696115301495727\nTheta =  0.0018696115301495727\nTheta =  0.0018696115301495727\nTheta =  0.0018696115301495727\nTheta =  0.0018696115301495727\nTheta =  0.0018696115301495727\nTheta =  0.0018696115301495727\nTheta =  0.0018696115301495727\nTheta =  0.0018696115301495727\nTheta =  0.0018696115301495727\nTheta =  0.0018696115301495727\nTheta =  0.0018696115301495727\nTheta =  0.0018696115301495727\nTheta =  0.0018696115301495727\nWeight Force =  Vector3(0,0,-9.81)\nWeight Moment =  Vector3(-0,0.00917044,0)\nWind Force =  Vector3(200,0,0)\nWind Moment =  Vector3(0,99.9998,0)\nStalk Moment =  Vector3(0,-0.000934806,-0)\nFinal theta is  0.10712085000656638 degrees.\n"
        },
        {
         "data": {
          "application/vnd.jupyter.widget-view+json": {
           "model_id": "8def4f0f9bd141c1ac83be51a14ed5e0",
           "version_major": 2,
           "version_minor": 0
          },
          "text/plain": "Plot(antialias=3, axes=['x', 'y', 'z'], axes_helper=1.0, background_color=16777215, camera_animation=[], camer…"
         },
         "metadata": {},
         "output_type": "display_data"
        }
       ]
      }
     },
     "b4f68c6f103f4c72950b5f927d9094cd": {
      "model_module": "@jupyter-widgets/base",
      "model_module_version": "1.2.0",
      "model_name": "LayoutModel",
      "state": {}
     },
     "b60cb9d046c3428d84344f5081bb39cd": {
      "model_module": "@jupyter-widgets/controls",
      "model_module_version": "1.5.0",
      "model_name": "FloatSliderModel",
      "state": {
       "description": "Wind Force (N)",
       "layout": "IPY_MODEL_7828a20224eb413ea8c6668a6fb6b608",
       "max": 400,
       "step": 10,
       "style": "IPY_MODEL_d45f4d4c042740baa95c0a7ce8d25f2b",
       "value": 90
      }
     },
     "b93a513a990043f7814f0f88a7f01a5c": {
      "model_module": "@jupyter-widgets/base",
      "model_module_version": "1.2.0",
      "model_name": "LayoutModel",
      "state": {}
     },
     "ba45e1eec0374139ae4803c12758b9a4": {
      "buffers": [
       {
        "data": "",
        "encoding": "base64",
        "path": [
         "attribute",
         "data"
        ]
       },
       {
        "data": "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",
        "encoding": "base64",
        "path": [
         "color_map",
         "data"
        ]
       },
       {
        "data": "",
        "encoding": "base64",
        "path": [
         "colors",
         "data"
        ]
       },
       {
        "data": "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",
        "encoding": "base64",
        "path": [
         "indices",
         "data"
        ]
       },
       {
        "data": "AACAPwAAAAAAAAAAAAAAAAAAAAAAAIA/AAAAAAAAAAAAAAAAAAAAAAAAgD8AAAAAAAAAAAAAAAAAAAAAAACAPw==",
        "encoding": "base64",
        "path": [
         "model_matrix",
         "data"
        ]
       },
       {
        "data": "",
        "encoding": "base64",
        "path": [
         "opacity_function",
         "data"
        ]
       },
       {
        "data": "",
        "encoding": "base64",
        "path": [
         "triangles_attribute",
         "data"
        ]
       },
       {
        "data": "AADAfw==",
        "encoding": "base64",
        "path": [
         "uvs",
         "data"
        ]
       },
       {
        "data": "AACAPwAAQL8AAABAAAAgPwAAAACP3Kw/AACAPwAAQD8AAABAAACwPwAAAAC4kSlA7NmOQAAAQL8AAAAA7NmCQAAAAADhRia/7NmOQAAAQD8AAAAA7NmaQAAAAADhRiY/Z5CqQAAAQL8AAAC/Z5CeQAAAAABxI5O/Z5CqQAAAQD8AAAC/Z5C2QAAAAACGGxk+g/6aP/nVnr4AAABAG9ITP9vqdD6P3Kw/twkjPwmtiT8AAABAUZqiP1+0Bj+4kSlAaCmNQIz5gT+amZmkFshxQGZMyD/hRia//ZV1QAmuGUCamZkkXBCPQDoJ7T/hRiY/2sOmQE9lrD8AAAC/fX6SQCi48j9xI5O/cGWUQOvjLkAAAAC/zqqoQH66C0CGGxk+VWSeP/MENT4AAABAMEbiPjBG4j6P3Kw/8wQ1PlVknj8AAABAzuZ4P87meD+4kSlAm/ZrQMAUKECamRmkNw05QDcNOUDhRia/wBQoQJv2a0CamRkkJP5aQCT+WkDhRiY/3JOJQNxFT0AAAAC/Uz5gQFM+YEBxI5O/3EVPQNyTiUAAAAC/oBeBQKAXgUCGGxk+Ca2JP7cJIz8AAABA2+p0PhvSEz+P3Kw/+dWevoP+mj8AAABAX7QGP1Gaoj+4kSlACa4ZQP2VdUCamZkjZkzIPxbIcUDhRia/jPmBP2gpjUCamZmjOgntP1wQj0DhRiY/6+MuQHBllEAAAAC/KLjyP31+kkBxI5O/T2WsP9rDpkAAAAC/froLQM6qqECGGxk+AABAPwAAgD8AAABAfn0wJAAAID+P3Kw/AABAvwAAgD8AAABApCPCJAAAsD+4kSlAAABAP+zZjkCamZkJWFaQJezZgkDhRia/AABAv+zZjkCamZmJkc+qJezZmkDhRiY/AABAP2eQqkAAAAC/AuiuJWeQnkBxI5O/AABAv2eQqkAAAAC/O2HJJWeQtkCGGxk++dWePoP+mj8AAABA2+p0vhvSEz+P3Kw/Ca2Jv7cJIz8AAABAX7QGv1Gaoj+4kSlAjPmBv2gpjUCamRmkZkzIvxbIcUDhRia/Ca4ZwP2VdUCamRkkOgntv1wQj0DhRiY/T2Wsv9rDpkAAAAC/KLjyv31+kkBxI5O/6+MuwHBllEAAAAC/froLwM6qqECGGxk+8wQ1vlVknj8AAABAMEbivjBG4j6P3Kw/VWSev/MENT4AAABAzuZ4v87meD+4kSlAwBQowJv2a0CamRmkNw05wDcNOUDhRia/m/ZrwMAUKECamRkkJP5awCT+WkDhRiY/3EVPwNyTiUAAAAC/Uz5gwFM+YEBxI5O/3JOJwNxFT0AAAAC/oBeBwKAXgUCGGxk+twkjvwmtiT8AAABAG9ITv9vqdD6P3Kw/g/6av/nVnr4AAABAUZqiv1+0Bj+4kSlA/ZV1wAmuGUCamZkjFshxwGZMyD/hRia/aCmNwIz5gT+amZmjXBCPwDoJ7T/hRiY/cGWUwOvjLkAAAAC/fX6SwCi48j9xI5O/2sOmwE9lrD8AAAC/zqqowH66C0CGGxk+AACAvwAAQD8AAABAAAAgv359sCSP3Kw/AACAvwAAQL8AAABAAACwv6QjQiW4kSlA7NmOwAAAQD+amRkK7NmCwFhWECbhRia/7NmOwAAAQL+amRmK7NmawJHPKibhRiY/Z5CqwAAAQD8AAAC/Z5CewALoLiZxI5O/Z5CqwAAAQL8AAAC/Z5C2wDthSSaGGxk+g/6av/nVnj4AAABAG9ITv9vqdL6P3Kw/twkjvwmtib8AAABAUZqiv1+0Br+4kSlAaCmNwIz5gb9mZmakFshxwGZMyL/hRia//ZV1wAmuGcBmZmYkXBCPwDoJ7b/hRiY/2sOmwE9lrL8AAAC/fX6SwCi48r9xI5O/cGWUwOvjLsAAAAC/zqqowH66C8CGGxk+VWSev/MENb4AAABAMEbivjBG4r6P3Kw/8wQ1vlVknr8AAABAzuZ4v87meL+4kSlAm/ZrwMAUKMCamRmkNw05wDcNOcDhRia/wBQowJv2a8CamRkkJP5awCT+WsDhRiY/3JOJwNxFT8AAAAC/Uz5gwFM+YMBxI5O/3EVPwNyTicAAAAC/oBeBwKAXgcCGGxk+Ca2Jv7cJI78AAABA2+p0vhvSE7+P3Kw/+dWePoP+mr8AAABAX7QGv1Gaor+4kSlACa4ZwP2VdcCamRkkZkzIvxbIccDhRia/jPmBv2gpjcCamRmkOgntv1wQj8DhRiY/6+MuwHBllMAAAAC/KLjyv31+ksBxI5O/T2Wsv9rDpsAAAAC/froLwM6qqMCGGxk+AABAvwAAgL8AAABAHl4EpQAAIL+P3Kw/AABAPwAAgL8AAABAu5qRpQAAsL+4kSlAAABAv+zZjsCamRmKhIFYpuzZgsDhRia/AABAP+zZjsCamRkKrRuApuzZmsDhRiY/AABAv2eQqsAAAAC/AS6DpmeQnsBxI5O/AABAP2eQqsAAAAC/7AiXpmeQtsCGGxk++dWevoP+mr8AAABA2+p0PhvSE7+P3Kw/Ca2JP7cJI78AAABAX7QGP1Gaor+4kSlAjPmBP2gpjcBmZmakZkzIPxbIccDhRia/Ca4ZQP2VdcBmZmYkOgntP1wQj8DhRiY/T2WsP9rDpsAAAAC/KLjyP31+ksBxI5O/6+MuQHBllMAAAAC/froLQM6qqMCGGxk+8wQ1PlVknr8AAABAMEbiPjBG4r6P3Kw/VWSeP/MENb4AAABAzuZ4P87meL+4kSlAwBQoQJv2a8CamRmkNw05QDcNOcDhRia/m/ZrQMAUKMCamRkkJP5aQCT+WsDhRiY/3EVPQNyTicAAAAC/Uz5gQFM+YMBxI5O/3JOJQNxFT8AAAAC/oBeBQKAXgcCGGxk+twkjPwmtib8AAABAG9ITP9vqdL6P3Kw/g/6aP/nVnj4AAABAUZqiP1+0Br+4kSlA/ZV1QAmuGcAAAAAAFshxQGZMyL/hRia/aCmNQIz5gb8AAAAAXBCPQDoJ7b/hRiY/cGWUQOvjLsAAAAC/fX6SQCi48r9xI5O/2sOmQE9lrL8AAAC/zqqoQH66C8CGGxk+AACAPwAAgL4AAABB8xpKPwAAAAB9r/tAAACAPwAAgD4AAABBh/KaPwAAAABCKAJBg/PDQAAAgL4AAAAA4Ta9QAAAAABuEAq+g/PDQAAAgD4AAAAAJLDKQAAAAABuEAo+g/MzQQAAgL4AAADBMpUwQQAAAABCKALBg/MzQQAAgD4AAADB01E3QQAAAAB9r/vAUzWBPyCmVT4AAABBLhc2P2Bhrz59r/tAJeFKP3u8KD8AAABBTpqLP1J1Bj9CKAJBWwS0QOWfG0AAAAAA7HmqQK8xJEBuEAq+KxOtQKJ0OEAAAAAAmp22QNjiL0BuEAo+sd0jQbTylEAAAADBeRgfQZk7mUBCKALBGGUgQRJdo0AAAADBUColQS0Un0B9r/vAjqZRP9o+ID8AAABBaQX8PiMDHj99r/tAACfbPl0NcD8AAABBWTdBPxRJcj9CKAJBoW2AQIE2lEAAAAAAS/JrQArvk0BuEAq+ftZnQFIwnkAAAAAAdL98QMh3nkBuEAo+cKbmQJQyCkEAAADB9THcQNgOCkFCKALBDiTaQHwvD0EAAADBiZjkQDdTD0F9r/vAtLjuPhhXaz8AAABB/+MzPr4JRT99r/tAycKtvFTpgz8AAABBiOqJPgEQlz9CKAJBVpzNPxVCvUA2lFciqGqoP2p4uEBuEAq+HTePP4fRwEA2lFeiy2i0PzObxUBuEAo+P8UvQKSMLkEAAADBaSwdQM4nLEFCKALBo5IQQF1UMEEAAADBeisjQDO5MkF9r/vAycKtPFTpgz8AAABB/+Mzvr4JRT99r/tAtLjuvhhXaz8AAABBiOqJvgEQlz9CKAJBHTePv4fRwEAAAAAAqGqov2p4uEBuEAq+VpzNvxVCvUAAAAAAy2i0vzObxUBuEAo+o5IQwF1UMEEAAADBaSwdwM4nLEFCKALBP8UvwKSMLkEAAADBeisjwDO5MkF9r/vAACfbvl0NcD8AAABBaQX8viMDHj99r/tAjqZRv9o+ID8AAABBWTdBvxRJcj9CKAJBftZnwFIwnkA2lFejS/JrwArvk0BuEAq+oW2AwIE2lEA2lFcjdL98wMh3nkBuEAo+DiTawHwvD0EAAADB9THcwNgOCkFCKALBcKbmwJQyCkEAAADBiZjkwDdTD0F9r/vAJeFKv3u8KD8AAABBLhc2v2Bhrz59r/tAUzWBvyCmVT4AAABBTpqLv1J1Bj9CKAJBKxOtwKJ0OEA2lNei7HmqwK8xJEBuEAq+WwS0wOWfG0A2lNcimp22wNjiL0BuEAo+GGUgwRJdo0AAAADBeRgfwZk7mUBCKALBsd0jwbTylEAAAADBUColwS0Un0B9r/vAAACAvwAAgD4AAABB8xpKvxxfkqV9r/tAAACAvwAAgL4AAABBh/Kav7Nv4KVCKAJBg/PDwAAAgD42lNeJ4Ta9wBYJCaduEAq+g/PDwAAAgL42lNcJJLDKwCnLEqduEAo+g/MzwQAAgD4AAADBMpUwwUjGf6dCKALBg/MzwQAAgL4AAADB01E3wS7EhKd9r/vAUzWBvyCmVb4AAABBLhc2v2Bhr759r/tAJeFKv3u8KL8AAABBTpqLv1J1Br9CKAJBWwS0wOWfG8A2lNei7HmqwK8xJMBuEAq+KxOtwKJ0OMA2lNcimp22wNjiL8BuEAo+sd0jwbTylMAAAADBeRgfwZk7mcBCKALBGGUgwRJdo8AAAADBUColwS0Un8B9r/vAjqZRv9o+IL8AAABBaQX8viMDHr99r/tAACfbvl0NcL8AAABBWTdBvxRJcr9CKAJBoW2AwIE2lMA2lFejS/JrwArvk8BuEAq+ftZnwFIwnsA2lFcjdL98wMh3nsBuEAo+cKbmwJQyCsEAAADB9THcwNgOCsFCKALBDiTawHwvD8EAAADBiZjkwDdTD8F9r/vAtLjuvhhXa78AAABB/+Mzvr4JRb99r/tAycKtPFTpg78AAABBiOqJvgEQl79CKAJBVpzNvxVCvcAAAAAAqGqov2p4uMBuEAq+HTePv4fRwMAAAAAAy2i0vzObxcBuEAo+P8UvwKSMLsEAAADBaSwdwM4nLMFCKALBo5IQwF1UMMEAAADBeisjwDO5MsF9r/vAycKtvFTpg78AAABB/+MzPr4JRb99r/tAtLjuPhhXa78AAABBiOqJPgEQl79CKAJBHTePP4fRwMA2lNeiqGqoP2p4uMBuEAq+VpzNPxVCvcA2lNciy2i0PzObxcBuEAo+o5IQQF1UMMEAAADBaSwdQM4nLMFCKALBP8UvQKSMLsEAAADBeisjQDO5MsF9r/vAACfbPl0NcL8AAABBaQX8PiMDHr99r/tAjqZRP9o+IL8AAABBWTdBPxRJcr9CKAJBftZnQFIwnsA2lFcjS/JrQArvk8BuEAq+oW2AQIE2lMA2lFejdL98QMh3nsBuEAo+DiTaQHwvD8EAAADB9THcQNgOCsFCKALBcKbmQJQyCsEAAADBiZjkQDdTD8F9r/vAJeFKP3u8KL8AAABBLhc2P2Bhr759r/tAUzWBPyCmVb4AAABBTpqLP1J1Br9CKAJBKxOtQKJ0OMAor6Gj7HmqQK8xJMBuEAq+WwS0QOWfG8Aor6Ejmp22QNjiL8BuEAo+GGUgQRJdo8AAAADBeRgfQZk7mcBCKALBsd0jQbTylMAAAADBUColQS0Un8B9r/vA",
        "encoding": "base64",
        "path": [
         "vertices",
         "data"
        ]
       },
       {
        "data": "",
        "encoding": "base64",
        "path": [
         "volume",
         "data"
        ]
       },
       {
        "data": "",
        "encoding": "base64",
        "path": [
         "volume_bounds",
         "data"
        ]
       }
      ],
      "model_module": "k3d",
      "model_module_version": "2.12.0",
      "model_name": "ObjectModel",
      "state": {
       "_view_count": null,
       "_view_module": null,
       "_view_module_version": "",
       "_view_name": null,
       "attribute": {
        "dtype": "float32",
        "shape": [
         0
        ]
       },
       "click_callback": false,
       "color": 13132810,
       "colorLegend": false,
       "color_map": {
        "dtype": "float32",
        "shape": [
         1024
        ]
       },
       "color_range": [],
       "colors": {
        "dtype": "uint32",
        "shape": [
         0
        ]
       },
       "compression_level": 0,
       "flat_shading": true,
       "group": null,
       "hover_callback": false,
       "id": 7164321456,
       "indices": {
        "dtype": "uint32",
        "shape": [
         480,
         3
        ]
       },
       "model_matrix": {
        "dtype": "float32",
        "shape": [
         4,
         4
        ]
       },
       "name": "Mesh #2",
       "opacity": 1,
       "opacity_function": {
        "dtype": "float32",
        "shape": [
         0
        ]
       },
       "side": "front",
       "texture": null,
       "texture_file_format": null,
       "triangles_attribute": {
        "dtype": "float32",
        "shape": [
         0
        ]
       },
       "type": "Mesh",
       "uvs": {
        "dtype": "float32",
        "shape": []
       },
       "vertices": {
        "dtype": "float32",
        "shape": [
         360,
         3
        ]
       },
       "visible": true,
       "volume": {
        "dtype": "float32",
        "shape": [
         0
        ]
       },
       "volume_bounds": {
        "dtype": "float32",
        "shape": [
         0
        ]
       },
       "wireframe": false
      }
     },
     "bae1f84c42ce475d816f9d94b0de4b5d": {
      "model_module": "@jupyter-widgets/base",
      "model_module_version": "1.2.0",
      "model_name": "LayoutModel",
      "state": {}
     },
     "bb1c760fb16c44e896111fdcd1980a53": {
      "buffers": [
       {
        "data": "",
        "encoding": "base64",
        "path": [
         "attribute",
         "data"
        ]
       },
       {
        "data": "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",
        "encoding": "base64",
        "path": [
         "color_map",
         "data"
        ]
       },
       {
        "data": "",
        "encoding": "base64",
        "path": [
         "colors",
         "data"
        ]
       },
       {
        "data": "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",
        "encoding": "base64",
        "path": [
         "indices",
         "data"
        ]
       },
       {
        "data": "AACAPwAAAAAAAAAAAAAAAAAAAAAAAIA/AAAAAAAAAAAAAAAAAAAAAAAAgD8AAAAAAAAAAAAAAAAAAAAAAACAPw==",
        "encoding": "base64",
        "path": [
         "model_matrix",
         "data"
        ]
       },
       {
        "data": "",
        "encoding": "base64",
        "path": [
         "opacity_function",
         "data"
        ]
       },
       {
        "data": "",
        "encoding": "base64",
        "path": [
         "triangles_attribute",
         "data"
        ]
       },
       {
        "data": "AADAfw==",
        "encoding": "base64",
        "path": [
         "uvs",
         "data"
        ]
       },
       {
        "data": "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",
        "encoding": "base64",
        "path": [
         "vertices",
         "data"
        ]
       },
       {
        "data": "",
        "encoding": "base64",
        "path": [
         "volume",
         "data"
        ]
       },
       {
        "data": "",
        "encoding": "base64",
        "path": [
         "volume_bounds",
         "data"
        ]
       }
      ],
      "model_module": "k3d",
      "model_module_version": "2.12.0",
      "model_name": "ObjectModel",
      "state": {
       "_view_count": null,
       "_view_module": null,
       "_view_module_version": "",
       "_view_name": null,
       "attribute": {
        "dtype": "float32",
        "shape": [
         0
        ]
       },
       "click_callback": false,
       "color": 13132810,
       "colorLegend": false,
       "color_map": {
        "dtype": "float32",
        "shape": [
         1024
        ]
       },
       "color_range": [],
       "colors": {
        "dtype": "uint32",
        "shape": [
         0
        ]
       },
       "compression_level": 0,
       "flat_shading": true,
       "group": null,
       "hover_callback": false,
       "id": 7164303728,
       "indices": {
        "dtype": "uint32",
        "shape": [
         480,
         3
        ]
       },
       "model_matrix": {
        "dtype": "float32",
        "shape": [
         4,
         4
        ]
       },
       "name": "Mesh #2",
       "opacity": 1,
       "opacity_function": {
        "dtype": "float32",
        "shape": [
         0
        ]
       },
       "side": "front",
       "texture": null,
       "texture_file_format": null,
       "triangles_attribute": {
        "dtype": "float32",
        "shape": [
         0
        ]
       },
       "type": "Mesh",
       "uvs": {
        "dtype": "float32",
        "shape": []
       },
       "vertices": {
        "dtype": "float32",
        "shape": [
         360,
         3
        ]
       },
       "visible": true,
       "volume": {
        "dtype": "float32",
        "shape": [
         0
        ]
       },
       "volume_bounds": {
        "dtype": "float32",
        "shape": [
         0
        ]
       },
       "wireframe": false
      }
     },
     "bc435c1a46d94d44887152fa2ce8f4d8": {
      "buffers": [
       {
        "data": "",
        "encoding": "base64",
        "path": [
         "attribute",
         "data"
        ]
       },
       {
        "data": "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",
        "encoding": "base64",
        "path": [
         "color_map",
         "data"
        ]
       },
       {
        "data": "",
        "encoding": "base64",
        "path": [
         "colors",
         "data"
        ]
       },
       {
        "data": "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",
        "encoding": "base64",
        "path": [
         "indices",
         "data"
        ]
       },
       {
        "data": "AACAPwAAAAAAAAAAAAAAAAAAAAAAAIA/AAAAAAAAAAAAAAAAAAAAAAAAgD8AAAAAAAAAAAAAAAAAAAAAAACAPw==",
        "encoding": "base64",
        "path": [
         "model_matrix",
         "data"
        ]
       },
       {
        "data": "",
        "encoding": "base64",
        "path": [
         "opacity_function",
         "data"
        ]
       },
       {
        "data": "",
        "encoding": "base64",
        "path": [
         "triangles_attribute",
         "data"
        ]
       },
       {
        "data": "AADAfw==",
        "encoding": "base64",
        "path": [
         "uvs",
         "data"
        ]
       },
       {
        "data": "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",
        "encoding": "base64",
        "path": [
         "vertices",
         "data"
        ]
       },
       {
        "data": "",
        "encoding": "base64",
        "path": [
         "volume",
         "data"
        ]
       },
       {
        "data": "",
        "encoding": "base64",
        "path": [
         "volume_bounds",
         "data"
        ]
       }
      ],
      "model_module": "k3d",
      "model_module_version": "2.12.0",
      "model_name": "ObjectModel",
      "state": {
       "_view_count": null,
       "_view_module": null,
       "_view_module_version": "",
       "_view_name": null,
       "attribute": {
        "dtype": "float32",
        "shape": [
         0
        ]
       },
       "click_callback": false,
       "color": 13132810,
       "colorLegend": false,
       "color_map": {
        "dtype": "float32",
        "shape": [
         1024
        ]
       },
       "color_range": [],
       "colors": {
        "dtype": "uint32",
        "shape": [
         0
        ]
       },
       "compression_level": 0,
       "flat_shading": true,
       "group": null,
       "hover_callback": false,
       "id": 7164318528,
       "indices": {
        "dtype": "uint32",
        "shape": [
         480,
         3
        ]
       },
       "model_matrix": {
        "dtype": "float32",
        "shape": [
         4,
         4
        ]
       },
       "name": "Mesh #2",
       "opacity": 1,
       "opacity_function": {
        "dtype": "float32",
        "shape": [
         0
        ]
       },
       "side": "front",
       "texture": null,
       "texture_file_format": null,
       "triangles_attribute": {
        "dtype": "float32",
        "shape": [
         0
        ]
       },
       "type": "Mesh",
       "uvs": {
        "dtype": "float32",
        "shape": []
       },
       "vertices": {
        "dtype": "float32",
        "shape": [
         360,
         3
        ]
       },
       "visible": true,
       "volume": {
        "dtype": "float32",
        "shape": [
         0
        ]
       },
       "volume_bounds": {
        "dtype": "float32",
        "shape": [
         0
        ]
       },
       "wireframe": false
      }
     },
     "bd981341ba044cb3be9f22f9506ac758": {
      "model_module": "k3d",
      "model_module_version": "2.12.0",
      "model_name": "PlotModel",
      "state": {
       "_backend_version": "2.12.0",
       "_dom_classes": [],
       "_view_count": null,
       "antialias": 3,
       "auto_rendering": true,
       "axes": [
        "x",
        "y",
        "z"
       ],
       "axes_helper": 1,
       "background_color": 16777215,
       "camera": [
        63.71218623910198,
        -95.56827935865307,
        52.303804340157896,
        0,
        0,
        45.93258571624756,
        0,
        0,
        1
       ],
       "camera_animation": [],
       "camera_auto_fit": true,
       "camera_damping_factor": 0,
       "camera_fov": 60,
       "camera_mode": "trackball",
       "camera_no_pan": false,
       "camera_no_rotate": false,
       "camera_no_zoom": false,
       "camera_pan_speed": 0.3,
       "camera_rotate_speed": 1,
       "camera_zoom_speed": 1.2,
       "clipping_planes": [],
       "colorbar_object_id": -1,
       "colorbar_scientific": false,
       "fps": 25,
       "fps_meter": false,
       "grid": [
        -1,
        -1,
        -1,
        1,
        1,
        1
       ],
       "grid_auto_fit": true,
       "grid_color": 15132390,
       "grid_visible": true,
       "height": 512,
       "label_color": 4473924,
       "layout": "IPY_MODEL_d857fd2155c44431b35b8f000c5c6caa",
       "lighting": 3,
       "logarithmic_depth_buffer": true,
       "manipulate_mode": "translate",
       "menu_visibility": true,
       "mode": "view",
       "name": null,
       "object_ids": [
        7172009888,
        7164343584
       ],
       "rendering_steps": 1,
       "screenshot": "",
       "screenshot_scale": 2,
       "snapshot": "",
       "snapshot_type": "full",
       "time": 0,
       "voxel_paint_color": 0
      }
     },
     "bda1fb7f3bf04417897f352cc28d9420": {
      "model_module": "@jupyter-widgets/controls",
      "model_module_version": "1.5.0",
      "model_name": "SliderStyleModel",
      "state": {
       "description_width": "initial"
      }
     },
     "c00bad7952de4d9ea8e7cfe17e4bc935": {
      "model_module": "@jupyter-widgets/controls",
      "model_module_version": "1.5.0",
      "model_name": "SliderStyleModel",
      "state": {
       "description_width": "initial"
      }
     },
     "c05039ca5017462788c1b9f0e4b3096d": {
      "buffers": [
       {
        "data": "",
        "encoding": "base64",
        "path": [
         "attribute",
         "data"
        ]
       },
       {
        "data": "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",
        "encoding": "base64",
        "path": [
         "color_map",
         "data"
        ]
       },
       {
        "data": "",
        "encoding": "base64",
        "path": [
         "colors",
         "data"
        ]
       },
       {
        "data": "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",
        "encoding": "base64",
        "path": [
         "indices",
         "data"
        ]
       },
       {
        "data": "AACAPwAAAAAAAAAAAAAAAAAAAAAAAIA/AAAAAAAAAAAAAAAAAAAAAAAAgD8AAAAAAAAAAAAAAAAAAAAAAACAPw==",
        "encoding": "base64",
        "path": [
         "model_matrix",
         "data"
        ]
       },
       {
        "data": "",
        "encoding": "base64",
        "path": [
         "opacity_function",
         "data"
        ]
       },
       {
        "data": "",
        "encoding": "base64",
        "path": [
         "triangles_attribute",
         "data"
        ]
       },
       {
        "data": "AADAfw==",
        "encoding": "base64",
        "path": [
         "uvs",
         "data"
        ]
       },
       {
        "data": "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",
        "encoding": "base64",
        "path": [
         "vertices",
         "data"
        ]
       },
       {
        "data": "",
        "encoding": "base64",
        "path": [
         "volume",
         "data"
        ]
       },
       {
        "data": "",
        "encoding": "base64",
        "path": [
         "volume_bounds",
         "data"
        ]
       }
      ],
      "model_module": "k3d",
      "model_module_version": "2.12.0",
      "model_name": "ObjectModel",
      "state": {
       "_view_count": null,
       "_view_module": null,
       "_view_module_version": "",
       "_view_name": null,
       "attribute": {
        "dtype": "float32",
        "shape": [
         0
        ]
       },
       "click_callback": false,
       "color": 13132810,
       "colorLegend": false,
       "color_map": {
        "dtype": "float32",
        "shape": [
         1024
        ]
       },
       "color_range": [],
       "colors": {
        "dtype": "uint32",
        "shape": [
         0
        ]
       },
       "compression_level": 0,
       "flat_shading": true,
       "group": null,
       "hover_callback": false,
       "id": 7164311776,
       "indices": {
        "dtype": "uint32",
        "shape": [
         480,
         3
        ]
       },
       "model_matrix": {
        "dtype": "float32",
        "shape": [
         4,
         4
        ]
       },
       "name": "Mesh #2",
       "opacity": 1,
       "opacity_function": {
        "dtype": "float32",
        "shape": [
         0
        ]
       },
       "side": "front",
       "texture": null,
       "texture_file_format": null,
       "triangles_attribute": {
        "dtype": "float32",
        "shape": [
         0
        ]
       },
       "type": "Mesh",
       "uvs": {
        "dtype": "float32",
        "shape": []
       },
       "vertices": {
        "dtype": "float32",
        "shape": [
         360,
         3
        ]
       },
       "visible": true,
       "volume": {
        "dtype": "float32",
        "shape": [
         0
        ]
       },
       "volume_bounds": {
        "dtype": "float32",
        "shape": [
         0
        ]
       },
       "wireframe": false
      }
     },
     "c218e5c7c47148c08656fe0436f0bb9f": {
      "buffers": [
       {
        "data": "",
        "encoding": "base64",
        "path": [
         "attribute",
         "data"
        ]
       },
       {
        "data": "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",
        "encoding": "base64",
        "path": [
         "color_map",
         "data"
        ]
       },
       {
        "data": "",
        "encoding": "base64",
        "path": [
         "colors",
         "data"
        ]
       },
       {
        "data": "AAAAAAIAAAABAAAAAQAAAAIAAAADAAAAAQAAAAMAAAARAAAAAAAAABAAAAACAAAAAgAAAAQAAAADAAAAAwAAAAQAAAAFAAAAAwAAAAUAAAARAAAAAgAAABAAAAAEAAAABAAAAAYAAAAFAAAABQAAAAYAAAAHAAAABQAAAAcAAAARAAAABAAAABAAAAAGAAAABgAAAAgAAAAHAAAABwAAAAgAAAAJAAAABwAAAAkAAAARAAAABgAAABAAAAAIAAAACAAAAAoAAAAJAAAACQAAAAoAAAALAAAACQAAAAsAAAARAAAACAAAABAAAAAKAAAACgAAAAwAAAALAAAACwAAAAwAAAANAAAACwAAAA0AAAARAAAACgAAABAAAAAMAAAADAAAAA4AAAANAAAADQAAAA4AAAAPAAAADQAAAA8AAAARAAAADAAAABAAAAAOAAAADgAAAAAAAAAPAAAADwAAAAAAAAABAAAADwAAAAEAAAARAAAADgAAABAAAAAAAAAA",
        "encoding": "base64",
        "path": [
         "indices",
         "data"
        ]
       },
       {
        "data": "AACAPwAAAAAAAAAAAAAAAAAAAAAAAIA/AAAAAAAAAAAAAAAAAAAAAAAAgD8AAAAAAAAAAAAAAAAAAAAAAACAPw==",
        "encoding": "base64",
        "path": [
         "model_matrix",
         "data"
        ]
       },
       {
        "data": "",
        "encoding": "base64",
        "path": [
         "opacity_function",
         "data"
        ]
       },
       {
        "data": "",
        "encoding": "base64",
        "path": [
         "triangles_attribute",
         "data"
        ]
       },
       {
        "data": "AADAfw==",
        "encoding": "base64",
        "path": [
         "uvs",
         "data"
        ]
       },
       {
        "data": "AACAPwAAAAAAAAAAAACAPwAAAAAAAMhC8wQ1P/MENT8AAAAA8wQ1P/MENT8AAMhCc4+zrAAAgD8AAAAAc4+zrAAAgD8AAMhC8wQ1v/MENT8AAAAA8wQ1v/MENT8AAMhCAACAv3OPM60AAAAAAACAv3OPM60AAMhC8wQ1v/MENb8AAAAA8wQ1v/MENb8AAMhClquGLQAAgL8AAAAAlquGLQAAgL8AAMhC8wQ1P/MENb8AAAAA8wQ1P/MENb8AAMhCAAAAAAAAAAAAAAAAAAAAAAAAAAAAAMhC",
        "encoding": "base64",
        "path": [
         "vertices",
         "data"
        ]
       },
       {
        "data": "",
        "encoding": "base64",
        "path": [
         "volume",
         "data"
        ]
       },
       {
        "data": "",
        "encoding": "base64",
        "path": [
         "volume_bounds",
         "data"
        ]
       }
      ],
      "model_module": "k3d",
      "model_module_version": "2.12.0",
      "model_name": "ObjectModel",
      "state": {
       "_view_count": null,
       "_view_module": null,
       "_view_module_version": "",
       "_view_name": null,
       "attribute": {
        "dtype": "float32",
        "shape": [
         0
        ]
       },
       "click_callback": false,
       "color": 706570,
       "colorLegend": false,
       "color_map": {
        "dtype": "float32",
        "shape": [
         1024
        ]
       },
       "color_range": [],
       "colors": {
        "dtype": "uint32",
        "shape": [
         0
        ]
       },
       "compression_level": 0,
       "flat_shading": true,
       "group": null,
       "hover_callback": false,
       "id": 7172157696,
       "indices": {
        "dtype": "uint32",
        "shape": [
         32,
         3
        ]
       },
       "model_matrix": {
        "dtype": "float32",
        "shape": [
         4,
         4
        ]
       },
       "name": "Mesh #1",
       "opacity": 1,
       "opacity_function": {
        "dtype": "float32",
        "shape": [
         0
        ]
       },
       "side": "front",
       "texture": null,
       "texture_file_format": null,
       "triangles_attribute": {
        "dtype": "float32",
        "shape": [
         0
        ]
       },
       "type": "Mesh",
       "uvs": {
        "dtype": "float32",
        "shape": []
       },
       "vertices": {
        "dtype": "float32",
        "shape": [
         18,
         3
        ]
       },
       "visible": true,
       "volume": {
        "dtype": "float32",
        "shape": [
         0
        ]
       },
       "volume_bounds": {
        "dtype": "float32",
        "shape": [
         0
        ]
       },
       "wireframe": false
      }
     },
     "c314d61fcf9343c9acd58da96542b9f1": {
      "model_module": "@jupyter-widgets/controls",
      "model_module_version": "1.5.0",
      "model_name": "SliderStyleModel",
      "state": {
       "description_width": "initial"
      }
     },
     "c471373a45e64fa69704f0b4f3591c62": {
      "buffers": [
       {
        "data": "",
        "encoding": "base64",
        "path": [
         "attribute",
         "data"
        ]
       },
       {
        "data": "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",
        "encoding": "base64",
        "path": [
         "color_map",
         "data"
        ]
       },
       {
        "data": "",
        "encoding": "base64",
        "path": [
         "colors",
         "data"
        ]
       },
       {
        "data": "AAAAAAIAAAABAAAAAQAAAAIAAAADAAAAAQAAAAMAAAARAAAAAAAAABAAAAACAAAAAgAAAAQAAAADAAAAAwAAAAQAAAAFAAAAAwAAAAUAAAARAAAAAgAAABAAAAAEAAAABAAAAAYAAAAFAAAABQAAAAYAAAAHAAAABQAAAAcAAAARAAAABAAAABAAAAAGAAAABgAAAAgAAAAHAAAABwAAAAgAAAAJAAAABwAAAAkAAAARAAAABgAAABAAAAAIAAAACAAAAAoAAAAJAAAACQAAAAoAAAALAAAACQAAAAsAAAARAAAACAAAABAAAAAKAAAACgAAAAwAAAALAAAACwAAAAwAAAANAAAACwAAAA0AAAARAAAACgAAABAAAAAMAAAADAAAAA4AAAANAAAADQAAAA4AAAAPAAAADQAAAA8AAAARAAAADAAAABAAAAAOAAAADgAAAAAAAAAPAAAADwAAAAAAAAABAAAADwAAAAEAAAARAAAADgAAABAAAAAAAAAA",
        "encoding": "base64",
        "path": [
         "indices",
         "data"
        ]
       },
       {
        "data": "AACAPwAAAAAAAAAAAAAAAAAAAAAAAIA/AAAAAAAAAAAAAAAAAAAAAAAAgD8AAAAAAAAAAAAAAAAAAAAAAACAPw==",
        "encoding": "base64",
        "path": [
         "model_matrix",
         "data"
        ]
       },
       {
        "data": "",
        "encoding": "base64",
        "path": [
         "opacity_function",
         "data"
        ]
       },
       {
        "data": "",
        "encoding": "base64",
        "path": [
         "triangles_attribute",
         "data"
        ]
       },
       {
        "data": "AADAfw==",
        "encoding": "base64",
        "path": [
         "uvs",
         "data"
        ]
       },
       {
        "data": "AACAPwAAAAAAAAAAAACAPwAAAAAAAMhC8wQ1P/MENT8AAAAA8wQ1P/MENT8AAMhCc4+zrAAAgD8AAAAAc4+zrAAAgD8AAMhC8wQ1v/MENT8AAAAA8wQ1v/MENT8AAMhCAACAv3OPM60AAAAAAACAv3OPM60AAMhC8wQ1v/MENb8AAAAA8wQ1v/MENb8AAMhClquGLQAAgL8AAAAAlquGLQAAgL8AAMhC8wQ1P/MENb8AAAAA8wQ1P/MENb8AAMhCAAAAAAAAAAAAAAAAAAAAAAAAAAAAAMhC",
        "encoding": "base64",
        "path": [
         "vertices",
         "data"
        ]
       },
       {
        "data": "",
        "encoding": "base64",
        "path": [
         "volume",
         "data"
        ]
       },
       {
        "data": "",
        "encoding": "base64",
        "path": [
         "volume_bounds",
         "data"
        ]
       }
      ],
      "model_module": "k3d",
      "model_module_version": "2.12.0",
      "model_name": "ObjectModel",
      "state": {
       "_view_count": null,
       "_view_module": null,
       "_view_module_version": "",
       "_view_name": null,
       "attribute": {
        "dtype": "float32",
        "shape": [
         0
        ]
       },
       "click_callback": false,
       "color": 706570,
       "colorLegend": false,
       "color_map": {
        "dtype": "float32",
        "shape": [
         1024
        ]
       },
       "color_range": [],
       "colors": {
        "dtype": "uint32",
        "shape": [
         0
        ]
       },
       "compression_level": 0,
       "flat_shading": true,
       "group": null,
       "hover_callback": false,
       "id": 7172809632,
       "indices": {
        "dtype": "uint32",
        "shape": [
         32,
         3
        ]
       },
       "model_matrix": {
        "dtype": "float32",
        "shape": [
         4,
         4
        ]
       },
       "name": "Mesh #1",
       "opacity": 1,
       "opacity_function": {
        "dtype": "float32",
        "shape": [
         0
        ]
       },
       "side": "front",
       "texture": null,
       "texture_file_format": null,
       "triangles_attribute": {
        "dtype": "float32",
        "shape": [
         0
        ]
       },
       "type": "Mesh",
       "uvs": {
        "dtype": "float32",
        "shape": []
       },
       "vertices": {
        "dtype": "float32",
        "shape": [
         18,
         3
        ]
       },
       "visible": true,
       "volume": {
        "dtype": "float32",
        "shape": [
         0
        ]
       },
       "volume_bounds": {
        "dtype": "float32",
        "shape": [
         0
        ]
       },
       "wireframe": false
      }
     },
     "c48011a27cc84b42be7518a50103d154": {
      "buffers": [
       {
        "data": "",
        "encoding": "base64",
        "path": [
         "attribute",
         "data"
        ]
       },
       {
        "data": "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",
        "encoding": "base64",
        "path": [
         "color_map",
         "data"
        ]
       },
       {
        "data": "",
        "encoding": "base64",
        "path": [
         "colors",
         "data"
        ]
       },
       {
        "data": "AAAAADgAAAAHAAAABgAAAA0AAAA5AAAAAQAAAAAAAAAHAAAAAQAAAAcAAAAIAAAAAgAAAAEAAAAIAAAAAgAAAAgAAAAJAAAAAwAAAAIAAAAJAAAAAwAAAAkAAAAKAAAABAAAAAMAAAAKAAAABAAAAAoAAAALAAAABQAAAAQAAAALAAAABQAAAAsAAAAMAAAABgAAAAUAAAAMAAAABgAAAAwAAAANAAAABwAAADgAAAAOAAAADQAAABQAAAA5AAAACAAAAAcAAAAOAAAACAAAAA4AAAAPAAAACQAAAAgAAAAPAAAACQAAAA8AAAAQAAAACgAAAAkAAAAQAAAACgAAABAAAAARAAAACwAAAAoAAAARAAAACwAAABEAAAASAAAADAAAAAsAAAASAAAADAAAABIAAAATAAAADQAAAAwAAAATAAAADQAAABMAAAAUAAAADgAAADgAAAAVAAAAFAAAABsAAAA5AAAADwAAAA4AAAAVAAAADwAAABUAAAAWAAAAEAAAAA8AAAAWAAAAEAAAABYAAAAXAAAAEQAAABAAAAAXAAAAEQAAABcAAAAYAAAAEgAAABEAAAAYAAAAEgAAABgAAAAZAAAAEwAAABIAAAAZAAAAEwAAABkAAAAaAAAAFAAAABMAAAAaAAAAFAAAABoAAAAbAAAAFQAAADgAAAAcAAAAGwAAACIAAAA5AAAAFgAAABUAAAAcAAAAFgAAABwAAAAdAAAAFwAAABYAAAAdAAAAFwAAAB0AAAAeAAAAGAAAABcAAAAeAAAAGAAAAB4AAAAfAAAAGQAAABgAAAAfAAAAGQAAAB8AAAAgAAAAGgAAABkAAAAgAAAAGgAAACAAAAAhAAAAGwAAABoAAAAhAAAAGwAAACEAAAAiAAAAHAAAADgAAAAjAAAAIgAAACkAAAA5AAAAHQAAABwAAAAjAAAAHQAAACMAAAAkAAAAHgAAAB0AAAAkAAAAHgAAACQAAAAlAAAAHwAAAB4AAAAlAAAAHwAAACUAAAAmAAAAIAAAAB8AAAAmAAAAIAAAACYAAAAnAAAAIQAAACAAAAAnAAAAIQAAACcAAAAoAAAAIgAAACEAAAAoAAAAIgAAACgAAAApAAAAIwAAADgAAAAqAAAAKQAAADAAAAA5AAAAJAAAACMAAAAqAAAAJAAAACoAAAArAAAAJQAAACQAAAArAAAAJQAAACsAAAAsAAAAJgAAACUAAAAsAAAAJgAAACwAAAAtAAAAJwAAACYAAAAtAAAAJwAAAC0AAAAuAAAAKAAAACcAAAAuAAAAKAAAAC4AAAAvAAAAKQAAACgAAAAvAAAAKQAAAC8AAAAwAAAAKgAAADgAAAAxAAAAMAAAADcAAAA5AAAAKwAAACoAAAAxAAAAKwAAADEAAAAyAAAALAAAACsAAAAyAAAALAAAADIAAAAzAAAALQAAACwAAAAzAAAALQAAADMAAAA0AAAALgAAAC0AAAA0AAAALgAAADQAAAA1AAAALwAAAC4AAAA1AAAALwAAADUAAAA2AAAAMAAAAC8AAAA2AAAAMAAAADYAAAA3AAAAMQAAADgAAAAAAAAANwAAAAYAAAA5AAAAMgAAADEAAAAAAAAAMgAAAAAAAAABAAAAMwAAADIAAAABAAAAMwAAAAEAAAACAAAANAAAADMAAAACAAAANAAAAAIAAAADAAAANQAAADQAAAADAAAANQAAAAMAAAAEAAAANgAAADUAAAAEAAAANgAAAAQAAAAFAAAANwAAADYAAAAFAAAANwAAAAUAAAAGAAAA",
        "encoding": "base64",
        "path": [
         "indices",
         "data"
        ]
       },
       {
        "data": "AACAPwAAAAAAAAAAAAAAAAAAAAAAAIA/AAAAAAAAAAAAAAAAAAAAAAAAgD8AAAAAAAAAAAAAAAAAAAAAAACAPw==",
        "encoding": "base64",
        "path": [
         "model_matrix",
         "data"
        ]
       },
       {
        "data": "",
        "encoding": "base64",
        "path": [
         "opacity_function",
         "data"
        ]
       },
       {
        "data": "",
        "encoding": "base64",
        "path": [
         "triangles_attribute",
         "data"
        ]
       },
       {
        "data": "AADAfw==",
        "encoding": "base64",
        "path": [
         "uvs",
         "data"
        ]
       },
       {
        "data": "Fe9DPgAAAABeg+y+8wS1PgAAAADzBLW+XoPsPgAAAAAV70O+AAAAPwAAAAAAAAAAXoPsPgAAAAAV70M+8wS1PgAAAADzBLU+Fe9DPgAAAABeg+w+1IsKPtSLCj5eg+y+AACAPgAAgD7zBLW+dT2nPnU9pz4V70O+8wS1PvMEtT4AAAAAdT2nPnU9pz4V70M+AACAPgAAgD7zBLU+1IsKPtSLCj5eg+w+9m2JqxXvQz5eg+y+yu/9q/MEtT7zBLW+Y+QlrF6D7D4V70O+c48zrAAAAD8AAAAAY+QlrF6D7D4V70M+yu/9q/MEtT7zBLU+9m2JqxXvQz5eg+w+1IsKvtSLCj5eg+y+AACAvgAAgD7zBLW+dT2nvnU9pz4V70O+8wS1vvMEtT4AAAAAdT2nvnU9pz4V70M+AACAvgAAgD7zBLU+1IsKvtSLCj5eg+w+Fe9DvvZtCaxeg+y+8wS1vsrvfazzBLW+XoPsvmPkpawV70O+AAAAv3OPs6wAAAAAXoPsvmPkpawV70M+8wS1vsrvfazzBLU+Fe9DvvZtCaxeg+w+1IsKvtSLCr5eg+y+AACAvgAAgL7zBLW+dT2nvnU9p74V70O+8wS1vvMEtb4AAAAAdT2nvnU9p74V70M+AACAvgAAgL7zBLU+1IsKvtSLCr5eg+w+8SROLBXvQ75eg+y+13O+LPMEtb7zBLW+lNb4LF6D7L4V70O+lqsGLQAAAL8AAAAAlNb4LF6D7L4V70M+13O+LPMEtb7zBLU+8SROLBXvQ75eg+w+1IsKPtSLCr5eg+y+AACAPgAAgL7zBLW+dT2nPnU9p74V70O+8wS1PvMEtb4AAAAAdT2nPnU9p74V70M+AACAPgAAgL7zBLU+1IsKPtSLCr5eg+w+AAAAAAAAAAAAAAC/AAAAAAAAAAAAAAA/",
        "encoding": "base64",
        "path": [
         "vertices",
         "data"
        ]
       },
       {
        "data": "",
        "encoding": "base64",
        "path": [
         "volume",
         "data"
        ]
       },
       {
        "data": "",
        "encoding": "base64",
        "path": [
         "volume_bounds",
         "data"
        ]
       }
      ],
      "model_module": "k3d",
      "model_module_version": "2.12.0",
      "model_name": "ObjectModel",
      "state": {
       "_view_count": null,
       "_view_module": null,
       "_view_module_version": "",
       "_view_name": null,
       "attribute": {
        "dtype": "float32",
        "shape": [
         0
        ]
       },
       "click_callback": false,
       "color": 255,
       "colorLegend": false,
       "color_map": {
        "dtype": "float32",
        "shape": [
         1024
        ]
       },
       "color_range": [],
       "colors": {
        "dtype": "uint32",
        "shape": [
         0
        ]
       },
       "compression_level": 0,
       "flat_shading": true,
       "group": null,
       "hover_callback": false,
       "id": 7164343008,
       "indices": {
        "dtype": "uint32",
        "shape": [
         112,
         3
        ]
       },
       "model_matrix": {
        "dtype": "float32",
        "shape": [
         4,
         4
        ]
       },
       "name": "Mesh #1",
       "opacity": 1,
       "opacity_function": {
        "dtype": "float32",
        "shape": [
         0
        ]
       },
       "side": "front",
       "texture": null,
       "texture_file_format": null,
       "triangles_attribute": {
        "dtype": "float32",
        "shape": [
         0
        ]
       },
       "type": "Mesh",
       "uvs": {
        "dtype": "float32",
        "shape": []
       },
       "vertices": {
        "dtype": "float32",
        "shape": [
         58,
         3
        ]
       },
       "visible": true,
       "volume": {
        "dtype": "float32",
        "shape": [
         0
        ]
       },
       "volume_bounds": {
        "dtype": "float32",
        "shape": [
         0
        ]
       },
       "wireframe": false
      }
     },
     "c557d026f27f4bada1370cae523dc2fe": {
      "model_module": "@jupyter-widgets/controls",
      "model_module_version": "1.5.0",
      "model_name": "SliderStyleModel",
      "state": {
       "description_width": "initial"
      }
     },
     "c5b1deb2b5984cf79273e9dd9a4775e0": {
      "buffers": [
       {
        "data": "",
        "encoding": "base64",
        "path": [
         "attribute",
         "data"
        ]
       },
       {
        "data": "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",
        "encoding": "base64",
        "path": [
         "color_map",
         "data"
        ]
       },
       {
        "data": "",
        "encoding": "base64",
        "path": [
         "colors",
         "data"
        ]
       },
       {
        "data": "AAAAAAIAAAABAAAAAQAAAAIAAAADAAAAAQAAAAMAAAARAAAAAAAAABAAAAACAAAAAgAAAAQAAAADAAAAAwAAAAQAAAAFAAAAAwAAAAUAAAARAAAAAgAAABAAAAAEAAAABAAAAAYAAAAFAAAABQAAAAYAAAAHAAAABQAAAAcAAAARAAAABAAAABAAAAAGAAAABgAAAAgAAAAHAAAABwAAAAgAAAAJAAAABwAAAAkAAAARAAAABgAAABAAAAAIAAAACAAAAAoAAAAJAAAACQAAAAoAAAALAAAACQAAAAsAAAARAAAACAAAABAAAAAKAAAACgAAAAwAAAALAAAACwAAAAwAAAANAAAACwAAAA0AAAARAAAACgAAABAAAAAMAAAADAAAAA4AAAANAAAADQAAAA4AAAAPAAAADQAAAA8AAAARAAAADAAAABAAAAAOAAAADgAAAAAAAAAPAAAADwAAAAAAAAABAAAADwAAAAEAAAARAAAADgAAABAAAAAAAAAA",
        "encoding": "base64",
        "path": [
         "indices",
         "data"
        ]
       },
       {
        "data": "AACAPwAAAAAAAAAAAAAAAAAAAAAAAIA/AAAAAAAAAAAAAAAAAAAAAAAAgD8AAAAAAAAAAAAAAAAAAAAAAACAPw==",
        "encoding": "base64",
        "path": [
         "model_matrix",
         "data"
        ]
       },
       {
        "data": "",
        "encoding": "base64",
        "path": [
         "opacity_function",
         "data"
        ]
       },
       {
        "data": "",
        "encoding": "base64",
        "path": [
         "triangles_attribute",
         "data"
        ]
       },
       {
        "data": "AADAfw==",
        "encoding": "base64",
        "path": [
         "uvs",
         "data"
        ]
       },
       {
        "data": "AACAPwAAAAAAAAAAAACAPwAAAAAAAMhC8wQ1P/MENT8AAAAA8wQ1P/MENT8AAMhCc4+zrAAAgD8AAAAAc4+zrAAAgD8AAMhC8wQ1v/MENT8AAAAA8wQ1v/MENT8AAMhCAACAv3OPM60AAAAAAACAv3OPM60AAMhC8wQ1v/MENb8AAAAA8wQ1v/MENb8AAMhClquGLQAAgL8AAAAAlquGLQAAgL8AAMhC8wQ1P/MENb8AAAAA8wQ1P/MENb8AAMhCAAAAAAAAAAAAAAAAAAAAAAAAAAAAAMhC",
        "encoding": "base64",
        "path": [
         "vertices",
         "data"
        ]
       },
       {
        "data": "",
        "encoding": "base64",
        "path": [
         "volume",
         "data"
        ]
       },
       {
        "data": "",
        "encoding": "base64",
        "path": [
         "volume_bounds",
         "data"
        ]
       }
      ],
      "model_module": "k3d",
      "model_module_version": "2.12.0",
      "model_name": "ObjectModel",
      "state": {
       "_view_count": null,
       "_view_module": null,
       "_view_module_version": "",
       "_view_name": null,
       "attribute": {
        "dtype": "float32",
        "shape": [
         0
        ]
       },
       "click_callback": false,
       "color": 706570,
       "colorLegend": false,
       "color_map": {
        "dtype": "float32",
        "shape": [
         1024
        ]
       },
       "color_range": [],
       "colors": {
        "dtype": "uint32",
        "shape": [
         0
        ]
       },
       "compression_level": 0,
       "flat_shading": true,
       "group": null,
       "hover_callback": false,
       "id": 7164189424,
       "indices": {
        "dtype": "uint32",
        "shape": [
         32,
         3
        ]
       },
       "model_matrix": {
        "dtype": "float32",
        "shape": [
         4,
         4
        ]
       },
       "name": "Mesh #1",
       "opacity": 1,
       "opacity_function": {
        "dtype": "float32",
        "shape": [
         0
        ]
       },
       "side": "front",
       "texture": null,
       "texture_file_format": null,
       "triangles_attribute": {
        "dtype": "float32",
        "shape": [
         0
        ]
       },
       "type": "Mesh",
       "uvs": {
        "dtype": "float32",
        "shape": []
       },
       "vertices": {
        "dtype": "float32",
        "shape": [
         18,
         3
        ]
       },
       "visible": true,
       "volume": {
        "dtype": "float32",
        "shape": [
         0
        ]
       },
       "volume_bounds": {
        "dtype": "float32",
        "shape": [
         0
        ]
       },
       "wireframe": false
      }
     },
     "c632c0c103cd45fc8da01c08d022d125": {
      "model_module": "@jupyter-widgets/base",
      "model_module_version": "1.2.0",
      "model_name": "LayoutModel",
      "state": {}
     },
     "c6e5e2866915424cb4cd3fb100792975": {
      "buffers": [
       {
        "data": "",
        "encoding": "base64",
        "path": [
         "attribute",
         "data"
        ]
       },
       {
        "data": "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",
        "encoding": "base64",
        "path": [
         "color_map",
         "data"
        ]
       },
       {
        "data": "",
        "encoding": "base64",
        "path": [
         "colors",
         "data"
        ]
       },
       {
        "data": "AAAAAAIAAAABAAAAAQAAAAIAAAADAAAAAQAAAAMAAAARAAAAAAAAABAAAAACAAAAAgAAAAQAAAADAAAAAwAAAAQAAAAFAAAAAwAAAAUAAAARAAAAAgAAABAAAAAEAAAABAAAAAYAAAAFAAAABQAAAAYAAAAHAAAABQAAAAcAAAARAAAABAAAABAAAAAGAAAABgAAAAgAAAAHAAAABwAAAAgAAAAJAAAABwAAAAkAAAARAAAABgAAABAAAAAIAAAACAAAAAoAAAAJAAAACQAAAAoAAAALAAAACQAAAAsAAAARAAAACAAAABAAAAAKAAAACgAAAAwAAAALAAAACwAAAAwAAAANAAAACwAAAA0AAAARAAAACgAAABAAAAAMAAAADAAAAA4AAAANAAAADQAAAA4AAAAPAAAADQAAAA8AAAARAAAADAAAABAAAAAOAAAADgAAAAAAAAAPAAAADwAAAAAAAAABAAAADwAAAAEAAAARAAAADgAAABAAAAAAAAAA",
        "encoding": "base64",
        "path": [
         "indices",
         "data"
        ]
       },
       {
        "data": "AACAPwAAAAAAAAAAAAAAAAAAAAAAAIA/AAAAAAAAAAAAAAAAAAAAAAAAgD8AAAAAAAAAAAAAAAAAAAAAAACAPw==",
        "encoding": "base64",
        "path": [
         "model_matrix",
         "data"
        ]
       },
       {
        "data": "",
        "encoding": "base64",
        "path": [
         "opacity_function",
         "data"
        ]
       },
       {
        "data": "",
        "encoding": "base64",
        "path": [
         "triangles_attribute",
         "data"
        ]
       },
       {
        "data": "AADAfw==",
        "encoding": "base64",
        "path": [
         "uvs",
         "data"
        ]
       },
       {
        "data": "AACAPwAAAAAAAAAAAACAPwAAAAAAAMhC8wQ1P/MENT8AAAAA8wQ1P/MENT8AAMhCc4+zrAAAgD8AAAAAc4+zrAAAgD8AAMhC8wQ1v/MENT8AAAAA8wQ1v/MENT8AAMhCAACAv3OPM60AAAAAAACAv3OPM60AAMhC8wQ1v/MENb8AAAAA8wQ1v/MENb8AAMhClquGLQAAgL8AAAAAlquGLQAAgL8AAMhC8wQ1P/MENb8AAAAA8wQ1P/MENb8AAMhCAAAAAAAAAAAAAAAAAAAAAAAAAAAAAMhC",
        "encoding": "base64",
        "path": [
         "vertices",
         "data"
        ]
       },
       {
        "data": "",
        "encoding": "base64",
        "path": [
         "volume",
         "data"
        ]
       },
       {
        "data": "",
        "encoding": "base64",
        "path": [
         "volume_bounds",
         "data"
        ]
       }
      ],
      "model_module": "k3d",
      "model_module_version": "2.12.0",
      "model_name": "ObjectModel",
      "state": {
       "_view_count": null,
       "_view_module": null,
       "_view_module_version": "",
       "_view_name": null,
       "attribute": {
        "dtype": "float32",
        "shape": [
         0
        ]
       },
       "click_callback": false,
       "color": 706570,
       "colorLegend": false,
       "color_map": {
        "dtype": "float32",
        "shape": [
         1024
        ]
       },
       "color_range": [],
       "colors": {
        "dtype": "uint32",
        "shape": [
         0
        ]
       },
       "compression_level": 0,
       "flat_shading": true,
       "group": null,
       "hover_callback": false,
       "id": 7164321312,
       "indices": {
        "dtype": "uint32",
        "shape": [
         32,
         3
        ]
       },
       "model_matrix": {
        "dtype": "float32",
        "shape": [
         4,
         4
        ]
       },
       "name": "Mesh #1",
       "opacity": 1,
       "opacity_function": {
        "dtype": "float32",
        "shape": [
         0
        ]
       },
       "side": "front",
       "texture": null,
       "texture_file_format": null,
       "triangles_attribute": {
        "dtype": "float32",
        "shape": [
         0
        ]
       },
       "type": "Mesh",
       "uvs": {
        "dtype": "float32",
        "shape": []
       },
       "vertices": {
        "dtype": "float32",
        "shape": [
         18,
         3
        ]
       },
       "visible": true,
       "volume": {
        "dtype": "float32",
        "shape": [
         0
        ]
       },
       "volume_bounds": {
        "dtype": "float32",
        "shape": [
         0
        ]
       },
       "wireframe": false
      }
     },
     "c78833a5c94b4d56a3456f6edec2a553": {
      "model_module": "@jupyter-widgets/controls",
      "model_module_version": "1.5.0",
      "model_name": "VBoxModel",
      "state": {
       "_dom_classes": [
        "widget-interact"
       ],
       "children": [
        "IPY_MODEL_b60cb9d046c3428d84344f5081bb39cd",
        "IPY_MODEL_ea4141d0874a4e5e84bd058ea0237e8f",
        "IPY_MODEL_66c6a172466c42cf8ff35ba4ae419574",
        "IPY_MODEL_d0d4b8707cbc48baa3c1b26d0ab29a1a",
        "IPY_MODEL_97a63793c3bc412cb2cc7fae95d4754c",
        "IPY_MODEL_941d569d36f149e5a83d77918241e146",
        "IPY_MODEL_02c80d69116446069041da9c709414aa",
        "IPY_MODEL_537fcfc7b0a84b47a670f82c342dda21",
        "IPY_MODEL_e2b235e2e7454dbd9182a5388719e67c",
        "IPY_MODEL_9c6c0a45b4e24a0b83d2f694c4f7ac15",
        "IPY_MODEL_16ca9703b5f740a59263522f72d7cb3f",
        "IPY_MODEL_f84488653d944c75ab7de3e4652b986d",
        "IPY_MODEL_4460384b16964e5ca60d73c2231caeee",
        "IPY_MODEL_75f35bf1e3d94249bb38534f89817db0",
        "IPY_MODEL_40c28232a79a44739c0d9ac0a104a6bc",
        "IPY_MODEL_7eced201a50547df8d863fc9ea5c6d7e"
       ],
       "layout": "IPY_MODEL_296fd693b30a42939986c2c2feec3918"
      }
     },
     "c8687d313add4c7d9279b4cfd3eacc2e": {
      "model_module": "@jupyter-widgets/controls",
      "model_module_version": "1.5.0",
      "model_name": "SliderStyleModel",
      "state": {
       "description_width": "initial"
      }
     },
     "c90f73bbc0054ecc96e900af6bf24856": {
      "buffers": [
       {
        "data": "",
        "encoding": "base64",
        "path": [
         "attribute",
         "data"
        ]
       },
       {
        "data": "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",
        "encoding": "base64",
        "path": [
         "color_map",
         "data"
        ]
       },
       {
        "data": "",
        "encoding": "base64",
        "path": [
         "colors",
         "data"
        ]
       },
       {
        "data": "AAAAAAIAAAABAAAAAQAAAAIAAAADAAAAAQAAAAMAAAARAAAAAAAAABAAAAACAAAAAgAAAAQAAAADAAAAAwAAAAQAAAAFAAAAAwAAAAUAAAARAAAAAgAAABAAAAAEAAAABAAAAAYAAAAFAAAABQAAAAYAAAAHAAAABQAAAAcAAAARAAAABAAAABAAAAAGAAAABgAAAAgAAAAHAAAABwAAAAgAAAAJAAAABwAAAAkAAAARAAAABgAAABAAAAAIAAAACAAAAAoAAAAJAAAACQAAAAoAAAALAAAACQAAAAsAAAARAAAACAAAABAAAAAKAAAACgAAAAwAAAALAAAACwAAAAwAAAANAAAACwAAAA0AAAARAAAACgAAABAAAAAMAAAADAAAAA4AAAANAAAADQAAAA4AAAAPAAAADQAAAA8AAAARAAAADAAAABAAAAAOAAAADgAAAAAAAAAPAAAADwAAAAAAAAABAAAADwAAAAEAAAARAAAADgAAABAAAAAAAAAA",
        "encoding": "base64",
        "path": [
         "indices",
         "data"
        ]
       },
       {
        "data": "AACAPwAAAAAAAAAAAAAAAAAAAAAAAIA/AAAAAAAAAAAAAAAAAAAAAAAAgD8AAAAAAAAAAAAAAAAAAAAAAACAPw==",
        "encoding": "base64",
        "path": [
         "model_matrix",
         "data"
        ]
       },
       {
        "data": "",
        "encoding": "base64",
        "path": [
         "opacity_function",
         "data"
        ]
       },
       {
        "data": "",
        "encoding": "base64",
        "path": [
         "triangles_attribute",
         "data"
        ]
       },
       {
        "data": "AADAfw==",
        "encoding": "base64",
        "path": [
         "uvs",
         "data"
        ]
       },
       {
        "data": "AACAPwAAAAAAAAAAAACAPwAAAAAAAMhC8wQ1P/MENT8AAAAA8wQ1P/MENT8AAMhCc4+zrAAAgD8AAAAAc4+zrAAAgD8AAMhC8wQ1v/MENT8AAAAA8wQ1v/MENT8AAMhCAACAv3OPM60AAAAAAACAv3OPM60AAMhC8wQ1v/MENb8AAAAA8wQ1v/MENb8AAMhClquGLQAAgL8AAAAAlquGLQAAgL8AAMhC8wQ1P/MENb8AAAAA8wQ1P/MENb8AAMhCAAAAAAAAAAAAAAAAAAAAAAAAAAAAAMhC",
        "encoding": "base64",
        "path": [
         "vertices",
         "data"
        ]
       },
       {
        "data": "",
        "encoding": "base64",
        "path": [
         "volume",
         "data"
        ]
       },
       {
        "data": "",
        "encoding": "base64",
        "path": [
         "volume_bounds",
         "data"
        ]
       }
      ],
      "model_module": "k3d",
      "model_module_version": "2.12.0",
      "model_name": "ObjectModel",
      "state": {
       "_view_count": null,
       "_view_module": null,
       "_view_module_version": "",
       "_view_name": null,
       "attribute": {
        "dtype": "float32",
        "shape": [
         0
        ]
       },
       "click_callback": false,
       "color": 706570,
       "colorLegend": false,
       "color_map": {
        "dtype": "float32",
        "shape": [
         1024
        ]
       },
       "color_range": [],
       "colors": {
        "dtype": "uint32",
        "shape": [
         0
        ]
       },
       "compression_level": 0,
       "flat_shading": true,
       "group": null,
       "hover_callback": false,
       "id": 7164310624,
       "indices": {
        "dtype": "uint32",
        "shape": [
         32,
         3
        ]
       },
       "model_matrix": {
        "dtype": "float32",
        "shape": [
         4,
         4
        ]
       },
       "name": "Mesh #1",
       "opacity": 1,
       "opacity_function": {
        "dtype": "float32",
        "shape": [
         0
        ]
       },
       "side": "front",
       "texture": null,
       "texture_file_format": null,
       "triangles_attribute": {
        "dtype": "float32",
        "shape": [
         0
        ]
       },
       "type": "Mesh",
       "uvs": {
        "dtype": "float32",
        "shape": []
       },
       "vertices": {
        "dtype": "float32",
        "shape": [
         18,
         3
        ]
       },
       "visible": true,
       "volume": {
        "dtype": "float32",
        "shape": [
         0
        ]
       },
       "volume_bounds": {
        "dtype": "float32",
        "shape": [
         0
        ]
       },
       "wireframe": false
      }
     },
     "c94b87521b7d4263b0ec76e59ad0a64b": {
      "model_module": "k3d",
      "model_module_version": "2.12.0",
      "model_name": "PlotModel",
      "state": {
       "_backend_version": "2.12.0",
       "_dom_classes": [],
       "_view_count": null,
       "antialias": 3,
       "auto_rendering": true,
       "axes": [
        "x",
        "y",
        "z"
       ],
       "axes_helper": 1,
       "background_color": 16777215,
       "camera": [],
       "camera_animation": [],
       "camera_auto_fit": true,
       "camera_damping_factor": 0,
       "camera_fov": 60,
       "camera_mode": "trackball",
       "camera_no_pan": false,
       "camera_no_rotate": false,
       "camera_no_zoom": false,
       "camera_pan_speed": 0.3,
       "camera_rotate_speed": 1,
       "camera_zoom_speed": 1.2,
       "clipping_planes": [],
       "colorbar_object_id": -1,
       "colorbar_scientific": false,
       "fps": 25,
       "fps_meter": false,
       "grid": [
        -1,
        -1,
        -1,
        1,
        1,
        1
       ],
       "grid_auto_fit": true,
       "grid_color": 15132390,
       "grid_visible": true,
       "height": 512,
       "label_color": 4473924,
       "layout": "IPY_MODEL_b93a513a990043f7814f0f88a7f01a5c",
       "lighting": 3,
       "logarithmic_depth_buffer": true,
       "manipulate_mode": "translate",
       "menu_visibility": true,
       "mode": "view",
       "name": null,
       "object_ids": [
        7164310624,
        7164321408
       ],
       "rendering_steps": 1,
       "screenshot": "",
       "screenshot_scale": 2,
       "snapshot": "",
       "snapshot_type": "full",
       "time": 0,
       "voxel_paint_color": 0
      }
     },
     "c94f718f17404be68ec9fb6a4106f506": {
      "model_module": "@jupyter-widgets/base",
      "model_module_version": "1.2.0",
      "model_name": "LayoutModel",
      "state": {}
     },
     "caed22d4c13447dfad133bcdf272894f": {
      "model_module": "@jupyter-widgets/controls",
      "model_module_version": "1.5.0",
      "model_name": "FloatSliderModel",
      "state": {
       "description": "Angle - Whorl 2",
       "layout": "IPY_MODEL_fef35559ecd2423594f2b8e22551f51c",
       "max": 140,
       "min": 100,
       "step": 5,
       "style": "IPY_MODEL_62d9716c3aad4bb691c4c349566083c8",
       "value": 125
      }
     },
     "d066e7685ce54cc791001d0a22251a29": {
      "model_module": "@jupyter-widgets/base",
      "model_module_version": "1.2.0",
      "model_name": "LayoutModel",
      "state": {}
     },
     "d0d4b8707cbc48baa3c1b26d0ab29a1a": {
      "model_module": "@jupyter-widgets/controls",
      "model_module_version": "1.5.0",
      "model_name": "FloatSliderModel",
      "state": {
       "description": "Stem Diameter (cm)",
       "layout": "IPY_MODEL_d066e7685ce54cc791001d0a22251a29",
       "max": 10,
       "min": 1,
       "step": 2,
       "style": "IPY_MODEL_9b8fa96daa524429b6f4171e68526c8e",
       "value": 1
      }
     },
     "d1a6faac50614a388114075313c67c07": {
      "model_module": "@jupyter-widgets/base",
      "model_module_version": "1.2.0",
      "model_name": "LayoutModel",
      "state": {}
     },
     "d309daa365f64bf5b3aa26d0622f3adc": {
      "model_module": "k3d",
      "model_module_version": "2.12.0",
      "model_name": "PlotModel",
      "state": {
       "_backend_version": "2.12.0",
       "_dom_classes": [],
       "_view_count": null,
       "antialias": 3,
       "auto_rendering": true,
       "axes": [
        "x",
        "y",
        "z"
       ],
       "axes_helper": 1,
       "background_color": 16777215,
       "camera": [
        46.58427165041596,
        -69.87640747562394,
        50.59101288128926,
        0,
        0,
        45.93258571624756,
        0,
        0,
        1
       ],
       "camera_animation": [],
       "camera_auto_fit": true,
       "camera_damping_factor": 0,
       "camera_fov": 60,
       "camera_mode": "trackball",
       "camera_no_pan": false,
       "camera_no_rotate": false,
       "camera_no_zoom": false,
       "camera_pan_speed": 0.3,
       "camera_rotate_speed": 1,
       "camera_zoom_speed": 1.2,
       "clipping_planes": [],
       "colorbar_object_id": -1,
       "colorbar_scientific": false,
       "fps": 25,
       "fps_meter": false,
       "grid": [
        -1,
        -1,
        -1,
        1,
        1,
        1
       ],
       "grid_auto_fit": true,
       "grid_color": 15132390,
       "grid_visible": true,
       "height": 512,
       "label_color": 4473924,
       "layout": "IPY_MODEL_528a5b9bafea4d28b51ba084169aa6e7",
       "lighting": 3,
       "logarithmic_depth_buffer": true,
       "manipulate_mode": "translate",
       "menu_visibility": true,
       "mode": "view",
       "name": null,
       "object_ids": [
        7172160864,
        7164321456
       ],
       "rendering_steps": 1,
       "screenshot": "",
       "screenshot_scale": 2,
       "snapshot": "",
       "snapshot_type": "full",
       "time": 0,
       "voxel_paint_color": 0
      }
     },
     "d45f4d4c042740baa95c0a7ce8d25f2b": {
      "model_module": "@jupyter-widgets/controls",
      "model_module_version": "1.5.0",
      "model_name": "SliderStyleModel",
      "state": {
       "description_width": "initial"
      }
     },
     "d857fd2155c44431b35b8f000c5c6caa": {
      "model_module": "@jupyter-widgets/base",
      "model_module_version": "1.2.0",
      "model_name": "LayoutModel",
      "state": {}
     },
     "d87ea7b5471a4d3fa4b90e4a44b9440e": {
      "model_module": "@jupyter-widgets/base",
      "model_module_version": "1.2.0",
      "model_name": "LayoutModel",
      "state": {}
     },
     "d9c38ff30835404db0b0cbd0b62407f2": {
      "model_module": "@jupyter-widgets/base",
      "model_module_version": "1.2.0",
      "model_name": "LayoutModel",
      "state": {}
     },
     "dab581daef344884b86d8ff24c6129c2": {
      "model_module": "k3d",
      "model_module_version": "2.12.0",
      "model_name": "PlotModel",
      "state": {
       "_backend_version": "2.12.0",
       "_dom_classes": [],
       "_view_count": null,
       "antialias": 3,
       "auto_rendering": true,
       "axes": [
        "x",
        "y",
        "z"
       ],
       "axes_helper": 1,
       "background_color": 16777215,
       "camera": [
        136.1538557072778,
        -204.2307835609167,
        59.54797128697563,
        0,
        0,
        45.93258571624756,
        0,
        0,
        1
       ],
       "camera_animation": [],
       "camera_auto_fit": true,
       "camera_damping_factor": 0,
       "camera_fov": 60,
       "camera_mode": "trackball",
       "camera_no_pan": false,
       "camera_no_rotate": false,
       "camera_no_zoom": false,
       "camera_pan_speed": 0.3,
       "camera_rotate_speed": 1,
       "camera_zoom_speed": 1.2,
       "clipping_planes": [],
       "colorbar_object_id": -1,
       "colorbar_scientific": false,
       "fps": 25,
       "fps_meter": false,
       "grid": [
        -1,
        -1,
        -1,
        1,
        1,
        1
       ],
       "grid_auto_fit": true,
       "grid_color": 15132390,
       "grid_visible": true,
       "height": 512,
       "label_color": 4473924,
       "layout": "IPY_MODEL_8aa1af157a25403e83b6096926c5bc6a",
       "lighting": 3,
       "logarithmic_depth_buffer": true,
       "manipulate_mode": "translate",
       "menu_visibility": true,
       "mode": "view",
       "name": null,
       "object_ids": [
        7172158656,
        7164311440
       ],
       "rendering_steps": 1,
       "screenshot": "",
       "screenshot_scale": 2,
       "snapshot": "",
       "snapshot_type": "full",
       "time": 0,
       "voxel_paint_color": 0
      }
     },
     "dda263498ed54a7fa3df3f511811e73f": {
      "model_module": "@jupyter-widgets/controls",
      "model_module_version": "1.5.0",
      "model_name": "FloatSliderModel",
      "state": {
       "description": "Height - Whorl 2 (cm)",
       "layout": "IPY_MODEL_4c0209258ad94a7c8da0c48a28c37189",
       "max": 9,
       "min": 6,
       "style": "IPY_MODEL_2c880b732d0643498928911a5ceee53e",
       "value": 8
      }
     },
     "deb55c8436444d48a22579fcbe83109c": {
      "model_module": "k3d",
      "model_module_version": "2.12.0",
      "model_name": "PlotModel",
      "state": {
       "_backend_version": "2.12.0",
       "_dom_classes": [],
       "_view_count": null,
       "antialias": 3,
       "auto_rendering": true,
       "axes": [
        "x",
        "y",
        "z"
       ],
       "axes_helper": 1,
       "background_color": 16777215,
       "camera": [],
       "camera_animation": [],
       "camera_auto_fit": true,
       "camera_damping_factor": 0,
       "camera_fov": 60,
       "camera_mode": "trackball",
       "camera_no_pan": false,
       "camera_no_rotate": false,
       "camera_no_zoom": false,
       "camera_pan_speed": 0.3,
       "camera_rotate_speed": 1,
       "camera_zoom_speed": 1.2,
       "clipping_planes": [],
       "colorbar_object_id": -1,
       "colorbar_scientific": false,
       "fps": 25,
       "fps_meter": false,
       "grid": [
        -1,
        -1,
        -1,
        1,
        1,
        1
       ],
       "grid_auto_fit": true,
       "grid_color": 15132390,
       "grid_visible": true,
       "height": 512,
       "label_color": 4473924,
       "layout": "IPY_MODEL_468bfa4660fc4e0fb024b7467645aeb3",
       "lighting": 3,
       "logarithmic_depth_buffer": true,
       "manipulate_mode": "translate",
       "menu_visibility": true,
       "mode": "view",
       "name": null,
       "object_ids": [
        7164312496,
        7164353312
       ],
       "rendering_steps": 1,
       "screenshot": "",
       "screenshot_scale": 2,
       "snapshot": "",
       "snapshot_type": "full",
       "time": 0,
       "voxel_paint_color": 0
      }
     },
     "df39a9b9dddc427a81b81c1f5b294d7d": {
      "model_module": "@jupyter-widgets/controls",
      "model_module_version": "1.5.0",
      "model_name": "FloatSliderModel",
      "state": {
       "description": "Angle - Whorl 1",
       "layout": "IPY_MODEL_2a1752fb8cf942ab88d61f5da6b2f02b",
       "max": 130,
       "min": 90,
       "step": 5,
       "style": "IPY_MODEL_3cbc12017af64975885cb85c25ddc897",
       "value": 110
      }
     },
     "e2b235e2e7454dbd9182a5388719e67c": {
      "model_module": "@jupyter-widgets/controls",
      "model_module_version": "1.5.0",
      "model_name": "FloatSliderModel",
      "state": {
       "description": "Diameter - Whorl 1 (cm)",
       "layout": "IPY_MODEL_17f4ff362e0444419d89daeafb5cc722",
       "max": 5,
       "min": 1,
       "style": "IPY_MODEL_6d1fb5542a8c402bbe437991633f010e",
       "value": 3
      }
     },
     "e2df96d616d14a2eae5572d722e931e1": {
      "model_module": "k3d",
      "model_module_version": "2.12.0",
      "model_name": "PlotModel",
      "state": {
       "_backend_version": "2.12.0",
       "_dom_classes": [],
       "_view_count": null,
       "antialias": 3,
       "auto_rendering": true,
       "axes": [
        "x",
        "y",
        "z"
       ],
       "axes_helper": 1,
       "background_color": 16777215,
       "camera": [],
       "camera_animation": [],
       "camera_auto_fit": true,
       "camera_damping_factor": 0,
       "camera_fov": 60,
       "camera_mode": "trackball",
       "camera_no_pan": false,
       "camera_no_rotate": false,
       "camera_no_zoom": false,
       "camera_pan_speed": 0.3,
       "camera_rotate_speed": 1,
       "camera_zoom_speed": 1.2,
       "clipping_planes": [],
       "colorbar_object_id": -1,
       "colorbar_scientific": false,
       "fps": 25,
       "fps_meter": false,
       "grid": [
        -1,
        -1,
        -1,
        1,
        1,
        1
       ],
       "grid_auto_fit": true,
       "grid_color": 15132390,
       "grid_visible": true,
       "height": 512,
       "label_color": 4473924,
       "layout": "IPY_MODEL_2d981fd7844844f3a79b6b30594db95e",
       "lighting": 3,
       "logarithmic_depth_buffer": true,
       "manipulate_mode": "translate",
       "menu_visibility": true,
       "mode": "view",
       "name": null,
       "object_ids": [
        7164310240,
        7164321120
       ],
       "rendering_steps": 1,
       "screenshot": "",
       "screenshot_scale": 2,
       "snapshot": "",
       "snapshot_type": "full",
       "time": 0,
       "voxel_paint_color": 0
      }
     },
     "e36765f76fb948af822a25cdd9763fd0": {
      "buffers": [
       {
        "data": "",
        "encoding": "base64",
        "path": [
         "attribute",
         "data"
        ]
       },
       {
        "data": "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",
        "encoding": "base64",
        "path": [
         "color_map",
         "data"
        ]
       },
       {
        "data": "",
        "encoding": "base64",
        "path": [
         "colors",
         "data"
        ]
       },
       {
        "data": "AAAAAAIAAAABAAAAAQAAAAIAAAADAAAAAQAAAAMAAAARAAAAAAAAABAAAAACAAAAAgAAAAQAAAADAAAAAwAAAAQAAAAFAAAAAwAAAAUAAAARAAAAAgAAABAAAAAEAAAABAAAAAYAAAAFAAAABQAAAAYAAAAHAAAABQAAAAcAAAARAAAABAAAABAAAAAGAAAABgAAAAgAAAAHAAAABwAAAAgAAAAJAAAABwAAAAkAAAARAAAABgAAABAAAAAIAAAACAAAAAoAAAAJAAAACQAAAAoAAAALAAAACQAAAAsAAAARAAAACAAAABAAAAAKAAAACgAAAAwAAAALAAAACwAAAAwAAAANAAAACwAAAA0AAAARAAAACgAAABAAAAAMAAAADAAAAA4AAAANAAAADQAAAA4AAAAPAAAADQAAAA8AAAARAAAADAAAABAAAAAOAAAADgAAAAAAAAAPAAAADwAAAAAAAAABAAAADwAAAAEAAAARAAAADgAAABAAAAAAAAAA",
        "encoding": "base64",
        "path": [
         "indices",
         "data"
        ]
       },
       {
        "data": "AACAPwAAAAAAAAAAAAAAAAAAAAAAAIA/AAAAAAAAAAAAAAAAAAAAAAAAgD8AAAAAAAAAAAAAAAAAAAAAAACAPw==",
        "encoding": "base64",
        "path": [
         "model_matrix",
         "data"
        ]
       },
       {
        "data": "",
        "encoding": "base64",
        "path": [
         "opacity_function",
         "data"
        ]
       },
       {
        "data": "",
        "encoding": "base64",
        "path": [
         "triangles_attribute",
         "data"
        ]
       },
       {
        "data": "AADAfw==",
        "encoding": "base64",
        "path": [
         "uvs",
         "data"
        ]
       },
       {
        "data": "AACAPwAAAAAAAAAAAACAPwAAAAAAAMhC8wQ1P/MENT8AAAAA8wQ1P/MENT8AAMhCc4+zrAAAgD8AAAAAc4+zrAAAgD8AAMhC8wQ1v/MENT8AAAAA8wQ1v/MENT8AAMhCAACAv3OPM60AAAAAAACAv3OPM60AAMhC8wQ1v/MENb8AAAAA8wQ1v/MENb8AAMhClquGLQAAgL8AAAAAlquGLQAAgL8AAMhC8wQ1P/MENb8AAAAA8wQ1P/MENb8AAMhCAAAAAAAAAAAAAAAAAAAAAAAAAAAAAMhC",
        "encoding": "base64",
        "path": [
         "vertices",
         "data"
        ]
       },
       {
        "data": "",
        "encoding": "base64",
        "path": [
         "volume",
         "data"
        ]
       },
       {
        "data": "",
        "encoding": "base64",
        "path": [
         "volume_bounds",
         "data"
        ]
       }
      ],
      "model_module": "k3d",
      "model_module_version": "2.12.0",
      "model_name": "ObjectModel",
      "state": {
       "_view_count": null,
       "_view_module": null,
       "_view_module_version": "",
       "_view_name": null,
       "attribute": {
        "dtype": "float32",
        "shape": [
         0
        ]
       },
       "click_callback": false,
       "color": 706570,
       "colorLegend": false,
       "color_map": {
        "dtype": "float32",
        "shape": [
         1024
        ]
       },
       "color_range": [],
       "colors": {
        "dtype": "uint32",
        "shape": [
         0
        ]
       },
       "compression_level": 0,
       "flat_shading": true,
       "group": null,
       "hover_callback": false,
       "id": 7172747024,
       "indices": {
        "dtype": "uint32",
        "shape": [
         32,
         3
        ]
       },
       "model_matrix": {
        "dtype": "float32",
        "shape": [
         4,
         4
        ]
       },
       "name": "Mesh #1",
       "opacity": 1,
       "opacity_function": {
        "dtype": "float32",
        "shape": [
         0
        ]
       },
       "side": "front",
       "texture": null,
       "texture_file_format": null,
       "triangles_attribute": {
        "dtype": "float32",
        "shape": [
         0
        ]
       },
       "type": "Mesh",
       "uvs": {
        "dtype": "float32",
        "shape": []
       },
       "vertices": {
        "dtype": "float32",
        "shape": [
         18,
         3
        ]
       },
       "visible": true,
       "volume": {
        "dtype": "float32",
        "shape": [
         0
        ]
       },
       "volume_bounds": {
        "dtype": "float32",
        "shape": [
         0
        ]
       },
       "wireframe": false
      }
     },
     "e45dbfe5015d4cdb9fe67a3681de9876": {
      "buffers": [
       {
        "data": "",
        "encoding": "base64",
        "path": [
         "attribute",
         "data"
        ]
       },
       {
        "data": "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",
        "encoding": "base64",
        "path": [
         "color_map",
         "data"
        ]
       },
       {
        "data": "",
        "encoding": "base64",
        "path": [
         "colors",
         "data"
        ]
       },
       {
        "data": "AAAAAAIAAAABAAAAAQAAAAIAAAADAAAAAQAAAAMAAAARAAAAAAAAABAAAAACAAAAAgAAAAQAAAADAAAAAwAAAAQAAAAFAAAAAwAAAAUAAAARAAAAAgAAABAAAAAEAAAABAAAAAYAAAAFAAAABQAAAAYAAAAHAAAABQAAAAcAAAARAAAABAAAABAAAAAGAAAABgAAAAgAAAAHAAAABwAAAAgAAAAJAAAABwAAAAkAAAARAAAABgAAABAAAAAIAAAACAAAAAoAAAAJAAAACQAAAAoAAAALAAAACQAAAAsAAAARAAAACAAAABAAAAAKAAAACgAAAAwAAAALAAAACwAAAAwAAAANAAAACwAAAA0AAAARAAAACgAAABAAAAAMAAAADAAAAA4AAAANAAAADQAAAA4AAAAPAAAADQAAAA8AAAARAAAADAAAABAAAAAOAAAADgAAAAAAAAAPAAAADwAAAAAAAAABAAAADwAAAAEAAAARAAAADgAAABAAAAAAAAAA",
        "encoding": "base64",
        "path": [
         "indices",
         "data"
        ]
       },
       {
        "data": "AACAPwAAAAAAAAAAAAAAAAAAAAAAAIA/AAAAAAAAAAAAAAAAAAAAAAAAgD8AAAAAAAAAAAAAAAAAAAAAAACAPw==",
        "encoding": "base64",
        "path": [
         "model_matrix",
         "data"
        ]
       },
       {
        "data": "",
        "encoding": "base64",
        "path": [
         "opacity_function",
         "data"
        ]
       },
       {
        "data": "",
        "encoding": "base64",
        "path": [
         "triangles_attribute",
         "data"
        ]
       },
       {
        "data": "AADAfw==",
        "encoding": "base64",
        "path": [
         "uvs",
         "data"
        ]
       },
       {
        "data": "AACAPwAAAAAAAAAAAACAPwAAAAAAAMhC8wQ1P/MENT8AAAAA8wQ1P/MENT8AAMhCc4+zrAAAgD8AAAAAc4+zrAAAgD8AAMhC8wQ1v/MENT8AAAAA8wQ1v/MENT8AAMhCAACAv3OPM60AAAAAAACAv3OPM60AAMhC8wQ1v/MENb8AAAAA8wQ1v/MENb8AAMhClquGLQAAgL8AAAAAlquGLQAAgL8AAMhC8wQ1P/MENb8AAAAA8wQ1P/MENb8AAMhCAAAAAAAAAAAAAAAAAAAAAAAAAAAAAMhC",
        "encoding": "base64",
        "path": [
         "vertices",
         "data"
        ]
       },
       {
        "data": "",
        "encoding": "base64",
        "path": [
         "volume",
         "data"
        ]
       },
       {
        "data": "",
        "encoding": "base64",
        "path": [
         "volume_bounds",
         "data"
        ]
       }
      ],
      "model_module": "k3d",
      "model_module_version": "2.12.0",
      "model_name": "ObjectModel",
      "state": {
       "_view_count": null,
       "_view_module": null,
       "_view_module_version": "",
       "_view_name": null,
       "attribute": {
        "dtype": "float32",
        "shape": [
         0
        ]
       },
       "click_callback": false,
       "color": 706570,
       "colorLegend": false,
       "color_map": {
        "dtype": "float32",
        "shape": [
         1024
        ]
       },
       "color_range": [],
       "colors": {
        "dtype": "uint32",
        "shape": [
         0
        ]
       },
       "compression_level": 0,
       "flat_shading": true,
       "group": null,
       "hover_callback": false,
       "id": 4716503776,
       "indices": {
        "dtype": "uint32",
        "shape": [
         32,
         3
        ]
       },
       "model_matrix": {
        "dtype": "float32",
        "shape": [
         4,
         4
        ]
       },
       "name": "Mesh #1",
       "opacity": 1,
       "opacity_function": {
        "dtype": "float32",
        "shape": [
         0
        ]
       },
       "side": "front",
       "texture": null,
       "texture_file_format": null,
       "triangles_attribute": {
        "dtype": "float32",
        "shape": [
         0
        ]
       },
       "type": "Mesh",
       "uvs": {
        "dtype": "float32",
        "shape": []
       },
       "vertices": {
        "dtype": "float32",
        "shape": [
         18,
         3
        ]
       },
       "visible": true,
       "volume": {
        "dtype": "float32",
        "shape": [
         0
        ]
       },
       "volume_bounds": {
        "dtype": "float32",
        "shape": [
         0
        ]
       },
       "wireframe": false
      }
     },
     "e6c8f2e26bc240d1919b86b2bc096dfd": {
      "model_module": "@jupyter-widgets/controls",
      "model_module_version": "1.5.0",
      "model_name": "SliderStyleModel",
      "state": {
       "description_width": "initial"
      }
     },
     "e935f5fa8a794982a220153cc94d2abb": {
      "model_module": "@jupyter-widgets/controls",
      "model_module_version": "1.5.0",
      "model_name": "FloatSliderModel",
      "state": {
       "description": "Stalk Stiffness (?)",
       "layout": "IPY_MODEL_9a6011898a714c8983bce72eb5afdf24",
       "max": 1,
       "step": 0.1,
       "style": "IPY_MODEL_e6c8f2e26bc240d1919b86b2bc096dfd",
       "value": 0.5
      }
     },
     "e97666745c6c40719d486692bc3d16a3": {
      "model_module": "k3d",
      "model_module_version": "2.12.0",
      "model_name": "PlotModel",
      "state": {
       "_backend_version": "2.12.0",
       "_dom_classes": [],
       "_view_count": null,
       "antialias": 3,
       "auto_rendering": true,
       "axes": [
        "x",
        "y",
        "z"
       ],
       "axes_helper": 1,
       "background_color": 16777215,
       "camera": [
        93.68724038900322,
        -140.53086058350482,
        55.30130975514804,
        0,
        0,
        45.93258571624756,
        0,
        0,
        1
       ],
       "camera_animation": [],
       "camera_auto_fit": true,
       "camera_damping_factor": 0,
       "camera_fov": 60,
       "camera_mode": "trackball",
       "camera_no_pan": false,
       "camera_no_rotate": false,
       "camera_no_zoom": false,
       "camera_pan_speed": 0.3,
       "camera_rotate_speed": 1,
       "camera_zoom_speed": 1.2,
       "clipping_planes": [],
       "colorbar_object_id": -1,
       "colorbar_scientific": false,
       "fps": 25,
       "fps_meter": false,
       "grid": [
        -1,
        -1,
        -1,
        1,
        1,
        1
       ],
       "grid_auto_fit": true,
       "grid_color": 15132390,
       "grid_visible": true,
       "height": 512,
       "label_color": 4473924,
       "layout": "IPY_MODEL_9f99d721e28f4288a7ca19c7b77800f5",
       "lighting": 3,
       "logarithmic_depth_buffer": true,
       "manipulate_mode": "translate",
       "menu_visibility": true,
       "mode": "view",
       "name": null,
       "object_ids": [
        7164321312,
        7164303584
       ],
       "rendering_steps": 1,
       "screenshot": "",
       "screenshot_scale": 2,
       "snapshot": "",
       "snapshot_type": "full",
       "time": 0,
       "voxel_paint_color": 0
      }
     },
     "ea4141d0874a4e5e84bd058ea0237e8f": {
      "model_module": "@jupyter-widgets/controls",
      "model_module_version": "1.5.0",
      "model_name": "FloatSliderModel",
      "state": {
       "description": "Stem Height (cm)",
       "layout": "IPY_MODEL_2d5dbcc377e64cd58e7c0e18b7df3457",
       "max": 200,
       "min": 30,
       "step": 10,
       "style": "IPY_MODEL_9ae47b5bb7c840cfaf0ca9f0c0f34f44",
       "value": 100
      }
     },
     "ee59336ae14640a6a5bccfe2898c4c91": {
      "model_module": "@jupyter-widgets/controls",
      "model_module_version": "1.5.0",
      "model_name": "FloatSliderModel",
      "state": {
       "description": "Stem Height (cm)",
       "layout": "IPY_MODEL_d9c38ff30835404db0b0cbd0b62407f2",
       "max": 200,
       "min": 30,
       "step": 10,
       "style": "IPY_MODEL_252fd2498c674b3094a94f2be278ff80",
       "value": 100
      }
     },
     "f163c7e8ae4c45bb904ac338e53f099e": {
      "model_module": "@jupyter-widgets/base",
      "model_module_version": "1.2.0",
      "model_name": "LayoutModel",
      "state": {}
     },
     "f164ad93a6024af9aa3ccc09fe21d9a3": {
      "buffers": [
       {
        "data": "",
        "encoding": "base64",
        "path": [
         "attribute",
         "data"
        ]
       },
       {
        "data": "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",
        "encoding": "base64",
        "path": [
         "color_map",
         "data"
        ]
       },
       {
        "data": "",
        "encoding": "base64",
        "path": [
         "colors",
         "data"
        ]
       },
       {
        "data": "AAAAAAIAAAABAAAAAQAAAAIAAAADAAAAAQAAAAMAAAARAAAAAAAAABAAAAACAAAAAgAAAAQAAAADAAAAAwAAAAQAAAAFAAAAAwAAAAUAAAARAAAAAgAAABAAAAAEAAAABAAAAAYAAAAFAAAABQAAAAYAAAAHAAAABQAAAAcAAAARAAAABAAAABAAAAAGAAAABgAAAAgAAAAHAAAABwAAAAgAAAAJAAAABwAAAAkAAAARAAAABgAAABAAAAAIAAAACAAAAAoAAAAJAAAACQAAAAoAAAALAAAACQAAAAsAAAARAAAACAAAABAAAAAKAAAACgAAAAwAAAALAAAACwAAAAwAAAANAAAACwAAAA0AAAARAAAACgAAABAAAAAMAAAADAAAAA4AAAANAAAADQAAAA4AAAAPAAAADQAAAA8AAAARAAAADAAAABAAAAAOAAAADgAAAAAAAAAPAAAADwAAAAAAAAABAAAADwAAAAEAAAARAAAADgAAABAAAAAAAAAA",
        "encoding": "base64",
        "path": [
         "indices",
         "data"
        ]
       },
       {
        "data": "AACAPwAAAAAAAAAAAAAAAAAAAAAAAIA/AAAAAAAAAAAAAAAAAAAAAAAAgD8AAAAAAAAAAAAAAAAAAAAAAACAPw==",
        "encoding": "base64",
        "path": [
         "model_matrix",
         "data"
        ]
       },
       {
        "data": "",
        "encoding": "base64",
        "path": [
         "opacity_function",
         "data"
        ]
       },
       {
        "data": "",
        "encoding": "base64",
        "path": [
         "triangles_attribute",
         "data"
        ]
       },
       {
        "data": "AADAfw==",
        "encoding": "base64",
        "path": [
         "uvs",
         "data"
        ]
       },
       {
        "data": "AACAPwAAAAAAAAAAAACAPwAAAAAAAMhC8wQ1P/MENT8AAAAA8wQ1P/MENT8AAMhCc4+zrAAAgD8AAAAAc4+zrAAAgD8AAMhC8wQ1v/MENT8AAAAA8wQ1v/MENT8AAMhCAACAv3OPM60AAAAAAACAv3OPM60AAMhC8wQ1v/MENb8AAAAA8wQ1v/MENb8AAMhClquGLQAAgL8AAAAAlquGLQAAgL8AAMhC8wQ1P/MENb8AAAAA8wQ1P/MENb8AAMhCAAAAAAAAAAAAAAAAAAAAAAAAAAAAAMhC",
        "encoding": "base64",
        "path": [
         "vertices",
         "data"
        ]
       },
       {
        "data": "",
        "encoding": "base64",
        "path": [
         "volume",
         "data"
        ]
       },
       {
        "data": "",
        "encoding": "base64",
        "path": [
         "volume_bounds",
         "data"
        ]
       }
      ],
      "model_module": "k3d",
      "model_module_version": "2.12.0",
      "model_name": "ObjectModel",
      "state": {
       "_view_count": null,
       "_view_module": null,
       "_view_module_version": "",
       "_view_name": null,
       "attribute": {
        "dtype": "float32",
        "shape": [
         0
        ]
       },
       "click_callback": false,
       "color": 706570,
       "colorLegend": false,
       "color_map": {
        "dtype": "float32",
        "shape": [
         1024
        ]
       },
       "color_range": [],
       "colors": {
        "dtype": "uint32",
        "shape": [
         0
        ]
       },
       "compression_level": 0,
       "flat_shading": true,
       "group": null,
       "hover_callback": false,
       "id": 7164343488,
       "indices": {
        "dtype": "uint32",
        "shape": [
         32,
         3
        ]
       },
       "model_matrix": {
        "dtype": "float32",
        "shape": [
         4,
         4
        ]
       },
       "name": "Mesh #1",
       "opacity": 1,
       "opacity_function": {
        "dtype": "float32",
        "shape": [
         0
        ]
       },
       "side": "front",
       "texture": null,
       "texture_file_format": null,
       "triangles_attribute": {
        "dtype": "float32",
        "shape": [
         0
        ]
       },
       "type": "Mesh",
       "uvs": {
        "dtype": "float32",
        "shape": []
       },
       "vertices": {
        "dtype": "float32",
        "shape": [
         18,
         3
        ]
       },
       "visible": true,
       "volume": {
        "dtype": "float32",
        "shape": [
         0
        ]
       },
       "volume_bounds": {
        "dtype": "float32",
        "shape": [
         0
        ]
       },
       "wireframe": false
      }
     },
     "f25560d1534845828cf56b652a139d40": {
      "model_module": "@jupyter-widgets/base",
      "model_module_version": "1.2.0",
      "model_name": "LayoutModel",
      "state": {}
     },
     "f84488653d944c75ab7de3e4652b986d": {
      "model_module": "@jupyter-widgets/controls",
      "model_module_version": "1.5.0",
      "model_name": "IntSliderModel",
      "state": {
       "description": "Number of roots - Whorl 2",
       "layout": "IPY_MODEL_329c73ef10054b0e900084e4d3dd3229",
       "max": 20,
       "min": 2,
       "style": "IPY_MODEL_77fd9a36b14f4b72b361d8016bc00321",
       "value": 14
      }
     },
     "f98d198c8e824bcfa3c110018b825ca6": {
      "model_module": "@jupyter-widgets/base",
      "model_module_version": "1.2.0",
      "model_name": "LayoutModel",
      "state": {}
     },
     "fab0c64ccdcb4864982a67ba4a2bbcbc": {
      "buffers": [
       {
        "data": "",
        "encoding": "base64",
        "path": [
         "attribute",
         "data"
        ]
       },
       {
        "data": "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",
        "encoding": "base64",
        "path": [
         "color_map",
         "data"
        ]
       },
       {
        "data": "",
        "encoding": "base64",
        "path": [
         "colors",
         "data"
        ]
       },
       {
        "data": "AAAAAAIAAAABAAAAAQAAAAIAAAADAAAAAQAAAAMAAAARAAAAAAAAABAAAAACAAAAAgAAAAQAAAADAAAAAwAAAAQAAAAFAAAAAwAAAAUAAAARAAAAAgAAABAAAAAEAAAABAAAAAYAAAAFAAAABQAAAAYAAAAHAAAABQAAAAcAAAARAAAABAAAABAAAAAGAAAABgAAAAgAAAAHAAAABwAAAAgAAAAJAAAABwAAAAkAAAARAAAABgAAABAAAAAIAAAACAAAAAoAAAAJAAAACQAAAAoAAAALAAAACQAAAAsAAAARAAAACAAAABAAAAAKAAAACgAAAAwAAAALAAAACwAAAAwAAAANAAAACwAAAA0AAAARAAAACgAAABAAAAAMAAAADAAAAA4AAAANAAAADQAAAA4AAAAPAAAADQAAAA8AAAARAAAADAAAABAAAAAOAAAADgAAAAAAAAAPAAAADwAAAAAAAAABAAAADwAAAAEAAAARAAAADgAAABAAAAAAAAAA",
        "encoding": "base64",
        "path": [
         "indices",
         "data"
        ]
       },
       {
        "data": "AACAPwAAAAAAAAAAAAAAAAAAAAAAAIA/AAAAAAAAAAAAAAAAAAAAAAAAgD8AAAAAAAAAAAAAAAAAAAAAAACAPw==",
        "encoding": "base64",
        "path": [
         "model_matrix",
         "data"
        ]
       },
       {
        "data": "",
        "encoding": "base64",
        "path": [
         "opacity_function",
         "data"
        ]
       },
       {
        "data": "",
        "encoding": "base64",
        "path": [
         "triangles_attribute",
         "data"
        ]
       },
       {
        "data": "AADAfw==",
        "encoding": "base64",
        "path": [
         "uvs",
         "data"
        ]
       },
       {
        "data": "AACAPwAAAAAAAAAAAACAPwAAAAAAAMhC8wQ1P/MENT8AAAAA8wQ1P/MENT8AAMhCc4+zrAAAgD8AAAAAc4+zrAAAgD8AAMhC8wQ1v/MENT8AAAAA8wQ1v/MENT8AAMhCAACAv3OPM60AAAAAAACAv3OPM60AAMhC8wQ1v/MENb8AAAAA8wQ1v/MENb8AAMhClquGLQAAgL8AAAAAlquGLQAAgL8AAMhC8wQ1P/MENb8AAAAA8wQ1P/MENb8AAMhCAAAAAAAAAAAAAAAAAAAAAAAAAAAAAMhC",
        "encoding": "base64",
        "path": [
         "vertices",
         "data"
        ]
       },
       {
        "data": "",
        "encoding": "base64",
        "path": [
         "volume",
         "data"
        ]
       },
       {
        "data": "",
        "encoding": "base64",
        "path": [
         "volume_bounds",
         "data"
        ]
       }
      ],
      "model_module": "k3d",
      "model_module_version": "2.12.0",
      "model_name": "ObjectModel",
      "state": {
       "_view_count": null,
       "_view_module": null,
       "_view_module_version": "",
       "_view_name": null,
       "attribute": {
        "dtype": "float32",
        "shape": [
         0
        ]
       },
       "click_callback": false,
       "color": 706570,
       "colorLegend": false,
       "color_map": {
        "dtype": "float32",
        "shape": [
         1024
        ]
       },
       "color_range": [],
       "colors": {
        "dtype": "uint32",
        "shape": [
         0
        ]
       },
       "compression_level": 0,
       "flat_shading": true,
       "group": null,
       "hover_callback": false,
       "id": 7172881328,
       "indices": {
        "dtype": "uint32",
        "shape": [
         32,
         3
        ]
       },
       "model_matrix": {
        "dtype": "float32",
        "shape": [
         4,
         4
        ]
       },
       "name": "Mesh #1",
       "opacity": 1,
       "opacity_function": {
        "dtype": "float32",
        "shape": [
         0
        ]
       },
       "side": "front",
       "texture": null,
       "texture_file_format": null,
       "triangles_attribute": {
        "dtype": "float32",
        "shape": [
         0
        ]
       },
       "type": "Mesh",
       "uvs": {
        "dtype": "float32",
        "shape": []
       },
       "vertices": {
        "dtype": "float32",
        "shape": [
         18,
         3
        ]
       },
       "visible": true,
       "volume": {
        "dtype": "float32",
        "shape": [
         0
        ]
       },
       "volume_bounds": {
        "dtype": "float32",
        "shape": [
         0
        ]
       },
       "wireframe": false
      }
     },
     "fb45e568e59d4c3085386d230069520a": {
      "model_module": "@jupyter-widgets/base",
      "model_module_version": "1.2.0",
      "model_name": "LayoutModel",
      "state": {}
     },
     "fef35559ecd2423594f2b8e22551f51c": {
      "model_module": "@jupyter-widgets/base",
      "model_module_version": "1.2.0",
      "model_name": "LayoutModel",
      "state": {}
     },
     "ff9a74debc014d238a83406026781595": {
      "model_module": "@jupyter-widgets/controls",
      "model_module_version": "1.5.0",
      "model_name": "SliderStyleModel",
      "state": {
       "description_width": "initial"
      }
     },
     "ff9cc3de72f94987b1ad7800348a451a": {
      "model_module": "@jupyter-widgets/controls",
      "model_module_version": "1.5.0",
      "model_name": "FloatSliderModel",
      "state": {
       "description": "Stem Mass (g)",
       "layout": "IPY_MODEL_f163c7e8ae4c45bb904ac338e53f099e",
       "max": 2000,
       "min": 100,
       "step": 100,
       "style": "IPY_MODEL_6eb26b4f26364a59abdff2d0cb54769c",
       "value": 1000
      }
     }
    },
    "version_major": 2,
    "version_minor": 0
   }
  }
 },
 "nbformat": 4,
 "nbformat_minor": 4
}
