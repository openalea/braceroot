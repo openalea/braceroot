{
 "cells": [
  {
   "cell_type": "code",
   "execution_count": null,
   "metadata": {},
   "outputs": [],
   "source": [
    "import k3d\n",
    "from openalea.plantgl.all import *\n",
    "from oawidgets.plantgl import PlantGL\n",
    "from braceroot import brace_model, mechanic, brace_root\n",
    "reload(brace_model)\n",
    "reload(brace_root)\n",
    "reload(mechanic)\n",
    "\n",
    "from __future__ import print_function\n",
    "from ipywidgets import interact, interactive, fixed, interact_manual\n",
    "import ipywidgets as widgets"
   ]
  },
  {
   "cell_type": "code",
   "execution_count": null,
   "metadata": {},
   "outputs": [],
   "source": [
    "def plot(**kwds):\n",
    "    scene = brace_model.brace(**kwds)\n",
    "    return PlantGL(scene)"
   ]
  },
  {
   "cell_type": "code",
   "execution_count": null,
   "metadata": {},
   "outputs": [],
   "source": [
    "style = {'description_width': 'initial'}\n",
    "\n",
    "interact(plot, wind_force = widgets.FloatSlider(min=0., max=400., value=200., step=10., description=\"Wind Force (N)\", style=style),\n",
    "         stem_height = widgets.FloatSlider(min=30., max=200., value=100., step=10., description=\"Stem Height (cm)\", style=style),\n",
    "         stem_mass = widgets.FloatSlider(min=100., max=2000., value=1000., step=100., description=\"Stem Mass (g)\", style=style),\n",
    "         stem_diameter = widgets.FloatSlider(min=1., max=10., value=1., step=2., description=\"Stem Diameter (cm)\", style=style),\n",
    "         stalk_stiffness = widgets.FloatSlider(min=0., max=1., value=0.5, description=\"Stalk Stiffness (?)\", style=style),\n",
    "         height_whorl_1 = widgets.FloatSlider(min=1., max=3., value=2., step=0.1, description=\"Height - Whorl 1 (cm)\", style=style),\n",
    "         nb_root_whorl_1 = widgets.IntSlider(min=2, max=20, value=16, description=\"Number of roots - Whorl 1\", style=style),\n",
    "         root_angle_whorl_1 = widgets.FloatSlider(min=90., max=130., value=110., step=5., description=\"Angle - Whorl 1\", style=style),\n",
    "         root_diameter_whorl_1 = widgets.FloatSlider(min=1., max=5., value=3., step=1., description=\"Diameter - Whorl 1 (cm)\", style=style),\n",
    "         root_stiffness_whorl_1 = widgets.FloatSlider(min=100., max=1000., value=600., step=100., description=\"Stiffness - Whorl 1 (N/m)\", style=style),\n",
    "         height_whorl_2 = widgets.FloatSlider(min=6., max=9., value=8., step=1., description=\"Height - Whorl 2 (cm)\", style=style),\n",
    "         nb_root_whorl_2 = widgets.IntSlider(min=2, max=20, value=14, description=\"Number of roots - Whorl 2\", style=style),\n",
    "         root_angle_whorl_2 = widgets.FloatSlider(min=100., max=140., value=125., step=5., description=\"Angle - Whorl 2\", style=style),\n",
    "         root_diameter_whorl_2 = widgets.FloatSlider(min=1., max=5., value=1., step=1., description=\"Diameter - Whorl 2 (cm)\", style=style),\n",
    "         root_stiffness_whorl_2 = widgets.FloatSlider(min=100., max=1000., value=600., step=100., description=\"Stiffness - Whorl 2 (N/m)\", style=style)\n",
    "        )"
   ]
  }
 ],
 "metadata": {
  "kernelspec": {
   "display_name": "IPython (Python 2)",
   "language": "python",
   "name": "python2"
  },
  "language_info": {
   "codemirror_mode": {
    "name": "ipython",
    "version": 2
   },
   "file_extension": ".py",
   "mimetype": "text/x-python",
   "name": "python",
   "nbconvert_exporter": "python",
   "pygments_lexer": "ipython2",
   "version": "2.7.15"
  }
 },
 "nbformat": 4,
 "nbformat_minor": 2
}
